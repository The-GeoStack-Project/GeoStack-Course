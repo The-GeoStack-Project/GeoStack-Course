{
 "cells": [
  {
   "cell_type": "markdown",
   "metadata": {},
   "source": [
    "# Data analyses Crane datasets\n",
    "\n",
    "## Contents notebook\n",
    "- Import required modules\n",
    "- Define generic functions\n",
    "- Per Country:\n",
    "  - Import sets\n",
    "  - Basic analysis of the first Crane dataset\n",
    "  - Basic analysis of remaining Crane datasets\n",
    "  - Visualize Crane datasets\n",
    "  - Filter Crane datasets\n",
    "  - Export Crane datasets to JSON\n",
    "  - Export Crane datasets to GeoJSON\n",
    "- Compare German and Swedish crane Datasets\n",
    "  - Compare  sets\n",
    "\n",
    "---\n",
    "## Note \n",
    "- The data analyses of the first dataset(per country) will be done manually. The rest of the datasets(per country), will be analysed using the generic function:\"basic_analyses()\"\n",
    "- The GeoJSON data will not be used during the creation of the application. The reason it's describe how this is done, is because it can be usefull in other cases. Converting fileformats to GeoJSON can also be done using geopandas(See Cookbook: ETL-Process with datasets)\n",
    "\n",
    "## Datasets used in notebook. (\"../Data/Crane_CSV/\")\n",
    "- Swedish Crane datasets\n",
    "    - 20181003_Dataset_SV_TrackerID_9381_ColorCode_RRW-BuGBk_Crane_Frida.csv\n",
    "    - 20181003_Dataset_SV_TrackerID_9407_ColorCode_RRW-BuGBY_Crane_Agnetha.csv\n",
    "    - 20181003_Dataset_SV_TrackerID_9472_ColorCode_RRW-BuGR_Crane_Cajsa.csv\n",
    "\n",
    "- German Crane datasets\n",
    "    - 20180928_Dataset_DE_GPS_Crane_181527_iCora_Crane_13_BuBuBr-YBuBk.csv\n",
    "    - 20191103_Dataset_DE_GPS_Crane_181528_iCora_Crane_15_BuBuBr-WYW_Lotta.csv\n",
    " \n",
    "- Lithuanian Crane datasets\n",
    "    - 20200103_Dataset_LT_TrackerID_16121_Crane_Lita.csv\n",
    "  \n",
    "    \n",
    "    "
   ]
  },
  {
   "cell_type": "markdown",
   "metadata": {},
   "source": [
    "---\n",
    "## Import required modules\n",
    "---"
   ]
  },
  {
   "cell_type": "code",
   "execution_count": null,
   "metadata": {},
   "outputs": [],
   "source": [
    "import pandas as pd\n",
    "import cartopy\n",
    "import cartopy.crs as ccrs \n",
    "import cartopy.feature as cfeature \n",
    "import matplotlib.pyplot as plt"
   ]
  },
  {
   "cell_type": "markdown",
   "metadata": {},
   "source": [
    "---\n",
    "## Define generic functions"
   ]
  },
  {
   "cell_type": "markdown",
   "metadata": {},
   "source": [
    "---\n",
    "### Function: create_plot()\n",
    "This function creates a plot from the inserted data on the map.\n",
    "\n",
    "- parameter 1: The dataframe you want to plot\n",
    "- parameter 2: The longitude column in the dataframe\n",
    "- parameter 3: The latitude column in the dataframe"
   ]
  },
  {
   "cell_type": "code",
   "execution_count": null,
   "metadata": {},
   "outputs": [],
   "source": [
    "def create_plot(df,lonColumn,latColumn):\n",
    "    return plt.plot(df[lonColumn], df[latColumn])"
   ]
  },
  {
   "cell_type": "markdown",
   "metadata": {},
   "source": [
    "---\n",
    "### Function: init_cartopymap():\n",
    "This function creates a new cartopyMap and then returns the map instance"
   ]
  },
  {
   "cell_type": "code",
   "execution_count": null,
   "metadata": {},
   "outputs": [],
   "source": [
    "def init_cartopymap():\n",
    "    \n",
    "    plt.figure(figsize = (20, 12))\n",
    "    \n",
    "    m = plt.axes(projection=ccrs.PlateCarree())\n",
    "\n",
    "    m.coastlines(resolution='10m')\n",
    "    \n",
    "    m.add_feature(cartopy.feature.LAND.with_scale('10m'), edgecolor='black', facecolor = \"white\")\n",
    "    \n",
    "    m.add_feature(cfeature.OCEAN)\n",
    "    \n",
    "    m.add_feature(cfeature.LAKES.with_scale('10m'), edgecolor = 'black')\n",
    "    \n",
    "    m.add_feature(cfeature.RIVERS.with_scale('10m')) \n",
    "    \n",
    "    m.add_feature(cfeature.BORDERS.with_scale('10m'))\n",
    "\n",
    "    return m "
   ]
  },
  {
   "cell_type": "markdown",
   "metadata": {},
   "source": [
    "---\n",
    "### Function: dfs_on_cartopymap():\n",
    "This function creates a map and visualizes the inserted dataframes on a CartopyMap\n",
    "\n",
    "- parameter 1: A list of dataframes, this can also be a list of just one dataframe\n",
    "- parameter 2: The longitude column in the dataframe\n",
    "- parameter 3: The latitude column in the dataframe\n",
    "- parameter 4: The color of the datapoints\n",
    "- parameter 5: The size of the datapoints"
   ]
  },
  {
   "cell_type": "code",
   "execution_count": null,
   "metadata": {},
   "outputs": [],
   "source": [
    "def dfs_on_cartopymap(dfList,lonColumn,latColumn,color,size):\n",
    "\n",
    "    m = init_cartopymap()\n",
    "    \n",
    "    for df in dfList: \n",
    "        \n",
    "        m.scatter(df[lonColumn], \n",
    "                  df[latColumn],\n",
    "                  color=color, \n",
    "                  s = size)    \n",
    "    return m"
   ]
  },
  {
   "cell_type": "markdown",
   "metadata": {},
   "source": [
    "---\n",
    "### Function: compare_sets()\n",
    "This function compares the columns of 2 datasets and returns \"are equal\" if the columns of both datasets are the same. <br> The function returns the differences if the columns of both sets are not equal.\n",
    "\n",
    "- Parameter 1 = the first set you want to compare<br>\n",
    "- Parameter 2 = the second set you want to compare"
   ]
  },
  {
   "cell_type": "code",
   "execution_count": null,
   "metadata": {},
   "outputs": [],
   "source": [
    "def compare_sets(set1,set2):\n",
    "    \n",
    "    # Create an empty list to append differences to\n",
    "    diffs_set2=[\"IN SWEDISH BUT NOT IN GERMAN:\",'']\n",
    "    diffs_set1 =[\"IN GERMAN BUT NOT IN SWEDISH:\",'']\n",
    "    \n",
    "    # Create an empty list to append equalities to\n",
    "    eqs = [\"IN BOTH SETS:\",'']\n",
    "    \n",
    "    # Check is sets are the same\n",
    "    # If True return \"sets are equal\"\n",
    "    if set1.equals(set2):\n",
    "        return \"Sets are equal\"\n",
    "        \n",
    "    # Compare sets and append diffs and eqs to corresponding lists\n",
    "    else:\n",
    "        for x in set1:\n",
    "            if x in set2:\n",
    "                eqs.append(x)\n",
    "            if x not in set2:\n",
    "                diffs_set1.append(x)\n",
    "        for x in set2:\n",
    "            if x not in set1:\n",
    "                diffs_set2.append(x)\n",
    "    return diffs_set1, diffs_set2,eqs"
   ]
  },
  {
   "cell_type": "markdown",
   "metadata": {},
   "source": [
    "---\n",
    "### Function: basic_analysis()\n",
    "This function performs a basic data analyses on an CSV file. <br>\n",
    "- Parameter 1 = The file location of the CSV file"
   ]
  },
  {
   "cell_type": "code",
   "execution_count": null,
   "metadata": {},
   "outputs": [],
   "source": [
    "def basic_analysis(file_input):\n",
    "    df = pd.read_csv(file_input)\n",
    "    \n",
    "    print('\\n--------------------------------BASIC INFORMATION-------------------------------\\n\\n')\n",
    "    \n",
    "    print(\"Dataframe length: \" + str(len(df))+'\\n') \n",
    "    \n",
    "    print(\"Dataframe columns:\" + str(len(df.columns))+'\\n')\n",
    "    \n",
    "    print(\"Start date of study :\" + str(df[:1].timestamp)+'\\n')\n",
    "    \n",
    "    print(\"Start position (latitude) :\" + str(df[:1]['location-lat'])+'\\n')\n",
    "    \n",
    "    print(\"Start position (longitude) :\" + str(df[:1]['location-long'])+'\\n')\n",
    "    \n",
    "    print(\"End date of study :\"  + str(df[-1:].timestamp)+'\\n')\n",
    "    \n",
    "    print(\"End position (latitude) :\" + str(df[-1:]['location-lat'])+'\\n')\n",
    "    \n",
    "    print(\"End position (longitude) :\" + str(df[-1:]['location-long'])+'\\n')\n",
    "    \n",
    "    print('\\n------------------------------COLUMNS AND DATA TYPES----------------------------\\n\\n')\n",
    "    \n",
    "    print(df.dtypes)\n",
    "    \n",
    "    print('\\n------------------------------FIRST ROW OF DATAFRAME----------------------------\\n\\n')\n",
    "    \n",
    "    return df"
   ]
  },
  {
   "cell_type": "markdown",
   "metadata": {},
   "source": [
    "---\n",
    "# Swedish Cranes\n",
    "\n",
    "Attaching the transmitters was done in a place called Grimsås, Sweden. \n",
    "\n",
    "Some info about the data set:\n",
    "- The tracker contains a GPS sensor and a few other environmental sensors, of which the sensor data every 15 minutes (4x / hour) if an SMS message is sent via a GSM channel sent. All that sensor data can be found in the logbook.\n",
    "- The color ring code of this crane is RRW-BuGBk and can be found in the column Search Studies by clicking on the small black web link Implementations, along with its tracker ID and the ring number of the metal ring with which the bird is ringed.\n",
    "- Details: the most famous location is North-East France.\n",
    "\n",
    "This datasets are obtained from https://www.movebank.org/. "
   ]
  },
  {
   "cell_type": "markdown",
   "metadata": {},
   "source": [
    "---\n",
    "## Agnetha\n",
    "### A Swedish Crane\n",
    "\n",
    "---"
   ]
  },
  {
   "cell_type": "markdown",
   "metadata": {},
   "source": [
    "#### Read the CSV dataset using Pandas."
   ]
  },
  {
   "cell_type": "code",
   "execution_count": null,
   "metadata": {},
   "outputs": [],
   "source": [
    "Agnetha = pd.read_csv(\n",
    "    '../../datasets/CSV/20181003_Dataset_SV_TrackerID_9407_ColorCode_RRW-BuGBY_Crane_Agnetha.csv')"
   ]
  },
  {
   "cell_type": "markdown",
   "metadata": {},
   "source": [
    "#### Print the amount of datarows (Transmissions)."
   ]
  },
  {
   "cell_type": "code",
   "execution_count": null,
   "metadata": {},
   "outputs": [],
   "source": [
    "len(Agnetha)"
   ]
  },
  {
   "cell_type": "markdown",
   "metadata": {},
   "source": [
    "#### Print the amount of columns in the dataset."
   ]
  },
  {
   "cell_type": "code",
   "execution_count": null,
   "metadata": {},
   "outputs": [],
   "source": [
    "len(Agnetha.columns)"
   ]
  },
  {
   "cell_type": "markdown",
   "metadata": {},
   "source": [
    "#### Print information related to the start position / date."
   ]
  },
  {
   "cell_type": "code",
   "execution_count": null,
   "metadata": {},
   "outputs": [],
   "source": [
    "print(\"Start date of study :\" + str(Agnetha[:1].timestamp)+'\\n')\n",
    "print(\"Start position (latitude) :\" + str(Agnetha[:1]['location-lat'])+'\\n')\n",
    "print(\"Start position (longitude) :\" + str(Agnetha[:1]['location-long'])+'\\n')"
   ]
  },
  {
   "cell_type": "markdown",
   "metadata": {},
   "source": [
    "#### Print information related to the end position / date."
   ]
  },
  {
   "cell_type": "code",
   "execution_count": null,
   "metadata": {},
   "outputs": [],
   "source": [
    "print(\"End date of study :\"  + str(Agnetha[-1:].timestamp)+'\\n')\n",
    "print(\"End position (latitude) :\" + str(Agnetha[-1:]['location-lat'])+'\\n')\n",
    "print(\"End position (longitude) :\" + str(Agnetha[-1:]['location-long'])+'\\n')"
   ]
  },
  {
   "cell_type": "markdown",
   "metadata": {},
   "source": [
    "#### Show first row of dataframe."
   ]
  },
  {
   "cell_type": "code",
   "execution_count": null,
   "metadata": {},
   "outputs": [],
   "source": [
    "Agnetha[:1]"
   ]
  },
  {
   "cell_type": "markdown",
   "metadata": {},
   "source": [
    "#### Print columnames and their datatypes."
   ]
  },
  {
   "cell_type": "code",
   "execution_count": null,
   "metadata": {},
   "outputs": [],
   "source": [
    "Agnetha.dtypes"
   ]
  },
  {
   "cell_type": "markdown",
   "metadata": {},
   "source": [
    "#### Create a table and put the values, obtained from the line above, in that table."
   ]
  },
  {
   "cell_type": "markdown",
   "metadata": {},
   "source": [
    "#### Columns with their data type (19): \n",
    "\n",
    "|Column|Type|Desc.|\n",
    "|--|--|--|\n",
    "|event-id | int| The ID of the transmission (Unique) |\n",
    "|visible|bool | Is the tracker still visible or not? | \n",
    "|timestamp |datetime| The DateTime of transmission |\n",
    "|location-long| float|The Longitude location |\n",
    "|location-lat | float| The Latitude location |\n",
    "|argos:altitude|float | Argos type sensor for height of the transmission |\n",
    "|gps:fix-type | int| Type of GPS Tracker |\n",
    "|gps:hdop| float| Horizontal dilution of precision|\n",
    "|gps:vdop| float| Vertical dilution of precision |\n",
    "|ground-speed|float | Speed of the bird while on the ground. |\n",
    "|heading | float| Direction the bird is faceing (In degrees) |\n",
    "|height-above-ellipsoid | float| Height of the bird HAE -> MSL |\n",
    "|tag-tech-spec |float | |\n",
    "|tag-voltage|float | Voltage level of the tracker. |\n",
    "|sensor-type|string | Type of sensor used in tracker. |\n",
    "|individual-taxon-canonical-name | string|Name of the bird, in latin. |\n",
    "|tag-local-identifier |int |ID of the tracker.  |\n",
    "|individual-local-identifier |int |ID of the bird |\n",
    "|study-name | string|Name of the study |\n"
   ]
  },
  {
   "cell_type": "markdown",
   "metadata": {},
   "source": [
    "#### Create a plot using MatplotLib."
   ]
  },
  {
   "cell_type": "code",
   "execution_count": null,
   "metadata": {},
   "outputs": [],
   "source": [
    "create_plot(Agnetha,'location-long','location-lat') "
   ]
  },
  {
   "cell_type": "markdown",
   "metadata": {},
   "source": [
    "#### Create a plot MatplotLib on CartopyMap."
   ]
  },
  {
   "cell_type": "code",
   "execution_count": null,
   "metadata": {},
   "outputs": [],
   "source": [
    "dfs_on_cartopymap([Agnetha],'location-long','location-lat','red',1)"
   ]
  },
  {
   "cell_type": "markdown",
   "metadata": {},
   "source": [
    "---\n",
    "## Frida\n",
    "### A Swedish Crane \n",
    "\n",
    "---"
   ]
  },
  {
   "cell_type": "markdown",
   "metadata": {},
   "source": [
    "#### Perform basic analyses of Crane dataset and assign the returned dataframe to a variable."
   ]
  },
  {
   "cell_type": "code",
   "execution_count": null,
   "metadata": {},
   "outputs": [],
   "source": [
    "Frida = basic_analysis(\n",
    "    '../../datasets/CSV/20181003_Dataset_SV_TrackerID_9381_ColorCode_RRW-BuGBk_Crane_Frida.csv')\n",
    "Frida"
   ]
  },
  {
   "cell_type": "markdown",
   "metadata": {},
   "source": [
    "#### Create a plot using MatplotLib."
   ]
  },
  {
   "cell_type": "code",
   "execution_count": null,
   "metadata": {},
   "outputs": [],
   "source": [
    "create_plot(Frida,'location-long','location-lat') "
   ]
  },
  {
   "cell_type": "markdown",
   "metadata": {},
   "source": [
    "#### Create a plot MatplotLib on CartopyMap."
   ]
  },
  {
   "cell_type": "code",
   "execution_count": null,
   "metadata": {
    "scrolled": true
   },
   "outputs": [],
   "source": [
    "dfs_on_cartopymap([Frida],'location-long','location-lat','green',1)"
   ]
  },
  {
   "cell_type": "markdown",
   "metadata": {},
   "source": [
    "---\n",
    "## Cajsa\n",
    "### A Swedish Crane \n",
    "\n",
    "---"
   ]
  },
  {
   "cell_type": "markdown",
   "metadata": {},
   "source": [
    "#### Perform basic analyses of Crane dataset and assign the returned dataframe to a variable."
   ]
  },
  {
   "cell_type": "code",
   "execution_count": null,
   "metadata": {
    "scrolled": true
   },
   "outputs": [],
   "source": [
    "Cajsa = basic_analysis(\n",
    "    '../../datasets/CSV/20181003_Dataset_SV_TrackerID_9472_ColorCode_RRW-BuGR_Crane_Cajsa.csv')\n",
    "Cajsa"
   ]
  },
  {
   "cell_type": "markdown",
   "metadata": {},
   "source": [
    "#### Create a plot using MatplotLib."
   ]
  },
  {
   "cell_type": "code",
   "execution_count": null,
   "metadata": {},
   "outputs": [],
   "source": [
    "create_plot(Cajsa,'location-long','location-lat') "
   ]
  },
  {
   "cell_type": "markdown",
   "metadata": {},
   "source": [
    "#### Create a plot MatplotLib on CartopyMap."
   ]
  },
  {
   "cell_type": "code",
   "execution_count": null,
   "metadata": {},
   "outputs": [],
   "source": [
    "dfs_on_cartopymap([Cajsa],'location-long','location-lat','blue',1)"
   ]
  },
  {
   "cell_type": "markdown",
   "metadata": {},
   "source": [
    "---\n",
    "### Compare the datasets to check if all the columns are the same.\n",
    "---"
   ]
  },
  {
   "cell_type": "code",
   "execution_count": null,
   "metadata": {},
   "outputs": [],
   "source": [
    "print(compare_sets(Cajsa.columns,Frida.columns))\n",
    "print(compare_sets(Cajsa.columns,Agnetha.columns))\n",
    "print(compare_sets(Frida.columns,Agnetha.columns))"
   ]
  },
  {
   "cell_type": "markdown",
   "metadata": {},
   "source": [
    "---\n",
    "### Visualize all Swedish Crane datasets on a CartopyMap\n",
    "---"
   ]
  },
  {
   "cell_type": "code",
   "execution_count": null,
   "metadata": {},
   "outputs": [],
   "source": [
    "#Create the plot and assign size of the figure\n",
    "plt.figure(figsize = (20, 12))\n",
    "\n",
    "# Create the axes of the plot and assign the projection\n",
    "m = plt.axes(projection=ccrs.PlateCarree())\n",
    "\n",
    "# Create high resolution for coastal line\n",
    "m.coastlines(resolution='10m')\n",
    "\n",
    "# Add the land with a black edge color and white fill\n",
    "m.add_feature(cartopy.feature.LAND.with_scale('10m'), edgecolor='black', facecolor = \"white\")\n",
    "\n",
    "# Add the sea \n",
    "m.add_feature(cfeature.OCEAN) \n",
    "\n",
    "# Add lakes with a black edge color\n",
    "m.add_feature(cfeature.LAKES.with_scale('10m'), edgecolor = 'black')\n",
    "\n",
    "# Add rivers\n",
    "m.add_feature(cfeature.RIVERS.with_scale('10m')) \n",
    "\n",
    "# Add borders\n",
    "m.add_feature(cfeature.BORDERS.with_scale('10m'))\n",
    "\n",
    "# Add the first Swedish Crane set\n",
    "m.scatter(Agnetha['location-long'], Agnetha['location-lat'],color=\"red\", s = 1)\n",
    "\n",
    "# Add the second Swedish Crane set\n",
    "m.scatter(Frida['location-long'], Frida['location-lat'],color=\"blue\", s = 1)\n",
    "\n",
    "# Add the Third Swedish Crane set\n",
    "m.scatter(Cajsa['location-long'], Cajsa['location-lat'],color=\"green\", s = 1)"
   ]
  },
  {
   "cell_type": "markdown",
   "metadata": {},
   "source": [
    "---\n",
    "### Filter Swedish crane dataset"
   ]
  },
  {
   "cell_type": "code",
   "execution_count": null,
   "metadata": {},
   "outputs": [],
   "source": [
    "columns_to_filter = ['event-id', 'study-name',\n",
    "                     'timestamp','visible',\n",
    "                     'ground-speed','heading',\n",
    "                     'location-long','location-lat',\n",
    "                     'height-above-ellipsoid',\n",
    "                     'individual-taxon-canonical-name',\n",
    "                     'sensor-type','tag-voltage',                                          \n",
    "                     'individual-local-identifier']\n",
    "\n",
    "Filtered_Frida = Frida[columns_to_filter]\n",
    "\n",
    "Filtered_Cajsa = Cajsa[columns_to_filter]\n",
    "\n",
    "Filtered_Agnetha = Agnetha[columns_to_filter]"
   ]
  },
  {
   "cell_type": "markdown",
   "metadata": {},
   "source": [
    "---\n",
    "### Export Swedish Crane datasets to JSON\n",
    "Create a json file en writing the contents of the dataframe using to_json() function.\n",
    "\n",
    "- Parameter 1: filename of file that will be created\n",
    "- Parameter 2: Orientation of the data. <br>\n",
    "\n",
    "orientation \"records\" makes list like [{column -> value},{column -> value},....]\n",
    "\n",
    "---"
   ]
  },
  {
   "cell_type": "code",
   "execution_count": null,
   "metadata": {},
   "outputs": [],
   "source": [
    "Filtered_Frida.to_json(\n",
    "    '../../datasets/JSON/Crane_JSON/Frida-SW.json',\n",
    "    orient = 'records')\n",
    "\n",
    "Filtered_Cajsa.to_json(\n",
    "    '../../datasets/JSON/Crane_JSON/Cajsa-SW.json',\n",
    "    orient = 'records')\n",
    "\n",
    "Filtered_Agnetha.to_json(\n",
    "    '../../datasets/JSON/Crane_JSON/Agnetha-SW.json',\n",
    "    orient = 'records')"
   ]
  },
  {
   "cell_type": "code",
   "execution_count": null,
   "metadata": {},
   "outputs": [],
   "source": [
    "print(compare_sets(Cajsa.columns,Frida.columns))\n",
    "print(compare_sets(Cajsa.columns,Agnetha.columns))\n",
    "print(compare_sets(Frida.columns,Agnetha.columns))"
   ]
  },
  {
   "cell_type": "markdown",
   "metadata": {},
   "source": [
    "---\n",
    "# German Cranes\n",
    "\n",
    "Attaching the transmitters was done in a place called Grimsås, Sweden. \n",
    "\n",
    "Some info about the data set:\n",
    "- The tracker contains a GPS sensor and a few other environmental sensors, of which the sensor data every 15 minutes (4x / hour) if an SMS message is sent via a GSM channel sent. All that sensor data can be found in the logbook.\n",
    "- The color ring code of this crane is RRW-BuGBk and can be found in the column Search Studies by clicking on the small black web link Implementations, along with its tracker ID and the ring number of the metal ring with which the bird is ringed.\n",
    "- Details: the most famous location is North-East France.\n",
    "\n",
    "This datasets are obtained from https://www.movebank.org/. "
   ]
  },
  {
   "cell_type": "markdown",
   "metadata": {},
   "source": [
    "---\n",
    "## Lotta\n",
    "### A German Crane\n",
    "---"
   ]
  },
  {
   "cell_type": "markdown",
   "metadata": {},
   "source": [
    "#### Read the CSV dataset using Pandas."
   ]
  },
  {
   "cell_type": "code",
   "execution_count": null,
   "metadata": {},
   "outputs": [],
   "source": [
    "Lotta = pd.read_csv(\n",
    "    '../../datasets/CSV/20191103_Dataset_DE_GPS_Crane_181528_iCora_Crane_15_BuBuBr-WYW_Lotta.csv')\n"
   ]
  },
  {
   "cell_type": "markdown",
   "metadata": {},
   "source": [
    "#### Print the amount of datarows (Transmissions)."
   ]
  },
  {
   "cell_type": "code",
   "execution_count": null,
   "metadata": {},
   "outputs": [],
   "source": [
    "len(Lotta)"
   ]
  },
  {
   "cell_type": "markdown",
   "metadata": {},
   "source": [
    "#### Print the amount of columns in the dataset."
   ]
  },
  {
   "cell_type": "code",
   "execution_count": null,
   "metadata": {},
   "outputs": [],
   "source": [
    "len(Lotta.columns)"
   ]
  },
  {
   "cell_type": "markdown",
   "metadata": {},
   "source": [
    "#### Print information related to the start position / date."
   ]
  },
  {
   "cell_type": "code",
   "execution_count": null,
   "metadata": {},
   "outputs": [],
   "source": [
    "print(\"Start date of study :\" + str(Lotta[:1].timestamp)+'\\n')\n",
    "print(\"Start position (latitude) :\" + str(Lotta[:1]['location-lat'])+'\\n')\n",
    "print(\"Start position (longitude) :\" + str(Lotta[:1]['location-long'])+'\\n')"
   ]
  },
  {
   "cell_type": "markdown",
   "metadata": {},
   "source": [
    "#### Print information related to the end position / date."
   ]
  },
  {
   "cell_type": "code",
   "execution_count": null,
   "metadata": {},
   "outputs": [],
   "source": [
    "print(\"End date of study :\"  + str(Lotta[-1:].timestamp)+'\\n')\n",
    "print(\"End position (latitude) :\" + str(Lotta[-1:]['location-lat'])+'\\n')\n",
    "print(\"End position (longitude) :\" + str(Lotta[-1:]['location-long'])+'\\n')"
   ]
  },
  {
   "cell_type": "markdown",
   "metadata": {},
   "source": [
    "#### Show first row of dataframe."
   ]
  },
  {
   "cell_type": "code",
   "execution_count": null,
   "metadata": {},
   "outputs": [],
   "source": [
    "Lotta[:1]"
   ]
  },
  {
   "cell_type": "markdown",
   "metadata": {},
   "source": [
    "#### Print columnames and their datatypes."
   ]
  },
  {
   "cell_type": "code",
   "execution_count": null,
   "metadata": {},
   "outputs": [],
   "source": [
    "Lotta.dtypes"
   ]
  },
  {
   "cell_type": "markdown",
   "metadata": {},
   "source": [
    "#### Create a table and put the values, obtained from the line above, in that table."
   ]
  },
  {
   "cell_type": "markdown",
   "metadata": {},
   "source": [
    "#### Columns with their data type (30): \n",
    "\n",
    "|Column|Type|Desc.|\n",
    "|--|--|--|\n",
    "|event-id | int| The ID of the transmission (Unique) |\n",
    "|visible|bool | Is the tracker still visible or not? | \n",
    "|timestamp |datetime| The DateTime of transmission |\n",
    "|location-long| float|The Longitude location |\n",
    "|location-lat | float| The Latitude location |\n",
    "|acceleration-raw-x|float|Speed +/- from last transmission x |\n",
    "|acceleration-raw-y|float|Speed +/- from last transmission y |\n",
    "|acceleration-raw-z|float|Speed +/- from last transmission z |\n",
    "|bar:barometric-height |float|Pressure on the sensor. |\n",
    "|battery-charge-percent|int| Battery power left in percentage.|\n",
    "|battery-charging-current |float| Current running trough the battery in Ampere|\n",
    "|external-temperature  |float|Temperature of the tracker measured in degrees celsius|\n",
    "|gps:hdop| float| Horizontal dilution of precision|\n",
    "|gps:satelitte-count |int | |\n",
    "|gps-time-to-fix|float |time to acquire satellite signals in seconds.|\n",
    "|ground-speed|float | Speed of the bird while on the ground. |\n",
    "|heading | float| Direction the bird is faceing (In degrees) |\n",
    "|height-above-msl | float| Height of the bird (above mean sea level) |\n",
    "|import-marked-outlier|bool||\n",
    "|gls:light-level| float|Amount of light recieved by tracker, measured in ambient light level|\n",
    "|mag:magnetic-field-raw-x | float||\n",
    "|mag:magnetic-field-raw-y |float||\n",
    "|mag:magnetic-field-raw-z | float||\n",
    "|orn:transmission-protocol | string |Type of transmission protocol |\n",
    "|tag-voltage |float| Voltage level of the tracker. |\n",
    "|sensor-type | string |Type of sensor used in tracker.  |\n",
    "|individual-taxon-canonical-name | string | Name of the bird, in latin. |\n",
    "|tag-local-identifier| int | ID of the tracker |\n",
    "|individual-local-identifier | int|ID of the crane |\n",
    "|study-name |string|Name of the study |\n",
    "\n",
    "#### Sensors in sets\n",
    "\n",
    "|X|Sensors|Desc|\n",
    "|--|--|--|\n",
    "|1|BAR|Baromatric sensor|\n",
    "|2|GPS|Location sensor|\n",
    "|3|MAG|A MEMS magnetic field sensor|\n",
    "|4|ORN|A transmission protocol sensor|\n",
    "|5|GLS|A light level geolocator,|\n",
    "\n",
    "\n",
    "#### Info on sensors:\n",
    "- Bar: Baromatric sensor used to measure the pressure on an object.\n",
    "- Gps: Sensor used for data related to GPS\n",
    "- Mag: A MEMS magnetic field sensor is a small-scale microelectromechanical systems (MEMS) device for detecting and measuring magnetic fields (Magnetometer). Many of these operate by detecting effects of the Lorentz force: a change in voltage or resonant frequency may be measured electronically, or a mechanical displacement may be measured optically. Compensation for temperature effects is necessary. Its use as a miniaturized compass may be one such simple example application.\n",
    "- GLS: A light level geolocator, light-level logger or GLS (global location sensor) is essentially a lightweight, electronic archival tracking device, usually used in bird migration research to map migration routes, identify important staging areas, and sometimes provide additional ecological information. A geolocator periodically records ambient light level (solar irradiance) to determine location.\n",
    "- Orn: Sensor used for tranmssion protocols.\n",
    "\n"
   ]
  },
  {
   "cell_type": "markdown",
   "metadata": {},
   "source": [
    "#### Create a plot using MatplotLib."
   ]
  },
  {
   "cell_type": "code",
   "execution_count": null,
   "metadata": {},
   "outputs": [],
   "source": [
    "create_plot(Lotta,'location-long','location-lat') "
   ]
  },
  {
   "cell_type": "markdown",
   "metadata": {},
   "source": [
    "#### Create a plot MatplotLib on CartopyMap."
   ]
  },
  {
   "cell_type": "code",
   "execution_count": null,
   "metadata": {},
   "outputs": [],
   "source": [
    "dfs_on_cartopymap([Lotta],'location-long','location-lat','red',1)"
   ]
  },
  {
   "cell_type": "markdown",
   "metadata": {},
   "source": [
    "---\n",
    "## Nena\n",
    "### A German Crane \n",
    "\n",
    "---"
   ]
  },
  {
   "cell_type": "markdown",
   "metadata": {},
   "source": [
    "#### Perform basic analyses of Crane dataset and assign the returned dataframe to a variable."
   ]
  },
  {
   "cell_type": "code",
   "execution_count": null,
   "metadata": {},
   "outputs": [],
   "source": [
    "Nena = pd.read_csv('../../datasets/CSV/20180928_Dataset_DE_GPS_Crane_181527_iCora_Crane_13_BuBuBr-YBuBk.csv')\n",
    "Nena"
   ]
  },
  {
   "cell_type": "markdown",
   "metadata": {},
   "source": [
    "#### Create a plot using MatplotLib."
   ]
  },
  {
   "cell_type": "code",
   "execution_count": null,
   "metadata": {},
   "outputs": [],
   "source": [
    "create_plot(Nena,'location-long','location-lat') "
   ]
  },
  {
   "cell_type": "markdown",
   "metadata": {},
   "source": [
    "#### Create a plot MatplotLib on CartopyMap."
   ]
  },
  {
   "cell_type": "code",
   "execution_count": null,
   "metadata": {},
   "outputs": [],
   "source": [
    "dfs_on_cartopymap([Nena],'location-long','location-lat','blue',1)"
   ]
  },
  {
   "cell_type": "markdown",
   "metadata": {},
   "source": [
    "### Compare the datasets to check if all the columns are the same."
   ]
  },
  {
   "cell_type": "code",
   "execution_count": null,
   "metadata": {},
   "outputs": [],
   "source": [
    "compare_sets(Lotta.columns,Nena.columns)"
   ]
  },
  {
   "cell_type": "markdown",
   "metadata": {},
   "source": [
    "\n",
    "### Visualize  German Crane datasets"
   ]
  },
  {
   "cell_type": "code",
   "execution_count": null,
   "metadata": {},
   "outputs": [],
   "source": [
    "#Create the plot and assign size of the figure\n",
    "plt.figure(figsize = (20, 12))\n",
    "\n",
    "# Create the axes of the plot and assign the projection\n",
    "m = plt.axes(projection=ccrs.PlateCarree())\n",
    "\n",
    "# Create high resolution for coastal line\n",
    "m.coastlines(resolution='10m')\n",
    "\n",
    "# Add the land with a black edge color and white fill\n",
    "m.add_feature(cartopy.feature.LAND.with_scale('10m'), edgecolor='black', facecolor = \"white\")\n",
    "\n",
    "# Add the sea \n",
    "m.add_feature(cfeature.OCEAN) \n",
    "\n",
    "# Add lakes with a black edge color\n",
    "m.add_feature(cfeature.LAKES.with_scale('10m'), edgecolor = 'black')\n",
    "\n",
    "# Add rivers\n",
    "m.add_feature(cfeature.RIVERS.with_scale('10m')) \n",
    "\n",
    "# Add borders\n",
    "m.add_feature(cfeature.BORDERS.with_scale('10m'))\n",
    "\n",
    "\n",
    "# Add First Crane set (181527)\n",
    "m.scatter(Nena['location-long'],Nena['location-lat'],color=\"red\", s = 1) \n",
    "\n",
    "# Add Second Crane set (181527)\n",
    "m.scatter(Lotta['location-long'], Lotta['location-lat'],color=\"blue\", s = 1)\n"
   ]
  },
  {
   "cell_type": "markdown",
   "metadata": {},
   "source": [
    "---\n",
    "### Filter German crane datasets"
   ]
  },
  {
   "cell_type": "code",
   "execution_count": null,
   "metadata": {},
   "outputs": [],
   "source": [
    "columns_to_filter = ['event-id', 'study-name',\n",
    "                     'timestamp','visible',\n",
    "                     'ground-speed','heading',\n",
    "                     'location-long','location-lat',\n",
    "                     'height-above-msl',\n",
    "                     'individual-taxon-canonical-name',\n",
    "                     'sensor-type','tag-voltage',                                          \n",
    "                     'individual-local-identifier']\n",
    "\n",
    "Filtered_Nena = Nena[columns_to_filter]\n",
    "\n",
    "\n",
    "Filtered_Lotta = Lotta[columns_to_filter]"
   ]
  },
  {
   "cell_type": "markdown",
   "metadata": {},
   "source": [
    "---\n",
    "### Export German Crane datasets to JSON\n",
    "\n",
    "Create a json file en writing the contents of the dataframe using to_json() function.\n",
    "\n",
    "- Parameter 1: filename of file that will be created\n",
    "- Parameter 2: Orientation of the data. <br>\n",
    "\n",
    "orientation \"records\" makes list like [{column -> value},{column -> value},....]"
   ]
  },
  {
   "cell_type": "code",
   "execution_count": null,
   "metadata": {},
   "outputs": [],
   "source": [
    "Filtered_Nena.to_json(\n",
    "    '../../datasets/JSON/Crane_JSON/Nena-GE.json',\n",
    "    orient = 'records')\n",
    "\n",
    "Filtered_Lotta.to_json(\n",
    "    '../../datasets/JSON/Crane_JSON/Lotta-GE.json',\n",
    "    orient = 'records')"
   ]
  },
  {
   "cell_type": "markdown",
   "metadata": {},
   "source": [
    " ---\n",
    "# Compare German and Swedish Crane datasets\n",
    "---"
   ]
  },
  {
   "cell_type": "code",
   "execution_count": null,
   "metadata": {},
   "outputs": [],
   "source": [
    "compare_sets(Lotta.columns,Agnetha.columns)"
   ]
  },
  {
   "cell_type": "markdown",
   "metadata": {},
   "source": [
    "#### Swedish columns with their data type (19): \n",
    "\n",
    "|Column|Type|Desc.|\n",
    "|--|--|--|\n",
    "|event-id | int| The ID of the transmission (Unique) |\n",
    "|visible|bool | Is the tracker still visible or not? | \n",
    "|timestamp |datetime| The DateTime of transmission |\n",
    "|location-long| float|The Longitude location |\n",
    "|location-lat | float| The Latitude location |\n",
    "|argos:altitude|float | Argos type sensor for height of the transmission |\n",
    "|gps:fix-type | int| Type of GPS Tracker |\n",
    "|gps:hdop| float| Horizontal dilution of precision|\n",
    "|gps:vdop| float| Vertical dilution of precision |\n",
    "|ground-speed|float | Speed of the bird while on the ground. |\n",
    "|heading | float| Direction the bird is faceing (In degrees) |\n",
    "|height-above-ellipsoid | float| Height of the bird HAE -> MSL |\n",
    "|tag-tech-spec |float | |\n",
    "|tag-voltage|float | Voltage level of the tracker. |\n",
    "|sensor-type|string | Type of sensor used in tracker. |\n",
    "|individual-taxon-canonical-name | string|Name of the bird, in latin. |\n",
    "|tag-local-identifier |int |ID of the tracker.  |\n",
    "|individual-local-identifier |int |ID of the bird |\n",
    "|study-name | string|Name of the study |\n",
    "\n",
    "\n",
    "\n",
    "#### German columns with their data type (30): \n",
    "\n",
    "|Column|Type|Desc.|\n",
    "|--|--|--|\n",
    "|event-id | int| The ID of the transmission (Unique) |\n",
    "|visible|bool | Is the tracker still visible or not? | \n",
    "|timestamp |datetime| The DateTime of transmission |\n",
    "|location-long| float|The Longitude location |\n",
    "|location-lat | float| The Latitude location |\n",
    "|acceleration-raw-x|float|Speed +/- from last transmission x |\n",
    "|acceleration-raw-y|float|Speed +/- from last transmission y |\n",
    "|acceleration-raw-z|float|Speed +/- from last transmission z |\n",
    "|bar:barometric-height |float|Pressure on the sensor. |\n",
    "|battery-charge-percent|int| Battery power left in percentage.|\n",
    "|battery-charging-current |float| Current running trough the battery in Ampere|\n",
    "|external-temperature  |float|Temperature of the tracker measured in degrees celsius|\n",
    "|gps:hdop| float| Horizontal dilution of precision|\n",
    "|gps:satelitte-count |int | |\n",
    "|gps-time-to-fix|float |time to acquire satellite signals in seconds.|\n",
    "|ground-speed|float | Speed of the bird while on the ground. |\n",
    "|heading | float| Direction the bird is faceing (In degrees) |\n",
    "|height-above-msl | float| Height of the bird (above mean sea level) |\n",
    "|import-marked-outlier|bool||\n",
    "|gls:light-level| float|Amount of light recieved by tracker, measured in ambient light level|\n",
    "|mag:magnetic-field-raw-x | float||\n",
    "|mag:magnetic-field-raw-y |float||\n",
    "|mag:magnetic-field-raw-z | float||\n",
    "|orn:transmission-protocol | string |Type of transmission protocol |\n",
    "|tag-voltage |float| Voltage level of the tracker. |\n",
    "|sensor-type | string |Type of sensor used in tracker.  |\n",
    "|individual-taxon-canonical-name | string | Name of the bird, in latin. |\n",
    "|tag-local-identifier| int | ID of the tracker |\n",
    "|individual-local-identifier | int|ID of the crane |\n",
    "|study-name |string|Name of the study |\n",
    "\n",
    "\n",
    "#### columns in both data set:\n",
    "\n",
    "|Column|Type|Desc.|\n",
    "|--|--|--|\n",
    "|event-id | int| The ID of the transmission (Unique) |\n",
    "|visible|bool | Is the tracker still visible or not? | \n",
    "|timestamp |datetime| The DateTime of transmission |\n",
    "|location-long| float|The Longitude location |\n",
    "|location-lat | float| The Latitude location |\n",
    "|gps:hdop| float| Horizontal dilution of precision|\n",
    "|ground-speed|float | Speed of the bird while on the ground. |\n",
    "|heading | float| Direction the bird is faceing (In degrees) |\n",
    "|tag-voltage |float| Voltage level of the tracker. |\n",
    "|sensor-type | string |Type of sensor used in tracker.  |\n",
    "|individual-taxon-canonical-name | string | Name of the bird, in latin. |\n",
    "|tag-local-identifier| int | ID of the tracker |\n",
    "|individual-local-identifier | int|ID of the crane |\n",
    "|study-name |string|Name of the study |\n",
    "\n",
    "\n",
    "#### Different columns with equalivent meaning:\n",
    "\n",
    "|German|Swedish|\n",
    "|--|--|\n",
    "|height-above-msl | height-above-ellipsiod|\n",
    "\n",
    "#### In Swedish sets but not in German:\n",
    "\n",
    "|Column|Type|Desc.|\n",
    "|--|--|--|\n",
    "|acceleration-raw-x|float|Speed +/- from last transmission x |\n",
    "|acceleration-raw-y|float|Speed +/- from last transmission y |\n",
    "|acceleration-raw-z|float|Speed +/- from last transmission z |\n",
    "|bar:barometric-height |float|Pressure on the sensor. |\n",
    "|battery-charge-percent|int| Battery power left in percentage.|\n",
    "|battery-charging-current |float| Current running trough the battery in Ampere|\n",
    "|external-temperature  |float|Temperature of the tracker measured in degrees celsius|\n",
    "|gps:satelitte-count |int | |\n",
    "|gps-time-to-fix|float |time to acquire satellite signals in seconds.|\n",
    "|import-marked-outlier|bool||\n",
    "|gls:light-level| float|Amount of light recieved by tracker, measured in ambient light level|\n",
    "|mag:magnetic-field-raw-x | float||\n",
    "|mag:magnetic-field-raw-y |float||\n",
    "|mag:magnetic-field-raw-z | float||\n",
    "|orn:transmission-protocol | string |Type of transmission protocol |\n",
    "\n",
    "#### In Swedish sets but not in German:\n",
    "\n",
    "|Column|Type|Desc.|\n",
    "|--|--|--|\n",
    "|argos:altitude|float | Argos type sensor for height of the transmission |\n",
    "|gps:fix-type | int| Type of GPS Tracker |\n",
    "|gps:vdop| float| Vertical dilution of precision |\n",
    "|height-above-ellipsoid | float| Height of the bird HAE -> MSL |\n",
    "|tag-tech-spec |float | |\n",
    "\n",
    "\n",
    "#### Sensors in Swedish\n",
    "\n",
    "|X|Sensors|Desc|\n",
    "|--|--|--|\n",
    "|1|ARGOS||\n",
    "|2|GPS|Location sensor|\n",
    "\n",
    "\n",
    "#### Sensors in German\n",
    "\n",
    "|X|Sensors|Desc|\n",
    "|--|--|--|\n",
    "|1|BAR|Baromatric sensor|\n",
    "|2|GPS|Location sensor|\n",
    "|3|MAG|A MEMS magnetic field sensor|\n",
    "|4|ORN|A transmission protocol sensor|\n",
    "|5|GLS|A light level geolocator,|\n",
    "\n"
   ]
  },
  {
   "cell_type": "markdown",
   "metadata": {},
   "source": [
    "---\n",
    "# Lithuanian Cranes\n",
    "\n",
    "Attaching the transmitters was done in a place called Grimsås, Sweden. \n",
    "\n",
    "Some info about the data set:\n",
    "- The tracker contains a GPS sensor and a few other environmental sensors, of which the sensor data every 15 minutes (4x / hour) if an SMS message is sent via a GSM channel sent. All that sensor data can be found in the logbook.\n",
    "- The color ring code of this crane is RRW-BuGBk and can be found in the column Search Studies by clicking on the small black web link Implementations, along with its tracker ID and the ring number of the metal ring with which the bird is ringed.\n",
    "- Details: the most famous location is North-East France.\n",
    "\n",
    "This datasets are obtained from https://www.movebank.org/. "
   ]
  },
  {
   "cell_type": "markdown",
   "metadata": {},
   "source": [
    "---\n",
    "## Lita\n",
    "### A Lithuanian Crane \n",
    "\n",
    "---"
   ]
  },
  {
   "cell_type": "markdown",
   "metadata": {},
   "source": [
    "#### Perform basic analyses of Crane dataset and assign the returned dataframe to a variable."
   ]
  },
  {
   "cell_type": "code",
   "execution_count": null,
   "metadata": {},
   "outputs": [],
   "source": [
    "Lita = basic_analysis('../../datasets/CSV/20200103_Dataset_LT_TrackerID_16121_Crane_Lita.csv')\n",
    "Lita"
   ]
  },
  {
   "cell_type": "markdown",
   "metadata": {},
   "source": [
    "#### Create a plot using MatplotLib."
   ]
  },
  {
   "cell_type": "code",
   "execution_count": null,
   "metadata": {},
   "outputs": [],
   "source": [
    "create_plot(Lita,'location-long','location-lat') "
   ]
  },
  {
   "cell_type": "markdown",
   "metadata": {},
   "source": [
    "#### Create a plot MatplotLib on CartopyMap."
   ]
  },
  {
   "cell_type": "code",
   "execution_count": null,
   "metadata": {
    "scrolled": true
   },
   "outputs": [],
   "source": [
    "dfs_on_cartopymap([Lita],'location-long','location-lat','green',1)"
   ]
  },
  {
   "cell_type": "code",
   "execution_count": null,
   "metadata": {},
   "outputs": [],
   "source": [
    "columns_to_filter = ['event-id', 'study-name',\n",
    "                     'timestamp','visible',\n",
    "                     'ground-speed','heading',\n",
    "                     'location-long','location-lat',\n",
    "                     'height-above-msl',\n",
    "                     'individual-taxon-canonical-name',\n",
    "                     'sensor-type','tag-voltage',                                          \n",
    "                     'individual-local-identifier']\n",
    "\n",
    "Filtered_Lita = Lita[columns_to_filter]"
   ]
  },
  {
   "cell_type": "code",
   "execution_count": null,
   "metadata": {},
   "outputs": [],
   "source": [
    "Filtered_Lita[:1]"
   ]
  },
  {
   "cell_type": "code",
   "execution_count": null,
   "metadata": {},
   "outputs": [],
   "source": [
    "Filtered_Lita.to_json(\n",
    "    '../../datasets/JSON/Crane_JSON/Lita-LT.json',\n",
    "    orient = 'records')"
   ]
  },
  {
   "cell_type": "markdown",
   "metadata": {},
   "source": [
    "---\n",
    "## TITLE\n",
    "### SUBTITLE\n",
    "\n",
    "---"
   ]
  },
  {
   "cell_type": "markdown",
   "metadata": {},
   "source": [
    "#### Read the CSV dataset using Pandas."
   ]
  },
  {
   "cell_type": "markdown",
   "metadata": {},
   "source": [
    "#### Print the amount of datarows (Transmissions)."
   ]
  },
  {
   "cell_type": "markdown",
   "metadata": {},
   "source": [
    "#### Print the amount of columns in the dataset."
   ]
  },
  {
   "cell_type": "markdown",
   "metadata": {},
   "source": [
    "#### Print information related to the start position / date."
   ]
  },
  {
   "cell_type": "markdown",
   "metadata": {},
   "source": [
    "#### Print information related to the end position / date."
   ]
  },
  {
   "cell_type": "markdown",
   "metadata": {},
   "source": [
    "#### Show first row of dataframe."
   ]
  },
  {
   "cell_type": "markdown",
   "metadata": {},
   "source": [
    "#### Print columnames and their datatypes."
   ]
  },
  {
   "cell_type": "markdown",
   "metadata": {},
   "source": [
    "#### Create a table and put the values, obtained from the line above, in that table."
   ]
  },
  {
   "cell_type": "markdown",
   "metadata": {},
   "source": [
    "#### Create a plot using MatplotLib."
   ]
  },
  {
   "cell_type": "markdown",
   "metadata": {},
   "source": [
    "#### Create a plot MatplotLib on CartopyMap."
   ]
  }
 ],
 "metadata": {
  "kernelspec": {
   "display_name": "Python 3",
   "language": "python",
   "name": "python3"
  },
  "language_info": {
   "codemirror_mode": {
    "name": "ipython",
    "version": 3
   },
   "file_extension": ".py",
   "mimetype": "text/x-python",
   "name": "python",
   "nbconvert_exporter": "python",
   "pygments_lexer": "ipython3",
   "version": "3.8.2"
  }
 },
 "nbformat": 4,
 "nbformat_minor": 4
}
