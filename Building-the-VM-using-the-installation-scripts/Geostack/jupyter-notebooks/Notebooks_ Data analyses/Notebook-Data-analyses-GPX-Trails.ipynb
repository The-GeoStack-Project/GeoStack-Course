{
 "cells": [
  {
   "cell_type": "markdown",
   "metadata": {},
   "source": [
    "# Data analyses Trails GPX\n",
    "\n",
    "Date: 31-01-2020 <br>\n",
    "Concept version: 1.0 <br>\n",
    "Author: Pieter Lems  <br>\n",
    "\n",
    "© Copyright 2019 Ministerie van Defensie\n",
    "\n",
    "## Contents notebook\n",
    "- Per trail\n",
    "  - Import\n",
    "  - Analyze\n",
    "  - Visualize \n",
    "- Visualize all trails\n",
    "\n",
    "\n",
    "## Data sets in notebook. (\"../../datasets/GPX/\")\n",
    "- Trails datasets \n",
    "   - ../../datasets/GPX/SEP-26-09 64311 Biesbosch.gpx : National Park Noord-Brabantse Biesbosch, Drimmelen, Boat & Hike trail  \n",
    "   - ../../datasets/GPX/JAN-16-11 172053 Zeeland MNV.gpx : Zeeland, Brouwersdam Willemstad, Birdwatching Car route\n",
    "   - ../../datasets/GPX/JUN-03-11 151845 BiesboschLibellen.gpx :  National Park Zuid-Hollandse Biesbosch, Merwelanden, Dragonfly Hiking trail\n",
    "   - ../../datasets/GPX/OKT-25-09 164243 Hamert Fiets.gpx : National Park Maasduinen, de Hamert, Biking Trail\n",
    "   - ../../datasets/GPX/SEP-25-09 182235 Hamert.gpx : National Park Maasduinen, de Hamert, Hiking trail \n",
    "  \n",
    "  \n",
    "### List of anomalities in datasets \n",
    "|Set Name|Anomalies|\n",
    "|--|--|\n",
    "|Biesbosch|12|\n",
    "|Biesbosch Libellen|9|\n",
    "   \n",
    "      \n",
    "\n",
    "---"
   ]
  },
  {
   "cell_type": "markdown",
   "metadata": {},
   "source": [
    "### Importing required modules\n",
    "---"
   ]
  },
  {
   "cell_type": "code",
   "execution_count": null,
   "metadata": {},
   "outputs": [],
   "source": [
    "import gpxpy\n",
    "import datetime\n",
    "import numpy as np\n",
    "import pandas as pd\n",
    "\n",
    "import cartopy        \n",
    "import cartopy.crs as ccrs \n",
    "import cartopy.feature as cfeature\n",
    "import matplotlib.pyplot as plt"
   ]
  },
  {
   "cell_type": "markdown",
   "metadata": {},
   "source": [
    "---\n",
    "### Define generic functions"
   ]
  },
  {
   "cell_type": "markdown",
   "metadata": {},
   "source": [
    "### Function: create_df()\n",
    "this function creates a dataframe from the GPX files\n",
    "\n",
    "- parameter 1: The GPS-track data which needs to be appended to a dataframe"
   ]
  },
  {
   "cell_type": "code",
   "execution_count": null,
   "metadata": {},
   "outputs": [],
   "source": [
    "def create_df(data):\n",
    "\n",
    "    df = pd.DataFrame(columns=['lon', 'lat', 'alt', 'time'])\n",
    "\n",
    "    for point in data:\n",
    "        df = df.append({'lon': point.longitude,\n",
    "                        'lat' : point.latitude, \n",
    "                        'alt' : point.elevation,\n",
    "                        'time' : point.time}, ignore_index=True)\n",
    "    return df"
   ]
  },
  {
   "cell_type": "markdown",
   "metadata": {},
   "source": [
    "---\n",
    "### Function: transform_to_JSON()\n",
    "This function exports the dataframe to the fileformat JSON. \n",
    "\n",
    "- parameters 1 : Dataframe which you want to clean\n",
    "- parameters 2 : Name of output JSON file"
   ]
  },
  {
   "cell_type": "code",
   "execution_count": null,
   "metadata": {},
   "outputs": [],
   "source": [
    "def transform_to_JSON(df,name):\n",
    "    \n",
    "    output_path = \"../../datasets/JSON/Trail_JSON/\" + name\n",
    "    \n",
    "    df.to_json(output_path,orient='records')\n",
    "    \n",
    "    return (\"Transformation of \"  + str(name) + \" complete!\")\n",
    "    \n"
   ]
  },
  {
   "cell_type": "markdown",
   "metadata": {},
   "source": [
    "---\n",
    "### Function: create_plot()\n",
    "This function creates a plot from the inserted data on the map.\n",
    "\n",
    "- parameter 1: The dataframe you want to plot\n",
    "- parameter 2: The longitude column in the dataframe\n",
    "- parameter 3: The latitude column in the dataframe"
   ]
  },
  {
   "cell_type": "code",
   "execution_count": null,
   "metadata": {},
   "outputs": [],
   "source": [
    "def create_plot(df,lonColumn,latColumn):\n",
    "    return plt.plot(df[lonColumn], df[latColumn])"
   ]
  },
  {
   "cell_type": "markdown",
   "metadata": {},
   "source": [
    "---\n",
    "### Function: init_cartopymap():\n",
    "This function creates a new cartopyMap and then returns the map instance"
   ]
  },
  {
   "cell_type": "code",
   "execution_count": null,
   "metadata": {},
   "outputs": [],
   "source": [
    "def init_cartopymap():\n",
    "    \n",
    "    plt.figure(figsize = (20, 12))\n",
    "    \n",
    "    m = plt.axes(projection=ccrs.PlateCarree())\n",
    "\n",
    "    m.coastlines(resolution='10m')\n",
    "    \n",
    "    m.add_feature(cartopy.feature.LAND.with_scale('10m'), edgecolor='black', facecolor = \"white\")\n",
    "    \n",
    "    m.add_feature(cfeature.OCEAN)\n",
    "    \n",
    "    m.add_feature(cfeature.LAKES.with_scale('10m'), edgecolor = 'black')\n",
    "    \n",
    "    m.add_feature(cfeature.RIVERS.with_scale('10m')) \n",
    "    \n",
    "    m.add_feature(cfeature.BORDERS.with_scale('10m'))\n",
    "\n",
    "    return m "
   ]
  },
  {
   "cell_type": "markdown",
   "metadata": {},
   "source": [
    "---\n",
    "### Function: dfs_on_cartopymap():\n",
    "This function creates a map and visualizes the inserted dataframes on a CartopyMap\n",
    "\n",
    "- parameter 1: A list of dataframes, this can also be a list of just one dataframe\n",
    "- parameter 2: The longitude column in the dataframe\n",
    "- parameter 3: The latitude column in the dataframe\n",
    "- parameter 4: The color of the datapoints\n",
    "- parameter 5: The size of the datapoints"
   ]
  },
  {
   "cell_type": "code",
   "execution_count": null,
   "metadata": {},
   "outputs": [],
   "source": [
    "def dfs_on_cartopymap(dfList,lonColumn,latColumn,color,size):\n",
    "\n",
    "    m = init_cartopymap()\n",
    "    \n",
    "    for df in dfList: \n",
    "        \n",
    "        m.scatter(df[lonColumn], \n",
    "                  df[latColumn],\n",
    "                  color=color, \n",
    "                  s = size)    \n",
    "    return m"
   ]
  },
  {
   "cell_type": "markdown",
   "metadata": {},
   "source": [
    "---\n",
    "### Function: basic_analyses()\n",
    "This function performs a basic GPX data analyses on an input file and returns a populated dataframe\n",
    "\n",
    "- parameter 1: The file location of the GPX file"
   ]
  },
  {
   "cell_type": "code",
   "execution_count": null,
   "metadata": {},
   "outputs": [],
   "source": [
    "def basic_analyses(input_file):\n",
    "    \n",
    "    file = open(input_file, 'r')\n",
    "    \n",
    "    parsed_file = gpxpy.parse(file)\n",
    "    \n",
    "    print('\\n--------------------------------BASIC INFORMATION-------------------------------\\n\\n')\n",
    "    \n",
    "    print(\"File info: \" + str(parsed_file.tracks)+'\\n')\n",
    "    \n",
    "    print(\"Tracks in file:\" + str(len(parsed_file.tracks))+'\\n')\n",
    "    \n",
    "    print(\"Segments in track: \" + str(len(parsed_file.tracks[0].segments))+'\\n')\n",
    "    \n",
    "    print(\"DataPoints in track: \" + str(len(parsed_file.tracks[0].segments[0].points))+'\\n')\n",
    "    \n",
    "    data = parsed_file.tracks[0].segments[0].points\n",
    "    \n",
    "    print(\"Start position and date :\" + str(data[0])+'\\n')\n",
    "    \n",
    "    print(\"End position and date :\"  + str(data[-1])+'\\n')\n",
    "    \n",
    "    df = create_df(data)\n",
    "    \n",
    "    print('\\n------------------------------COLUMNS AND DATA TYPES----------------------------\\n\\n')\n",
    "    \n",
    "    print(df.dtypes)\n",
    "    \n",
    "    print('\\n-----------------------------DATA FRAME (first 2 rows)---------------------------\\n\\n')\n",
    "    \n",
    "    return df"
   ]
  },
  {
   "cell_type": "markdown",
   "metadata": {},
   "source": [
    "---\n",
    "## Biesbosch\n",
    "### National Park Noord-Brabantse Biesbosch, Drimmelen, Boat & Hike trail \n",
    "\n",
    "---"
   ]
  },
  {
   "cell_type": "code",
   "execution_count": null,
   "metadata": {
    "scrolled": true
   },
   "outputs": [],
   "source": [
    "Biesbosch_file = open('../../datasets/GPX/SEP-26-09 64311 Biesbosch.gpx', 'r')\n",
    "Biesbosch = gpxpy.parse(Biesbosch_file)"
   ]
  },
  {
   "cell_type": "markdown",
   "metadata": {},
   "source": [
    "#### Print amount of tracks in GPX file"
   ]
  },
  {
   "cell_type": "code",
   "execution_count": null,
   "metadata": {},
   "outputs": [],
   "source": [
    "len(Biesbosch.tracks)"
   ]
  },
  {
   "cell_type": "markdown",
   "metadata": {},
   "source": [
    "#### Print amount of line segments in track"
   ]
  },
  {
   "cell_type": "code",
   "execution_count": null,
   "metadata": {},
   "outputs": [],
   "source": [
    "len(Biesbosch.tracks[0].segments)"
   ]
  },
  {
   "cell_type": "markdown",
   "metadata": {},
   "source": [
    "#### Print length of track "
   ]
  },
  {
   "cell_type": "code",
   "execution_count": null,
   "metadata": {},
   "outputs": [],
   "source": [
    "len(Biesbosch.tracks[0].segments[0].points)"
   ]
  },
  {
   "cell_type": "markdown",
   "metadata": {},
   "source": [
    "#### Assign all trackpoints to a variable and print one"
   ]
  },
  {
   "cell_type": "code",
   "execution_count": null,
   "metadata": {},
   "outputs": [],
   "source": [
    "Biesbosch_data = Biesbosch.tracks[0].segments[0].points\n",
    "Biesbosch_data[:1]"
   ]
  },
  {
   "cell_type": "markdown",
   "metadata": {},
   "source": [
    "#### Show start coordinates and DTG (Datetimegroup)"
   ]
  },
  {
   "cell_type": "code",
   "execution_count": null,
   "metadata": {},
   "outputs": [],
   "source": [
    "Biesbosch_data[0]"
   ]
  },
  {
   "cell_type": "markdown",
   "metadata": {},
   "source": [
    "#### Show end coordinates and DTG (Datetimegroup)"
   ]
  },
  {
   "cell_type": "code",
   "execution_count": null,
   "metadata": {},
   "outputs": [],
   "source": [
    "Biesbosch_data[-1]"
   ]
  },
  {
   "cell_type": "markdown",
   "metadata": {},
   "source": [
    "#### Create a dataframe"
   ]
  },
  {
   "cell_type": "code",
   "execution_count": null,
   "metadata": {},
   "outputs": [],
   "source": [
    "Biesbosch = create_df(Biesbosch_data)"
   ]
  },
  {
   "cell_type": "markdown",
   "metadata": {},
   "source": [
    "#### Plot track using MatplotLib"
   ]
  },
  {
   "cell_type": "code",
   "execution_count": null,
   "metadata": {},
   "outputs": [],
   "source": [
    "plt.plot(Biesbosch[12:]['lon'], Biesbosch[12:]['lat'])"
   ]
  },
  {
   "cell_type": "markdown",
   "metadata": {},
   "source": [
    "#### Plot track using MatplotLib + Cartopy"
   ]
  },
  {
   "cell_type": "code",
   "execution_count": null,
   "metadata": {},
   "outputs": [],
   "source": [
    "dfs_on_cartopymap([Biesbosch[12:]],'lon','lat',\"red\",1)"
   ]
  },
  {
   "cell_type": "markdown",
   "metadata": {},
   "source": [
    "#### Plot datacolumns and their datatypes"
   ]
  },
  {
   "cell_type": "code",
   "execution_count": null,
   "metadata": {},
   "outputs": [],
   "source": [
    "Biesbosch.dtypes"
   ]
  },
  {
   "cell_type": "markdown",
   "metadata": {},
   "source": [
    "#### Create table with columns and data types:\n",
    "\n",
    "|Column|Type|Desc.|\n",
    "|--|--|--|\n",
    "|lon |    float64 | longitude coordinates |\n",
    "|lat  |   float64 | latitiude coordinates | \n",
    "|alt   |  float64 | altitude coordinates |\n",
    "|time  |   Datetime | datetime of transmission|"
   ]
  },
  {
   "cell_type": "markdown",
   "metadata": {},
   "source": [
    "#### Transform dataframe to JSON file format"
   ]
  },
  {
   "cell_type": "code",
   "execution_count": null,
   "metadata": {},
   "outputs": [],
   "source": [
    "transform_to_JSON(Biesbosch[12:],'Trail_Biesbosch.json')"
   ]
  },
  {
   "cell_type": "markdown",
   "metadata": {},
   "source": [
    "---\n",
    "## Biesbosch Libellen\n",
    "### National Park Zuid-Hollandse Biesbosch, Merwelanden, Dragonfly Hike trail\n",
    "---"
   ]
  },
  {
   "cell_type": "markdown",
   "metadata": {},
   "source": [
    "#### Perform basic analyses of trail and assign dataframe returned to a variable."
   ]
  },
  {
   "cell_type": "code",
   "execution_count": null,
   "metadata": {},
   "outputs": [],
   "source": [
    "Biesbosch_Lib = basic_analyses('../../datasets/GPX/JUN-03-11 151845 BiesboschLibellen.gpx')\n",
    "Biesbosch_Lib"
   ]
  },
  {
   "cell_type": "markdown",
   "metadata": {},
   "source": [
    "#### Plot track using MatplotLib."
   ]
  },
  {
   "cell_type": "code",
   "execution_count": null,
   "metadata": {},
   "outputs": [],
   "source": [
    "create_plot(Biesbosch_Lib[9:],'lon','lat') "
   ]
  },
  {
   "cell_type": "markdown",
   "metadata": {},
   "source": [
    "#### Plot track using MatplotLib on a CartopyMap."
   ]
  },
  {
   "cell_type": "code",
   "execution_count": null,
   "metadata": {},
   "outputs": [],
   "source": [
    "dfs_on_cartopymap([Biesbosch_Lib[9:]],'lon','lat','red',1)"
   ]
  },
  {
   "cell_type": "markdown",
   "metadata": {},
   "source": [
    "#### Transform dataframe to JSON file format."
   ]
  },
  {
   "cell_type": "code",
   "execution_count": null,
   "metadata": {},
   "outputs": [],
   "source": [
    "transform_to_JSON(Biesbosch_Lib[9:],'Trail-Biesbosch-Libellen.json')"
   ]
  },
  {
   "cell_type": "markdown",
   "metadata": {},
   "source": [
    "---\n",
    "## Zeeland\n",
    "### Zeeland, Brouwersdam Willemstad, Birdwatching car route\n",
    "---"
   ]
  },
  {
   "cell_type": "markdown",
   "metadata": {},
   "source": [
    "#### Perform basic analyses of trail and assign dataframe returned to a variable."
   ]
  },
  {
   "cell_type": "code",
   "execution_count": null,
   "metadata": {},
   "outputs": [],
   "source": [
    "Zeeland = basic_analyses('../../datasets/GPX/JAN-16-11 172053 Zeeland MNV.gpx')\n",
    "Zeeland"
   ]
  },
  {
   "cell_type": "markdown",
   "metadata": {},
   "source": [
    "#### Plot track using MatplotLib."
   ]
  },
  {
   "cell_type": "code",
   "execution_count": null,
   "metadata": {},
   "outputs": [],
   "source": [
    "create_plot(Zeeland,'lon','lat') "
   ]
  },
  {
   "cell_type": "markdown",
   "metadata": {},
   "source": [
    "#### Plot track using MatplotLib on a CartopyMap."
   ]
  },
  {
   "cell_type": "code",
   "execution_count": null,
   "metadata": {},
   "outputs": [],
   "source": [
    "dfs_on_cartopymap([Zeeland],'lon','lat','red',3)"
   ]
  },
  {
   "cell_type": "markdown",
   "metadata": {},
   "source": [
    "#### Transform dataframe to JSON file format."
   ]
  },
  {
   "cell_type": "code",
   "execution_count": null,
   "metadata": {},
   "outputs": [],
   "source": [
    "transform_to_JSON(Zeeland,'Trail_ZeelandMNV.json')"
   ]
  },
  {
   "cell_type": "markdown",
   "metadata": {},
   "source": [
    "---\n",
    "##  Hamert Biking\n",
    "### National Park Maasduinen, de Hamert, Biking Trail\n",
    "---"
   ]
  },
  {
   "cell_type": "markdown",
   "metadata": {},
   "source": [
    "#### Perform basic analyses of trail and assign dataframe returned to a variable."
   ]
  },
  {
   "cell_type": "code",
   "execution_count": null,
   "metadata": {},
   "outputs": [],
   "source": [
    "Hamert_Bike = basic_analyses('../../datasets/GPX/OKT-25-09 164243 Hamert Fiets.gpx')\n",
    "Hamert_Bike "
   ]
  },
  {
   "cell_type": "markdown",
   "metadata": {},
   "source": [
    "#### Plot track using MatplotLib."
   ]
  },
  {
   "cell_type": "code",
   "execution_count": null,
   "metadata": {},
   "outputs": [],
   "source": [
    "create_plot(Hamert_Bike,'lon','lat') "
   ]
  },
  {
   "cell_type": "markdown",
   "metadata": {},
   "source": [
    "#### Plot track using MatplotLib on a CartopyMap."
   ]
  },
  {
   "cell_type": "code",
   "execution_count": null,
   "metadata": {},
   "outputs": [],
   "source": [
    "dfs_on_cartopymap([Hamert_Bike],'lon','lat','red',1)"
   ]
  },
  {
   "cell_type": "markdown",
   "metadata": {},
   "source": [
    "#### Transform dataframe to JSON file format."
   ]
  },
  {
   "cell_type": "code",
   "execution_count": null,
   "metadata": {},
   "outputs": [],
   "source": [
    "transform_to_JSON(Hamert_Bike,'Trail-Hamert-Bike.json')"
   ]
  },
  {
   "cell_type": "markdown",
   "metadata": {},
   "source": [
    "---\n",
    "## Hamert Hiking\n",
    "### National Park Maasduinen, de Hamert, Hiking trail \n",
    "---"
   ]
  },
  {
   "cell_type": "markdown",
   "metadata": {},
   "source": [
    "#### Perform basic analyses of trail and assign dataframe returned to a variable."
   ]
  },
  {
   "cell_type": "code",
   "execution_count": null,
   "metadata": {},
   "outputs": [],
   "source": [
    "Hamert_Hike = basic_analyses('../../datasets/GPX/SEP-25-09 182235 Hamert.gpx')\n",
    "Hamert_Hike "
   ]
  },
  {
   "cell_type": "markdown",
   "metadata": {},
   "source": [
    "#### Plot track using MatplotLib."
   ]
  },
  {
   "cell_type": "code",
   "execution_count": null,
   "metadata": {},
   "outputs": [],
   "source": [
    "create_plot(Hamert_Hike,'lon','lat') "
   ]
  },
  {
   "cell_type": "markdown",
   "metadata": {},
   "source": [
    "#### Plot track using MatplotLib on a CartopyMap."
   ]
  },
  {
   "cell_type": "code",
   "execution_count": null,
   "metadata": {},
   "outputs": [],
   "source": [
    "dfs_on_cartopymap([Hamert_Hike],'lon','lat','red',1)"
   ]
  },
  {
   "cell_type": "markdown",
   "metadata": {},
   "source": [
    "#### Transform dataframe to JSON file format."
   ]
  },
  {
   "cell_type": "code",
   "execution_count": null,
   "metadata": {},
   "outputs": [],
   "source": [
    "transform_to_JSON(Hamert_Hike,'Trail-Hamert-Hike.json')"
   ]
  },
  {
   "cell_type": "markdown",
   "metadata": {},
   "source": [
    "---\n",
    "## Visualizing all GPS-tracks on one Cartopy Map\n",
    "### Done by passing a list of all dataframes in this notebook to the function \n",
    "---"
   ]
  },
  {
   "cell_type": "code",
   "execution_count": null,
   "metadata": {},
   "outputs": [],
   "source": [
    "dfs_on_cartopymap([Zeeland, \n",
    "                   Biesbosch_Lib, \n",
    "                   Biesbosch, \n",
    "                   Hamert_Bike,\n",
    "                   Hamert_Hike],'lon','lat','red',2)"
   ]
  },
  {
   "cell_type": "markdown",
   "metadata": {},
   "source": [
    "---\n",
    "## TITLE\n",
    "### SUBTITLE\n",
    "---"
   ]
  },
  {
   "cell_type": "markdown",
   "metadata": {},
   "source": [
    "#### Perform basic analyses of trail and assign dataframe returned to a variable."
   ]
  },
  {
   "cell_type": "markdown",
   "metadata": {},
   "source": [
    "#### Plot track using MatplotLib."
   ]
  },
  {
   "cell_type": "markdown",
   "metadata": {},
   "source": [
    "#### Plot track using MatplotLib on a CartopyMap."
   ]
  },
  {
   "cell_type": "markdown",
   "metadata": {},
   "source": [
    "#### Transform dataframe to JSON file format."
   ]
  }
 ],
 "metadata": {
  "kernelspec": {
   "display_name": "Python 3",
   "language": "python",
   "name": "python3"
  },
  "language_info": {
   "codemirror_mode": {
    "name": "ipython",
    "version": 3
   },
   "file_extension": ".py",
   "mimetype": "text/x-python",
   "name": "python",
   "nbconvert_exporter": "python",
   "pygments_lexer": "ipython3",
   "version": "3.8.2"
  }
 },
 "nbformat": 4,
 "nbformat_minor": 4
}
