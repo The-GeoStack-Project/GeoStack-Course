{
 "cells": [
  {
   "cell_type": "markdown",
   "metadata": {},
   "source": [
    "---\n",
    "# Data modeling Employee\n",
    "\n",
    "Date: 02-11-2019 <br>\n",
    "Concept version: 0.9 <br>\n",
    "Author: Pieter Lems  <br>\n",
    "Docent: J. Kroon<br>\n",
    "\n",
    "© Copyright 2019 Ministerie van Defensie\n",
    "\n",
    "This notebook wil provide information and scripts relating to creating data models for MongoDB.<br>\n",
    "To create the data models we are going to use Python. \n",
    "\n",
    "\n",
    "The data sets in used in this notebook can be found in the folder (\"Data/\")\n",
    "\n",
    "## Contents of notebook\n",
    "- Importing and exploring the data sets\n",
    "    - Show data sets\n",
    "    - explore\n",
    "    - Clean data set\n",
    "- Creating the model\n",
    "    - Referenced\n",
    "        - Defining the Employee document\n",
    "        - Defining the Adress document\n",
    "        - Defining the payment document\n",
    "    - Embedded\n",
    "        - Defining the Employee document\n",
    "        - Defining the Adress document\n",
    "        - Defining the payment document\n",
    "    - Optimize models\n",
    "        - Rename variables\n",
    "        - Embedding and Refercing where needed\n",
    "- Loading the data\n",
    "- Querying the data\n",
    "\n",
    "\n",
    "## discussed topics\n",
    "- Handle null values\n",
    "- Handle different column names\n",
    "- Handle different\n",
    "\n",
    "## Sources\n",
    "https://leportella.com/english/2018/08/23/mongo-db-python-and-mongoengine.html <br>\n",
    "https://realpython.com/introduction-to-mongodb-and-python/ <br>\n",
    "https://www.techrunnr.com/how-to-install-mongodb-compass/ <br>\n",
    "\n",
    "For info related to mongoDB (Crash course)<br>\n",
    "https://www.youtube.com/watch?v=PIWVFUtBV1Q\n",
    "\n",
    "\n",
    "For finding the coordinates of a polygon<br>\n",
    "https://www.keene.edu/campus/maps/tool/\n",
    "\n",
    "\n",
    "Info about geospatial queries<br>\n",
    "https://docs.mongodb.com/manual/geospatial-queries/#geospatial-indexes\n",
    "\n",
    "HAE -> MSL <br>\n",
    "https://www.unavco.org/software/geodetic-utilities/geoid-height-calculator/geoid-height-calculator.html\n",
    "\n",
    "\n",
    "embedded or referenced<br>\n",
    "https://stackoverflow.com/questions/5373198/mongodb-relationships-embed-or-reference\n",
    "\n",
    "openmymind.net/Multiple-Collections-Versus-Embedded-Documents\n",
    "\n",
    "\n",
    "## Tools \n",
    "- Mongo docker container <br>\n",
    "docker run -d -p 27017:27017 mongo:latest\n",
    "- Mongo compass <br>\n",
    "wget https://downloads.mongodb.com/compass/mongodb-compass_1.15.1_amd64.deb <br>\n",
    "sudo dpkg -i mongodb-compass_1.15.1_amd64.deb\n",
    "\n",
    "- Mongoengine:\n",
    "connect to database\n",
    "\n",
    "connect(alias='Referenced',db='Employee_Database_Referenced')\n",
    "\n",
    "disconnect from database:\n",
    "\n",
    "disconnect(alias='Referenced')\n",
    "\n",
    "Add data to specific database (in model)\n",
    "\n",
    "meta = {'db_alias': 'Referenced'}\n",
    "\n",
    "## Use-case\n",
    "\n",
    "We are developers at the personnel department of the Dutch Ministry of Defense.  We overheard that there is a problem concerning the fragmented data of military personnel. The problem is that their personal information is stored in 3 different data stores. \n",
    "    1) The first data store contains their personal information.\n",
    "    2) The second data store contains their address information\n",
    "    3) The third data store contains their salary / payment information\n",
    "\n",
    "Because of this, it’s hard to retrieve data in a fast and efficient way. That’s were we as developers / data scientists come in. \n",
    "\n",
    "Our goal is to store the data in one centralized database. We also want to query the data in a fast and efficient way.  The extraction and transformation phases, of the ETL-Process, are already completed.  \n",
    "The data sets can be found in the folder: “Data/CSV/”\n",
    "\n",
    "---"
   ]
  },
  {
   "cell_type": "markdown",
   "metadata": {},
   "source": [
    "---\n",
    "# Importing and exploring the data sets\n",
    "---"
   ]
  },
  {
   "cell_type": "code",
   "execution_count": 1,
   "metadata": {},
   "outputs": [],
   "source": [
    "# Import the pandas \n",
    "import pandas as pd"
   ]
  },
  {
   "cell_type": "markdown",
   "metadata": {},
   "source": [
    "---\n",
    "## Showing data sets\n",
    "---"
   ]
  },
  {
   "cell_type": "code",
   "execution_count": 2,
   "metadata": {},
   "outputs": [
    {
     "data": {
      "text/html": [
       "<div>\n",
       "<style scoped>\n",
       "    .dataframe tbody tr th:only-of-type {\n",
       "        vertical-align: middle;\n",
       "    }\n",
       "\n",
       "    .dataframe tbody tr th {\n",
       "        vertical-align: top;\n",
       "    }\n",
       "\n",
       "    .dataframe thead th {\n",
       "        text-align: right;\n",
       "    }\n",
       "</style>\n",
       "<table border=\"1\" class=\"dataframe\">\n",
       "  <thead>\n",
       "    <tr style=\"text-align: right;\">\n",
       "      <th></th>\n",
       "      <th>Employee-Id</th>\n",
       "      <th>First-Name</th>\n",
       "      <th>Last-Name</th>\n",
       "      <th>Previous-Job</th>\n",
       "    </tr>\n",
       "  </thead>\n",
       "  <tbody>\n",
       "    <tr>\n",
       "      <th>0</th>\n",
       "      <td>1</td>\n",
       "      <td>Pieter</td>\n",
       "      <td>Lems</td>\n",
       "      <td>Sales Person</td>\n",
       "    </tr>\n",
       "    <tr>\n",
       "      <th>1</th>\n",
       "      <td>2</td>\n",
       "      <td>Jawed</td>\n",
       "      <td>Balkhi</td>\n",
       "      <td>Dentist</td>\n",
       "    </tr>\n",
       "    <tr>\n",
       "      <th>2</th>\n",
       "      <td>3</td>\n",
       "      <td>Joost</td>\n",
       "      <td>Bakker</td>\n",
       "      <td>Lawyer</td>\n",
       "    </tr>\n",
       "    <tr>\n",
       "      <th>3</th>\n",
       "      <td>4</td>\n",
       "      <td>John</td>\n",
       "      <td>Doe</td>\n",
       "      <td>Factory worker</td>\n",
       "    </tr>\n",
       "  </tbody>\n",
       "</table>\n",
       "</div>"
      ],
      "text/plain": [
       "   Employee-Id First-Name Last-Name    Previous-Job\n",
       "0            1     Pieter      Lems    Sales Person\n",
       "1            2      Jawed    Balkhi         Dentist\n",
       "2            3      Joost    Bakker          Lawyer\n",
       "3            4       John       Doe  Factory worker"
      ]
     },
     "execution_count": 2,
     "metadata": {},
     "output_type": "execute_result"
    }
   ],
   "source": [
    "# Read employee data in dataframe\n",
    "Employees_df = pd.read_csv(\"Data/CSV/Employee_data.csv\")\n",
    "\n",
    "# Display dataframe\n",
    "Employees_df"
   ]
  },
  {
   "cell_type": "code",
   "execution_count": 3,
   "metadata": {},
   "outputs": [
    {
     "data": {
      "text/html": [
       "<div>\n",
       "<style scoped>\n",
       "    .dataframe tbody tr th:only-of-type {\n",
       "        vertical-align: middle;\n",
       "    }\n",
       "\n",
       "    .dataframe tbody tr th {\n",
       "        vertical-align: top;\n",
       "    }\n",
       "\n",
       "    .dataframe thead th {\n",
       "        text-align: right;\n",
       "    }\n",
       "</style>\n",
       "<table border=\"1\" class=\"dataframe\">\n",
       "  <thead>\n",
       "    <tr style=\"text-align: right;\">\n",
       "      <th></th>\n",
       "      <th>address-Id</th>\n",
       "      <th>house-number</th>\n",
       "      <th>city</th>\n",
       "    </tr>\n",
       "  </thead>\n",
       "  <tbody>\n",
       "    <tr>\n",
       "      <th>0</th>\n",
       "      <td>1</td>\n",
       "      <td>10</td>\n",
       "      <td>Rotterdam</td>\n",
       "    </tr>\n",
       "    <tr>\n",
       "      <th>1</th>\n",
       "      <td>2</td>\n",
       "      <td>29</td>\n",
       "      <td>Utrecht</td>\n",
       "    </tr>\n",
       "    <tr>\n",
       "      <th>2</th>\n",
       "      <td>3</td>\n",
       "      <td>119</td>\n",
       "      <td>Drente</td>\n",
       "    </tr>\n",
       "    <tr>\n",
       "      <th>3</th>\n",
       "      <td>4</td>\n",
       "      <td>1232</td>\n",
       "      <td>Amesfoort</td>\n",
       "    </tr>\n",
       "  </tbody>\n",
       "</table>\n",
       "</div>"
      ],
      "text/plain": [
       "   address-Id  house-number       city\n",
       "0           1            10  Rotterdam\n",
       "1           2            29    Utrecht\n",
       "2           3           119     Drente\n",
       "3           4          1232  Amesfoort"
      ]
     },
     "execution_count": 3,
     "metadata": {},
     "output_type": "execute_result"
    }
   ],
   "source": [
    "# Read address data in dataframe\n",
    "Addresses_df= pd.read_csv(\"Data/CSV/Address_data.csv\")\n",
    "\n",
    "# Display dataframe\n",
    "Addresses_df"
   ]
  },
  {
   "cell_type": "code",
   "execution_count": 4,
   "metadata": {},
   "outputs": [
    {
     "data": {
      "text/html": [
       "<div>\n",
       "<style scoped>\n",
       "    .dataframe tbody tr th:only-of-type {\n",
       "        vertical-align: middle;\n",
       "    }\n",
       "\n",
       "    .dataframe tbody tr th {\n",
       "        vertical-align: top;\n",
       "    }\n",
       "\n",
       "    .dataframe thead th {\n",
       "        text-align: right;\n",
       "    }\n",
       "</style>\n",
       "<table border=\"1\" class=\"dataframe\">\n",
       "  <thead>\n",
       "    <tr style=\"text-align: right;\">\n",
       "      <th></th>\n",
       "      <th>Payment_Id</th>\n",
       "      <th>Payment_Amount</th>\n",
       "      <th>Payment_Date</th>\n",
       "    </tr>\n",
       "  </thead>\n",
       "  <tbody>\n",
       "    <tr>\n",
       "      <th>0</th>\n",
       "      <td>1</td>\n",
       "      <td>1000</td>\n",
       "      <td>2016-01-18 00:00:00.000</td>\n",
       "    </tr>\n",
       "    <tr>\n",
       "      <th>1</th>\n",
       "      <td>2</td>\n",
       "      <td>2900</td>\n",
       "      <td>2017-06-12 00:00:00.000</td>\n",
       "    </tr>\n",
       "    <tr>\n",
       "      <th>2</th>\n",
       "      <td>3</td>\n",
       "      <td>11900</td>\n",
       "      <td>2018-12-01 00:00:00.000</td>\n",
       "    </tr>\n",
       "    <tr>\n",
       "      <th>3</th>\n",
       "      <td>4</td>\n",
       "      <td>31500</td>\n",
       "      <td>2018-12-01 00:00:00.000</td>\n",
       "    </tr>\n",
       "  </tbody>\n",
       "</table>\n",
       "</div>"
      ],
      "text/plain": [
       "   Payment_Id  Payment_Amount             Payment_Date\n",
       "0           1            1000  2016-01-18 00:00:00.000\n",
       "1           2            2900  2017-06-12 00:00:00.000\n",
       "2           3           11900  2018-12-01 00:00:00.000\n",
       "3           4           31500  2018-12-01 00:00:00.000"
      ]
     },
     "execution_count": 4,
     "metadata": {},
     "output_type": "execute_result"
    }
   ],
   "source": [
    "# Read payment data in dataframe\n",
    "Payments_df = pd.read_csv(\"Data/CSV/Payment_data.csv\")\n",
    "\n",
    "# Display dataframe\n",
    "Payments_df"
   ]
  },
  {
   "cell_type": "markdown",
   "metadata": {},
   "source": [
    "## Exploring data information"
   ]
  },
  {
   "cell_type": "markdown",
   "metadata": {},
   "source": [
    "As you can see in the table below, the dataset's al have 3 attributes in common; employee_id, first_name and the last_name.\n",
    "\n",
    "| Employee 1 | Employee 2 |\n",
    "| --- | --- |\n",
    "| employee_id | employeeid |\n",
    "| first_name | firstname |\n",
    "| last_name | lastname | \n",
    "| age | previousjob |"
   ]
  },
  {
   "cell_type": "markdown",
   "metadata": {},
   "source": [
    "---\n",
    "# Creating the model\n",
    "---"
   ]
  },
  {
   "cell_type": "code",
   "execution_count": 5,
   "metadata": {},
   "outputs": [],
   "source": [
    "from mongoengine import *\n",
    "from datetime import datetime"
   ]
  },
  {
   "cell_type": "markdown",
   "metadata": {},
   "source": [
    "---\n",
    "## Referenced model\n",
    "---"
   ]
  },
  {
   "cell_type": "code",
   "execution_count": 6,
   "metadata": {},
   "outputs": [
    {
     "data": {
      "text/plain": [
       "MongoClient(host=['localhost:27017'], document_class=dict, tz_aware=False, connect=True, read_preference=Primary())"
      ]
     },
     "execution_count": 6,
     "metadata": {},
     "output_type": "execute_result"
    }
   ],
   "source": [
    "connect(alias='Referenced',db='Employee_Database_Referenced')"
   ]
  },
  {
   "cell_type": "code",
   "execution_count": 7,
   "metadata": {},
   "outputs": [],
   "source": [
    "class Employee(Document):\n",
    "    \n",
    "    employee_id  = IntField(required=True, max_length=100)\n",
    "    \n",
    "    first_name = StringField(required=True, max_length=20)\n",
    "    \n",
    "    last_name = StringField(required=True, max_length=20)\n",
    "    \n",
    "    # Add this line to save model to Referenced db\n",
    "    meta = {'db_alias': 'Referenced'}\n",
    "    \n",
    "class Address(Document):\n",
    "    \n",
    "    address_id = IntField(required=True, max_length=100)\n",
    "    \n",
    "    house_number = IntField(required=True, max_length=100)\n",
    "    \n",
    "    city = StringField(required=True, max_length=20)\n",
    "    \n",
    "    # Reference to the Employee document \n",
    "    employee = ReferenceField(Employee) \n",
    "\n",
    "    # Add this line to save model to Referenced db\n",
    "    meta = {'db_alias': 'Referenced'}\n",
    "    \n",
    "class Payment(Document):\n",
    "    \n",
    "    payment_id = IntField(required=True, max_length=20)\n",
    "    \n",
    "    payment_amount = FloatField(required=True, max_length=20)\n",
    "    \n",
    "    payment_date = DateTimeField(default=datetime.now)\n",
    "    \n",
    "    # Reference to the Employee document \n",
    "    employee = ReferenceField(Employee) \n",
    "    \n",
    "    # Add this line to save model to Referenced db\n",
    "    meta = {'db_alias': 'Referenced'}"
   ]
  },
  {
   "cell_type": "markdown",
   "metadata": {},
   "source": [
    "---\n",
    "## Embedded model\n",
    "---"
   ]
  },
  {
   "cell_type": "code",
   "execution_count": 8,
   "metadata": {},
   "outputs": [
    {
     "data": {
      "text/plain": [
       "MongoClient(host=['localhost:27017'], document_class=dict, tz_aware=False, connect=True, read_preference=Primary())"
      ]
     },
     "execution_count": 8,
     "metadata": {},
     "output_type": "execute_result"
    }
   ],
   "source": [
    "connect('Employee_Database_Embedded',alias='Embedded')"
   ]
  },
  {
   "cell_type": "code",
   "execution_count": 9,
   "metadata": {},
   "outputs": [],
   "source": [
    "class Payment(EmbeddedDocument):\n",
    "    \n",
    "    payment_id = IntField(required=True, max_length=20)\n",
    "    \n",
    "    payment_amount = FloatField(required=True, max_length=20)\n",
    "    \n",
    "    payment_date = DateTimeField(default=datetime.now)\n",
    "    \n",
    "    meta = {'db_alias': 'Embedded'}\n",
    "    \n",
    "class Address(EmbeddedDocument):\n",
    "    \n",
    "    address_id = IntField(required=True, max_length=100)\n",
    "    \n",
    "    house_number = IntField(required=True, max_length=100)\n",
    "    \n",
    "    city = StringField(required=True, max_length=20)\n",
    "    \n",
    "    meta = {'db_alias': 'Embedded'}\n",
    "\n",
    "class Employee(Document):\n",
    "    employee_id  = IntField(required=True, max_length=100)\n",
    "    \n",
    "    first_name = StringField(required=True, max_length=20)\n",
    "    \n",
    "    last_name = StringField(required=True, max_length=20)\n",
    "    \n",
    "    ## The embedded documents\n",
    "    payments = EmbeddedDocumentField(Payment)\n",
    "    \n",
    "    adresses = EmbeddedDocumentField(Address)\n",
    "    \n",
    "    meta = {'db_alias': 'Embedded'}\n"
   ]
  },
  {
   "cell_type": "markdown",
   "metadata": {},
   "source": [
    "---\n",
    "## Optimized model\n",
    "\n",
    "We can use both referenced and embedded documents\n",
    " \n",
    "\n",
    "referenced : Payment\n",
    "Since the document will keep growing overtime \n",
    "\n",
    "\n",
    "embedded: Document\n",
    "\n",
    "---"
   ]
  },
  {
   "cell_type": "code",
   "execution_count": 10,
   "metadata": {},
   "outputs": [
    {
     "data": {
      "text/plain": [
       "MongoClient(host=['localhost:27017'], document_class=dict, tz_aware=False, connect=True, read_preference=Primary())"
      ]
     },
     "execution_count": 10,
     "metadata": {},
     "output_type": "execute_result"
    }
   ],
   "source": [
    "connect('Employee_Database_Optimized',alias='Optimized')"
   ]
  },
  {
   "cell_type": "code",
   "execution_count": 19,
   "metadata": {},
   "outputs": [],
   "source": [
    "# Define the payment document\n",
    "# The payment document contains a reference\n",
    "# To the Employee document, it belongs to.\n",
    "class Payment(Document):\n",
    "    \n",
    "    # The id of the payment\n",
    "    payment_id = IntField(required=True, max_length=20)\n",
    "    \n",
    "    # The amount of the payment\n",
    "    payment_amount = FloatField(required=True, max_length=20)\n",
    "    \n",
    "    # The date te payment was made. (Datetime)\n",
    "    payment_date = DateTimeField(default=datetime.now)\n",
    "    \n",
    "    #Reference_id of employee \n",
    "    employee =  ReferenceField(Employee)\n",
    "    \n",
    "    # Since we want to add the data to a specifik database,\n",
    "    # We are going to define that database in the metadata\n",
    "    meta = {'db_alias': 'Embedded'}\n",
    "\n",
    "# Define the Adresses document\n",
    "# This documenten will be embedded in the \n",
    "# Employee document\n",
    "class Address(EmbeddedDocument):\n",
    "    \n",
    "    # The ID of the Address of Type Int\n",
    "    address_id = IntField(required=True, max_length=100)\n",
    "    \n",
    "    # The house number, of Type Int\n",
    "    house_number = IntField(required=True, max_length=100)\n",
    "    \n",
    "    # The City, of type String\n",
    "    city = StringField(required=True, max_length=20)\n",
    "    \n",
    "    meta = {'db_alias': 'Embedded'}\n",
    "\n",
    "# Define the Employee document \n",
    "class Employee(Document):\n",
    "\n",
    "    # The ID of the employee , of type Int\n",
    "    employee_id  = IntField(required=True, max_length=100)\n",
    "    \n",
    "    # The first name of the employee, of type String\n",
    "    first_name = StringField(required=True, max_length=20)\n",
    "    \n",
    "    # The last name of the employee, of type String \n",
    "    last_name = StringField(required=True, max_length=20)\n",
    "    \n",
    "    ## The embedded documents\n",
    "    adresses = EmbeddedDocumentField(Address)\n",
    "    meta = {'db_alias': 'Embedded'}"
   ]
  },
  {
   "cell_type": "markdown",
   "metadata": {},
   "source": [
    "---\n",
    "# Loading the data\n",
    "\n",
    "Test data referenced \n",
    "\n",
    "---"
   ]
  },
  {
   "cell_type": "code",
   "execution_count": null,
   "metadata": {},
   "outputs": [],
   "source": [
    "def add_test_data_employee_1():\n",
    "    employee1 = Employee(1,\"Pieter\",\"Lems\").save()\n",
    "    address_employee1 = Address(1,10,\"Rotterdam\",employee1).save()\n",
    "    payment_employee1 = Payment(1,1000,datetime.now(),employee1).save()\n",
    "def add_test_data_employee_2():\n",
    "    employee2 = Employee(1,\"Dennis\",\"Strik\").save()\n",
    "    address_employee2 = Address(1,10,\"Utrecht\",employee2).save()\n",
    "    payment_employee2 = Payment(1,1000,datetime.now(),employee2).save()\n",
    "    \n",
    "add_test_data_employee_1()\n",
    "add_test_data_employee_2()"
   ]
  },
  {
   "cell_type": "markdown",
   "metadata": {},
   "source": [
    "---\n",
    "\n",
    "Test data embedded\n",
    "\n",
    "---"
   ]
  },
  {
   "cell_type": "code",
   "execution_count": null,
   "metadata": {},
   "outputs": [],
   "source": [
    "def add_test_data_employee_1():\n",
    "    address_employee1 = Address(1,10,\"Rotterdam\")\n",
    "    \n",
    "    payment_employee1 = Payment(1,1000,datetime.now())\n",
    "    \n",
    "    employee1 = Employee(1,\"Pieter\",\"Lems\",\n",
    "                         payment_employee1,\n",
    "                         address_employee1).save()\n",
    "    \n",
    "def add_test_data_employee_2():    \n",
    "    address_employee2 = Address(2,10,\"Utrecht\")\n",
    "    \n",
    "    payment_employee2 = Payment(2,1000,datetime.now())\n",
    "    \n",
    "    employee2 = Employee(2,\"Dennis\",\"Strik\",\n",
    "                         payment_employee2,\n",
    "                         address_employee2).save()\n",
    "    \n",
    "\n",
    "add_test_data_employee_1()\n",
    "add_test_data_employee_2()\n",
    "    \n",
    "    "
   ]
  },
  {
   "cell_type": "markdown",
   "metadata": {},
   "source": [
    "---\n",
    "# Querying the data \n",
    "---\n"
   ]
  },
  {
   "cell_type": "code",
   "execution_count": 17,
   "metadata": {},
   "outputs": [
    {
     "data": {
      "text/plain": [
       "'[]'"
      ]
     },
     "execution_count": 17,
     "metadata": {},
     "output_type": "execute_result"
    }
   ],
   "source": [
    "Employee.objects(first_name__contains='D').to_json()\n",
    "Payment.objects(payment_amount__lte=10050).to_json()"
   ]
  },
  {
   "cell_type": "code",
   "execution_count": null,
   "metadata": {},
   "outputs": [],
   "source": [
    "Employee.objects.first().payments.to_json()"
   ]
  },
  {
   "cell_type": "code",
   "execution_count": null,
   "metadata": {},
   "outputs": [],
   "source": []
  }
 ],
 "metadata": {
  "kernelspec": {
   "display_name": "Python 3",
   "language": "python",
   "name": "python3"
  },
  "language_info": {
   "codemirror_mode": {
    "name": "ipython",
    "version": 3
   },
   "file_extension": ".py",
   "mimetype": "text/x-python",
   "name": "python",
   "nbconvert_exporter": "python",
   "pygments_lexer": "ipython3",
   "version": "3.6.8"
  }
 },
 "nbformat": 4,
 "nbformat_minor": 2
}
