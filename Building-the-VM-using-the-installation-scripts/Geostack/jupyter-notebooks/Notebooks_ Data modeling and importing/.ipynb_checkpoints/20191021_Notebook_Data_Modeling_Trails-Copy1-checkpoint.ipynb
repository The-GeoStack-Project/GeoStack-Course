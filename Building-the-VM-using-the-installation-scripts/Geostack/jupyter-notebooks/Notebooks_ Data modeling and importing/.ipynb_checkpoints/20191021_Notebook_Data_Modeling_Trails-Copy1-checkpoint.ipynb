{
 "cells": [
  {
   "cell_type": "markdown",
   "metadata": {},
   "source": [
    "---\n",
    "#  Data modeling, importing, Indexing and Querying GPX Datasets\n",
    "\n",
    "Date: 27-11-2019 <br>\n",
    "Concept version: 0.9 <br>\n",
    "Author: Pieter Lems  <br>\n",
    "\n",
    "© Copyright 2019 Ministerie van Defensie\n",
    "\n",
    "\n",
    "This notebook wil provide information relating to creating data models for MongoDB.\n",
    "To create the data models we are going to use Python and MongoEngine.\n",
    "\n",
    "The notebook also shows how to import the data into the mongoDB datastores.\n",
    "A python only script is also available in the utilities folder ('~/Geostack-local/utilties/import_datasets_mongo/') located in the Geostack virtual machine.\n",
    "\n",
    "\n",
    "## Contents of notebook\n",
    "\n",
    "- Importing the required modules\n",
    "- Reading the datasets\n",
    "- Validating the datasets\n",
    "- Connecting to the database\n",
    "  - Create Docker MongoDB database (if needed)\n",
    "  - Connect\n",
    "- Creating the model\n",
    "- Loading the data using the model\n",
    "  - Creating the import functions\n",
    "  - Load the data\n",
    "- Querying the data (pre-indexing)\n",
    "  - Indexing the data\n",
    "  - Querying the data (post-indexing)\n",
    "  \n",
    "### The data sets in used in this notebook can be found in the folder (\"../Data/Trail_JSON/\")\n",
    "\n",
    "\n",
    "\n",
    "   \n",
    "---"
   ]
  },
  {
   "cell_type": "markdown",
   "metadata": {},
   "source": [
    "---\n",
    "# Importing the required modules\n",
    "---"
   ]
  },
  {
   "cell_type": "code",
   "execution_count": 18,
   "metadata": {},
   "outputs": [],
   "source": [
    "import pandas as pd # Used to read the JSON datasets\n",
    "from mongoengine import * # Used to model, import and index the data in MongoDB \n",
    "from datetime import datetime #Used to transform timestamps in valid datetime"
   ]
  },
  {
   "cell_type": "markdown",
   "metadata": {},
   "source": [
    "## Reading the datasets"
   ]
  },
  {
   "cell_type": "code",
   "execution_count": 19,
   "metadata": {},
   "outputs": [],
   "source": [
    "B = pd.read_json('../Data/Trail_JSON/Trail_Biesbosch.json')\n",
    "BM = pd.read_json('../Data/Trail_JSON/Trail_BBMuseum.json')\n",
    "BH = pd.read_json('../Data/Trail_JSON/Trail_Biesbosch_Hank.json')\n",
    "ZC = pd.read_json('../Data/Trail_JSON/Trail_Camper_Zeeland.json')\n",
    "ZC2 = pd.read_json('../Data/Trail_JSON/Trail_ZeelandMNV.json')\n",
    "D = pd.read_json('../Data/Trail_JSON/Trail_Dikkenberg.json')\n",
    "DL = pd.read_json('../Data/Trail_JSON/Trail_Dikkenberg_Libellen.json')\n",
    "DN = pd.read_json('../Data/Trail_JSON/Trail_Dikkenberg_Nacht.json')\n",
    "H1 = pd.read_json('../Data/Trail_JSON/Trail_Hamert_1.json')\n",
    "H2 = pd.read_json('../Data/Trail_JSON/Trail_Hamert_2.json')\n",
    "HF = pd.read_json('../Data/Trail_JSON/Trail_Hamert_Fiets.json')\n",
    "HM = pd.read_json('../Data/Trail_JSON/Trail_Hamert_Maasduinen.json')\n",
    "NW = pd.read_json('../Data/Trail_JSON/Trail_Noordwaard.json')\n",
    "UR = pd.read_json('../Data/Trail_JSON/Trail_Urania.json')\n",
    "NZ = pd.read_json('../Data/Trail_JSON/Trail_Vaardag.json')"
   ]
  },
  {
   "cell_type": "markdown",
   "metadata": {},
   "source": [
    "\n",
    "## Validating the datasets\n",
    "\n",
    "to validate whether the correct datasets have been read, we should print the first row of each dataset.\n",
    "\n",
    "---\n"
   ]
  },
  {
   "cell_type": "code",
   "execution_count": 20,
   "metadata": {},
   "outputs": [
    {
     "data": {
      "text/html": [
       "<div>\n",
       "<style scoped>\n",
       "    .dataframe tbody tr th:only-of-type {\n",
       "        vertical-align: middle;\n",
       "    }\n",
       "\n",
       "    .dataframe tbody tr th {\n",
       "        vertical-align: top;\n",
       "    }\n",
       "\n",
       "    .dataframe thead th {\n",
       "        text-align: right;\n",
       "    }\n",
       "</style>\n",
       "<table border=\"1\" class=\"dataframe\">\n",
       "  <thead>\n",
       "    <tr style=\"text-align: right;\">\n",
       "      <th></th>\n",
       "      <th>lon</th>\n",
       "      <th>lat</th>\n",
       "      <th>alt</th>\n",
       "      <th>time</th>\n",
       "      <th>spd</th>\n",
       "      <th>avg_spd</th>\n",
       "    </tr>\n",
       "  </thead>\n",
       "  <tbody>\n",
       "    <tr>\n",
       "      <th>0</th>\n",
       "      <td>4.811173</td>\n",
       "      <td>51.706095</td>\n",
       "      <td>-61.87</td>\n",
       "      <td>1253964479000</td>\n",
       "      <td>14462.987891</td>\n",
       "      <td>33.903271</td>\n",
       "    </tr>\n",
       "  </tbody>\n",
       "</table>\n",
       "</div>"
      ],
      "text/plain": [
       "        lon        lat    alt           time           spd    avg_spd\n",
       "0  4.811173  51.706095 -61.87  1253964479000  14462.987891  33.903271"
      ]
     },
     "execution_count": 20,
     "metadata": {},
     "output_type": "execute_result"
    }
   ],
   "source": [
    "B[:1]"
   ]
  },
  {
   "cell_type": "code",
   "execution_count": 21,
   "metadata": {},
   "outputs": [
    {
     "data": {
      "text/html": [
       "<div>\n",
       "<style scoped>\n",
       "    .dataframe tbody tr th:only-of-type {\n",
       "        vertical-align: middle;\n",
       "    }\n",
       "\n",
       "    .dataframe tbody tr th {\n",
       "        vertical-align: top;\n",
       "    }\n",
       "\n",
       "    .dataframe thead th {\n",
       "        text-align: right;\n",
       "    }\n",
       "</style>\n",
       "<table border=\"1\" class=\"dataframe\">\n",
       "  <thead>\n",
       "    <tr style=\"text-align: right;\">\n",
       "      <th></th>\n",
       "      <th>lon</th>\n",
       "      <th>lat</th>\n",
       "      <th>alt</th>\n",
       "      <th>time</th>\n",
       "      <th>spd</th>\n",
       "      <th>avg_spd</th>\n",
       "    </tr>\n",
       "  </thead>\n",
       "  <tbody>\n",
       "    <tr>\n",
       "      <th>0</th>\n",
       "      <td>4.930237</td>\n",
       "      <td>51.793859</td>\n",
       "      <td>2.54</td>\n",
       "      <td>1266050897000</td>\n",
       "      <td>NaN</td>\n",
       "      <td>60.418469</td>\n",
       "    </tr>\n",
       "  </tbody>\n",
       "</table>\n",
       "</div>"
      ],
      "text/plain": [
       "        lon        lat   alt           time  spd    avg_spd\n",
       "0  4.930237  51.793859  2.54  1266050897000  NaN  60.418469"
      ]
     },
     "execution_count": 21,
     "metadata": {},
     "output_type": "execute_result"
    }
   ],
   "source": [
    "BM[:1]"
   ]
  },
  {
   "cell_type": "code",
   "execution_count": 22,
   "metadata": {
    "scrolled": true
   },
   "outputs": [
    {
     "data": {
      "text/html": [
       "<div>\n",
       "<style scoped>\n",
       "    .dataframe tbody tr th:only-of-type {\n",
       "        vertical-align: middle;\n",
       "    }\n",
       "\n",
       "    .dataframe tbody tr th {\n",
       "        vertical-align: top;\n",
       "    }\n",
       "\n",
       "    .dataframe thead th {\n",
       "        text-align: right;\n",
       "    }\n",
       "</style>\n",
       "<table border=\"1\" class=\"dataframe\">\n",
       "  <thead>\n",
       "    <tr style=\"text-align: right;\">\n",
       "      <th></th>\n",
       "      <th>lon</th>\n",
       "      <th>lat</th>\n",
       "      <th>alt</th>\n",
       "      <th>time</th>\n",
       "      <th>spd</th>\n",
       "      <th>avg_spd</th>\n",
       "    </tr>\n",
       "  </thead>\n",
       "  <tbody>\n",
       "    <tr>\n",
       "      <th>0</th>\n",
       "      <td>4.853199</td>\n",
       "      <td>51.734465</td>\n",
       "      <td>-4.19</td>\n",
       "      <td>1251634398000</td>\n",
       "      <td>11.789799</td>\n",
       "      <td>7.800167</td>\n",
       "    </tr>\n",
       "  </tbody>\n",
       "</table>\n",
       "</div>"
      ],
      "text/plain": [
       "        lon        lat   alt           time        spd   avg_spd\n",
       "0  4.853199  51.734465 -4.19  1251634398000  11.789799  7.800167"
      ]
     },
     "execution_count": 22,
     "metadata": {},
     "output_type": "execute_result"
    }
   ],
   "source": [
    "BH[:1]"
   ]
  },
  {
   "cell_type": "code",
   "execution_count": 23,
   "metadata": {},
   "outputs": [
    {
     "data": {
      "text/html": [
       "<div>\n",
       "<style scoped>\n",
       "    .dataframe tbody tr th:only-of-type {\n",
       "        vertical-align: middle;\n",
       "    }\n",
       "\n",
       "    .dataframe tbody tr th {\n",
       "        vertical-align: top;\n",
       "    }\n",
       "\n",
       "    .dataframe thead th {\n",
       "        text-align: right;\n",
       "    }\n",
       "</style>\n",
       "<table border=\"1\" class=\"dataframe\">\n",
       "  <thead>\n",
       "    <tr style=\"text-align: right;\">\n",
       "      <th></th>\n",
       "      <th>lon</th>\n",
       "      <th>lat</th>\n",
       "      <th>alt</th>\n",
       "      <th>time</th>\n",
       "      <th>spd</th>\n",
       "      <th>avg_spd</th>\n",
       "    </tr>\n",
       "  </thead>\n",
       "  <tbody>\n",
       "    <tr>\n",
       "      <th>0</th>\n",
       "      <td>4.708233</td>\n",
       "      <td>51.561372</td>\n",
       "      <td>-52.74</td>\n",
       "      <td>1331815367000</td>\n",
       "      <td>NaN</td>\n",
       "      <td>30.780869</td>\n",
       "    </tr>\n",
       "  </tbody>\n",
       "</table>\n",
       "</div>"
      ],
      "text/plain": [
       "        lon        lat    alt           time  spd    avg_spd\n",
       "0  4.708233  51.561372 -52.74  1331815367000  NaN  30.780869"
      ]
     },
     "execution_count": 23,
     "metadata": {},
     "output_type": "execute_result"
    }
   ],
   "source": [
    "ZC[:1]"
   ]
  },
  {
   "cell_type": "code",
   "execution_count": 24,
   "metadata": {},
   "outputs": [
    {
     "data": {
      "text/html": [
       "<div>\n",
       "<style scoped>\n",
       "    .dataframe tbody tr th:only-of-type {\n",
       "        vertical-align: middle;\n",
       "    }\n",
       "\n",
       "    .dataframe tbody tr th {\n",
       "        vertical-align: top;\n",
       "    }\n",
       "\n",
       "    .dataframe thead th {\n",
       "        text-align: right;\n",
       "    }\n",
       "</style>\n",
       "<table border=\"1\" class=\"dataframe\">\n",
       "  <thead>\n",
       "    <tr style=\"text-align: right;\">\n",
       "      <th></th>\n",
       "      <th>lon</th>\n",
       "      <th>lat</th>\n",
       "      <th>alt</th>\n",
       "      <th>time</th>\n",
       "      <th>spd</th>\n",
       "      <th>avg_spd</th>\n",
       "    </tr>\n",
       "  </thead>\n",
       "  <tbody>\n",
       "    <tr>\n",
       "      <th>0</th>\n",
       "      <td>4.70849</td>\n",
       "      <td>51.56133</td>\n",
       "      <td>-18.61</td>\n",
       "      <td>1295166887000</td>\n",
       "      <td>NaN</td>\n",
       "      <td>33.423545</td>\n",
       "    </tr>\n",
       "  </tbody>\n",
       "</table>\n",
       "</div>"
      ],
      "text/plain": [
       "       lon       lat    alt           time  spd    avg_spd\n",
       "0  4.70849  51.56133 -18.61  1295166887000  NaN  33.423545"
      ]
     },
     "execution_count": 24,
     "metadata": {},
     "output_type": "execute_result"
    }
   ],
   "source": [
    "ZC2[:1]"
   ]
  },
  {
   "cell_type": "code",
   "execution_count": 25,
   "metadata": {},
   "outputs": [
    {
     "data": {
      "text/html": [
       "<div>\n",
       "<style scoped>\n",
       "    .dataframe tbody tr th:only-of-type {\n",
       "        vertical-align: middle;\n",
       "    }\n",
       "\n",
       "    .dataframe tbody tr th {\n",
       "        vertical-align: top;\n",
       "    }\n",
       "\n",
       "    .dataframe thead th {\n",
       "        text-align: right;\n",
       "    }\n",
       "</style>\n",
       "<table border=\"1\" class=\"dataframe\">\n",
       "  <thead>\n",
       "    <tr style=\"text-align: right;\">\n",
       "      <th></th>\n",
       "      <th>lon</th>\n",
       "      <th>lat</th>\n",
       "      <th>alt</th>\n",
       "      <th>time</th>\n",
       "      <th>spd</th>\n",
       "      <th>avg_spd</th>\n",
       "    </tr>\n",
       "  </thead>\n",
       "  <tbody>\n",
       "    <tr>\n",
       "      <th>0</th>\n",
       "      <td>5.775827</td>\n",
       "      <td>50.833183</td>\n",
       "      <td>106.84</td>\n",
       "      <td>1337425073000</td>\n",
       "      <td>NaN</td>\n",
       "      <td>17.206357</td>\n",
       "    </tr>\n",
       "  </tbody>\n",
       "</table>\n",
       "</div>"
      ],
      "text/plain": [
       "        lon        lat     alt           time  spd    avg_spd\n",
       "0  5.775827  50.833183  106.84  1337425073000  NaN  17.206357"
      ]
     },
     "execution_count": 25,
     "metadata": {},
     "output_type": "execute_result"
    }
   ],
   "source": [
    "D[:1]"
   ]
  },
  {
   "cell_type": "code",
   "execution_count": 26,
   "metadata": {},
   "outputs": [
    {
     "data": {
      "text/html": [
       "<div>\n",
       "<style scoped>\n",
       "    .dataframe tbody tr th:only-of-type {\n",
       "        vertical-align: middle;\n",
       "    }\n",
       "\n",
       "    .dataframe tbody tr th {\n",
       "        vertical-align: top;\n",
       "    }\n",
       "\n",
       "    .dataframe thead th {\n",
       "        text-align: right;\n",
       "    }\n",
       "</style>\n",
       "<table border=\"1\" class=\"dataframe\">\n",
       "  <thead>\n",
       "    <tr style=\"text-align: right;\">\n",
       "      <th></th>\n",
       "      <th>lon</th>\n",
       "      <th>lat</th>\n",
       "      <th>alt</th>\n",
       "      <th>time</th>\n",
       "      <th>spd</th>\n",
       "      <th>avg_spd</th>\n",
       "    </tr>\n",
       "  </thead>\n",
       "  <tbody>\n",
       "    <tr>\n",
       "      <th>0</th>\n",
       "      <td>4.763983</td>\n",
       "      <td>51.807363</td>\n",
       "      <td>-128.68</td>\n",
       "      <td>1307098325000</td>\n",
       "      <td>153.649814</td>\n",
       "      <td>3.39741</td>\n",
       "    </tr>\n",
       "  </tbody>\n",
       "</table>\n",
       "</div>"
      ],
      "text/plain": [
       "        lon        lat     alt           time         spd  avg_spd\n",
       "0  4.763983  51.807363 -128.68  1307098325000  153.649814  3.39741"
      ]
     },
     "execution_count": 26,
     "metadata": {},
     "output_type": "execute_result"
    }
   ],
   "source": [
    "DL[:1]"
   ]
  },
  {
   "cell_type": "code",
   "execution_count": 27,
   "metadata": {},
   "outputs": [
    {
     "data": {
      "text/html": [
       "<div>\n",
       "<style scoped>\n",
       "    .dataframe tbody tr th:only-of-type {\n",
       "        vertical-align: middle;\n",
       "    }\n",
       "\n",
       "    .dataframe tbody tr th {\n",
       "        vertical-align: top;\n",
       "    }\n",
       "\n",
       "    .dataframe thead th {\n",
       "        text-align: right;\n",
       "    }\n",
       "</style>\n",
       "<table border=\"1\" class=\"dataframe\">\n",
       "  <thead>\n",
       "    <tr style=\"text-align: right;\">\n",
       "      <th></th>\n",
       "      <th>lon</th>\n",
       "      <th>lat</th>\n",
       "      <th>alt</th>\n",
       "      <th>time</th>\n",
       "      <th>spd</th>\n",
       "      <th>avg_spd</th>\n",
       "    </tr>\n",
       "  </thead>\n",
       "  <tbody>\n",
       "    <tr>\n",
       "      <th>0</th>\n",
       "      <td>6.161481</td>\n",
       "      <td>51.539598</td>\n",
       "      <td>23.21</td>\n",
       "      <td>1338651296000</td>\n",
       "      <td>NaN</td>\n",
       "      <td>1.449667</td>\n",
       "    </tr>\n",
       "  </tbody>\n",
       "</table>\n",
       "</div>"
      ],
      "text/plain": [
       "        lon        lat    alt           time  spd   avg_spd\n",
       "0  6.161481  51.539598  23.21  1338651296000  NaN  1.449667"
      ]
     },
     "execution_count": 27,
     "metadata": {},
     "output_type": "execute_result"
    }
   ],
   "source": [
    "DN[:1]"
   ]
  },
  {
   "cell_type": "code",
   "execution_count": 28,
   "metadata": {},
   "outputs": [
    {
     "data": {
      "text/html": [
       "<div>\n",
       "<style scoped>\n",
       "    .dataframe tbody tr th:only-of-type {\n",
       "        vertical-align: middle;\n",
       "    }\n",
       "\n",
       "    .dataframe tbody tr th {\n",
       "        vertical-align: top;\n",
       "    }\n",
       "\n",
       "    .dataframe thead th {\n",
       "        text-align: right;\n",
       "    }\n",
       "</style>\n",
       "<table border=\"1\" class=\"dataframe\">\n",
       "  <thead>\n",
       "    <tr style=\"text-align: right;\">\n",
       "      <th></th>\n",
       "      <th>lon</th>\n",
       "      <th>lat</th>\n",
       "      <th>alt</th>\n",
       "      <th>time</th>\n",
       "      <th>spd</th>\n",
       "      <th>avg_spd</th>\n",
       "    </tr>\n",
       "  </thead>\n",
       "  <tbody>\n",
       "    <tr>\n",
       "      <th>0</th>\n",
       "      <td>6.1697</td>\n",
       "      <td>51.507837</td>\n",
       "      <td>6.87</td>\n",
       "      <td>1286777502000</td>\n",
       "      <td>91113.897474</td>\n",
       "      <td>24.92685</td>\n",
       "    </tr>\n",
       "  </tbody>\n",
       "</table>\n",
       "</div>"
      ],
      "text/plain": [
       "      lon        lat   alt           time           spd   avg_spd\n",
       "0  6.1697  51.507837  6.87  1286777502000  91113.897474  24.92685"
      ]
     },
     "execution_count": 28,
     "metadata": {},
     "output_type": "execute_result"
    }
   ],
   "source": [
    "H1[:1]"
   ]
  },
  {
   "cell_type": "code",
   "execution_count": 29,
   "metadata": {},
   "outputs": [
    {
     "data": {
      "text/html": [
       "<div>\n",
       "<style scoped>\n",
       "    .dataframe tbody tr th:only-of-type {\n",
       "        vertical-align: middle;\n",
       "    }\n",
       "\n",
       "    .dataframe tbody tr th {\n",
       "        vertical-align: top;\n",
       "    }\n",
       "\n",
       "    .dataframe thead th {\n",
       "        text-align: right;\n",
       "    }\n",
       "</style>\n",
       "<table border=\"1\" class=\"dataframe\">\n",
       "  <thead>\n",
       "    <tr style=\"text-align: right;\">\n",
       "      <th></th>\n",
       "      <th>lon</th>\n",
       "      <th>lat</th>\n",
       "      <th>alt</th>\n",
       "      <th>time</th>\n",
       "      <th>spd</th>\n",
       "      <th>avg_spd</th>\n",
       "    </tr>\n",
       "  </thead>\n",
       "  <tbody>\n",
       "    <tr>\n",
       "      <th>0</th>\n",
       "      <td>6.169716</td>\n",
       "      <td>51.507793</td>\n",
       "      <td>8.31</td>\n",
       "      <td>1252341145000</td>\n",
       "      <td>NaN</td>\n",
       "      <td>0.018189</td>\n",
       "    </tr>\n",
       "  </tbody>\n",
       "</table>\n",
       "</div>"
      ],
      "text/plain": [
       "        lon        lat   alt           time  spd   avg_spd\n",
       "0  6.169716  51.507793  8.31  1252341145000  NaN  0.018189"
      ]
     },
     "execution_count": 29,
     "metadata": {},
     "output_type": "execute_result"
    }
   ],
   "source": [
    "H2[:1]"
   ]
  },
  {
   "cell_type": "code",
   "execution_count": 30,
   "metadata": {},
   "outputs": [
    {
     "data": {
      "text/html": [
       "<div>\n",
       "<style scoped>\n",
       "    .dataframe tbody tr th:only-of-type {\n",
       "        vertical-align: middle;\n",
       "    }\n",
       "\n",
       "    .dataframe tbody tr th {\n",
       "        vertical-align: top;\n",
       "    }\n",
       "\n",
       "    .dataframe thead th {\n",
       "        text-align: right;\n",
       "    }\n",
       "</style>\n",
       "<table border=\"1\" class=\"dataframe\">\n",
       "  <thead>\n",
       "    <tr style=\"text-align: right;\">\n",
       "      <th></th>\n",
       "      <th>lon</th>\n",
       "      <th>lat</th>\n",
       "      <th>alt</th>\n",
       "      <th>time</th>\n",
       "      <th>spd</th>\n",
       "      <th>avg_spd</th>\n",
       "    </tr>\n",
       "  </thead>\n",
       "  <tbody>\n",
       "    <tr>\n",
       "      <th>0</th>\n",
       "      <td>6.170593</td>\n",
       "      <td>51.507754</td>\n",
       "      <td>25.61</td>\n",
       "      <td>1256478738000</td>\n",
       "      <td>NaN</td>\n",
       "      <td>4.710238</td>\n",
       "    </tr>\n",
       "  </tbody>\n",
       "</table>\n",
       "</div>"
      ],
      "text/plain": [
       "        lon        lat    alt           time  spd   avg_spd\n",
       "0  6.170593  51.507754  25.61  1256478738000  NaN  4.710238"
      ]
     },
     "execution_count": 30,
     "metadata": {},
     "output_type": "execute_result"
    }
   ],
   "source": [
    "HF[:1]"
   ]
  },
  {
   "cell_type": "code",
   "execution_count": 31,
   "metadata": {},
   "outputs": [
    {
     "data": {
      "text/html": [
       "<div>\n",
       "<style scoped>\n",
       "    .dataframe tbody tr th:only-of-type {\n",
       "        vertical-align: middle;\n",
       "    }\n",
       "\n",
       "    .dataframe tbody tr th {\n",
       "        vertical-align: top;\n",
       "    }\n",
       "\n",
       "    .dataframe thead th {\n",
       "        text-align: right;\n",
       "    }\n",
       "</style>\n",
       "<table border=\"1\" class=\"dataframe\">\n",
       "  <thead>\n",
       "    <tr style=\"text-align: right;\">\n",
       "      <th></th>\n",
       "      <th>lon</th>\n",
       "      <th>lat</th>\n",
       "      <th>alt</th>\n",
       "      <th>time</th>\n",
       "      <th>spd</th>\n",
       "      <th>avg_spd</th>\n",
       "    </tr>\n",
       "  </thead>\n",
       "  <tbody>\n",
       "    <tr>\n",
       "      <th>0</th>\n",
       "      <td>6.169669</td>\n",
       "      <td>51.507777</td>\n",
       "      <td>8.79</td>\n",
       "      <td>1252323219000</td>\n",
       "      <td>0.495573</td>\n",
       "      <td>0.530961</td>\n",
       "    </tr>\n",
       "  </tbody>\n",
       "</table>\n",
       "</div>"
      ],
      "text/plain": [
       "        lon        lat   alt           time       spd   avg_spd\n",
       "0  6.169669  51.507777  8.79  1252323219000  0.495573  0.530961"
      ]
     },
     "execution_count": 31,
     "metadata": {},
     "output_type": "execute_result"
    }
   ],
   "source": [
    "HM[:1]"
   ]
  },
  {
   "cell_type": "code",
   "execution_count": 32,
   "metadata": {},
   "outputs": [
    {
     "data": {
      "text/html": [
       "<div>\n",
       "<style scoped>\n",
       "    .dataframe tbody tr th:only-of-type {\n",
       "        vertical-align: middle;\n",
       "    }\n",
       "\n",
       "    .dataframe tbody tr th {\n",
       "        vertical-align: top;\n",
       "    }\n",
       "\n",
       "    .dataframe thead th {\n",
       "        text-align: right;\n",
       "    }\n",
       "</style>\n",
       "<table border=\"1\" class=\"dataframe\">\n",
       "  <thead>\n",
       "    <tr style=\"text-align: right;\">\n",
       "      <th></th>\n",
       "      <th>lon</th>\n",
       "      <th>lat</th>\n",
       "      <th>alt</th>\n",
       "      <th>time</th>\n",
       "      <th>spd</th>\n",
       "      <th>avg_spd</th>\n",
       "    </tr>\n",
       "  </thead>\n",
       "  <tbody>\n",
       "    <tr>\n",
       "      <th>0</th>\n",
       "      <td>4.77098</td>\n",
       "      <td>51.767206</td>\n",
       "      <td>5.91</td>\n",
       "      <td>1266060683000</td>\n",
       "      <td>NaN</td>\n",
       "      <td>69.314603</td>\n",
       "    </tr>\n",
       "  </tbody>\n",
       "</table>\n",
       "</div>"
      ],
      "text/plain": [
       "       lon        lat   alt           time  spd    avg_spd\n",
       "0  4.77098  51.767206  5.91  1266060683000  NaN  69.314603"
      ]
     },
     "execution_count": 32,
     "metadata": {},
     "output_type": "execute_result"
    }
   ],
   "source": [
    "NW[:1]"
   ]
  },
  {
   "cell_type": "code",
   "execution_count": 33,
   "metadata": {},
   "outputs": [
    {
     "data": {
      "text/html": [
       "<div>\n",
       "<style scoped>\n",
       "    .dataframe tbody tr th:only-of-type {\n",
       "        vertical-align: middle;\n",
       "    }\n",
       "\n",
       "    .dataframe tbody tr th {\n",
       "        vertical-align: top;\n",
       "    }\n",
       "\n",
       "    .dataframe thead th {\n",
       "        text-align: right;\n",
       "    }\n",
       "</style>\n",
       "<table border=\"1\" class=\"dataframe\">\n",
       "  <thead>\n",
       "    <tr style=\"text-align: right;\">\n",
       "      <th></th>\n",
       "      <th>lon</th>\n",
       "      <th>lat</th>\n",
       "      <th>alt</th>\n",
       "      <th>time</th>\n",
       "      <th>spd</th>\n",
       "      <th>avg_spd</th>\n",
       "    </tr>\n",
       "  </thead>\n",
       "  <tbody>\n",
       "    <tr>\n",
       "      <th>0</th>\n",
       "      <td>5.285481</td>\n",
       "      <td>52.699478</td>\n",
       "      <td>10.23</td>\n",
       "      <td>1254381845000</td>\n",
       "      <td>NaN</td>\n",
       "      <td>10.471414</td>\n",
       "    </tr>\n",
       "  </tbody>\n",
       "</table>\n",
       "</div>"
      ],
      "text/plain": [
       "        lon        lat    alt           time  spd    avg_spd\n",
       "0  5.285481  52.699478  10.23  1254381845000  NaN  10.471414"
      ]
     },
     "execution_count": 33,
     "metadata": {},
     "output_type": "execute_result"
    }
   ],
   "source": [
    "UR[:1]"
   ]
  },
  {
   "cell_type": "code",
   "execution_count": 34,
   "metadata": {},
   "outputs": [
    {
     "data": {
      "text/html": [
       "<div>\n",
       "<style scoped>\n",
       "    .dataframe tbody tr th:only-of-type {\n",
       "        vertical-align: middle;\n",
       "    }\n",
       "\n",
       "    .dataframe tbody tr th {\n",
       "        vertical-align: top;\n",
       "    }\n",
       "\n",
       "    .dataframe thead th {\n",
       "        text-align: right;\n",
       "    }\n",
       "</style>\n",
       "<table border=\"1\" class=\"dataframe\">\n",
       "  <thead>\n",
       "    <tr style=\"text-align: right;\">\n",
       "      <th></th>\n",
       "      <th>lon</th>\n",
       "      <th>lat</th>\n",
       "      <th>alt</th>\n",
       "      <th>time</th>\n",
       "      <th>spd</th>\n",
       "      <th>avg_spd</th>\n",
       "    </tr>\n",
       "  </thead>\n",
       "  <tbody>\n",
       "    <tr>\n",
       "      <th>0</th>\n",
       "      <td>4.787559</td>\n",
       "      <td>52.954391</td>\n",
       "      <td>-14.28</td>\n",
       "      <td>1245830075000</td>\n",
       "      <td>11.951059</td>\n",
       "      <td>13.568662</td>\n",
       "    </tr>\n",
       "  </tbody>\n",
       "</table>\n",
       "</div>"
      ],
      "text/plain": [
       "        lon        lat    alt           time        spd    avg_spd\n",
       "0  4.787559  52.954391 -14.28  1245830075000  11.951059  13.568662"
      ]
     },
     "execution_count": 34,
     "metadata": {},
     "output_type": "execute_result"
    }
   ],
   "source": [
    "NZ[:1]"
   ]
  },
  {
   "cell_type": "markdown",
   "metadata": {},
   "source": [
    "## Connecting to the database"
   ]
  },
  {
   "cell_type": "markdown",
   "metadata": {},
   "source": [
    "#### Create Docker container"
   ]
  },
  {
   "cell_type": "code",
   "execution_count": 35,
   "metadata": {},
   "outputs": [],
   "source": [
    "# Uncomment the next line if you dont have a mongoDB docker container\n",
    "# and you want to import the data in a docker container\n",
    "#docker run -d -p 27017:27017 mongo:latest # Download mongodb image and run the container on port 27017 (localhost:27017)"
   ]
  },
  {
   "cell_type": "markdown",
   "metadata": {},
   "source": [
    "#### Connect"
   ]
  },
  {
   "cell_type": "code",
   "execution_count": 36,
   "metadata": {},
   "outputs": [
    {
     "data": {
      "text/plain": [
       "MongoClient(host=['localhost:27017'], document_class=dict, tz_aware=False, connect=True, read_preference=Primary())"
      ]
     },
     "execution_count": 36,
     "metadata": {},
     "output_type": "execute_result"
    }
   ],
   "source": [
    "connect('Trail_Database')"
   ]
  },
  {
   "cell_type": "markdown",
   "metadata": {},
   "source": [
    "---\n",
    "\n",
    "# Creating the model\n",
    "\n",
    "---"
   ]
  },
  {
   "cell_type": "code",
   "execution_count": 37,
   "metadata": {},
   "outputs": [],
   "source": [
    "class Trail(Document):\n",
    "    \n",
    "    # Name of the Trail \n",
    "    name = StringField()\n",
    "\n",
    "    # Abreviation of the Name\n",
    "    abr = StringField()\n",
    "    \n",
    "    # Start date\n",
    "    s_date= DateTimeField()\n",
    "    \n",
    "    # End date\n",
    "    e_date = DateTimeField()\n",
    "    \n",
    "    # Trail type (Biking,Hiking,Driving,Sailing )\n",
    "    r_type = StringField() \n",
    "\n",
    "    # Amount of trackpoints in the dataset\n",
    "    t_points = IntField()\n",
    "\n",
    "    # The Average Speed of the route\n",
    "    avg_speed = FloatField()\n",
    "\n",
    "\n",
    "class Geometry(EmbeddedDocument):\n",
    " \n",
    "    # coordinates of transmission coord=[1,2]\n",
    "    coord = PointField()\n",
    "    \n",
    "    # altitude of tansmission\n",
    "    alt = FloatField()\n",
    "\n",
    "\n",
    "class Speed(EmbeddedDocument):\n",
    "    \n",
    "    # Speed field\n",
    "    spd = FloatField()\n",
    "    \n",
    "\n",
    "class Signal(Document):\n",
    "    \n",
    "    # Timestamp of transmission\n",
    "    time = DateTimeField()\n",
    "    \n",
    "    # Geometry of transmission\n",
    "    geometry = EmbeddedDocumentField(Geometry)\n",
    "    \n",
    "    # Speed at time of transmission\n",
    "    speed = EmbeddedDocumentField(Speed)\n",
    "    \n",
    "    # Reference to the route of transmission\n",
    "    trail = ReferenceField(Trail)"
   ]
  },
  {
   "cell_type": "markdown",
   "metadata": {},
   "source": [
    "---\n",
    "\n",
    "# Loading the data using the model\n",
    "---"
   ]
  },
  {
   "cell_type": "markdown",
   "metadata": {},
   "source": [
    "## Creating the import functions¶"
   ]
  },
  {
   "cell_type": "code",
   "execution_count": 38,
   "metadata": {},
   "outputs": [],
   "source": [
    "def load_data(df,name,abreviation,type):\n",
    "    \n",
    "    # Get the time of the first column\n",
    "    # /1000 to remove utc info\n",
    "    s_date = datetime.fromtimestamp((df.at[0,'time']/1000))\n",
    "    \n",
    "    # Get the time of the last column\n",
    "    # dataframe at location [index lenght data frame -1, column name]\n",
    "    # /1000 to remove utc info\n",
    "    e_date = datetime.fromtimestamp((df.at[len(df.index)-1,'time']/1000))\n",
    "    \n",
    "    t_points = df.shape[0]\n",
    "    \n",
    "\n",
    "    #Create the trial document\n",
    "    trail = Trail(name = name,\n",
    "                  s_date = s_date,\n",
    "                  e_date = e_date,\n",
    "                  abr = abreviation,\n",
    "                  r_type = type,\n",
    "                  t_points = t_points)\n",
    "    trail.save()\n",
    "\n",
    "    # Create an empty list of signals\n",
    "    # We will append the new signals to \n",
    "    # this list. Then we will pass the list to \n",
    "    # the mongodb bulk insert feature\n",
    "    signals = []\n",
    "    \n",
    "    \n",
    "    # Itterate trough all rows in dataframe\n",
    "    for index,row in df.iterrows():\n",
    "        \n",
    "        # Convert the datetime to a valid format\n",
    "        time = datetime.fromtimestamp(row['time']/1000)\n",
    "        \n",
    "        # Create the geometry document\n",
    "        geometry = Geometry(coord = [row['lon'],row['lat']], \n",
    "                            alt = row['alt'])\n",
    "        \n",
    "        # Create the speed document\n",
    "        # Make sure null values are inserted as 0\n",
    "        if str(row['spd'])== 'nan':\n",
    "            speed = Speed(spd = 0)\n",
    "        else:\n",
    "            speed = Speed(spd = row['spd'])\n",
    "        \n",
    "        singal = Signal(time = time,\n",
    "                        geometry = geometry,\n",
    "                        trail = trail)\n",
    "    \n",
    "        # Create the Signal document\n",
    "        signals.append(singal)\n",
    "\n",
    "    Signal.objects.insert(signals,load_bulk=True)\n",
    "\n",
    "    print(\"Inserted \" + str(len(df.index))+\" trackpoints from dataset: \" + str(name))"
   ]
  },
  {
   "cell_type": "markdown",
   "metadata": {},
   "source": [
    "## Loading the data"
   ]
  },
  {
   "cell_type": "code",
   "execution_count": 39,
   "metadata": {},
   "outputs": [
    {
     "name": "stdout",
     "output_type": "stream",
     "text": [
      "Inserted 739 trackpoints from dataset: Biesbosch\n",
      "Inserted 124 trackpoints from dataset: Biesbosch Museum\n",
      "Inserted 531 trackpoints from dataset: Biesbosch Hank\n",
      "Inserted 1278 trackpoints from dataset: Zeeland Camper\n",
      "Inserted 2282 trackpoints from dataset: Zeeland Camper 2\n",
      "Inserted 1724 trackpoints from dataset: Dikkenberg\n",
      "Inserted 493 trackpoints from dataset: Dikkenberg Libellen\n",
      "Inserted 224 trackpoints from dataset: Dikkenberg Nacht\n",
      "Inserted 929 trackpoints from dataset: Hamert 1\n",
      "Inserted 1487 trackpoints from dataset: Hamert 2\n",
      "Inserted 422 trackpoints from dataset: Hamert Fiets\n",
      "Inserted 1882 trackpoints from dataset: Hamert Maasduinen\n",
      "Inserted 327 trackpoints from dataset: Noordwaard\n",
      "Inserted 1978 trackpoints from dataset: Urania\n",
      "Inserted 1535 trackpoints from dataset: Noordzee\n"
     ]
    }
   ],
   "source": [
    "load_data(B,'Biesbosch','B','Hiking')\n",
    "load_data(BM,\"Biesbosch Museum\",'BM',\"Driving\")\n",
    "load_data(BH,\"Biesbosch Hank\",'BH',\"Sailing\")\n",
    "load_data(ZC,\"Zeeland Camper\",'ZC',\"Driving\")\n",
    "load_data(ZC2,\"Zeeland Camper 2\",'ZC2',\"Driving\")\n",
    "load_data(D,\"Dikkenberg\",'D',\"Hiking\")\n",
    "load_data(DL,\"Dikkenberg Libellen\",'DL',\"Hiking\")\n",
    "load_data(DN,\"Dikkenberg Nacht\",'DN',\"Hiking\")\n",
    "load_data(H1,\"Hamert 1\",'H1',\"Hiking\")\n",
    "load_data(H2,\"Hamert 2\",'H2',\"Hiking\")\n",
    "load_data(HF,\"Hamert Fiets\",'HF',\"Biking\")\n",
    "load_data(HM,\"Hamert Maasduinen\",'HM',\"Hiking\")\n",
    "load_data(NW,\"Noordwaard\",'NW',\"Hiking\")\n",
    "load_data(UR,\"Urania\",'UR',\"Hiking\")\n",
    "load_data(NZ,\"Noordzee\",'NZ',\"Sailing\")"
   ]
  },
  {
   "cell_type": "markdown",
   "metadata": {},
   "source": [
    "---\n",
    "# Querying the data pre-index\n",
    "\n",
    "First we will run a couple of queries before we create the indexes on the database. By doing this, we can compare the time it takes to return a certain amount of data with and without an indexed database.\n",
    "\n",
    "To find information related to the execution of the query add .explain() behind the query\n",
    "\n",
    "---"
   ]
  },
  {
   "cell_type": "code",
   "execution_count": 41,
   "metadata": {},
   "outputs": [
    {
     "data": {
      "text/plain": [
       "'[{\"_id\": {\"$oid\": \"5e1db4c3a602d099584a91cb\"}, \"name\": \"Biesbosch\"}]'"
      ]
     },
     "execution_count": 41,
     "metadata": {},
     "output_type": "execute_result"
    }
   ],
   "source": [
    "#Query to find ID of the trail : Biesbosch\n",
    "Trail.objects(name = 'Biesbosch').only('name','id').to_json()\n"
   ]
  },
  {
   "cell_type": "code",
   "execution_count": 42,
   "metadata": {},
   "outputs": [
    {
     "data": {
      "text/plain": [
       "{'queryPlanner': {'plannerVersion': 1,\n",
       "  'namespace': 'Trail_Database.signal',\n",
       "  'indexFilterSet': False,\n",
       "  'parsedQuery': {'trail': {'$eq': ObjectId('5e1db4c3a602d099584a91cb')}},\n",
       "  'winningPlan': {'stage': 'COLLSCAN',\n",
       "   'filter': {'trail': {'$eq': ObjectId('5e1db4c3a602d099584a91cb')}},\n",
       "   'direction': 'forward'},\n",
       "  'rejectedPlans': []},\n",
       " 'executionStats': {'executionSuccess': True,\n",
       "  'nReturned': 739,\n",
       "  'executionTimeMillis': 10,\n",
       "  'totalKeysExamined': 0,\n",
       "  'totalDocsExamined': 15955,\n",
       "  'executionStages': {'stage': 'COLLSCAN',\n",
       "   'filter': {'trail': {'$eq': ObjectId('5e1db4c3a602d099584a91cb')}},\n",
       "   'nReturned': 739,\n",
       "   'executionTimeMillisEstimate': 10,\n",
       "   'works': 15957,\n",
       "   'advanced': 739,\n",
       "   'needTime': 15217,\n",
       "   'needYield': 0,\n",
       "   'saveState': 124,\n",
       "   'restoreState': 124,\n",
       "   'isEOF': 1,\n",
       "   'invalidates': 0,\n",
       "   'direction': 'forward',\n",
       "   'docsExamined': 15955},\n",
       "  'allPlansExecution': []},\n",
       " 'serverInfo': {'host': 'geostack-system',\n",
       "  'port': 27017,\n",
       "  'version': '3.6.3',\n",
       "  'gitVersion': '9586e557d54ef70f9ca4b43c26892cd55257e1a5'},\n",
       " 'ok': 1.0}"
      ]
     },
     "execution_count": 42,
     "metadata": {},
     "output_type": "execute_result"
    }
   ],
   "source": [
    "#Query to return al items related to Trial: Biesbosch\n",
    "Signal.objects(trail='5e1db4c3a602d099584a91cb').explain()"
   ]
  },
  {
   "cell_type": "markdown",
   "metadata": {},
   "source": [
    "It took 15 miliseconds to return 739 results using a COLLSCAN (Collection scan)"
   ]
  },
  {
   "cell_type": "code",
   "execution_count": 43,
   "metadata": {},
   "outputs": [
    {
     "data": {
      "text/plain": [
       "{'queryPlanner': {'plannerVersion': 1,\n",
       "  'namespace': 'Trail_Database.signal',\n",
       "  'indexFilterSet': False,\n",
       "  'parsedQuery': {'$and': [{'trail': {'$eq': ObjectId('5e1db4c3a602d099584a91cb')}},\n",
       "    {'time': {'$lte': datetime.datetime(2009, 9, 27, 0, 0)}},\n",
       "    {'time': {'$gte': datetime.datetime(2008, 8, 26, 0, 0)}}]},\n",
       "  'winningPlan': {'stage': 'COLLSCAN',\n",
       "   'filter': {'$and': [{'trail': {'$eq': ObjectId('5e1db4c3a602d099584a91cb')}},\n",
       "     {'time': {'$lte': datetime.datetime(2009, 9, 27, 0, 0)}},\n",
       "     {'time': {'$gte': datetime.datetime(2008, 8, 26, 0, 0)}}]},\n",
       "   'direction': 'forward'},\n",
       "  'rejectedPlans': []},\n",
       " 'executionStats': {'executionSuccess': True,\n",
       "  'nReturned': 739,\n",
       "  'executionTimeMillis': 10,\n",
       "  'totalKeysExamined': 0,\n",
       "  'totalDocsExamined': 15955,\n",
       "  'executionStages': {'stage': 'COLLSCAN',\n",
       "   'filter': {'$and': [{'trail': {'$eq': ObjectId('5e1db4c3a602d099584a91cb')}},\n",
       "     {'time': {'$lte': datetime.datetime(2009, 9, 27, 0, 0)}},\n",
       "     {'time': {'$gte': datetime.datetime(2008, 8, 26, 0, 0)}}]},\n",
       "   'nReturned': 739,\n",
       "   'executionTimeMillisEstimate': 10,\n",
       "   'works': 15957,\n",
       "   'advanced': 739,\n",
       "   'needTime': 15217,\n",
       "   'needYield': 0,\n",
       "   'saveState': 124,\n",
       "   'restoreState': 124,\n",
       "   'isEOF': 1,\n",
       "   'invalidates': 0,\n",
       "   'direction': 'forward',\n",
       "   'docsExamined': 15955},\n",
       "  'allPlansExecution': []},\n",
       " 'serverInfo': {'host': 'geostack-system',\n",
       "  'port': 27017,\n",
       "  'version': '3.6.3',\n",
       "  'gitVersion': '9586e557d54ef70f9ca4b43c26892cd55257e1a5'},\n",
       " 'ok': 1.0}"
      ]
     },
     "execution_count": 43,
     "metadata": {},
     "output_type": "execute_result"
    }
   ],
   "source": [
    "#Query to return al items related to Crane: Lotta, between 2008-08-26 and 2009-9-27\n",
    "Signal.objects(Q(trail='5e1db4c3a602d099584a91cb')&\n",
    "                     Q(time__gte=datetime(2008,8,26)) &\n",
    "                     Q(time__lte=datetime(2009,9,27))).explain()"
   ]
  },
  {
   "cell_type": "markdown",
   "metadata": {},
   "source": [
    "It took 16 miliseconds to return 739 results using a COLLSCAN (Collection scan)"
   ]
  },
  {
   "cell_type": "markdown",
   "metadata": {},
   "source": [
    "# Indexing the database\n",
    "\n",
    "there are 3 ways to create indexes.\n",
    "\n",
    "   - Create indexes when creating the model To create an index using mongo engine, we have to add metadata to the to the datamodel. So when using mongoengine you have to create the indexes before loading the data. For example: If we want to create an index on the altitude field while creating the model. we add the following to our geometry document:\n",
    "\n",
    "    meta = {\n",
    "    'collection': 'alt',\n",
    "    'indexes': [\n",
    "\n",
    "    {'fields': ['alt']}\n",
    "\n",
    "    ] }\n",
    "\n",
    "   - Create indexes after creating the model We can also create the indexes after we created the datamodel. We are going to use this way to create indexes below. For example: if we want to create an index on the altitude field after creating the data model we would run the following command:\n",
    "    Transmission.create_index((\"geometry.alt\"))\n",
    "\n",
    "   - Create indexes using pymongo\n",
    "    add 2d index to coord field db.signals.ensureIndex({\"geometry.coord.coordinates\":\"2d\"});\n",
    "\n",
    "We want to create 4 indexes\n",
    "\n",
    "   - 2D Sphere index This index will be used to query the coordinates of the trackpoit (This was automaticly done when assiging PointField() to the coordinates entry, when creating the database model)\n",
    "    2D index We need this index to be able to find coordinates in a cetrain box\n",
    "   - time index We need this index because we will query on the time a lot of times\n",
    "   - trail index (in the signal collection) We need this index because we will query to find signals per trail using the trail\n",
    "\n"
   ]
  },
  {
   "cell_type": "code",
   "execution_count": 44,
   "metadata": {},
   "outputs": [
    {
     "data": {
      "text/plain": [
       "'trail_1'"
      ]
     },
     "execution_count": 44,
     "metadata": {},
     "output_type": "execute_result"
    }
   ],
   "source": [
    "# Create an index on the trail reference field in the signal collection\n",
    "Signal.create_index((\"trail\"))\n"
   ]
  },
  {
   "cell_type": "code",
   "execution_count": 45,
   "metadata": {},
   "outputs": [
    {
     "data": {
      "text/plain": [
       "'time_1'"
      ]
     },
     "execution_count": 45,
     "metadata": {},
     "output_type": "execute_result"
    }
   ],
   "source": [
    "# Create an index on the time field in the signal collection\n",
    "Signal.create_index((\"time\"))\n",
    "\n"
   ]
  },
  {
   "cell_type": "code",
   "execution_count": 46,
   "metadata": {},
   "outputs": [
    {
     "data": {
      "text/plain": [
       "'geometry.coord_1'"
      ]
     },
     "execution_count": 46,
     "metadata": {},
     "output_type": "execute_result"
    }
   ],
   "source": [
    "# Create an index on the coordinates field in the transmission collection\n",
    "Signal.create_index((\"geometry.coord\"))\n",
    "\n"
   ]
  },
  {
   "cell_type": "markdown",
   "metadata": {},
   "source": [
    "---\n",
    "# Querying the data post-index¶\n",
    "---"
   ]
  },
  {
   "cell_type": "code",
   "execution_count": 47,
   "metadata": {
    "scrolled": true
   },
   "outputs": [
    {
     "data": {
      "text/plain": [
       "{'queryPlanner': {'plannerVersion': 1,\n",
       "  'namespace': 'Trail_Database.signal',\n",
       "  'indexFilterSet': False,\n",
       "  'parsedQuery': {'trail': {'$eq': ObjectId('5e1db4c3a602d099584a91cb')}},\n",
       "  'winningPlan': {'stage': 'FETCH',\n",
       "   'inputStage': {'stage': 'IXSCAN',\n",
       "    'keyPattern': {'trail': 1},\n",
       "    'indexName': 'trail_1',\n",
       "    'isMultiKey': False,\n",
       "    'multiKeyPaths': {'trail': []},\n",
       "    'isUnique': False,\n",
       "    'isSparse': False,\n",
       "    'isPartial': False,\n",
       "    'indexVersion': 2,\n",
       "    'direction': 'forward',\n",
       "    'indexBounds': {'trail': [\"[ObjectId('5e1db4c3a602d099584a91cb'), ObjectId('5e1db4c3a602d099584a91cb')]\"]}}},\n",
       "  'rejectedPlans': []},\n",
       " 'executionStats': {'executionSuccess': True,\n",
       "  'nReturned': 739,\n",
       "  'executionTimeMillis': 2,\n",
       "  'totalKeysExamined': 739,\n",
       "  'totalDocsExamined': 739,\n",
       "  'executionStages': {'stage': 'FETCH',\n",
       "   'nReturned': 739,\n",
       "   'executionTimeMillisEstimate': 0,\n",
       "   'works': 740,\n",
       "   'advanced': 739,\n",
       "   'needTime': 0,\n",
       "   'needYield': 0,\n",
       "   'saveState': 5,\n",
       "   'restoreState': 5,\n",
       "   'isEOF': 1,\n",
       "   'invalidates': 0,\n",
       "   'docsExamined': 739,\n",
       "   'alreadyHasObj': 0,\n",
       "   'inputStage': {'stage': 'IXSCAN',\n",
       "    'nReturned': 739,\n",
       "    'executionTimeMillisEstimate': 0,\n",
       "    'works': 740,\n",
       "    'advanced': 739,\n",
       "    'needTime': 0,\n",
       "    'needYield': 0,\n",
       "    'saveState': 5,\n",
       "    'restoreState': 5,\n",
       "    'isEOF': 1,\n",
       "    'invalidates': 0,\n",
       "    'keyPattern': {'trail': 1},\n",
       "    'indexName': 'trail_1',\n",
       "    'isMultiKey': False,\n",
       "    'multiKeyPaths': {'trail': []},\n",
       "    'isUnique': False,\n",
       "    'isSparse': False,\n",
       "    'isPartial': False,\n",
       "    'indexVersion': 2,\n",
       "    'direction': 'forward',\n",
       "    'indexBounds': {'trail': [\"[ObjectId('5e1db4c3a602d099584a91cb'), ObjectId('5e1db4c3a602d099584a91cb')]\"]},\n",
       "    'keysExamined': 739,\n",
       "    'seeks': 1,\n",
       "    'dupsTested': 0,\n",
       "    'dupsDropped': 0,\n",
       "    'seenInvalidated': 0}},\n",
       "  'allPlansExecution': []},\n",
       " 'serverInfo': {'host': 'geostack-system',\n",
       "  'port': 27017,\n",
       "  'version': '3.6.3',\n",
       "  'gitVersion': '9586e557d54ef70f9ca4b43c26892cd55257e1a5'},\n",
       " 'ok': 1.0}"
      ]
     },
     "execution_count": 47,
     "metadata": {},
     "output_type": "execute_result"
    }
   ],
   "source": [
    "#Query to return al items related to Trial: Biesbosch\n",
    "Signal.objects(trail='5e1db4c3a602d099584a91cb').explain()"
   ]
  },
  {
   "cell_type": "markdown",
   "metadata": {},
   "source": [
    "It took 0 miliseconds to return 739 results using a IXSCAN (Index scan)"
   ]
  },
  {
   "cell_type": "code",
   "execution_count": 48,
   "metadata": {},
   "outputs": [
    {
     "data": {
      "text/plain": [
       "{'queryPlanner': {'plannerVersion': 1,\n",
       "  'namespace': 'Trail_Database.signal',\n",
       "  'indexFilterSet': False,\n",
       "  'parsedQuery': {'$and': [{'trail': {'$eq': ObjectId('5e1db4c3a602d099584a91cb')}},\n",
       "    {'time': {'$lte': datetime.datetime(2009, 9, 27, 0, 0)}},\n",
       "    {'time': {'$gte': datetime.datetime(2008, 8, 26, 0, 0)}}]},\n",
       "  'winningPlan': {'stage': 'FETCH',\n",
       "   'filter': {'$and': [{'time': {'$lte': datetime.datetime(2009, 9, 27, 0, 0)}},\n",
       "     {'time': {'$gte': datetime.datetime(2008, 8, 26, 0, 0)}}]},\n",
       "   'inputStage': {'stage': 'IXSCAN',\n",
       "    'keyPattern': {'trail': 1},\n",
       "    'indexName': 'trail_1',\n",
       "    'isMultiKey': False,\n",
       "    'multiKeyPaths': {'trail': []},\n",
       "    'isUnique': False,\n",
       "    'isSparse': False,\n",
       "    'isPartial': False,\n",
       "    'indexVersion': 2,\n",
       "    'direction': 'forward',\n",
       "    'indexBounds': {'trail': [\"[ObjectId('5e1db4c3a602d099584a91cb'), ObjectId('5e1db4c3a602d099584a91cb')]\"]}}},\n",
       "  'rejectedPlans': [{'stage': 'FETCH',\n",
       "    'filter': {'trail': {'$eq': ObjectId('5e1db4c3a602d099584a91cb')}},\n",
       "    'inputStage': {'stage': 'IXSCAN',\n",
       "     'keyPattern': {'time': 1},\n",
       "     'indexName': 'time_1',\n",
       "     'isMultiKey': False,\n",
       "     'multiKeyPaths': {'time': []},\n",
       "     'isUnique': False,\n",
       "     'isSparse': False,\n",
       "     'isPartial': False,\n",
       "     'indexVersion': 2,\n",
       "     'direction': 'forward',\n",
       "     'indexBounds': {'time': ['[new Date(1219708800000), new Date(1254009600000)]']}}}]},\n",
       " 'executionStats': {'executionSuccess': True,\n",
       "  'nReturned': 739,\n",
       "  'executionTimeMillis': 4,\n",
       "  'totalKeysExamined': 739,\n",
       "  'totalDocsExamined': 739,\n",
       "  'executionStages': {'stage': 'FETCH',\n",
       "   'filter': {'$and': [{'time': {'$lte': datetime.datetime(2009, 9, 27, 0, 0)}},\n",
       "     {'time': {'$gte': datetime.datetime(2008, 8, 26, 0, 0)}}]},\n",
       "   'nReturned': 739,\n",
       "   'executionTimeMillisEstimate': 10,\n",
       "   'works': 740,\n",
       "   'advanced': 739,\n",
       "   'needTime': 0,\n",
       "   'needYield': 0,\n",
       "   'saveState': 7,\n",
       "   'restoreState': 7,\n",
       "   'isEOF': 1,\n",
       "   'invalidates': 0,\n",
       "   'docsExamined': 739,\n",
       "   'alreadyHasObj': 0,\n",
       "   'inputStage': {'stage': 'IXSCAN',\n",
       "    'nReturned': 739,\n",
       "    'executionTimeMillisEstimate': 0,\n",
       "    'works': 740,\n",
       "    'advanced': 739,\n",
       "    'needTime': 0,\n",
       "    'needYield': 0,\n",
       "    'saveState': 7,\n",
       "    'restoreState': 7,\n",
       "    'isEOF': 1,\n",
       "    'invalidates': 0,\n",
       "    'keyPattern': {'trail': 1},\n",
       "    'indexName': 'trail_1',\n",
       "    'isMultiKey': False,\n",
       "    'multiKeyPaths': {'trail': []},\n",
       "    'isUnique': False,\n",
       "    'isSparse': False,\n",
       "    'isPartial': False,\n",
       "    'indexVersion': 2,\n",
       "    'direction': 'forward',\n",
       "    'indexBounds': {'trail': [\"[ObjectId('5e1db4c3a602d099584a91cb'), ObjectId('5e1db4c3a602d099584a91cb')]\"]},\n",
       "    'keysExamined': 739,\n",
       "    'seeks': 1,\n",
       "    'dupsTested': 0,\n",
       "    'dupsDropped': 0,\n",
       "    'seenInvalidated': 0}},\n",
       "  'allPlansExecution': [{'nReturned': 0,\n",
       "    'executionTimeMillisEstimate': 0,\n",
       "    'totalKeysExamined': 101,\n",
       "    'totalDocsExamined': 101,\n",
       "    'executionStages': {'stage': 'FETCH',\n",
       "     'filter': {'trail': {'$eq': ObjectId('5e1db4c3a602d099584a91cb')}},\n",
       "     'nReturned': 0,\n",
       "     'executionTimeMillisEstimate': 0,\n",
       "     'works': 101,\n",
       "     'advanced': 0,\n",
       "     'needTime': 101,\n",
       "     'needYield': 0,\n",
       "     'saveState': 1,\n",
       "     'restoreState': 1,\n",
       "     'isEOF': 0,\n",
       "     'invalidates': 0,\n",
       "     'docsExamined': 101,\n",
       "     'alreadyHasObj': 0,\n",
       "     'inputStage': {'stage': 'IXSCAN',\n",
       "      'nReturned': 101,\n",
       "      'executionTimeMillisEstimate': 0,\n",
       "      'works': 101,\n",
       "      'advanced': 101,\n",
       "      'needTime': 0,\n",
       "      'needYield': 0,\n",
       "      'saveState': 1,\n",
       "      'restoreState': 1,\n",
       "      'isEOF': 0,\n",
       "      'invalidates': 0,\n",
       "      'keyPattern': {'time': 1},\n",
       "      'indexName': 'time_1',\n",
       "      'isMultiKey': False,\n",
       "      'multiKeyPaths': {'time': []},\n",
       "      'isUnique': False,\n",
       "      'isSparse': False,\n",
       "      'isPartial': False,\n",
       "      'indexVersion': 2,\n",
       "      'direction': 'forward',\n",
       "      'indexBounds': {'time': ['[new Date(1219708800000), new Date(1254009600000)]']},\n",
       "      'keysExamined': 101,\n",
       "      'seeks': 1,\n",
       "      'dupsTested': 0,\n",
       "      'dupsDropped': 0,\n",
       "      'seenInvalidated': 0}}},\n",
       "   {'nReturned': 101,\n",
       "    'executionTimeMillisEstimate': 0,\n",
       "    'totalKeysExamined': 101,\n",
       "    'totalDocsExamined': 101,\n",
       "    'executionStages': {'stage': 'FETCH',\n",
       "     'filter': {'$and': [{'time': {'$lte': datetime.datetime(2009, 9, 27, 0, 0)}},\n",
       "       {'time': {'$gte': datetime.datetime(2008, 8, 26, 0, 0)}}]},\n",
       "     'nReturned': 101,\n",
       "     'executionTimeMillisEstimate': 0,\n",
       "     'works': 101,\n",
       "     'advanced': 101,\n",
       "     'needTime': 0,\n",
       "     'needYield': 0,\n",
       "     'saveState': 1,\n",
       "     'restoreState': 1,\n",
       "     'isEOF': 0,\n",
       "     'invalidates': 0,\n",
       "     'docsExamined': 101,\n",
       "     'alreadyHasObj': 0,\n",
       "     'inputStage': {'stage': 'IXSCAN',\n",
       "      'nReturned': 101,\n",
       "      'executionTimeMillisEstimate': 0,\n",
       "      'works': 101,\n",
       "      'advanced': 101,\n",
       "      'needTime': 0,\n",
       "      'needYield': 0,\n",
       "      'saveState': 1,\n",
       "      'restoreState': 1,\n",
       "      'isEOF': 0,\n",
       "      'invalidates': 0,\n",
       "      'keyPattern': {'trail': 1},\n",
       "      'indexName': 'trail_1',\n",
       "      'isMultiKey': False,\n",
       "      'multiKeyPaths': {'trail': []},\n",
       "      'isUnique': False,\n",
       "      'isSparse': False,\n",
       "      'isPartial': False,\n",
       "      'indexVersion': 2,\n",
       "      'direction': 'forward',\n",
       "      'indexBounds': {'trail': [\"[ObjectId('5e1db4c3a602d099584a91cb'), ObjectId('5e1db4c3a602d099584a91cb')]\"]},\n",
       "      'keysExamined': 101,\n",
       "      'seeks': 1,\n",
       "      'dupsTested': 0,\n",
       "      'dupsDropped': 0,\n",
       "      'seenInvalidated': 0}}}]},\n",
       " 'serverInfo': {'host': 'geostack-system',\n",
       "  'port': 27017,\n",
       "  'version': '3.6.3',\n",
       "  'gitVersion': '9586e557d54ef70f9ca4b43c26892cd55257e1a5'},\n",
       " 'ok': 1.0}"
      ]
     },
     "execution_count": 48,
     "metadata": {},
     "output_type": "execute_result"
    }
   ],
   "source": [
    "#Query to return al items related to Crane: Lotta, between 2008-08-26 and 2009-9-27\n",
    "Signal.objects(Q(trail='5e1db4c3a602d099584a91cb')&\n",
    "                     Q(time__gte=datetime(2008,8,26)) &\n",
    "                     Q(time__lte=datetime(2009,9,27))).explain()"
   ]
  },
  {
   "cell_type": "markdown",
   "metadata": {},
   "source": [
    "It took 0 miliseconds to return 739 results using a IXSCAN (Index scan)"
   ]
  },
  {
   "cell_type": "markdown",
   "metadata": {},
   "source": [
    "# Some GeoQueries"
   ]
  },
  {
   "cell_type": "code",
   "execution_count": 49,
   "metadata": {},
   "outputs": [],
   "source": [
    "#Select all Transmissions in certain polygone\n",
    "# Use https://www.keene.edu/campus/maps/tool/ to find desired polygone.\n",
    "# parameters:\n",
    "# - point 1\n",
    "# - point 2\n",
    "# - point 3\n",
    "# - point 4\n",
    "\n",
    "def select_transmissions_in_polygone(p1,p2,p3,p4):\n",
    "    Transmissions_in_Polygone = Transmission.objects(geometry__coord__geo_within=[[p1,p2,p3,p4]]).to_json()\n",
    "    return pd.DataFrame(eval(Transmissions_in_Polygone))\n"
   ]
  },
  {
   "cell_type": "code",
   "execution_count": 50,
   "metadata": {},
   "outputs": [],
   "source": [
    "# Select all transmission near a certain point\n",
    "# parameters\n",
    "# longitude of point\n",
    "# latitude of point\n",
    "# distance around point (in meters)\n",
    "\n",
    "def transmissions_near_point(lon,lat,distance):\n",
    "    \n",
    "    Transmissions_near_Point = Transmission.objects(geometry__coord__near=[lon, lat],\n",
    "                                                    geometry__coord__max_distance=distance).to_json()\n",
    "    \n",
    "    return pd.read_json(Transmissions_near_Point)"
   ]
  }
 ],
 "metadata": {
  "kernelspec": {
   "display_name": "Python 3",
   "language": "python",
   "name": "python3"
  },
  "language_info": {
   "codemirror_mode": {
    "name": "ipython",
    "version": 3
   },
   "file_extension": ".py",
   "mimetype": "text/x-python",
   "name": "python",
   "nbconvert_exporter": "python",
   "pygments_lexer": "ipython3",
   "version": "3.6.9"
  }
 },
 "nbformat": 4,
 "nbformat_minor": 2
}
