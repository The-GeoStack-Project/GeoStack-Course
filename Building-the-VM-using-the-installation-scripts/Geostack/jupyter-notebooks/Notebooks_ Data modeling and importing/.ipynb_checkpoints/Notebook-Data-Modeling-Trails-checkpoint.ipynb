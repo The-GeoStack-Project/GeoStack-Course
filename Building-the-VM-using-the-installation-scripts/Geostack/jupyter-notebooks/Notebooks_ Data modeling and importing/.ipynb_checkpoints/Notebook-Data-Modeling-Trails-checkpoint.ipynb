{
 "cells": [
  {
   "cell_type": "markdown",
   "metadata": {},
   "source": [
    "---\n",
    "#  Data modeling, importing, Indexing and Querying GPX Datasets\n",
    "\n",
    "Date: 27-11-2019 <br>\n",
    "Concept version: 0.9 <br>\n",
    "Author: Pieter Lems  <br>\n",
    "\n",
    "© Copyright 2019 Ministerie van Defensie\n",
    "\n",
    "\n",
    "This notebook wil provide information relating to creating data models for MongoDB.\n",
    "To create the data models we are going to use Python and MongoEngine.The notebook also shows how to import the data into the mongoDB datastores.\n",
    "\n",
    "## Contents of notebook\n",
    "\n",
    "- Importing the required modules\n",
    "- Reading the datasets\n",
    "- Validating the datasets\n",
    "- Connecting to the database\n",
    "  - Create Docker MongoDB database (if needed)\n",
    "  - Connect\n",
    "- Creating the model\n",
    "- Loading the data using the model\n",
    "  - Creating the import functions\n",
    "  - Load the data\n",
    "- Querying the data (pre-indexing)\n",
    "  - Indexing the data\n",
    "  - Querying the data (post-indexing)\n",
    "  \n",
    "### The datasets in used in this notebook can be found in the folder (\"../Data/Trail_JSON/\") \n",
    "---"
   ]
  },
  {
   "cell_type": "markdown",
   "metadata": {},
   "source": [
    "### Importing the required modules"
   ]
  },
  {
   "cell_type": "code",
   "execution_count": 1,
   "metadata": {},
   "outputs": [],
   "source": [
    "import pandas as pd\n",
    "\n",
    "from mongoengine import * \n",
    "\n",
    "from datetime import datetime"
   ]
  },
  {
   "cell_type": "markdown",
   "metadata": {},
   "source": [
    "### Reading the datasets"
   ]
  },
  {
   "cell_type": "code",
   "execution_count": 2,
   "metadata": {},
   "outputs": [],
   "source": [
    "Biesbosch = pd.read_json(\n",
    "    '../Data/Trail_JSON/Trail_Biesbosch.json')\n",
    "\n",
    "Biesbosch_Lib = pd.read_json(\n",
    "    '../Data/Trail_JSON/Trail-Biesbosch-Libellen.json')\n",
    "\n",
    "Zeeland = pd.read_json(\n",
    "    '../Data/Trail_JSON/Trail_ZeelandMNV.json')\n",
    "\n",
    "Hamert_Hike = pd.read_json(\n",
    "    '../Data/Trail_JSON/Trail-Hamert-Hike.json')\n",
    "\n",
    "Hamert_Bike = pd.read_json(\n",
    "    '../Data/Trail_JSON/Trail-Hamert-Bike.json')"
   ]
  },
  {
   "cell_type": "markdown",
   "metadata": {},
   "source": [
    "### Connecting to the database"
   ]
  },
  {
   "cell_type": "markdown",
   "metadata": {},
   "source": [
    "#### Create Docker container\n",
    "Uncomment the next line if you dont have a mongoDB docker container\n",
    "and you want to import the data in a docker container.\n",
    "\n",
    "This command will download a MongoDB docker image and run the container on port 27017 (localhost:27017)"
   ]
  },
  {
   "cell_type": "code",
   "execution_count": 3,
   "metadata": {},
   "outputs": [],
   "source": [
    "#!docker run -d -p 27017:27017 mongo:latest"
   ]
  },
  {
   "cell_type": "markdown",
   "metadata": {},
   "source": [
    "#### Connect to a database called: \"Trail_Database\""
   ]
  },
  {
   "cell_type": "code",
   "execution_count": 4,
   "metadata": {},
   "outputs": [
    {
     "data": {
      "text/plain": [
       "MongoClient(host=['localhost:27017'], document_class=dict, tz_aware=False, connect=True, read_preference=Primary())"
      ]
     },
     "execution_count": 4,
     "metadata": {},
     "output_type": "execute_result"
    }
   ],
   "source": [
    "connect('Trail_Database')"
   ]
  },
  {
   "cell_type": "markdown",
   "metadata": {},
   "source": [
    "### Creating the model"
   ]
  },
  {
   "cell_type": "code",
   "execution_count": 12,
   "metadata": {},
   "outputs": [],
   "source": [
    "class Trail(Document):\n",
    "    \n",
    "    # Name of the Trail \n",
    "    name = StringField()\n",
    "\n",
    "    # Abreviation of the Name\n",
    "    abr = StringField()\n",
    "    \n",
    "    # Start date\n",
    "    s_date= DateTimeField()\n",
    "    \n",
    "    # End date\n",
    "    e_date = DateTimeField()\n",
    "    \n",
    "    # Trail type (Biking,Hiking,Driving)\n",
    "    r_type = StringField() \n",
    "\n",
    "    # Amount of trackpoints in the dataset\n",
    "    t_points = IntField()\n",
    "\n",
    "class Geometry(EmbeddedDocument):\n",
    " \n",
    "    # coordinates of signal (coord=[1,2])\n",
    "    coord = PointField()\n",
    "    \n",
    "    # altitude of the signal\n",
    "    alt = FloatField()\n",
    "    \n",
    "class Signal(Document):\n",
    "    \n",
    "    # Timestamp of signal\n",
    "    time = DateTimeField()\n",
    "    \n",
    "    # Geometry of signal\n",
    "    geometry = EmbeddedDocumentField(Geometry)\n",
    "    \n",
    "    # Reference to the route of signal\n",
    "    trail = ReferenceField(Trail)"
   ]
  },
  {
   "cell_type": "markdown",
   "metadata": {},
   "source": [
    "---\n",
    "\n",
    "### Loading the data using the model"
   ]
  },
  {
   "cell_type": "code",
   "execution_count": 6,
   "metadata": {},
   "outputs": [],
   "source": [
    "def load_data(df,name,abreviation,type):\n",
    "    \n",
    "    # Here we get the value of the time column of the first row in the dataframe.\n",
    "    # We apply /1000 to remove the UTC (Timezone) info. This is required to create a valid timestamp.\n",
    "    s_date = datetime.fromtimestamp((df.at[0,'time']/1000))\n",
    "    \n",
    "    # Here we get the value of the time column of the last row in the dataframe.\n",
    "    # This value is located at the index -1 of the lenght of the dataframe.\n",
    "    e_date = datetime.fromtimestamp((df.at[len(df.index)-1,'time']/1000))\n",
    "    \n",
    "    # Get the total lenght of the dataframe we do this because it's the same\n",
    "    # as the amount of signals in the dataset.\n",
    "    t_points = df.shape[0]\n",
    "    \n",
    "\n",
    "    # Create the trial document by creating a new instance of the Trail document \n",
    "    # in which we pass the required values.\n",
    "    trail = Trail(name = name,\n",
    "                  s_date = s_date,\n",
    "                  e_date = e_date,\n",
    "                  abr = abreviation,\n",
    "                  r_type = type,\n",
    "                  t_points = t_points)\n",
    "    \n",
    "    # Save the Trail document to the database.\n",
    "    trail.save()\n",
    "\n",
    "    # Create an empty list of signals to which we will append all the signal\n",
    "    # documents after they have been created. We will pass the list to the\n",
    "    # mongodb bulk insert feature.\n",
    "    signals = []\n",
    "    \n",
    "    \n",
    "    # Here we itterate through all the rows in the dataframe.\n",
    "    # For each row in the dataframe the following code is executed.\n",
    "    for index,row in df.iterrows():\n",
    "        \n",
    "        # Convert the datetime to a valid format by removing the timezone info.\n",
    "        time = datetime.fromtimestamp(row['time']/1000)\n",
    "        \n",
    "        # Here we create the geometry document in which we pass the required values.\n",
    "        geometry = Geometry(coord = [row['lon'],row['lat']], \n",
    "                            alt = row['alt'])\n",
    "        # Here we create a signal document in which we pass the required values.\n",
    "        signal = Signal(time = time,\n",
    "                        geometry = geometry,\n",
    "                        trail = trail)\n",
    "    \n",
    "        # Here we append the created document to the signals list.\n",
    "        signals.append(signal)\n",
    "\n",
    "    # Bulk insert, the populated signals list, in the database\n",
    "    Signal.objects.insert(signals,load_bulk=True)\n",
    "\n",
    "    # Print if the insert process is succesfull.\n",
    "    print(\"Inserted \" + str(len(df.index))+\" trackpoints from dataset: \" + str(name))"
   ]
  },
  {
   "cell_type": "markdown",
   "metadata": {},
   "source": [
    "## Loading the data"
   ]
  },
  {
   "cell_type": "code",
   "execution_count": 7,
   "metadata": {},
   "outputs": [
    {
     "name": "stdout",
     "output_type": "stream",
     "text": [
      "Inserted 739 trackpoints from dataset: Biesbosch\n",
      "Inserted 1174 trackpoints from dataset: Zeeland Camper\n",
      "Inserted 493 trackpoints from dataset: Biesbosch Libellen\n",
      "Inserted 1483 trackpoints from dataset: Hamert Hike\n",
      "Inserted 422 trackpoints from dataset: Hamert Bike\n"
     ]
    }
   ],
   "source": [
    "load_data(Biesbosch,'Biesbosch','B','Boat & Hike')\n",
    "load_data(Zeeland,\"Zeeland Camper\",'ZC',\"Car\")\n",
    "load_data(Biesbosch_Lib,\"Biesbosch Libellen\",'BL',\"Hike\")\n",
    "load_data(Hamert_Hike,\"Hamert Hike\",'HH',\"Hike\")\n",
    "load_data(Hamert_Bike,\"Hamert Bike\",'HB',\"Bike\")"
   ]
  },
  {
   "cell_type": "markdown",
   "metadata": {},
   "source": [
    "---\n",
    "### Querying the data pre-index\n",
    "\n",
    "First we will run a couple of queries before we create the indexes on the database. By doing this, we can compare the time it takes to return a certain amount of data with and without an indexed database.To find information related to the execution of the query add .explain() behind the query"
   ]
  },
  {
   "cell_type": "markdown",
   "metadata": {},
   "source": [
    "#### Query to find ID of the trail : Biesbosch"
   ]
  },
  {
   "cell_type": "code",
   "execution_count": 8,
   "metadata": {},
   "outputs": [
    {
     "data": {
      "text/plain": [
       "'[{\"_id\": {\"$oid\": \"5e8b12e35ac6a6c5a797895b\"}, \"name\": \"Biesbosch\"}]'"
      ]
     },
     "execution_count": 8,
     "metadata": {},
     "output_type": "execute_result"
    }
   ],
   "source": [
    "Trail.objects(name = 'Biesbosch').only('name','id').to_json()"
   ]
  },
  {
   "cell_type": "markdown",
   "metadata": {},
   "source": [
    "#### Query to return al signals related to Trial: Biesbosch"
   ]
  },
  {
   "cell_type": "code",
   "execution_count": 9,
   "metadata": {},
   "outputs": [
    {
     "data": {
      "text/plain": [
       "{'queryPlanner': {'plannerVersion': 1,\n",
       "  'namespace': 'Trail_Database.signal',\n",
       "  'indexFilterSet': False,\n",
       "  'parsedQuery': {'trail': {'$eq': ObjectId('5e1db4c3a602d099584a91cb')}},\n",
       "  'winningPlan': {'stage': 'COLLSCAN',\n",
       "   'filter': {'trail': {'$eq': ObjectId('5e1db4c3a602d099584a91cb')}},\n",
       "   'direction': 'forward'},\n",
       "  'rejectedPlans': []},\n",
       " 'executionStats': {'executionSuccess': True,\n",
       "  'nReturned': 0,\n",
       "  'executionTimeMillis': 4,\n",
       "  'totalKeysExamined': 0,\n",
       "  'totalDocsExamined': 4311,\n",
       "  'executionStages': {'stage': 'COLLSCAN',\n",
       "   'filter': {'trail': {'$eq': ObjectId('5e1db4c3a602d099584a91cb')}},\n",
       "   'nReturned': 0,\n",
       "   'executionTimeMillisEstimate': 0,\n",
       "   'works': 4313,\n",
       "   'advanced': 0,\n",
       "   'needTime': 4312,\n",
       "   'needYield': 0,\n",
       "   'saveState': 33,\n",
       "   'restoreState': 33,\n",
       "   'isEOF': 1,\n",
       "   'invalidates': 0,\n",
       "   'direction': 'forward',\n",
       "   'docsExamined': 4311},\n",
       "  'allPlansExecution': []},\n",
       " 'serverInfo': {'host': 'geostack-system',\n",
       "  'port': 27017,\n",
       "  'version': '3.6.3',\n",
       "  'gitVersion': '9586e557d54ef70f9ca4b43c26892cd55257e1a5'},\n",
       " 'ok': 1.0}"
      ]
     },
     "execution_count": 9,
     "metadata": {},
     "output_type": "execute_result"
    }
   ],
   "source": [
    "Signal.objects(trail='5e1db4c3a602d099584a91cb').explain()"
   ]
  },
  {
   "cell_type": "markdown",
   "metadata": {},
   "source": [
    "##### It took 15 miliseconds to return 739 results using a COLLSCAN (Collection scan)"
   ]
  },
  {
   "cell_type": "markdown",
   "metadata": {},
   "source": [
    "#### Query to return al items related to Crane: Lotta, between 2008-08-26 and 2009-9-27"
   ]
  },
  {
   "cell_type": "code",
   "execution_count": 10,
   "metadata": {},
   "outputs": [
    {
     "data": {
      "text/plain": [
       "{'queryPlanner': {'plannerVersion': 1,\n",
       "  'namespace': 'Trail_Database.signal',\n",
       "  'indexFilterSet': False,\n",
       "  'parsedQuery': {'$and': [{'trail': {'$eq': ObjectId('5e1db4c3a602d099584a91cb')}},\n",
       "    {'time': {'$lte': datetime.datetime(2009, 9, 27, 0, 0)}},\n",
       "    {'time': {'$gte': datetime.datetime(2008, 8, 26, 0, 0)}}]},\n",
       "  'winningPlan': {'stage': 'COLLSCAN',\n",
       "   'filter': {'$and': [{'trail': {'$eq': ObjectId('5e1db4c3a602d099584a91cb')}},\n",
       "     {'time': {'$lte': datetime.datetime(2009, 9, 27, 0, 0)}},\n",
       "     {'time': {'$gte': datetime.datetime(2008, 8, 26, 0, 0)}}]},\n",
       "   'direction': 'forward'},\n",
       "  'rejectedPlans': []},\n",
       " 'executionStats': {'executionSuccess': True,\n",
       "  'nReturned': 0,\n",
       "  'executionTimeMillis': 2,\n",
       "  'totalKeysExamined': 0,\n",
       "  'totalDocsExamined': 4311,\n",
       "  'executionStages': {'stage': 'COLLSCAN',\n",
       "   'filter': {'$and': [{'trail': {'$eq': ObjectId('5e1db4c3a602d099584a91cb')}},\n",
       "     {'time': {'$lte': datetime.datetime(2009, 9, 27, 0, 0)}},\n",
       "     {'time': {'$gte': datetime.datetime(2008, 8, 26, 0, 0)}}]},\n",
       "   'nReturned': 0,\n",
       "   'executionTimeMillisEstimate': 0,\n",
       "   'works': 4313,\n",
       "   'advanced': 0,\n",
       "   'needTime': 4312,\n",
       "   'needYield': 0,\n",
       "   'saveState': 33,\n",
       "   'restoreState': 33,\n",
       "   'isEOF': 1,\n",
       "   'invalidates': 0,\n",
       "   'direction': 'forward',\n",
       "   'docsExamined': 4311},\n",
       "  'allPlansExecution': []},\n",
       " 'serverInfo': {'host': 'geostack-system',\n",
       "  'port': 27017,\n",
       "  'version': '3.6.3',\n",
       "  'gitVersion': '9586e557d54ef70f9ca4b43c26892cd55257e1a5'},\n",
       " 'ok': 1.0}"
      ]
     },
     "execution_count": 10,
     "metadata": {},
     "output_type": "execute_result"
    }
   ],
   "source": [
    "Signal.objects(Q(trail='5e1db4c3a602d099584a91cb')&\n",
    "                     Q(time__gte=datetime(2008,8,26)) &\n",
    "                     Q(time__lte=datetime(2009,9,27))).explain()"
   ]
  },
  {
   "cell_type": "markdown",
   "metadata": {},
   "source": [
    "##### It took 16 miliseconds to return 739 results using a COLLSCAN (Collection scan)"
   ]
  },
  {
   "cell_type": "markdown",
   "metadata": {},
   "source": [
    "### Indexing the database\n",
    "\n",
    "##### there are 3 ways to create indexes on data. \n",
    "- Create an index when modeling the data.<br>\n",
    "to create an index while creating the data model, we have to add a meta field to  the \tdocument we want to create an index on. For example: If we want to create an index on \tthe altitude field in the geometry document, we add the following meta field to our geometry document:"
   ]
  },
  {
   "cell_type": "code",
   "execution_count": 11,
   "metadata": {},
   "outputs": [],
   "source": [
    "class Geometry(EmbeddedDocument):\n",
    "\n",
    "    alt = FloatField()\n",
    "    \n",
    "    meta = {\n",
    "        'collection': 'altitude',\n",
    "        'indexes': [\n",
    "          {'fields': ['alt']}\n",
    "        ]\n",
    "    }"
   ]
  },
  {
   "cell_type": "markdown",
   "metadata": {},
   "source": [
    " - Create indexes after modeling the data <br>\n",
    "We can also create the indexes after we created the datamodel. We are going to use this way to create indexes below. For example: if we want to create an index on the altitude field after creating the data model we would run the following command: <br>\n",
    "Transmission.create_index((\"geometry.alt\"))\n",
    "\n",
    "\n",
    "  \n",
    " - Create indexes using pymongo\n",
    "    add 2d index to coord field db.signals.ensureIndex({\"geometry.coord.coordinates\":\"2d\"});\n",
    "\n",
    "##### We want to create 4 indexes:\n",
    "\n",
    "   - 2D Sphere index This index will be used to query the coordinates of the trackpoit (This was automaticly done when assiging PointField() to the coordinates entry, when creating the database model)\n",
    "    2D index We need this index to be able to find coordinates in a cetrain box\n",
    "   - time index We need this index because we will query on the time a lot of times\n",
    "   - trail index (in the signal collection) We need this index because we will query to find signals per trail using the trail\n"
   ]
  },
  {
   "cell_type": "markdown",
   "metadata": {},
   "source": [
    "#### Create an index on the trail reference field in the signal collection"
   ]
  },
  {
   "cell_type": "code",
   "execution_count": 13,
   "metadata": {},
   "outputs": [
    {
     "data": {
      "text/plain": [
       "'trail_1'"
      ]
     },
     "execution_count": 13,
     "metadata": {},
     "output_type": "execute_result"
    }
   ],
   "source": [
    "Signal.create_index((\"trail\"))"
   ]
  },
  {
   "cell_type": "markdown",
   "metadata": {},
   "source": [
    "####  Create an index on the time field in the signal collection"
   ]
  },
  {
   "cell_type": "code",
   "execution_count": 14,
   "metadata": {},
   "outputs": [
    {
     "data": {
      "text/plain": [
       "'time_1'"
      ]
     },
     "execution_count": 14,
     "metadata": {},
     "output_type": "execute_result"
    }
   ],
   "source": [
    "Signal.create_index((\"time\"))"
   ]
  },
  {
   "cell_type": "markdown",
   "metadata": {},
   "source": [
    "#### Create an index on the coordinates field in the transmission collection"
   ]
  },
  {
   "cell_type": "code",
   "execution_count": 15,
   "metadata": {},
   "outputs": [
    {
     "data": {
      "text/plain": [
       "'geometry.coord_1'"
      ]
     },
     "execution_count": 15,
     "metadata": {},
     "output_type": "execute_result"
    }
   ],
   "source": [
    "Signal.create_index((\"geometry.coord\"))"
   ]
  },
  {
   "cell_type": "markdown",
   "metadata": {},
   "source": [
    "---\n",
    "### Querying the data post-index¶"
   ]
  },
  {
   "cell_type": "markdown",
   "metadata": {},
   "source": [
    "#### Query to return al items related to Trial: Biesbosch"
   ]
  },
  {
   "cell_type": "code",
   "execution_count": 16,
   "metadata": {
    "scrolled": true
   },
   "outputs": [
    {
     "data": {
      "text/plain": [
       "{'queryPlanner': {'plannerVersion': 1,\n",
       "  'namespace': 'Trail_Database.signal',\n",
       "  'indexFilterSet': False,\n",
       "  'parsedQuery': {'trail': {'$eq': ObjectId('5e1db4c3a602d099584a91cb')}},\n",
       "  'winningPlan': {'stage': 'FETCH',\n",
       "   'inputStage': {'stage': 'IXSCAN',\n",
       "    'keyPattern': {'trail': 1},\n",
       "    'indexName': 'trail_1',\n",
       "    'isMultiKey': False,\n",
       "    'multiKeyPaths': {'trail': []},\n",
       "    'isUnique': False,\n",
       "    'isSparse': False,\n",
       "    'isPartial': False,\n",
       "    'indexVersion': 2,\n",
       "    'direction': 'forward',\n",
       "    'indexBounds': {'trail': [\"[ObjectId('5e1db4c3a602d099584a91cb'), ObjectId('5e1db4c3a602d099584a91cb')]\"]}}},\n",
       "  'rejectedPlans': []},\n",
       " 'executionStats': {'executionSuccess': True,\n",
       "  'nReturned': 0,\n",
       "  'executionTimeMillis': 0,\n",
       "  'totalKeysExamined': 0,\n",
       "  'totalDocsExamined': 0,\n",
       "  'executionStages': {'stage': 'FETCH',\n",
       "   'nReturned': 0,\n",
       "   'executionTimeMillisEstimate': 0,\n",
       "   'works': 1,\n",
       "   'advanced': 0,\n",
       "   'needTime': 0,\n",
       "   'needYield': 0,\n",
       "   'saveState': 0,\n",
       "   'restoreState': 0,\n",
       "   'isEOF': 1,\n",
       "   'invalidates': 0,\n",
       "   'docsExamined': 0,\n",
       "   'alreadyHasObj': 0,\n",
       "   'inputStage': {'stage': 'IXSCAN',\n",
       "    'nReturned': 0,\n",
       "    'executionTimeMillisEstimate': 0,\n",
       "    'works': 1,\n",
       "    'advanced': 0,\n",
       "    'needTime': 0,\n",
       "    'needYield': 0,\n",
       "    'saveState': 0,\n",
       "    'restoreState': 0,\n",
       "    'isEOF': 1,\n",
       "    'invalidates': 0,\n",
       "    'keyPattern': {'trail': 1},\n",
       "    'indexName': 'trail_1',\n",
       "    'isMultiKey': False,\n",
       "    'multiKeyPaths': {'trail': []},\n",
       "    'isUnique': False,\n",
       "    'isSparse': False,\n",
       "    'isPartial': False,\n",
       "    'indexVersion': 2,\n",
       "    'direction': 'forward',\n",
       "    'indexBounds': {'trail': [\"[ObjectId('5e1db4c3a602d099584a91cb'), ObjectId('5e1db4c3a602d099584a91cb')]\"]},\n",
       "    'keysExamined': 0,\n",
       "    'seeks': 1,\n",
       "    'dupsTested': 0,\n",
       "    'dupsDropped': 0,\n",
       "    'seenInvalidated': 0}},\n",
       "  'allPlansExecution': []},\n",
       " 'serverInfo': {'host': 'geostack-system',\n",
       "  'port': 27017,\n",
       "  'version': '3.6.3',\n",
       "  'gitVersion': '9586e557d54ef70f9ca4b43c26892cd55257e1a5'},\n",
       " 'ok': 1.0}"
      ]
     },
     "execution_count": 16,
     "metadata": {},
     "output_type": "execute_result"
    }
   ],
   "source": [
    "Signal.objects(trail='5e1db4c3a602d099584a91cb').explain()"
   ]
  },
  {
   "cell_type": "markdown",
   "metadata": {},
   "source": [
    "##### It took 0 miliseconds to return 739 results using a IXSCAN (Index scan)"
   ]
  },
  {
   "cell_type": "markdown",
   "metadata": {},
   "source": [
    "#### Query to return al items related to Crane: Lotta, between 2008-08-26 and 2009-9-27"
   ]
  },
  {
   "cell_type": "code",
   "execution_count": 17,
   "metadata": {},
   "outputs": [
    {
     "data": {
      "text/plain": [
       "{'queryPlanner': {'plannerVersion': 1,\n",
       "  'namespace': 'Trail_Database.signal',\n",
       "  'indexFilterSet': False,\n",
       "  'parsedQuery': {'$and': [{'trail': {'$eq': ObjectId('5e1db4c3a602d099584a91cb')}},\n",
       "    {'time': {'$lte': datetime.datetime(2009, 9, 27, 0, 0)}},\n",
       "    {'time': {'$gte': datetime.datetime(2008, 8, 26, 0, 0)}}]},\n",
       "  'winningPlan': {'stage': 'FETCH',\n",
       "   'filter': {'$and': [{'time': {'$lte': datetime.datetime(2009, 9, 27, 0, 0)}},\n",
       "     {'time': {'$gte': datetime.datetime(2008, 8, 26, 0, 0)}}]},\n",
       "   'inputStage': {'stage': 'IXSCAN',\n",
       "    'keyPattern': {'trail': 1},\n",
       "    'indexName': 'trail_1',\n",
       "    'isMultiKey': False,\n",
       "    'multiKeyPaths': {'trail': []},\n",
       "    'isUnique': False,\n",
       "    'isSparse': False,\n",
       "    'isPartial': False,\n",
       "    'indexVersion': 2,\n",
       "    'direction': 'forward',\n",
       "    'indexBounds': {'trail': [\"[ObjectId('5e1db4c3a602d099584a91cb'), ObjectId('5e1db4c3a602d099584a91cb')]\"]}}},\n",
       "  'rejectedPlans': [{'stage': 'FETCH',\n",
       "    'filter': {'trail': {'$eq': ObjectId('5e1db4c3a602d099584a91cb')}},\n",
       "    'inputStage': {'stage': 'IXSCAN',\n",
       "     'keyPattern': {'time': 1},\n",
       "     'indexName': 'time_1',\n",
       "     'isMultiKey': False,\n",
       "     'multiKeyPaths': {'time': []},\n",
       "     'isUnique': False,\n",
       "     'isSparse': False,\n",
       "     'isPartial': False,\n",
       "     'indexVersion': 2,\n",
       "     'direction': 'forward',\n",
       "     'indexBounds': {'time': ['[new Date(1219708800000), new Date(1254009600000)]']}}}]},\n",
       " 'executionStats': {'executionSuccess': True,\n",
       "  'nReturned': 0,\n",
       "  'executionTimeMillis': 1,\n",
       "  'totalKeysExamined': 0,\n",
       "  'totalDocsExamined': 0,\n",
       "  'executionStages': {'stage': 'FETCH',\n",
       "   'filter': {'$and': [{'time': {'$lte': datetime.datetime(2009, 9, 27, 0, 0)}},\n",
       "     {'time': {'$gte': datetime.datetime(2008, 8, 26, 0, 0)}}]},\n",
       "   'nReturned': 0,\n",
       "   'executionTimeMillisEstimate': 0,\n",
       "   'works': 2,\n",
       "   'advanced': 0,\n",
       "   'needTime': 0,\n",
       "   'needYield': 0,\n",
       "   'saveState': 0,\n",
       "   'restoreState': 0,\n",
       "   'isEOF': 1,\n",
       "   'invalidates': 0,\n",
       "   'docsExamined': 0,\n",
       "   'alreadyHasObj': 0,\n",
       "   'inputStage': {'stage': 'IXSCAN',\n",
       "    'nReturned': 0,\n",
       "    'executionTimeMillisEstimate': 0,\n",
       "    'works': 1,\n",
       "    'advanced': 0,\n",
       "    'needTime': 0,\n",
       "    'needYield': 0,\n",
       "    'saveState': 0,\n",
       "    'restoreState': 0,\n",
       "    'isEOF': 1,\n",
       "    'invalidates': 0,\n",
       "    'keyPattern': {'trail': 1},\n",
       "    'indexName': 'trail_1',\n",
       "    'isMultiKey': False,\n",
       "    'multiKeyPaths': {'trail': []},\n",
       "    'isUnique': False,\n",
       "    'isSparse': False,\n",
       "    'isPartial': False,\n",
       "    'indexVersion': 2,\n",
       "    'direction': 'forward',\n",
       "    'indexBounds': {'trail': [\"[ObjectId('5e1db4c3a602d099584a91cb'), ObjectId('5e1db4c3a602d099584a91cb')]\"]},\n",
       "    'keysExamined': 0,\n",
       "    'seeks': 1,\n",
       "    'dupsTested': 0,\n",
       "    'dupsDropped': 0,\n",
       "    'seenInvalidated': 0}},\n",
       "  'allPlansExecution': [{'nReturned': 0,\n",
       "    'executionTimeMillisEstimate': 0,\n",
       "    'totalKeysExamined': 1,\n",
       "    'totalDocsExamined': 1,\n",
       "    'executionStages': {'stage': 'FETCH',\n",
       "     'filter': {'trail': {'$eq': ObjectId('5e1db4c3a602d099584a91cb')}},\n",
       "     'nReturned': 0,\n",
       "     'executionTimeMillisEstimate': 0,\n",
       "     'works': 1,\n",
       "     'advanced': 0,\n",
       "     'needTime': 1,\n",
       "     'needYield': 0,\n",
       "     'saveState': 0,\n",
       "     'restoreState': 0,\n",
       "     'isEOF': 0,\n",
       "     'invalidates': 0,\n",
       "     'docsExamined': 1,\n",
       "     'alreadyHasObj': 0,\n",
       "     'inputStage': {'stage': 'IXSCAN',\n",
       "      'nReturned': 1,\n",
       "      'executionTimeMillisEstimate': 0,\n",
       "      'works': 1,\n",
       "      'advanced': 1,\n",
       "      'needTime': 0,\n",
       "      'needYield': 0,\n",
       "      'saveState': 0,\n",
       "      'restoreState': 0,\n",
       "      'isEOF': 0,\n",
       "      'invalidates': 0,\n",
       "      'keyPattern': {'time': 1},\n",
       "      'indexName': 'time_1',\n",
       "      'isMultiKey': False,\n",
       "      'multiKeyPaths': {'time': []},\n",
       "      'isUnique': False,\n",
       "      'isSparse': False,\n",
       "      'isPartial': False,\n",
       "      'indexVersion': 2,\n",
       "      'direction': 'forward',\n",
       "      'indexBounds': {'time': ['[new Date(1219708800000), new Date(1254009600000)]']},\n",
       "      'keysExamined': 1,\n",
       "      'seeks': 1,\n",
       "      'dupsTested': 0,\n",
       "      'dupsDropped': 0,\n",
       "      'seenInvalidated': 0}}},\n",
       "   {'nReturned': 0,\n",
       "    'executionTimeMillisEstimate': 0,\n",
       "    'totalKeysExamined': 0,\n",
       "    'totalDocsExamined': 0,\n",
       "    'executionStages': {'stage': 'FETCH',\n",
       "     'filter': {'$and': [{'time': {'$lte': datetime.datetime(2009, 9, 27, 0, 0)}},\n",
       "       {'time': {'$gte': datetime.datetime(2008, 8, 26, 0, 0)}}]},\n",
       "     'nReturned': 0,\n",
       "     'executionTimeMillisEstimate': 0,\n",
       "     'works': 1,\n",
       "     'advanced': 0,\n",
       "     'needTime': 0,\n",
       "     'needYield': 0,\n",
       "     'saveState': 0,\n",
       "     'restoreState': 0,\n",
       "     'isEOF': 1,\n",
       "     'invalidates': 0,\n",
       "     'docsExamined': 0,\n",
       "     'alreadyHasObj': 0,\n",
       "     'inputStage': {'stage': 'IXSCAN',\n",
       "      'nReturned': 0,\n",
       "      'executionTimeMillisEstimate': 0,\n",
       "      'works': 1,\n",
       "      'advanced': 0,\n",
       "      'needTime': 0,\n",
       "      'needYield': 0,\n",
       "      'saveState': 0,\n",
       "      'restoreState': 0,\n",
       "      'isEOF': 1,\n",
       "      'invalidates': 0,\n",
       "      'keyPattern': {'trail': 1},\n",
       "      'indexName': 'trail_1',\n",
       "      'isMultiKey': False,\n",
       "      'multiKeyPaths': {'trail': []},\n",
       "      'isUnique': False,\n",
       "      'isSparse': False,\n",
       "      'isPartial': False,\n",
       "      'indexVersion': 2,\n",
       "      'direction': 'forward',\n",
       "      'indexBounds': {'trail': [\"[ObjectId('5e1db4c3a602d099584a91cb'), ObjectId('5e1db4c3a602d099584a91cb')]\"]},\n",
       "      'keysExamined': 0,\n",
       "      'seeks': 1,\n",
       "      'dupsTested': 0,\n",
       "      'dupsDropped': 0,\n",
       "      'seenInvalidated': 0}}}]},\n",
       " 'serverInfo': {'host': 'geostack-system',\n",
       "  'port': 27017,\n",
       "  'version': '3.6.3',\n",
       "  'gitVersion': '9586e557d54ef70f9ca4b43c26892cd55257e1a5'},\n",
       " 'ok': 1.0}"
      ]
     },
     "execution_count": 17,
     "metadata": {},
     "output_type": "execute_result"
    }
   ],
   "source": [
    "Signal.objects(Q(trail='5e1db4c3a602d099584a91cb')&\n",
    "                     Q(time__gte=datetime(2008,8,26)) &\n",
    "                     Q(time__lte=datetime(2009,9,27))).explain()"
   ]
  },
  {
   "cell_type": "markdown",
   "metadata": {},
   "source": [
    "##### It took 0 miliseconds to return 739 results using a IXSCAN (Index scan)"
   ]
  },
  {
   "cell_type": "markdown",
   "metadata": {},
   "source": [
    "# Some GeoQueries"
   ]
  },
  {
   "cell_type": "markdown",
   "metadata": {},
   "source": [
    "Select all Transmissions in certain polygone.<br>\n",
    "Use https://www.keene.edu/campus/maps/tool/ to find desired polygone.<br>\n",
    "parameters:\n",
    "- point 1\n",
    "- point 2\n",
    "- point 3\n",
    "- point 4"
   ]
  },
  {
   "cell_type": "code",
   "execution_count": 18,
   "metadata": {},
   "outputs": [],
   "source": [
    "def select_transmissions_in_polygone(p1,p2,p3,p4):\n",
    "    Transmissions_in_Polygone = Transmission.objects(geometry__coord__geo_within=[[p1,p2,p3,p4]]).to_json()\n",
    "    return pd.DataFrame(eval(Transmissions_in_Polygone))"
   ]
  },
  {
   "cell_type": "markdown",
   "metadata": {},
   "source": [
    "Select all transmission near a certain point\n",
    "parameters:\n",
    "- longitude of point\n",
    "- latitude of point\n",
    "- distance around point (in meters)"
   ]
  },
  {
   "cell_type": "code",
   "execution_count": 19,
   "metadata": {},
   "outputs": [],
   "source": [
    "def transmissions_near_point(lon,lat,distance):\n",
    "    \n",
    "    Transmissions_near_Point = Transmission.objects(geometry__coord__near=[lon, lat],\n",
    "                                                    geometry__coord__max_distance=distance).to_json()\n",
    "    return pd.read_json(Transmissions_near_Point)"
   ]
  }
 ],
 "metadata": {
  "kernelspec": {
   "display_name": "Python 3",
   "language": "python",
   "name": "python3"
  },
  "language_info": {
   "codemirror_mode": {
    "name": "ipython",
    "version": 3
   },
   "file_extension": ".py",
   "mimetype": "text/x-python",
   "name": "python",
   "nbconvert_exporter": "python",
   "pygments_lexer": "ipython3",
   "version": "3.6.9"
  }
 },
 "nbformat": 4,
 "nbformat_minor": 4
}
