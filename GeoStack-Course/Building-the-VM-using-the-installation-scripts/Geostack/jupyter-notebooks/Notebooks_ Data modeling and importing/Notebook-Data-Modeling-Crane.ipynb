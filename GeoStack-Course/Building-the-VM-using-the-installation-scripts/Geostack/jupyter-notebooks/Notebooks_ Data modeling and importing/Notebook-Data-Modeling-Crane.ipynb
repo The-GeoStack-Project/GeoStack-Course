{
 "cells": [
  {
   "cell_type": "markdown",
   "metadata": {},
   "source": [
    "---\n",
    "# Data modeling, importing, Indexing and Querying Crane datasets\n",
    "\n",
    "Date: 31-01-2020 <br>\n",
    "Concept version: 1.0 <br>\n",
    "Author: Pieter Lems  <br>\n",
    "\n",
    "© Copyright 2019 Ministerie van Defensie\n",
    "\n",
    "This notebook wil provide information relating to creating data models for MongoDB.<br>\n",
    "To create the data models we are going to use Python and MongoEngine. The notebook also shows how to import the data into the mongoDB datastores.<br>\n",
    "\n",
    "\n",
    "## Contents of notebook\n",
    "- Importing the required modules \n",
    "- Reading the datasets\n",
    "- Validating the datasets\n",
    "- Connecting to the database\n",
    "    - Create Docker MongoDB database (if needed)\n",
    "    - Connect\n",
    "- Creating the model\n",
    "- Loading the data using the model\n",
    "    - Creating the import functions\n",
    "    - Load the data\n",
    "- Querying the data (pre-indexing)\n",
    "- Indexing the data\n",
    "- Querying the data (post-indexing)\n",
    "- Loading GeoJSON data (Not needed but implented to show how its done)\n",
    "\n",
    "### The data sets in used in this notebook can be found in the folder (\"../Data/Crane_JSON/\")"
   ]
  },
  {
   "cell_type": "markdown",
   "metadata": {},
   "source": [
    "## Importing the required modules"
   ]
  },
  {
   "cell_type": "code",
   "execution_count": 1,
   "metadata": {},
   "outputs": [],
   "source": [
    "import pandas as pd\n",
    "\n",
    "from mongoengine import * \n",
    "\n",
    "from datetime import datetime "
   ]
  },
  {
   "cell_type": "markdown",
   "metadata": {},
   "source": [
    "##  Reading the datasets"
   ]
  },
  {
   "cell_type": "code",
   "execution_count": 2,
   "metadata": {},
   "outputs": [],
   "source": [
    "Agentha = pd.read_json(\n",
    "    '../Data/Crane_JSON/Agnetha-SW.json')\n",
    "\n",
    "Frida = pd.read_json(\n",
    "    '../Data/Crane_JSON/Frida-SW.json')\n",
    "\n",
    "Cajsa = pd.read_json(\n",
    "    '../Data/Crane_JSON/Cajsa-SW.json')\n",
    "\n",
    "Nena = pd.read_json(\n",
    "    '../Data/Crane_JSON/Nena-GE.json')\n",
    "\n",
    "Lotta = pd.read_json(\n",
    "    '../Data/Crane_JSON/Lotta-GE.json')\n",
    "\n",
    "Lita = pd.read_json(\n",
    "    '../Data/Crane_JSON/Lita-LT.json')"
   ]
  },
  {
   "cell_type": "markdown",
   "metadata": {},
   "source": [
    "###  Connecting to the database"
   ]
  },
  {
   "cell_type": "markdown",
   "metadata": {},
   "source": [
    "#### Create Docker container\n",
    "Uncomment the next line if you dont have a mongoDB docker container\n",
    "and you want to import the data in a docker container.\n",
    "\n",
    "This command will download a MongoDB docker image and run the container on port 27017 (localhost:27017)"
   ]
  },
  {
   "cell_type": "code",
   "execution_count": 3,
   "metadata": {},
   "outputs": [],
   "source": [
    "#!docker run -d -p 27017:27017 mongo:latest"
   ]
  },
  {
   "cell_type": "markdown",
   "metadata": {},
   "source": [
    "#### Connect to a database called: \"Crane_Database\""
   ]
  },
  {
   "cell_type": "code",
   "execution_count": 4,
   "metadata": {
    "scrolled": true
   },
   "outputs": [
    {
     "data": {
      "text/plain": [
       "MongoClient(host=['localhost:27017'], document_class=dict, tz_aware=False, connect=True, read_preference=Primary())"
      ]
     },
     "execution_count": 4,
     "metadata": {},
     "output_type": "execute_result"
    }
   ],
   "source": [
    "connect('Crane_Database')"
   ]
  },
  {
   "cell_type": "markdown",
   "metadata": {},
   "source": [
    "---\n",
    "\n",
    "## Creating the model"
   ]
  },
  {
   "cell_type": "code",
   "execution_count": 5,
   "metadata": {},
   "outputs": [],
   "source": [
    "# Creating the Tracker document\n",
    "class Tracker(Document):\n",
    "    \n",
    "    # Name of the study\n",
    "    study_name = StringField()\n",
    "    \n",
    "    # Name of the bird, in latin.\n",
    "    individual_taxon_canonical_name = StringField()\n",
    "    \n",
    "    # Id of the crane \n",
    "    individual_local_identifier = IntField()\n",
    "    \n",
    "    #Start date of the study\n",
    "    start_date = DateTimeField()\n",
    "    \n",
    "    #End date of the study\n",
    "    end_date = DateTimeField()\n",
    "\n",
    "    #Name of the crane\n",
    "    name = StringField()\n",
    "    \n",
    "    #Amount of the transmissions related to the tracker\n",
    "    transmission_Count= IntField()\n",
    "    \n",
    "    \n",
    "    \n",
    "# Creating the Geometry document\n",
    "class Geometry(EmbeddedDocument):\n",
    " \n",
    "    # coordinates of transmission (coord=[1,2])\n",
    "    coord = PointField()\n",
    "    \n",
    "    # altitude of tansmission\n",
    "    alt = FloatField()\n",
    "\n",
    "    \n",
    "# Creating the Speed document    \n",
    "class Speed(EmbeddedDocument):\n",
    "    \n",
    "    # Speed of the Crane\n",
    "    ground_speed = FloatField()\n",
    "    \n",
    "    # Heading of the Crane in degrees\n",
    "    heading = IntField()\n",
    "    \n",
    "# Creating the TrackerMetadata document\n",
    "class TrackerMetadata(EmbeddedDocument):\n",
    "    \n",
    "    #Is the tracker still visible or not?\n",
    "    visible = BooleanField()\n",
    "    \n",
    "    # Type of sensor used in tracker.\n",
    "    sensor_type = StringField()\n",
    "    \n",
    "    # Voltage level of the tracker.\n",
    "    tag_voltage = FloatField()\n",
    "    \n",
    "    \n",
    "# Creating the Transmission document \n",
    "class Transmission(Document):\n",
    "    \n",
    "    # Identifier of the transmission\n",
    "    event_id = IntField()\n",
    "    \n",
    "    # Timestamp of when transmission was send \n",
    "    timestamp = DateTimeField()\n",
    "    \n",
    "    # Embedded geometry of transmission\n",
    "    geometry = EmbeddedDocumentField(Geometry)\n",
    "    \n",
    "    # Embedded speed related data of transmission\n",
    "    speed = EmbeddedDocumentField(Speed)\n",
    "    \n",
    "    # Embedded metadata of transmission\n",
    "    metadata = EmbeddedDocumentField(TrackerMetadata)\n",
    "    \n",
    "    # Reference to the tracker the transmission belongs to\n",
    "    tracker = ReferenceField(Tracker)\n",
    "    "
   ]
  },
  {
   "cell_type": "markdown",
   "metadata": {},
   "source": [
    "---\n",
    "## Loading the data using the model"
   ]
  },
  {
   "cell_type": "markdown",
   "metadata": {},
   "source": [
    "###  Creating the import function"
   ]
  },
  {
   "cell_type": "code",
   "execution_count": 6,
   "metadata": {},
   "outputs": [],
   "source": [
    "def load_data(df,name,country):\n",
    "    \n",
    "    # Here we create metadata for the tracker.\n",
    "    start_Date = df.at[0,'timestamp']\n",
    "    end_Date = df.at[df.shape[0]-1,'timestamp']\n",
    "    transmission_Count = df.shape[0]\n",
    "    \n",
    "    #Create a new tracker, this is only done once \n",
    "    tracker = Tracker(study_name = df.at[0,'study-name'],\n",
    "                      individual_taxon_canonical_name = df.at[0,'individual-taxon-canonical-name'],\n",
    "                      individual_local_identifier = df.at[0,'individual-local-identifier'],\n",
    "                      start_date = start_Date,\n",
    "                      end_date = end_Date,\n",
    "                      name = name,\n",
    "                      transmission_Count = transmission_Count)\n",
    "    \n",
    "    # Save the tracker to the database.\n",
    "    tracker.save()\n",
    "    \n",
    "    # Create an empty list of transmissions to which will append the new transmissions \n",
    "    # after they have been created. This list will be passed to the mongodb bulk insert feature.\n",
    "    transmissions = []\n",
    "    \n",
    "    # Print when list appending process starts. \n",
    "    print('Start appending transmissions to list from: ' + str(name) )\n",
    "    \n",
    "    # For each row in the dataframe the following code is executed.\n",
    "    for index,row in df.iterrows():\n",
    "        \n",
    "        if country == \"sw\":  \n",
    "            # Create geometry document for Swedish sets in which we pass the required values.\n",
    "            # NOTE: To use Geometry queries you have to insert te longitude value first.\n",
    "            geometry = Geometry(coord = [row['location-long'],row['location-lat']],\n",
    "                                alt = row['height-above-ellipsoid'])\n",
    "        else:\n",
    "            # Create geometry document for the remaining datasets in which we pass the required values.\n",
    "            # NOTE: To use Geometry queries you have to insert te longitude value first.\n",
    "            geometry = Geometry(coord = [row['location-long'],row['location-lat']],\n",
    "                                alt = row['height-above-msl'])\n",
    "        \n",
    "        # Create the metadata document in which we pass the required values.\n",
    "        metadata = TrackerMetadata(visible = row['visible'],\n",
    "                                   sensor_type = row['sensor-type'],\n",
    "                                   tag_voltage = row['tag-voltage'])\n",
    "        \n",
    "        # Create the speed document in which we pass the required values.\n",
    "        speed = Speed(ground_speed = row['ground-speed'])\n",
    "        \n",
    "        # Create transmission document and append them to the transmissions list.\n",
    "        transmissions.append(Transmission(event_id = row['event-id'],\n",
    "                                          timestamp = row['timestamp'],\n",
    "                                          geometry = geometry,\n",
    "                                          speed = speed,\n",
    "                                          metadata = metadata,\n",
    "                                          tracker = tracker))\n",
    "        \n",
    "    # Print when list appending is done.\n",
    "    print('Bulk inserting: '+ str(transmission_Count) + ' transmissions from: ' + str(name) )\n",
    "        \n",
    "    # Bulk insert the populated transmissions list.\n",
    "    Transmission.objects.insert(transmissions,load_bulk=True)\n",
    "\n",
    "    # Print if insert is succesfull.\n",
    "    print(\"Done inserting \"+ str(len(df.index)) + \" transmissions\")"
   ]
  },
  {
   "cell_type": "markdown",
   "metadata": {},
   "source": [
    "### Loading the data using the load_data function."
   ]
  },
  {
   "cell_type": "code",
   "execution_count": 7,
   "metadata": {},
   "outputs": [
    {
     "name": "stdout",
     "output_type": "stream",
     "text": [
      "Start appending transmissions to list from: Lita\n",
      "Bulk inserting: 254228 transmissions from: Lita\n",
      "Done inserting 254228 transmissions\n",
      "Start appending transmissions to list from: Nena\n",
      "Bulk inserting: 11626 transmissions from: Nena\n",
      "Done inserting 11626 transmissions\n",
      "Start appending transmissions to list from: Lotta\n",
      "Bulk inserting: 29934 transmissions from: Lotta\n",
      "Done inserting 29934 transmissions\n",
      "Start appending transmissions to list from: Agnetha\n",
      "Bulk inserting: 44534 transmissions from: Agnetha\n",
      "Done inserting 44534 transmissions\n",
      "Start appending transmissions to list from: Frida\n",
      "Bulk inserting: 123805 transmissions from: Frida\n",
      "Done inserting 123805 transmissions\n",
      "Start appending transmissions to list from: Cajsa\n",
      "Bulk inserting: 67887 transmissions from: Cajsa\n",
      "Done inserting 67887 transmissions\n"
     ]
    }
   ],
   "source": [
    "load_data(Lita,\"Lita\",'lt')\n",
    "load_data(Nena,\"Nena\",'ge')\n",
    "load_data(Lotta,\"Lotta\",'ge')\n",
    "load_data(Agentha,\"Agnetha\",'sw')\n",
    "load_data(Frida,\"Frida\",'sw')\n",
    "load_data(Cajsa,\"Cajsa\",'sw')"
   ]
  },
  {
   "cell_type": "markdown",
   "metadata": {},
   "source": [
    "---\n",
    "### Querying the data pre-index\n",
    "\n",
    "First we will run a couple of queries before we create the indexes on the database. By doing this, we can compare the time it takes to return a certain amount of data with and without an indexed database. To find information related to the execution of the query add .explain() behind the query.\n",
    "\n",
    "---"
   ]
  },
  {
   "cell_type": "markdown",
   "metadata": {},
   "source": [
    "#### Query to find ID of crane Frida "
   ]
  },
  {
   "cell_type": "code",
   "execution_count": 19,
   "metadata": {},
   "outputs": [
    {
     "data": {
      "text/plain": [
       "'[{\"_id\": {\"$oid\": \"5e1dbcae507872e91a9d5313\"}, \"name\": \"Frida\"}]'"
      ]
     },
     "execution_count": 19,
     "metadata": {},
     "output_type": "execute_result"
    }
   ],
   "source": [
    "Tracker.objects(name = 'Frida').only('name','id').to_json()"
   ]
  },
  {
   "cell_type": "markdown",
   "metadata": {},
   "source": [
    "#### Query to check executing speed of transmissions related to Frida"
   ]
  },
  {
   "cell_type": "code",
   "execution_count": null,
   "metadata": {},
   "outputs": [],
   "source": [
    "Transmission.objects(tracker='5e1dbcae507872e91a9d5313').explain()"
   ]
  },
  {
   "cell_type": "markdown",
   "metadata": {},
   "source": [
    "#### Query to find ID of crane lotta "
   ]
  },
  {
   "cell_type": "code",
   "execution_count": null,
   "metadata": {},
   "outputs": [],
   "source": [
    "Tracker.objects(name = 'Lotta').only('name','id').to_json()"
   ]
  },
  {
   "cell_type": "markdown",
   "metadata": {},
   "source": [
    "#### Query to return al items related to Crane: Lotta"
   ]
  },
  {
   "cell_type": "code",
   "execution_count": null,
   "metadata": {},
   "outputs": [],
   "source": [
    "Transmission.objects(tracker='5e1dbd6e507872e91aa06d4c').explain()"
   ]
  },
  {
   "cell_type": "markdown",
   "metadata": {},
   "source": [
    "###### It took 143 miliseconds to return 29934 results using a COLLSCAN (Collection scan)"
   ]
  },
  {
   "cell_type": "markdown",
   "metadata": {},
   "source": [
    "#### Query to return al items related to Crane: Lotta, between 2018-06-01 and 2018-09-01"
   ]
  },
  {
   "cell_type": "code",
   "execution_count": null,
   "metadata": {
    "scrolled": true
   },
   "outputs": [],
   "source": [
    "Transmission.objects(Q(tracker='5dde98e87990f3ac79500deb')&\n",
    "                     Q(timestamp__gte=datetime(2018,6,1)) &\n",
    "                     Q(timestamp__lte=datetime(2018,9,1))).explain()"
   ]
  },
  {
   "cell_type": "markdown",
   "metadata": {},
   "source": [
    "##### It took 80 miliseconds to return 110 results using a COLLSCAN (Collection scan)"
   ]
  },
  {
   "cell_type": "markdown",
   "metadata": {},
   "source": [
    "#### Query to return al items in a predefined bound box (The Netherlands in this case)\n",
    "Bounds of the box can be found using the following webite: https://www.keene.edu/campus/maps/tool/"
   ]
  },
  {
   "cell_type": "code",
   "execution_count": null,
   "metadata": {},
   "outputs": [],
   "source": [
    "Transmission.objects(geometry__coord__geo_within_box=[\n",
    "    (3.2299835,50.7920471),(7.4926788,53.5729383)]).explain()"
   ]
  },
  {
   "cell_type": "markdown",
   "metadata": {},
   "source": [
    "##### It took 744 miliseconds to return 489 results using a COLLSCAN (Collection scan)"
   ]
  },
  {
   "cell_type": "markdown",
   "metadata": {},
   "source": [
    "#### Query to return al items in a predefined polygone (The Netherlands in this case)\n",
    "Bounds of the polygone can be found using the following webite: https://www.keene.edu/campus/maps/tool/"
   ]
  },
  {
   "cell_type": "code",
   "execution_count": null,
   "metadata": {},
   "outputs": [],
   "source": [
    "Transmission.objects(geometry__coord__geo_within=[[\n",
    "    [3.2409668,52.2395743],[3.8781738,51.1672889],\n",
    "    [5.1443481,51.9950282],[3.2409668,52.2395743]]]).explain()"
   ]
  },
  {
   "cell_type": "markdown",
   "metadata": {},
   "source": [
    "##### It took 720 miliseconds to return 131 results using a COLLSCAN (Collection scan)"
   ]
  },
  {
   "cell_type": "markdown",
   "metadata": {},
   "source": [
    "### Indexing the database\n",
    "\n",
    "##### there are 2 ways to create indexes on data. \n",
    "- Create an index when modeling the data.<br>\n",
    "to create an index while creating the data model, we have to add a meta field to  the \tdocument we want to create an index on. For example: If we want to create an index on \tthe altitude field in the geometry document, we add the following meta field to our geometry document:"
   ]
  },
  {
   "cell_type": "code",
   "execution_count": null,
   "metadata": {},
   "outputs": [],
   "source": [
    "class Geometry(EmbeddedDocument):\n",
    " \n",
    "    coord = PointField()\n",
    "    \n",
    "    alt = FloatField()\n",
    "    \n",
    "    meta = {\n",
    "        'collection': 'altitude',\n",
    "        'indexes': [\n",
    "          {'fields': ['alt']}\n",
    "        ]\n",
    "    }"
   ]
  },
  {
   "cell_type": "markdown",
   "metadata": {},
   "source": [
    "- Create indexes after modeling the data <br>\n",
    "  We can also create the indexes after we created the datamodel. We are going to use this way to create indexes below. For example: if we want to create an index on the altitude field after creating the data model we would run the following command: <br>\n",
    "  Transmission.create_index((\"geometry.alt\"))\n",
    "  \n",
    "- Create indexes using pymongo\n",
    "    add 2d index to coord field db.signals.ensureIndex({\"geometry.coord.coordinates\":\"2d\"});\n",
    "\n",
    "\n",
    "  \n",
    "\n",
    "##### We want to create 4 indexes \n",
    "- 2D Sphere index\n",
    "  This index will be used to query the coordinates of the crane\n",
    "  (This was automaticly done when assiging PointField() to the coordinates entry, when creating the database model)\n",
    "- 2D index\n",
    "  We need this index to be able to find coordinates in a cetrain box \n",
    "- timestamp index \n",
    "  We need this index because we will query on the timestamp a lot of times\n",
    "- tracker index (in the transmission collection)\n",
    "  We need this index because we will query to find transmissions per tracker using the tracker id"
   ]
  },
  {
   "cell_type": "markdown",
   "metadata": {},
   "source": [
    "#### Create an index on the tracker field in the transmission collection"
   ]
  },
  {
   "cell_type": "code",
   "execution_count": 8,
   "metadata": {},
   "outputs": [
    {
     "data": {
      "text/plain": [
       "'tracker_1'"
      ]
     },
     "execution_count": 8,
     "metadata": {},
     "output_type": "execute_result"
    }
   ],
   "source": [
    "Transmission.create_index((\"tracker\"))"
   ]
  },
  {
   "cell_type": "markdown",
   "metadata": {},
   "source": [
    "#### Create an index on the timestamp field in the transmission collection"
   ]
  },
  {
   "cell_type": "code",
   "execution_count": 9,
   "metadata": {},
   "outputs": [
    {
     "data": {
      "text/plain": [
       "'timestamp_1'"
      ]
     },
     "execution_count": 9,
     "metadata": {},
     "output_type": "execute_result"
    }
   ],
   "source": [
    "Transmission.create_index((\"timestamp\"))"
   ]
  },
  {
   "cell_type": "markdown",
   "metadata": {},
   "source": [
    "#### Create an 2D index on the coordinates field in the transmission collection"
   ]
  },
  {
   "cell_type": "code",
   "execution_count": 10,
   "metadata": {},
   "outputs": [
    {
     "data": {
      "text/plain": [
       "'geometry.coord_1'"
      ]
     },
     "execution_count": 10,
     "metadata": {},
     "output_type": "execute_result"
    }
   ],
   "source": [
    "Transmission.create_index((\"geometry.coord\"))"
   ]
  },
  {
   "cell_type": "markdown",
   "metadata": {},
   "source": [
    "---\n",
    "### Querying the data post-index"
   ]
  },
  {
   "cell_type": "markdown",
   "metadata": {},
   "source": [
    "#### Query to check executing speed after indexing "
   ]
  },
  {
   "cell_type": "code",
   "execution_count": null,
   "metadata": {},
   "outputs": [],
   "source": [
    "Transmission.objects(tracker='5de04102b54094744cf72be1').explain()"
   ]
  },
  {
   "cell_type": "markdown",
   "metadata": {},
   "source": [
    "#### Query to return al items related to Crane: Lotta"
   ]
  },
  {
   "cell_type": "code",
   "execution_count": null,
   "metadata": {},
   "outputs": [],
   "source": [
    "Transmission.objects(tracker='5e1dbd6e507872e91aa06d4c').explain()"
   ]
  },
  {
   "cell_type": "markdown",
   "metadata": {},
   "source": [
    "###### It took 30 miliseconds to return 29934 results using a IXSCAN (Index scan)"
   ]
  },
  {
   "cell_type": "markdown",
   "metadata": {},
   "source": [
    "#### Query to return al items in a predefined bound box (The Netherlands in this case)\n",
    "Bounds of the box can be found using the following webite: https://www.keene.edu/campus/maps/tool/"
   ]
  },
  {
   "cell_type": "code",
   "execution_count": null,
   "metadata": {},
   "outputs": [],
   "source": [
    "Transmission.objects(geometry__coord__geo_within_box=[\n",
    "      (3.2299835,50.7920471),(7.4926788,53.5729383)]).explain()"
   ]
  },
  {
   "cell_type": "markdown",
   "metadata": {},
   "source": [
    "##### It took 20 miliseconds to return 489 results using a IXSCAN (Index scan)"
   ]
  },
  {
   "cell_type": "markdown",
   "metadata": {},
   "source": [
    "#### Query to return al items related to Crane: Lotta, between 2018-06-01 and 2018-09-01"
   ]
  },
  {
   "cell_type": "code",
   "execution_count": null,
   "metadata": {},
   "outputs": [],
   "source": [
    "Transmission.objects(Q(tracker='5e1dbd6e507872e91aa06d4c')&\n",
    "                     Q(timestamp__gte=datetime(2018,6,1)) &\n",
    "                     Q(timestamp__lte=datetime(2018,9,1))).explain()"
   ]
  },
  {
   "cell_type": "markdown",
   "metadata": {},
   "source": [
    "##### It took 0 miliseconds to return 110 results using a IXSCAN (Index scan)"
   ]
  },
  {
   "cell_type": "markdown",
   "metadata": {},
   "source": [
    "#### Query to return al items in a predefined polygone (The Netherlands in this case)\n",
    "Bounds of the polygone can be found using the following webite: https://www.keene.edu/campus/maps/tool/"
   ]
  },
  {
   "cell_type": "code",
   "execution_count": null,
   "metadata": {},
   "outputs": [],
   "source": [
    "Transmission.objects(geometry__coord__geo_within=[[\n",
    "    [3.2409668,52.2395743],[3.8781738,51.1672889],\n",
    "    [5.1443481,51.9950282],[3.2409668,52.2395743]]]).explain()"
   ]
  },
  {
   "cell_type": "markdown",
   "metadata": {},
   "source": [
    "##### It took 3 miliseconds to return 131 results using a IXSCAN (Index scan)"
   ]
  },
  {
   "cell_type": "markdown",
   "metadata": {},
   "source": [
    "---\n",
    "## More Queries"
   ]
  },
  {
   "cell_type": "code",
   "execution_count": null,
   "metadata": {},
   "outputs": [],
   "source": [
    "#Select all trackers by study name\n",
    "# Parameters:\n",
    "# - route_name\n",
    "\n",
    "def select_Tracker_by_name(study_name):\n",
    "    result = Tracker.objects(study_name__contains=study_name).to_json()\n",
    "    return pd.read_json(result)\n"
   ]
  },
  {
   "cell_type": "code",
   "execution_count": null,
   "metadata": {},
   "outputs": [],
   "source": [
    "# All transmissions between a predefined DTG\n",
    "# Parameters: \n",
    "# - Date time group 1\n",
    "# - Date time group 2\n",
    "\n",
    "def transmissions_between_dtg(dtg_1,dtg_2):\n",
    "    result = Transmission.objects(Q(timestamp__gte=dtg_1) & \n",
    "                                  Q(timestamp__lte=dtg_2)).to_json()\n",
    "    return pd.read_json(result)\n"
   ]
  },
  {
   "cell_type": "code",
   "execution_count": null,
   "metadata": {},
   "outputs": [],
   "source": [
    "#Select all Transmissions in predefined Sphere\n",
    "# parameters:\n",
    "# - lon\n",
    "# - lat\n",
    "# - radius\n",
    "\n",
    "def transmissions_in_sphere(lat,lon,radius):\n",
    "    result = Transmission.objects(geometry__coord__geo_within_sphere=[(lon,lat),radius]).to_json()\n",
    "    return pd.read_json(result)"
   ]
  },
  {
   "cell_type": "code",
   "execution_count": null,
   "metadata": {},
   "outputs": [],
   "source": [
    "#Select all Transmissions in predefined polygone\n",
    "# Use https://www.keene.edu/campus/maps/tool/ to find desired polygone.\n",
    "# parameters:\n",
    "# - point 1\n",
    "# - point 2\n",
    "# - point 3\n",
    "# - point 4\n",
    "def select_transmissions_in_polygone(p1,p2,p3,p4):\n",
    "    result = Transmission.objects(geometry__coord__geo_within=[[p1,p2,p3,p4]]).to_json()\n",
    "    return pd.read_json(result)"
   ]
  },
  {
   "cell_type": "code",
   "execution_count": null,
   "metadata": {},
   "outputs": [],
   "source": [
    "#Select all Transmissions in predefined box\n",
    "# Use https://www.keene.edu/campus/maps/tool/ to find desired box.\n",
    "# parameters:\n",
    "# - <bottom left coordinates>\n",
    "# - <upper right coordinates>\n",
    "\n",
    "def select_transmissions_in_box(p1,p2):\n",
    "    result = Transmission.objects(geometry__coord__geo_within_box=[p1,p2]).to_json()\n",
    "    return pd.read_json(result)"
   ]
  },
  {
   "cell_type": "markdown",
   "metadata": {},
   "source": [
    "---\n",
    "## Load GeoJSON Data\n",
    "\n",
    "This is implented just to show how it's done.\n",
    "\n",
    "---"
   ]
  },
  {
   "cell_type": "code",
   "execution_count": null,
   "metadata": {},
   "outputs": [],
   "source": [
    "# Define the file which we want to load.\n",
    "inputfile = \"../Data/Crane_GeoJSON/20181003_Dataset_SV_GPS_Crane_9381_STAW_Crane_RRW-BuGBk_Frida.json\"\n",
    "\n",
    "# Define the databese in which the data will be loaded.\n",
    "to_database = 'GeoJSON_Database'\n",
    "\n",
    "# Define the collection in which the data will be loaded.\n",
    "to_collection =  'Transmissions'\n",
    "\n",
    "# Define the server to which we will connect.\n",
    "to_server = 'localhost'\n",
    "\n",
    "# Define the port the server is running on.\n",
    "to_port = '27017'\n",
    "\n",
    "# Create the MongoDB connection string\n",
    "uri = 'mongodb://' + to_server + ':' + to_port +'/'\n",
    "\n",
    "# Set user to false (If no user is needed)\n",
    "# Set to username if authentication is required\n",
    "db_user = False\n",
    "\n",
    "# If authentication is required, use the following code\n",
    "if db_user:\n",
    "  db_password = 'Your password'\n",
    "  uri = 'mongodb://' + db_user + ':' + db_password + '@' + to_server + ':' + to_port +'/' + to_database\n",
    "\n",
    "# Read the geojson file\n",
    "with open(inputfile,'r') as f:\n",
    "      geojson = json.loads(f.read())   \n",
    "\n",
    "        \n",
    "#Function for loading GeoJSON in MongoDB without model\n",
    "# Parameter 1 = geojson to insert\n",
    "# Parameter 2 = Collection to insert to \n",
    "# Parameter 3 = Database to insert to \n",
    "# Parameter 4 = Server the database is running on\n",
    "# Parameter 5 = Port server is running on\n",
    "# Parameter 6 = MongoDB connectionstring \n",
    "\n",
    "def load_geojson(inputfile, to_collection, to_database,\n",
    "                 to_server, to_port, uri):\n",
    "\n",
    "    \n",
    "    # Assign connection related values to variables.\n",
    "    client = MongoClient(uri)\n",
    "    db = client[to_database]\n",
    "    collection = db[to_collection]\n",
    "\n",
    "    # create MongoDB index on geometry feature\n",
    "    # More info on indexing can be found in the cookbook:\n",
    "    # \"Data modeling in MongoDB\"\n",
    "    collection.create_index([(\"geometry\", GEOSPHERE)])\n",
    "    \n",
    "    # Initialize the bulk operation\n",
    "    bulk = collection.initialize_unordered_bulk_op()\n",
    "\n",
    "    # For each item in the feature object of our GeoJSON\n",
    "    for feature in geojson['features']:\n",
    "        \n",
    "      # Convert datetime to valid format if needed\n",
    "      #timestamp_w_tz = feature['properties']['timestamp']\n",
    "      #feature['properties']['timestamp'] = datetime.strptime(timestamp, '%Y-%m-%dT%H:%M:%S.%fZ')\n",
    "\n",
    "      # append all features to bulk insert\n",
    "      bulk.insert(feature)\n",
    "\n",
    "    # Execute bulk insert\n",
    "    result = bulk.execute()\n",
    "    \n",
    "    # Print when data is inserted\n",
    "    print(\"Features successully inserted\")\n",
    "    "
   ]
  },
  {
   "cell_type": "code",
   "execution_count": null,
   "metadata": {},
   "outputs": [],
   "source": [
    "load_geojson(inputfile, to_collection, to_database, to_server, to_port, uri)"
   ]
  }
 ],
 "metadata": {
  "kernelspec": {
   "display_name": "Python 3",
   "language": "python",
   "name": "python3"
  },
  "language_info": {
   "codemirror_mode": {
    "name": "ipython",
    "version": 3
   },
   "file_extension": ".py",
   "mimetype": "text/x-python",
   "name": "python",
   "nbconvert_exporter": "python",
   "pygments_lexer": "ipython3",
   "version": "3.6.9"
  }
 },
 "nbformat": 4,
 "nbformat_minor": 2
}
