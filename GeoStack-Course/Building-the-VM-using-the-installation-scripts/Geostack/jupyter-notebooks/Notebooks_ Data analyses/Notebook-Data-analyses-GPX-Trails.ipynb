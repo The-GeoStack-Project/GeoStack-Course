{
 "cells": [
  {
   "cell_type": "markdown",
   "metadata": {},
   "source": [
    "# Data analyses Trails GPX\n",
    "\n",
    "Date: 31-01-2020 <br>\n",
    "Concept version: 1.0 <br>\n",
    "Author: Pieter Lems  <br>\n",
    "\n",
    "© Copyright 2019 Ministerie van Defensie\n",
    "\n",
    "## Contents notebook\n",
    "- Per trail\n",
    "  - Import\n",
    "  - Analyze\n",
    "  - Visualize \n",
    "- Visualize all trails\n",
    "\n",
    "\n",
    "## Data sets in notebook. (\"Data/GPX/\")\n",
    "- Trails datasets \n",
    "   - ../Data/Trail_GPX/SEP-26-09 64311 Biesbosch.gpx : National Park Noord-Brabantse Biesbosch, Drimmelen, Boat & Hike trail  \n",
    "   - ../Data/Trail_GPX/JAN-16-11 172053 Zeeland MNV.gpx : Zeeland, Brouwersdam Willemstad, Birdwatching Car route\n",
    "   - ../Data/Trail_GPX/JUN-03-11 151845 BiesboschLibellen.gpx :  National Park Zuid-Hollandse Biesbosch, Merwelanden, Dragonfly Hike trail\n",
    "   - ../Data/Trail_GPX/GPX/OKT-25-09 164243 Hamert Fiets.gpx : National Park Maasduinen, de Hamert, Biking Trail\n",
    "   - ../Data/Trail_GPX/GPX/SEP-25-09 182235 Hamert.gpx : National Park Maasduinen, de Hamert, Hiking trail \n",
    "  \n",
    "  \n",
    "### List of anomalities in datasets \n",
    "|Set Name|Anomalies|\n",
    "|--|--|\n",
    "|Biesbosch|12|\n",
    "|Biesbosch Libellen|9|\n",
    "   \n",
    "      \n",
    "\n",
    "---"
   ]
  },
  {
   "cell_type": "markdown",
   "metadata": {},
   "source": [
    "### Importing required modules\n",
    "---"
   ]
  },
  {
   "cell_type": "code",
   "execution_count": 1,
   "metadata": {},
   "outputs": [],
   "source": [
    "import gpxpy\n",
    "import datetime\n",
    "import numpy as np\n",
    "import pandas as pd\n",
    "\n",
    "import cartopy        \n",
    "import cartopy.crs as ccrs \n",
    "import cartopy.feature as cfeature\n",
    "import matplotlib.pyplot as plt"
   ]
  },
  {
   "cell_type": "markdown",
   "metadata": {},
   "source": [
    "---\n",
    "### Define generic functions"
   ]
  },
  {
   "cell_type": "markdown",
   "metadata": {},
   "source": [
    "### Function: create_df()\n",
    "this function creates a dataframe from the GPX files\n",
    "\n",
    "- parameter 1: The GPS-track data which needs to be appended to a dataframe"
   ]
  },
  {
   "cell_type": "code",
   "execution_count": 2,
   "metadata": {},
   "outputs": [],
   "source": [
    "def create_df(data):\n",
    "\n",
    "    df = pd.DataFrame(columns=['lon', 'lat', 'alt', 'time'])\n",
    "\n",
    "    for point in data:\n",
    "        df = df.append({'lon': point.longitude,\n",
    "                        'lat' : point.latitude, \n",
    "                        'alt' : point.elevation,\n",
    "                        'time' : point.time}, ignore_index=True)\n",
    "    return df"
   ]
  },
  {
   "cell_type": "markdown",
   "metadata": {},
   "source": [
    "---\n",
    "### Function: transform_to_JSON()\n",
    "This function exports the dataframe to the fileformat JSON. \n",
    "\n",
    "- parameters 1 : Dataframe which you want to clean\n",
    "- parameters 2 : Name of output JSON file"
   ]
  },
  {
   "cell_type": "code",
   "execution_count": 3,
   "metadata": {},
   "outputs": [],
   "source": [
    "def transform_to_JSON(df,name):\n",
    "    \n",
    "    output_path = \"../Data/Trail_JSON/\" + name\n",
    "    \n",
    "    df.to_json(output_path,orient='records')\n",
    "    \n",
    "    return (\"Transformation of \"  + str(name) + \" complete!\")\n",
    "    \n"
   ]
  },
  {
   "cell_type": "markdown",
   "metadata": {},
   "source": [
    "---\n",
    "### Function: create_plot()\n",
    "This function creates a plot from the inserted data on the map.\n",
    "\n",
    "- parameter 1: The dataframe you want to plot\n",
    "- parameter 2: The longitude column in the dataframe\n",
    "- parameter 3: The latitude column in the dataframe"
   ]
  },
  {
   "cell_type": "code",
   "execution_count": 4,
   "metadata": {},
   "outputs": [],
   "source": [
    "def create_plot(df,lonColumn,latColumn):\n",
    "    return plt.plot(df[lonColumn], df[latColumn])"
   ]
  },
  {
   "cell_type": "markdown",
   "metadata": {},
   "source": [
    "---\n",
    "### Function: init_cartopymap():\n",
    "This function creates a new cartopyMap and then returns the map instance"
   ]
  },
  {
   "cell_type": "code",
   "execution_count": 5,
   "metadata": {},
   "outputs": [],
   "source": [
    "def init_cartopymap():\n",
    "    \n",
    "    plt.figure(figsize = (20, 12))\n",
    "    \n",
    "    m = plt.axes(projection=ccrs.PlateCarree())\n",
    "\n",
    "    m.coastlines(resolution='10m')\n",
    "    \n",
    "    m.add_feature(cartopy.feature.LAND.with_scale('10m'), edgecolor='black', facecolor = \"white\")\n",
    "    \n",
    "    m.add_feature(cfeature.OCEAN)\n",
    "    \n",
    "    m.add_feature(cfeature.LAKES.with_scale('10m'), edgecolor = 'black')\n",
    "    \n",
    "    m.add_feature(cfeature.RIVERS.with_scale('10m')) \n",
    "    \n",
    "    m.add_feature(cfeature.BORDERS.with_scale('10m'))\n",
    "\n",
    "    return m "
   ]
  },
  {
   "cell_type": "markdown",
   "metadata": {},
   "source": [
    "---\n",
    "### Function: dfs_on_cartopymap():\n",
    "This function creates a map and visualizes the inserted dataframes on a CartopyMap\n",
    "\n",
    "- parameter 1: A list of dataframes, this can also be a list of just one dataframe\n",
    "- parameter 2: The longitude column in the dataframe\n",
    "- parameter 3: The latitude column in the dataframe\n",
    "- parameter 4: The color of the datapoints\n",
    "- parameter 5: The size of the datapoints"
   ]
  },
  {
   "cell_type": "code",
   "execution_count": 6,
   "metadata": {},
   "outputs": [],
   "source": [
    "def dfs_on_cartopymap(dfList,lonColumn,latColumn,color,size):\n",
    "\n",
    "    m = init_cartopymap()\n",
    "    \n",
    "    for df in dfList: \n",
    "        \n",
    "        m.scatter(df[lonColumn], \n",
    "                  df[latColumn],\n",
    "                  color=color, \n",
    "                  s = size)    \n",
    "    return m"
   ]
  },
  {
   "cell_type": "markdown",
   "metadata": {},
   "source": [
    "---\n",
    "### Function: basic_analyses()\n",
    "This function performs a basic GPX data analyses on an input file and returns a populated dataframe\n",
    "\n",
    "- parameter 1: The file location of the GPX file"
   ]
  },
  {
   "cell_type": "code",
   "execution_count": 7,
   "metadata": {},
   "outputs": [],
   "source": [
    "def basic_analyses(input_file):\n",
    "    \n",
    "    file = open(input_file, 'r')\n",
    "    \n",
    "    parsed_file = gpxpy.parse(file)\n",
    "    \n",
    "    print('\\n--------------------------------BASIC INFORMATION-------------------------------\\n\\n')\n",
    "    \n",
    "    print(\"File info: \" + str(parsed_file.tracks)+'\\n')\n",
    "    \n",
    "    print(\"Tracks in file:\" + str(len(parsed_file.tracks))+'\\n')\n",
    "    \n",
    "    print(\"Segments in track: \" + str(len(parsed_file.tracks[0].segments))+'\\n')\n",
    "    \n",
    "    print(\"DataPoints in track: \" + str(len(parsed_file.tracks[0].segments[0].points))+'\\n')\n",
    "    \n",
    "    data = parsed_file.tracks[0].segments[0].points\n",
    "    \n",
    "    print(\"Start position and date :\" + str(data[0])+'\\n')\n",
    "    \n",
    "    print(\"End position and date :\"  + str(data[-1])+'\\n')\n",
    "    \n",
    "    df = create_df(data)\n",
    "    \n",
    "    print('\\n------------------------------COLUMNS AND DATA TYPES----------------------------\\n\\n')\n",
    "    \n",
    "    print(df.dtypes)\n",
    "    \n",
    "    print('\\n-----------------------------DATA FRAME (first 2 rows)---------------------------\\n\\n')\n",
    "    \n",
    "    return df"
   ]
  },
  {
   "cell_type": "markdown",
   "metadata": {},
   "source": [
    "---\n",
    "## Biesbosch\n",
    "### National Park Noord-Brabantse Biesbosch, Drimmelen, Boat & Hike trail \n",
    "\n",
    "---"
   ]
  },
  {
   "cell_type": "code",
   "execution_count": 8,
   "metadata": {
    "scrolled": true
   },
   "outputs": [],
   "source": [
    "Biesbosch_file = open('../Data/Trail_GPX/SEP-26-09 64311 Biesbosch.gpx', 'r')\n",
    "Biesbosch = gpxpy.parse(Biesbosch_file)"
   ]
  },
  {
   "cell_type": "markdown",
   "metadata": {},
   "source": [
    "#### Print amount of tracks in GPX file"
   ]
  },
  {
   "cell_type": "code",
   "execution_count": 9,
   "metadata": {},
   "outputs": [
    {
     "data": {
      "text/plain": [
       "1"
      ]
     },
     "execution_count": 9,
     "metadata": {},
     "output_type": "execute_result"
    }
   ],
   "source": [
    "len(Biesbosch.tracks)"
   ]
  },
  {
   "cell_type": "markdown",
   "metadata": {},
   "source": [
    "#### Print amount of line segments in track"
   ]
  },
  {
   "cell_type": "code",
   "execution_count": 10,
   "metadata": {},
   "outputs": [
    {
     "data": {
      "text/plain": [
       "1"
      ]
     },
     "execution_count": 10,
     "metadata": {},
     "output_type": "execute_result"
    }
   ],
   "source": [
    "len(Biesbosch.tracks[0].segments)"
   ]
  },
  {
   "cell_type": "markdown",
   "metadata": {},
   "source": [
    "#### Print length of track "
   ]
  },
  {
   "cell_type": "code",
   "execution_count": 11,
   "metadata": {},
   "outputs": [
    {
     "data": {
      "text/plain": [
       "751"
      ]
     },
     "execution_count": 11,
     "metadata": {},
     "output_type": "execute_result"
    }
   ],
   "source": [
    "len(Biesbosch.tracks[0].segments[0].points)"
   ]
  },
  {
   "cell_type": "markdown",
   "metadata": {},
   "source": [
    "#### Assign all trackpoints to a variable and print one"
   ]
  },
  {
   "cell_type": "code",
   "execution_count": 12,
   "metadata": {},
   "outputs": [
    {
     "data": {
      "text/plain": [
       "[GPXTrackPoint(51.507614, 6.170337, elevation=16.48, time=datetime.datetime(2009, 9, 25, 16, 23, 13, tzinfo=SimpleTZ(\"Z\")))]"
      ]
     },
     "execution_count": 12,
     "metadata": {},
     "output_type": "execute_result"
    }
   ],
   "source": [
    "Biesbosch_data = Biesbosch.tracks[0].segments[0].points\n",
    "Biesbosch_data[:1]"
   ]
  },
  {
   "cell_type": "markdown",
   "metadata": {},
   "source": [
    "#### Show start coordinates and DTG (Datetimegroup)"
   ]
  },
  {
   "cell_type": "code",
   "execution_count": 13,
   "metadata": {},
   "outputs": [
    {
     "data": {
      "text/plain": [
       "GPXTrackPoint(51.507614, 6.170337, elevation=16.48, time=datetime.datetime(2009, 9, 25, 16, 23, 13, tzinfo=SimpleTZ(\"Z\")))"
      ]
     },
     "execution_count": 13,
     "metadata": {},
     "output_type": "execute_result"
    }
   ],
   "source": [
    "Biesbosch_data[0]"
   ]
  },
  {
   "cell_type": "markdown",
   "metadata": {},
   "source": [
    "#### Show end coordinates and DTG (Datetimegroup)"
   ]
  },
  {
   "cell_type": "code",
   "execution_count": 14,
   "metadata": {},
   "outputs": [
    {
     "data": {
      "text/plain": [
       "GPXTrackPoint(51.706118, 4.811185, elevation=3.5, time=datetime.datetime(2009, 9, 26, 14, 43, 22, tzinfo=SimpleTZ(\"Z\")))"
      ]
     },
     "execution_count": 14,
     "metadata": {},
     "output_type": "execute_result"
    }
   ],
   "source": [
    "Biesbosch_data[-1]"
   ]
  },
  {
   "cell_type": "markdown",
   "metadata": {},
   "source": [
    "#### Create a dataframe"
   ]
  },
  {
   "cell_type": "code",
   "execution_count": 15,
   "metadata": {},
   "outputs": [],
   "source": [
    "Biesbosch = create_df(Biesbosch_data)"
   ]
  },
  {
   "cell_type": "markdown",
   "metadata": {},
   "source": [
    "#### Plot track using MatplotLib"
   ]
  },
  {
   "cell_type": "code",
   "execution_count": 16,
   "metadata": {},
   "outputs": [
    {
     "data": {
      "text/plain": [
       "[<matplotlib.lines.Line2D at 0x7fd8645a72e8>]"
      ]
     },
     "execution_count": 16,
     "metadata": {},
     "output_type": "execute_result"
    },
    {
     "data": {
      "image/png": "[encoded data removed]",
      "text/plain": [
       "<Figure size 432x288 with 1 Axes>"
      ]
     },
     "metadata": {
      "needs_background": "light"
     },
     "output_type": "display_data"
    }
   ],
   "source": [
    "plt.plot(Biesbosch[12:]['lon'], Biesbosch[12:]['lat'])"
   ]
  },
  {
   "cell_type": "markdown",
   "metadata": {},
   "source": [
    "#### Plot track using MatplotLib + Cartopy"
   ]
  },
  {
   "cell_type": "code",
   "execution_count": 18,
   "metadata": {},
   "outputs": [
    {
     "data": {
      "text/plain": [
       "<cartopy.mpl.geoaxes.GeoAxesSubplot at 0x7fd856e08cf8>"
      ]
     },
     "execution_count": 18,
     "metadata": {},
     "output_type": "execute_result"
    },
    {
     "data": {
      "image/png": "[encoded data removed]",
      "text/plain": [
       "<Figure size 1440x864 with 1 Axes>"
      ]
     },
     "metadata": {
      "needs_background": "light"
     },
     "output_type": "display_data"
    }
   ],
   "source": [
    "dfs_on_cartopymap([Biesbosch[12:]],'lon','lat',\"red\",1)"
   ]
  },
  {
   "cell_type": "markdown",
   "metadata": {},
   "source": [
    "#### Plot datacolumns and their datatypes"
   ]
  },
  {
   "cell_type": "code",
   "execution_count": 19,
   "metadata": {},
   "outputs": [
    {
     "data": {
      "text/plain": [
       "lon     float64\n",
       "lat     float64\n",
       "alt     float64\n",
       "time     object\n",
       "dtype: object"
      ]
     },
     "execution_count": 19,
     "metadata": {},
     "output_type": "execute_result"
    }
   ],
   "source": [
    "Biesbosch.dtypes"
   ]
  },
  {
   "cell_type": "markdown",
   "metadata": {},
   "source": [
    "#### Create table with columns and data types:\n",
    "\n",
    "|Column|Type|Desc.|\n",
    "|--|--|--|\n",
    "|lon |    float64 | longitude coordinates |\n",
    "|lat  |   float64 | latitiude coordinates | \n",
    "|alt   |  float64 | altitude coordinates |\n",
    "|time  |   Datetime | datetime of transmission|"
   ]
  },
  {
   "cell_type": "markdown",
   "metadata": {},
   "source": [
    "#### Transform dataframe to JSON file format"
   ]
  },
  {
   "cell_type": "code",
   "execution_count": 20,
   "metadata": {},
   "outputs": [
    {
     "data": {
      "text/plain": [
       "'Transformation of Trail_Biesbosch.json complete!'"
      ]
     },
     "execution_count": 20,
     "metadata": {},
     "output_type": "execute_result"
    }
   ],
   "source": [
    "transform_to_JSON(Biesbosch[12:],'Trail_Biesbosch.json')"
   ]
  },
  {
   "cell_type": "markdown",
   "metadata": {},
   "source": [
    "---\n",
    "## Biesbosch Libellen\n",
    "### National Park Zuid-Hollandse Biesbosch, Merwelanden, Dragonfly Hike trail\n",
    "---"
   ]
  },
  {
   "cell_type": "markdown",
   "metadata": {},
   "source": [
    "#### Perform basic analyses of trail and assign dataframe returned to a variable."
   ]
  },
  {
   "cell_type": "code",
   "execution_count": 21,
   "metadata": {},
   "outputs": [
    {
     "name": "stdout",
     "output_type": "stream",
     "text": [
      "\n",
      "--------------------------------BASIC INFORMATION-------------------------------\n",
      "\n",
      "\n",
      "File info: [GPXTrack(name='JUN-03-11 15:18:45 BiesboschLibellen', segments=[GPXTrackSegment(points=[...])])]\n",
      "\n",
      "Tracks in file:1\n",
      "\n",
      "Segments in track: 1\n",
      "\n",
      "DataPoints in track: 502\n",
      "\n",
      "Start position and date :[trkpt:51.767291,4.770943@-129.64@2011-06-03 10:47:45+00:00]\n",
      "\n",
      "End position and date :[trkpt:51.807439,4.764375@6.39@2011-06-03 13:20:14+00:00]\n",
      "\n",
      "\n",
      "------------------------------COLUMNS AND DATA TYPES----------------------------\n",
      "\n",
      "\n",
      "lon     float64\n",
      "lat     float64\n",
      "alt     float64\n",
      "time     object\n",
      "dtype: object\n",
      "\n",
      "-----------------------------DATA FRAME (first 2 rows)---------------------------\n",
      "\n",
      "\n"
     ]
    },
    {
     "data": {
      "text/html": [
       "<div>\n",
       "<style scoped>\n",
       "    .dataframe tbody tr th:only-of-type {\n",
       "        vertical-align: middle;\n",
       "    }\n",
       "\n",
       "    .dataframe tbody tr th {\n",
       "        vertical-align: top;\n",
       "    }\n",
       "\n",
       "    .dataframe thead th {\n",
       "        text-align: right;\n",
       "    }\n",
       "</style>\n",
       "<table border=\"1\" class=\"dataframe\">\n",
       "  <thead>\n",
       "    <tr style=\"text-align: right;\">\n",
       "      <th></th>\n",
       "      <th>lon</th>\n",
       "      <th>lat</th>\n",
       "      <th>alt</th>\n",
       "      <th>time</th>\n",
       "    </tr>\n",
       "  </thead>\n",
       "  <tbody>\n",
       "    <tr>\n",
       "      <th>0</th>\n",
       "      <td>4.770943</td>\n",
       "      <td>51.767291</td>\n",
       "      <td>-129.64</td>\n",
       "      <td>2011-06-03 10:47:45+00:00</td>\n",
       "    </tr>\n",
       "    <tr>\n",
       "      <th>1</th>\n",
       "      <td>4.770943</td>\n",
       "      <td>51.767291</td>\n",
       "      <td>-130.12</td>\n",
       "      <td>2011-06-03 10:47:54+00:00</td>\n",
       "    </tr>\n",
       "    <tr>\n",
       "      <th>2</th>\n",
       "      <td>4.770943</td>\n",
       "      <td>51.767291</td>\n",
       "      <td>-133.01</td>\n",
       "      <td>2011-06-03 10:47:57+00:00</td>\n",
       "    </tr>\n",
       "    <tr>\n",
       "      <th>3</th>\n",
       "      <td>4.770943</td>\n",
       "      <td>51.767291</td>\n",
       "      <td>-133.01</td>\n",
       "      <td>2011-06-03 10:47:58+00:00</td>\n",
       "    </tr>\n",
       "    <tr>\n",
       "      <th>4</th>\n",
       "      <td>4.770943</td>\n",
       "      <td>51.767291</td>\n",
       "      <td>-130.60</td>\n",
       "      <td>2011-06-03 10:48:01+00:00</td>\n",
       "    </tr>\n",
       "    <tr>\n",
       "      <th>...</th>\n",
       "      <td>...</td>\n",
       "      <td>...</td>\n",
       "      <td>...</td>\n",
       "      <td>...</td>\n",
       "    </tr>\n",
       "    <tr>\n",
       "      <th>497</th>\n",
       "      <td>4.764344</td>\n",
       "      <td>51.807342</td>\n",
       "      <td>5.91</td>\n",
       "      <td>2011-06-03 13:18:47+00:00</td>\n",
       "    </tr>\n",
       "    <tr>\n",
       "      <th>498</th>\n",
       "      <td>4.764333</td>\n",
       "      <td>51.807333</td>\n",
       "      <td>7.35</td>\n",
       "      <td>2011-06-03 13:18:58+00:00</td>\n",
       "    </tr>\n",
       "    <tr>\n",
       "      <th>499</th>\n",
       "      <td>4.764378</td>\n",
       "      <td>51.807443</td>\n",
       "      <td>7.35</td>\n",
       "      <td>2011-06-03 13:20:11+00:00</td>\n",
       "    </tr>\n",
       "    <tr>\n",
       "      <th>500</th>\n",
       "      <td>4.764375</td>\n",
       "      <td>51.807439</td>\n",
       "      <td>3.02</td>\n",
       "      <td>2011-06-03 13:20:13+00:00</td>\n",
       "    </tr>\n",
       "    <tr>\n",
       "      <th>501</th>\n",
       "      <td>4.764375</td>\n",
       "      <td>51.807439</td>\n",
       "      <td>6.39</td>\n",
       "      <td>2011-06-03 13:20:14+00:00</td>\n",
       "    </tr>\n",
       "  </tbody>\n",
       "</table>\n",
       "<p>502 rows × 4 columns</p>\n",
       "</div>"
      ],
      "text/plain": [
       "          lon        lat     alt                       time\n",
       "0    4.770943  51.767291 -129.64  2011-06-03 10:47:45+00:00\n",
       "1    4.770943  51.767291 -130.12  2011-06-03 10:47:54+00:00\n",
       "2    4.770943  51.767291 -133.01  2011-06-03 10:47:57+00:00\n",
       "3    4.770943  51.767291 -133.01  2011-06-03 10:47:58+00:00\n",
       "4    4.770943  51.767291 -130.60  2011-06-03 10:48:01+00:00\n",
       "..        ...        ...     ...                        ...\n",
       "497  4.764344  51.807342    5.91  2011-06-03 13:18:47+00:00\n",
       "498  4.764333  51.807333    7.35  2011-06-03 13:18:58+00:00\n",
       "499  4.764378  51.807443    7.35  2011-06-03 13:20:11+00:00\n",
       "500  4.764375  51.807439    3.02  2011-06-03 13:20:13+00:00\n",
       "501  4.764375  51.807439    6.39  2011-06-03 13:20:14+00:00\n",
       "\n",
       "[502 rows x 4 columns]"
      ]
     },
     "execution_count": 21,
     "metadata": {},
     "output_type": "execute_result"
    }
   ],
   "source": [
    "Biesbosch_Lib = basic_analyses('../Data/Trail_GPX/JUN-03-11 151845 BiesboschLibellen.gpx')\n",
    "Biesbosch_Lib"
   ]
  },
  {
   "cell_type": "markdown",
   "metadata": {},
   "source": [
    "#### Plot track using MatplotLib."
   ]
  },
  {
   "cell_type": "code",
   "execution_count": 22,
   "metadata": {},
   "outputs": [
    {
     "data": {
      "text/plain": [
       "[<matplotlib.lines.Line2D at 0x7fd856e998d0>]"
      ]
     },
     "execution_count": 22,
     "metadata": {},
     "output_type": "execute_result"
    },
    {
     "data": {
      "image/png": "[encoded data removed]",
      "text/plain": [
       "<Figure size 432x288 with 1 Axes>"
      ]
     },
     "metadata": {
      "needs_background": "light"
     },
     "output_type": "display_data"
    }
   ],
   "source": [
    "create_plot(Biesbosch_Lib[9:],'lon','lat') "
   ]
  },
  {
   "cell_type": "markdown",
   "metadata": {},
   "source": [
    "#### Plot track using MatplotLib on a CartopyMap."
   ]
  },
  {
   "cell_type": "code",
   "execution_count": 23,
   "metadata": {},
   "outputs": [
    {
     "data": {
      "text/plain": [
       "<cartopy.mpl.geoaxes.GeoAxesSubplot at 0x7fd8579652e8>"
      ]
     },
     "execution_count": 23,
     "metadata": {},
     "output_type": "execute_result"
    },
    {
     "data": {
      "image/png": "[encoded data removed]",
      "text/plain": [
       "<Figure size 1440x864 with 1 Axes>"
      ]
     },
     "metadata": {
      "needs_background": "light"
     },
     "output_type": "display_data"
    }
   ],
   "source": [
    "dfs_on_cartopymap([Biesbosch_Lib[9:]],'lon','lat','red',1)"
   ]
  },
  {
   "cell_type": "markdown",
   "metadata": {},
   "source": [
    "#### Transform dataframe to JSON file format."
   ]
  },
  {
   "cell_type": "code",
   "execution_count": 24,
   "metadata": {},
   "outputs": [
    {
     "data": {
      "text/plain": [
       "'Transformation of Trail-Biesbosch-Libellen.json complete!'"
      ]
     },
     "execution_count": 24,
     "metadata": {},
     "output_type": "execute_result"
    }
   ],
   "source": [
    "transform_to_JSON(Biesbosch_Lib[9:],'Trail-Biesbosch-Libellen.json')"
   ]
  },
  {
   "cell_type": "markdown",
   "metadata": {},
   "source": [
    "---\n",
    "## Zeeland\n",
    "### Zeeland, Brouwersdam Willemstad, Birdwatching car route\n",
    "---"
   ]
  },
  {
   "cell_type": "markdown",
   "metadata": {},
   "source": [
    "#### Perform basic analyses of trail and assign dataframe returned to a variable."
   ]
  },
  {
   "cell_type": "code",
   "execution_count": 25,
   "metadata": {},
   "outputs": [
    {
     "name": "stdout",
     "output_type": "stream",
     "text": [
      "\n",
      "--------------------------------BASIC INFORMATION-------------------------------\n",
      "\n",
      "\n",
      "File info: [GPXTrack(name='JAN-16-11 17:20:53 Zeeland MNV', segments=[GPXTrackSegment(points=[...])])]\n",
      "\n",
      "Tracks in file:1\n",
      "\n",
      "Segments in track: 1\n",
      "\n",
      "DataPoints in track: 1174\n",
      "\n",
      "Start position and date :[trkpt:51.690082,3.825755@-53.22@2011-01-16 11:25:51+00:00]\n",
      "\n",
      "End position and date :[trkpt:51.561441,4.708557@3.5@2011-01-16 16:20:44+00:00]\n",
      "\n",
      "\n",
      "------------------------------COLUMNS AND DATA TYPES----------------------------\n",
      "\n",
      "\n",
      "lon     float64\n",
      "lat     float64\n",
      "alt     float64\n",
      "time     object\n",
      "dtype: object\n",
      "\n",
      "-----------------------------DATA FRAME (first 2 rows)---------------------------\n",
      "\n",
      "\n"
     ]
    },
    {
     "data": {
      "text/html": [
       "<div>\n",
       "<style scoped>\n",
       "    .dataframe tbody tr th:only-of-type {\n",
       "        vertical-align: middle;\n",
       "    }\n",
       "\n",
       "    .dataframe tbody tr th {\n",
       "        vertical-align: top;\n",
       "    }\n",
       "\n",
       "    .dataframe thead th {\n",
       "        text-align: right;\n",
       "    }\n",
       "</style>\n",
       "<table border=\"1\" class=\"dataframe\">\n",
       "  <thead>\n",
       "    <tr style=\"text-align: right;\">\n",
       "      <th></th>\n",
       "      <th>lon</th>\n",
       "      <th>lat</th>\n",
       "      <th>alt</th>\n",
       "      <th>time</th>\n",
       "    </tr>\n",
       "  </thead>\n",
       "  <tbody>\n",
       "    <tr>\n",
       "      <th>0</th>\n",
       "      <td>3.825755</td>\n",
       "      <td>51.690082</td>\n",
       "      <td>-53.22</td>\n",
       "      <td>2011-01-16 11:25:51+00:00</td>\n",
       "    </tr>\n",
       "    <tr>\n",
       "      <th>1</th>\n",
       "      <td>3.825772</td>\n",
       "      <td>51.690129</td>\n",
       "      <td>-53.22</td>\n",
       "      <td>2011-01-16 11:25:52+00:00</td>\n",
       "    </tr>\n",
       "    <tr>\n",
       "      <th>2</th>\n",
       "      <td>3.825801</td>\n",
       "      <td>51.690174</td>\n",
       "      <td>-52.74</td>\n",
       "      <td>2011-01-16 11:25:53+00:00</td>\n",
       "    </tr>\n",
       "    <tr>\n",
       "      <th>3</th>\n",
       "      <td>3.825845</td>\n",
       "      <td>51.690222</td>\n",
       "      <td>-52.25</td>\n",
       "      <td>2011-01-16 11:25:54+00:00</td>\n",
       "    </tr>\n",
       "    <tr>\n",
       "      <th>4</th>\n",
       "      <td>3.825900</td>\n",
       "      <td>51.690273</td>\n",
       "      <td>-51.77</td>\n",
       "      <td>2011-01-16 11:25:55+00:00</td>\n",
       "    </tr>\n",
       "    <tr>\n",
       "      <th>...</th>\n",
       "      <td>...</td>\n",
       "      <td>...</td>\n",
       "      <td>...</td>\n",
       "      <td>...</td>\n",
       "    </tr>\n",
       "    <tr>\n",
       "      <th>1169</th>\n",
       "      <td>4.708559</td>\n",
       "      <td>51.561443</td>\n",
       "      <td>-53.70</td>\n",
       "      <td>2011-01-16 16:19:43+00:00</td>\n",
       "    </tr>\n",
       "    <tr>\n",
       "      <th>1170</th>\n",
       "      <td>4.708557</td>\n",
       "      <td>51.561441</td>\n",
       "      <td>-50.81</td>\n",
       "      <td>2011-01-16 16:20:41+00:00</td>\n",
       "    </tr>\n",
       "    <tr>\n",
       "      <th>1171</th>\n",
       "      <td>4.708557</td>\n",
       "      <td>51.561441</td>\n",
       "      <td>5.91</td>\n",
       "      <td>2011-01-16 16:20:42+00:00</td>\n",
       "    </tr>\n",
       "    <tr>\n",
       "      <th>1172</th>\n",
       "      <td>4.708557</td>\n",
       "      <td>51.561441</td>\n",
       "      <td>2.54</td>\n",
       "      <td>2011-01-16 16:20:43+00:00</td>\n",
       "    </tr>\n",
       "    <tr>\n",
       "      <th>1173</th>\n",
       "      <td>4.708557</td>\n",
       "      <td>51.561441</td>\n",
       "      <td>3.50</td>\n",
       "      <td>2011-01-16 16:20:44+00:00</td>\n",
       "    </tr>\n",
       "  </tbody>\n",
       "</table>\n",
       "<p>1174 rows × 4 columns</p>\n",
       "</div>"
      ],
      "text/plain": [
       "           lon        lat    alt                       time\n",
       "0     3.825755  51.690082 -53.22  2011-01-16 11:25:51+00:00\n",
       "1     3.825772  51.690129 -53.22  2011-01-16 11:25:52+00:00\n",
       "2     3.825801  51.690174 -52.74  2011-01-16 11:25:53+00:00\n",
       "3     3.825845  51.690222 -52.25  2011-01-16 11:25:54+00:00\n",
       "4     3.825900  51.690273 -51.77  2011-01-16 11:25:55+00:00\n",
       "...        ...        ...    ...                        ...\n",
       "1169  4.708559  51.561443 -53.70  2011-01-16 16:19:43+00:00\n",
       "1170  4.708557  51.561441 -50.81  2011-01-16 16:20:41+00:00\n",
       "1171  4.708557  51.561441   5.91  2011-01-16 16:20:42+00:00\n",
       "1172  4.708557  51.561441   2.54  2011-01-16 16:20:43+00:00\n",
       "1173  4.708557  51.561441   3.50  2011-01-16 16:20:44+00:00\n",
       "\n",
       "[1174 rows x 4 columns]"
      ]
     },
     "execution_count": 25,
     "metadata": {},
     "output_type": "execute_result"
    }
   ],
   "source": [
    "Zeeland = basic_analyses('../Data/Trail_GPX/JAN-16-11 172053 Zeeland MNV.gpx')\n",
    "Zeeland"
   ]
  },
  {
   "cell_type": "markdown",
   "metadata": {},
   "source": [
    "#### Plot track using MatplotLib."
   ]
  },
  {
   "cell_type": "code",
   "execution_count": 26,
   "metadata": {},
   "outputs": [
    {
     "data": {
      "text/plain": [
       "[<matplotlib.lines.Line2D at 0x7fd8553c5780>]"
      ]
     },
     "execution_count": 26,
     "metadata": {},
     "output_type": "execute_result"
    },
    {
     "data": {
      "image/png": "[encoded data removed]",
      "text/plain": [
       "<Figure size 432x288 with 1 Axes>"
      ]
     },
     "metadata": {
      "needs_background": "light"
     },
     "output_type": "display_data"
    }
   ],
   "source": [
    "create_plot(Zeeland,'lon','lat') "
   ]
  },
  {
   "cell_type": "markdown",
   "metadata": {},
   "source": [
    "#### Plot track using MatplotLib on a CartopyMap."
   ]
  },
  {
   "cell_type": "code",
   "execution_count": 27,
   "metadata": {},
   "outputs": [
    {
     "data": {
      "text/plain": [
       "<cartopy.mpl.geoaxes.GeoAxesSubplot at 0x7fd8553bfc88>"
      ]
     },
     "execution_count": 27,
     "metadata": {},
     "output_type": "execute_result"
    },
    {
     "data": {
      "image/png": "[encoded data removed]",
      "text/plain": [
       "<Figure size 1440x864 with 1 Axes>"
      ]
     },
     "metadata": {
      "needs_background": "light"
     },
     "output_type": "display_data"
    }
   ],
   "source": [
    "dfs_on_cartopymap([Zeeland],'lon','lat','red',3)"
   ]
  },
  {
   "cell_type": "markdown",
   "metadata": {},
   "source": [
    "#### Transform dataframe to JSON file format."
   ]
  },
  {
   "cell_type": "code",
   "execution_count": 28,
   "metadata": {},
   "outputs": [
    {
     "data": {
      "text/plain": [
       "'Transformation of Trail_ZeelandMNV.json complete!'"
      ]
     },
     "execution_count": 28,
     "metadata": {},
     "output_type": "execute_result"
    }
   ],
   "source": [
    "transform_to_JSON(Zeeland,'Trail_ZeelandMNV.json')"
   ]
  },
  {
   "cell_type": "markdown",
   "metadata": {},
   "source": [
    "---\n",
    "##  Hamert Biking\n",
    "### National Park Maasduinen, de Hamert, Biking Trail\n",
    "---"
   ]
  },
  {
   "cell_type": "markdown",
   "metadata": {},
   "source": [
    "#### Perform basic analyses of trail and assign dataframe returned to a variable."
   ]
  },
  {
   "cell_type": "code",
   "execution_count": 29,
   "metadata": {},
   "outputs": [
    {
     "name": "stdout",
     "output_type": "stream",
     "text": [
      "\n",
      "--------------------------------BASIC INFORMATION-------------------------------\n",
      "\n",
      "\n",
      "File info: [GPXTrack(name='OKT-25-09 16:42:43 Hamert Fiets', segments=[GPXTrackSegment(points=[...])])]\n",
      "\n",
      "Tracks in file:1\n",
      "\n",
      "Segments in track: 1\n",
      "\n",
      "DataPoints in track: 422\n",
      "\n",
      "Start position and date :[trkpt:51.507754,6.170593@25.61@2009-10-25 13:52:18+00:00]\n",
      "\n",
      "End position and date :[trkpt:51.507981,6.169311@4.46@2009-10-25 15:43:13+00:00]\n",
      "\n",
      "\n",
      "------------------------------COLUMNS AND DATA TYPES----------------------------\n",
      "\n",
      "\n",
      "lon     float64\n",
      "lat     float64\n",
      "alt     float64\n",
      "time     object\n",
      "dtype: object\n",
      "\n",
      "-----------------------------DATA FRAME (first 2 rows)---------------------------\n",
      "\n",
      "\n"
     ]
    },
    {
     "data": {
      "text/html": [
       "<div>\n",
       "<style scoped>\n",
       "    .dataframe tbody tr th:only-of-type {\n",
       "        vertical-align: middle;\n",
       "    }\n",
       "\n",
       "    .dataframe tbody tr th {\n",
       "        vertical-align: top;\n",
       "    }\n",
       "\n",
       "    .dataframe thead th {\n",
       "        text-align: right;\n",
       "    }\n",
       "</style>\n",
       "<table border=\"1\" class=\"dataframe\">\n",
       "  <thead>\n",
       "    <tr style=\"text-align: right;\">\n",
       "      <th></th>\n",
       "      <th>lon</th>\n",
       "      <th>lat</th>\n",
       "      <th>alt</th>\n",
       "      <th>time</th>\n",
       "    </tr>\n",
       "  </thead>\n",
       "  <tbody>\n",
       "    <tr>\n",
       "      <th>0</th>\n",
       "      <td>6.170593</td>\n",
       "      <td>51.507754</td>\n",
       "      <td>25.61</td>\n",
       "      <td>2009-10-25 13:52:18+00:00</td>\n",
       "    </tr>\n",
       "    <tr>\n",
       "      <th>1</th>\n",
       "      <td>6.170593</td>\n",
       "      <td>51.507754</td>\n",
       "      <td>28.98</td>\n",
       "      <td>2009-10-25 13:52:19+00:00</td>\n",
       "    </tr>\n",
       "    <tr>\n",
       "      <th>2</th>\n",
       "      <td>6.170593</td>\n",
       "      <td>51.507754</td>\n",
       "      <td>26.09</td>\n",
       "      <td>2009-10-25 13:52:20+00:00</td>\n",
       "    </tr>\n",
       "    <tr>\n",
       "      <th>3</th>\n",
       "      <td>6.170593</td>\n",
       "      <td>51.507754</td>\n",
       "      <td>25.13</td>\n",
       "      <td>2009-10-25 13:52:25+00:00</td>\n",
       "    </tr>\n",
       "    <tr>\n",
       "      <th>4</th>\n",
       "      <td>6.170593</td>\n",
       "      <td>51.507754</td>\n",
       "      <td>26.09</td>\n",
       "      <td>2009-10-25 13:52:37+00:00</td>\n",
       "    </tr>\n",
       "    <tr>\n",
       "      <th>...</th>\n",
       "      <td>...</td>\n",
       "      <td>...</td>\n",
       "      <td>...</td>\n",
       "      <td>...</td>\n",
       "    </tr>\n",
       "    <tr>\n",
       "      <th>417</th>\n",
       "      <td>6.169311</td>\n",
       "      <td>51.507982</td>\n",
       "      <td>3.50</td>\n",
       "      <td>2009-10-25 15:42:36+00:00</td>\n",
       "    </tr>\n",
       "    <tr>\n",
       "      <th>418</th>\n",
       "      <td>6.169311</td>\n",
       "      <td>51.507982</td>\n",
       "      <td>6.87</td>\n",
       "      <td>2009-10-25 15:42:56+00:00</td>\n",
       "    </tr>\n",
       "    <tr>\n",
       "      <th>419</th>\n",
       "      <td>6.169311</td>\n",
       "      <td>51.507982</td>\n",
       "      <td>3.02</td>\n",
       "      <td>2009-10-25 15:42:57+00:00</td>\n",
       "    </tr>\n",
       "    <tr>\n",
       "      <th>420</th>\n",
       "      <td>6.169311</td>\n",
       "      <td>51.507981</td>\n",
       "      <td>3.02</td>\n",
       "      <td>2009-10-25 15:43:11+00:00</td>\n",
       "    </tr>\n",
       "    <tr>\n",
       "      <th>421</th>\n",
       "      <td>6.169311</td>\n",
       "      <td>51.507981</td>\n",
       "      <td>4.46</td>\n",
       "      <td>2009-10-25 15:43:13+00:00</td>\n",
       "    </tr>\n",
       "  </tbody>\n",
       "</table>\n",
       "<p>422 rows × 4 columns</p>\n",
       "</div>"
      ],
      "text/plain": [
       "          lon        lat    alt                       time\n",
       "0    6.170593  51.507754  25.61  2009-10-25 13:52:18+00:00\n",
       "1    6.170593  51.507754  28.98  2009-10-25 13:52:19+00:00\n",
       "2    6.170593  51.507754  26.09  2009-10-25 13:52:20+00:00\n",
       "3    6.170593  51.507754  25.13  2009-10-25 13:52:25+00:00\n",
       "4    6.170593  51.507754  26.09  2009-10-25 13:52:37+00:00\n",
       "..        ...        ...    ...                        ...\n",
       "417  6.169311  51.507982   3.50  2009-10-25 15:42:36+00:00\n",
       "418  6.169311  51.507982   6.87  2009-10-25 15:42:56+00:00\n",
       "419  6.169311  51.507982   3.02  2009-10-25 15:42:57+00:00\n",
       "420  6.169311  51.507981   3.02  2009-10-25 15:43:11+00:00\n",
       "421  6.169311  51.507981   4.46  2009-10-25 15:43:13+00:00\n",
       "\n",
       "[422 rows x 4 columns]"
      ]
     },
     "execution_count": 29,
     "metadata": {},
     "output_type": "execute_result"
    }
   ],
   "source": [
    "Hamert_Bike = basic_analyses('../Data/Trail_GPX/OKT-25-09 164243 Hamert Fiets.gpx')\n",
    "Hamert_Bike "
   ]
  },
  {
   "cell_type": "markdown",
   "metadata": {},
   "source": [
    "#### Plot track using MatplotLib."
   ]
  },
  {
   "cell_type": "code",
   "execution_count": 30,
   "metadata": {},
   "outputs": [
    {
     "data": {
      "text/plain": [
       "[<matplotlib.lines.Line2D at 0x7fd856f1fa58>]"
      ]
     },
     "execution_count": 30,
     "metadata": {},
     "output_type": "execute_result"
    },
    {
     "data": {
      "image/png": "[encoded data removed]",
      "text/plain": [
       "<Figure size 432x288 with 1 Axes>"
      ]
     },
     "metadata": {
      "needs_background": "light"
     },
     "output_type": "display_data"
    }
   ],
   "source": [
    "create_plot(Hamert_Bike,'lon','lat') "
   ]
  },
  {
   "cell_type": "markdown",
   "metadata": {},
   "source": [
    "#### Plot track using MatplotLib on a CartopyMap."
   ]
  },
  {
   "cell_type": "code",
   "execution_count": 31,
   "metadata": {},
   "outputs": [
    {
     "data": {
      "text/plain": [
       "<cartopy.mpl.geoaxes.GeoAxesSubplot at 0x7fd856ef0470>"
      ]
     },
     "execution_count": 31,
     "metadata": {},
     "output_type": "execute_result"
    },
    {
     "data": {
      "image/png": "[encoded data removed]",
      "text/plain": [
       "<Figure size 1440x864 with 1 Axes>"
      ]
     },
     "metadata": {
      "needs_background": "light"
     },
     "output_type": "display_data"
    }
   ],
   "source": [
    "dfs_on_cartopymap([Hamert_Bike],'lon','lat','red',1)"
   ]
  },
  {
   "cell_type": "markdown",
   "metadata": {},
   "source": [
    "#### Transform dataframe to JSON file format."
   ]
  },
  {
   "cell_type": "code",
   "execution_count": 32,
   "metadata": {},
   "outputs": [
    {
     "data": {
      "text/plain": [
       "'Transformation of Trail-Hamert-Bike.json complete!'"
      ]
     },
     "execution_count": 32,
     "metadata": {},
     "output_type": "execute_result"
    }
   ],
   "source": [
    "transform_to_JSON(Hamert_Bike,'Trail-Hamert-Bike.json')"
   ]
  },
  {
   "cell_type": "markdown",
   "metadata": {},
   "source": [
    "---\n",
    "## Hamert Hiking\n",
    "### National Park Maasduinen, de Hamert, Hiking trail \n",
    "---"
   ]
  },
  {
   "cell_type": "markdown",
   "metadata": {},
   "source": [
    "#### Perform basic analyses of trail and assign dataframe returned to a variable."
   ]
  },
  {
   "cell_type": "code",
   "execution_count": 33,
   "metadata": {},
   "outputs": [
    {
     "name": "stdout",
     "output_type": "stream",
     "text": [
      "\n",
      "--------------------------------BASIC INFORMATION-------------------------------\n",
      "\n",
      "\n",
      "File info: [GPXTrack(name='SEP-25-09 18:22:35 Hamert', segments=[GPXTrackSegment(points=[...])])]\n",
      "\n",
      "Tracks in file:1\n",
      "\n",
      "Segments in track: 1\n",
      "\n",
      "DataPoints in track: 1483\n",
      "\n",
      "Start position and date :[trkpt:51.507603,6.170338@-38.32@2009-09-25 11:44:19+00:00]\n",
      "\n",
      "End position and date :[trkpt:51.507615,6.170335@13.12@2009-09-25 16:22:30+00:00]\n",
      "\n",
      "\n",
      "------------------------------COLUMNS AND DATA TYPES----------------------------\n",
      "\n",
      "\n",
      "lon     float64\n",
      "lat     float64\n",
      "alt     float64\n",
      "time     object\n",
      "dtype: object\n",
      "\n",
      "-----------------------------DATA FRAME (first 2 rows)---------------------------\n",
      "\n",
      "\n"
     ]
    },
    {
     "data": {
      "text/html": [
       "<div>\n",
       "<style scoped>\n",
       "    .dataframe tbody tr th:only-of-type {\n",
       "        vertical-align: middle;\n",
       "    }\n",
       "\n",
       "    .dataframe tbody tr th {\n",
       "        vertical-align: top;\n",
       "    }\n",
       "\n",
       "    .dataframe thead th {\n",
       "        text-align: right;\n",
       "    }\n",
       "</style>\n",
       "<table border=\"1\" class=\"dataframe\">\n",
       "  <thead>\n",
       "    <tr style=\"text-align: right;\">\n",
       "      <th></th>\n",
       "      <th>lon</th>\n",
       "      <th>lat</th>\n",
       "      <th>alt</th>\n",
       "      <th>time</th>\n",
       "    </tr>\n",
       "  </thead>\n",
       "  <tbody>\n",
       "    <tr>\n",
       "      <th>0</th>\n",
       "      <td>6.170338</td>\n",
       "      <td>51.507603</td>\n",
       "      <td>-38.32</td>\n",
       "      <td>2009-09-25 11:44:19+00:00</td>\n",
       "    </tr>\n",
       "    <tr>\n",
       "      <th>1</th>\n",
       "      <td>6.170338</td>\n",
       "      <td>51.507604</td>\n",
       "      <td>-34.95</td>\n",
       "      <td>2009-09-25 11:44:20+00:00</td>\n",
       "    </tr>\n",
       "    <tr>\n",
       "      <th>2</th>\n",
       "      <td>6.170333</td>\n",
       "      <td>51.507606</td>\n",
       "      <td>-30.62</td>\n",
       "      <td>2009-09-25 11:44:23+00:00</td>\n",
       "    </tr>\n",
       "    <tr>\n",
       "      <th>3</th>\n",
       "      <td>6.170329</td>\n",
       "      <td>51.507607</td>\n",
       "      <td>-26.78</td>\n",
       "      <td>2009-09-25 11:44:25+00:00</td>\n",
       "    </tr>\n",
       "    <tr>\n",
       "      <th>4</th>\n",
       "      <td>6.170324</td>\n",
       "      <td>51.507607</td>\n",
       "      <td>-23.90</td>\n",
       "      <td>2009-09-25 11:44:27+00:00</td>\n",
       "    </tr>\n",
       "    <tr>\n",
       "      <th>...</th>\n",
       "      <td>...</td>\n",
       "      <td>...</td>\n",
       "      <td>...</td>\n",
       "      <td>...</td>\n",
       "    </tr>\n",
       "    <tr>\n",
       "      <th>1478</th>\n",
       "      <td>6.170334</td>\n",
       "      <td>51.507614</td>\n",
       "      <td>12.63</td>\n",
       "      <td>2009-09-25 16:21:30+00:00</td>\n",
       "    </tr>\n",
       "    <tr>\n",
       "      <th>1479</th>\n",
       "      <td>6.170334</td>\n",
       "      <td>51.507614</td>\n",
       "      <td>12.15</td>\n",
       "      <td>2009-09-25 16:21:37+00:00</td>\n",
       "    </tr>\n",
       "    <tr>\n",
       "      <th>1480</th>\n",
       "      <td>6.170334</td>\n",
       "      <td>51.507614</td>\n",
       "      <td>12.63</td>\n",
       "      <td>2009-09-25 16:21:39+00:00</td>\n",
       "    </tr>\n",
       "    <tr>\n",
       "      <th>1481</th>\n",
       "      <td>6.170335</td>\n",
       "      <td>51.507615</td>\n",
       "      <td>13.12</td>\n",
       "      <td>2009-09-25 16:22:12+00:00</td>\n",
       "    </tr>\n",
       "    <tr>\n",
       "      <th>1482</th>\n",
       "      <td>6.170335</td>\n",
       "      <td>51.507615</td>\n",
       "      <td>13.12</td>\n",
       "      <td>2009-09-25 16:22:30+00:00</td>\n",
       "    </tr>\n",
       "  </tbody>\n",
       "</table>\n",
       "<p>1483 rows × 4 columns</p>\n",
       "</div>"
      ],
      "text/plain": [
       "           lon        lat    alt                       time\n",
       "0     6.170338  51.507603 -38.32  2009-09-25 11:44:19+00:00\n",
       "1     6.170338  51.507604 -34.95  2009-09-25 11:44:20+00:00\n",
       "2     6.170333  51.507606 -30.62  2009-09-25 11:44:23+00:00\n",
       "3     6.170329  51.507607 -26.78  2009-09-25 11:44:25+00:00\n",
       "4     6.170324  51.507607 -23.90  2009-09-25 11:44:27+00:00\n",
       "...        ...        ...    ...                        ...\n",
       "1478  6.170334  51.507614  12.63  2009-09-25 16:21:30+00:00\n",
       "1479  6.170334  51.507614  12.15  2009-09-25 16:21:37+00:00\n",
       "1480  6.170334  51.507614  12.63  2009-09-25 16:21:39+00:00\n",
       "1481  6.170335  51.507615  13.12  2009-09-25 16:22:12+00:00\n",
       "1482  6.170335  51.507615  13.12  2009-09-25 16:22:30+00:00\n",
       "\n",
       "[1483 rows x 4 columns]"
      ]
     },
     "execution_count": 33,
     "metadata": {},
     "output_type": "execute_result"
    }
   ],
   "source": [
    "Hamert_Hike = basic_analyses('../Data/Trail_GPX/SEP-25-09 182235 Hamert.gpx')\n",
    "Hamert_Hike "
   ]
  },
  {
   "cell_type": "markdown",
   "metadata": {},
   "source": [
    "#### Plot track using MatplotLib."
   ]
  },
  {
   "cell_type": "code",
   "execution_count": 34,
   "metadata": {},
   "outputs": [
    {
     "data": {
      "text/plain": [
       "[<matplotlib.lines.Line2D at 0x7fd856faa6d8>]"
      ]
     },
     "execution_count": 34,
     "metadata": {},
     "output_type": "execute_result"
    },
    {
     "data": {
      "image/png": "[encoded data removed]",
      "text/plain": [
       "<Figure size 432x288 with 1 Axes>"
      ]
     },
     "metadata": {
      "needs_background": "light"
     },
     "output_type": "display_data"
    }
   ],
   "source": [
    "create_plot(Hamert_Hike,'lon','lat') "
   ]
  },
  {
   "cell_type": "markdown",
   "metadata": {},
   "source": [
    "#### Plot track using MatplotLib on a CartopyMap."
   ]
  },
  {
   "cell_type": "code",
   "execution_count": 35,
   "metadata": {},
   "outputs": [
    {
     "data": {
      "text/plain": [
       "<cartopy.mpl.geoaxes.GeoAxesSubplot at 0x7fd856f7a278>"
      ]
     },
     "execution_count": 35,
     "metadata": {},
     "output_type": "execute_result"
    },
    {
     "data": {
      "image/png": "[encoded data removed]",
      "text/plain": [
       "<Figure size 1440x864 with 1 Axes>"
      ]
     },
     "metadata": {
      "needs_background": "light"
     },
     "output_type": "display_data"
    }
   ],
   "source": [
    "dfs_on_cartopymap([Hamert_Hike],'lon','lat','red',1)"
   ]
  },
  {
   "cell_type": "markdown",
   "metadata": {},
   "source": [
    "#### Transform dataframe to JSON file format."
   ]
  },
  {
   "cell_type": "code",
   "execution_count": 36,
   "metadata": {},
   "outputs": [
    {
     "data": {
      "text/plain": [
       "'Transformation of Trail-Hamert-Hike.json complete!'"
      ]
     },
     "execution_count": 36,
     "metadata": {},
     "output_type": "execute_result"
    }
   ],
   "source": [
    "transform_to_JSON(Hamert_Hike,'Trail-Hamert-Hike.json')"
   ]
  },
  {
   "cell_type": "markdown",
   "metadata": {},
   "source": [
    "---\n",
    "## Visualizing all GPS-tracks on one Cartopy Map\n",
    "### Done by passing a list of all dataframes in this notebook to the function \n",
    "---"
   ]
  },
  {
   "cell_type": "code",
   "execution_count": 37,
   "metadata": {},
   "outputs": [
    {
     "data": {
      "text/plain": [
       "<cartopy.mpl.geoaxes.GeoAxesSubplot at 0x7fd855207588>"
      ]
     },
     "execution_count": 37,
     "metadata": {},
     "output_type": "execute_result"
    },
    {
     "data": {
      "image/png": "[encoded data removed]",
      "text/plain": [
       "<Figure size 1440x864 with 1 Axes>"
      ]
     },
     "metadata": {
      "needs_background": "light"
     },
     "output_type": "display_data"
    }
   ],
   "source": [
    "dfs_on_cartopymap([Zeeland, \n",
    "                   Biesbosch_Lib, \n",
    "                   Biesbosch, \n",
    "                   Hamert_Bike,\n",
    "                   Hamert_Hike],'lon','lat','red',2)"
   ]
  },
  {
   "cell_type": "markdown",
   "metadata": {},
   "source": [
    "---\n",
    "## TITLE\n",
    "### SUBTITLE\n",
    "---"
   ]
  },
  {
   "cell_type": "markdown",
   "metadata": {},
   "source": [
    "#### Perform basic analyses of trail and assign dataframe returned to a variable."
   ]
  },
  {
   "cell_type": "markdown",
   "metadata": {},
   "source": [
    "#### Plot track using MatplotLib."
   ]
  },
  {
   "cell_type": "markdown",
   "metadata": {},
   "source": [
    "#### Plot track using MatplotLib on a CartopyMap."
   ]
  },
  {
   "cell_type": "markdown",
   "metadata": {},
   "source": [
    "#### Transform dataframe to JSON file format."
   ]
  }
 ],
 "metadata": {
  "kernelspec": {
   "display_name": "Python 3",
   "language": "python",
   "name": "python3"
  },
  "language_info": {
   "codemirror_mode": {
    "name": "ipython",
    "version": 3
   },
   "file_extension": ".py",
   "mimetype": "text/x-python",
   "name": "python",
   "nbconvert_exporter": "python",
   "pygments_lexer": "ipython3",
   "version": "3.6.9"
  }
 },
 "nbformat": 4,
 "nbformat_minor": 4
}
