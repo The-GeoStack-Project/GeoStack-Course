{
 "cells": [
  {
   "cell_type": "code",
   "execution_count": null,
   "metadata": {},
   "outputs": [],
   "source": [
    "import pandas as pd # Import the Pandas library."
   ]
  },
  {
   "cell_type": "code",
   "execution_count": null,
   "metadata": {},
   "outputs": [],
   "source": [
    "SW_Crane_Frida = pd.read_csv('20181003_Dataset_SV_TrackerID_9381_ColorCode_RRW-BuGBk_Crane_Frida.csv') # Read the dataset."
   ]
  },
  {
   "cell_type": "code",
   "execution_count": null,
   "metadata": {},
   "outputs": [],
   "source": [
    "SW_Crane_Frida[:1] # Show the first row of the dataframe."
   ]
  },
  {
   "cell_type": "code",
   "execution_count": null,
   "metadata": {},
   "outputs": [],
   "source": [
    "len(SW_Crane_Frida) # Print the amount of datarows in the dataset."
   ]
  },
  {
   "cell_type": "code",
   "execution_count": null,
   "metadata": {},
   "outputs": [],
   "source": [
    "len(SW_Crane_Frida.columns) # Print the amount of columns in the dataset"
   ]
  },
  {
   "cell_type": "code",
   "execution_count": null,
   "metadata": {},
   "outputs": [],
   "source": [
    "SW_Crane_Frida.dtypes # Print the column names and datatypes."
   ]
  },
  {
   "cell_type": "code",
   "execution_count": null,
   "metadata": {},
   "outputs": [],
   "source": [
    "import cartopy # The Python package for Geospatial data processing.\n",
    "import cartopy.crs as ccrs # The module for specifying the map projection\n",
    "import cartopy.feature as cfeature # The module for adding features to the map.\n",
    "import matplotlib.pyplot as plt # The Python package for creating plots."
   ]
  },
  {
   "cell_type": "code",
   "execution_count": null,
   "metadata": {},
   "outputs": [],
   "source": [
    "'''\n",
    "Below we create a new plot using MathPlotLib. \n",
    "We pass the a size of the figure as parameter. \n",
    "'''\n",
    "plt.figure(figsize = (20, 12))\n",
    "\n",
    "'''\n",
    "Below we create a new Catopy map. \n",
    "\n",
    "We pass the projection of the Cartopy map as parameter. \n",
    "The projection we are going to use is called: \"PlatteCarree\". The crs stands for: \"Coordinate Reference system\".\n",
    "The type of CRS used in the Cartopy map defines the way the map will be shown. PlatteCarre uses\n",
    "equirectangular projection (North Latitude and East Longitude). \n",
    "We assign the instance of the plot to a variable called: \"cartopyMapCranes\".\n",
    "'''\n",
    "cartopyMapCranes = plt.axes(projection=ccrs.PlateCarree())\n",
    "\n",
    "'''\n",
    "Below we add the coastal lines to the cartopy map. We pass the resolution: \"10m\" as parameter. This value defines\n",
    "the maximum deviation the coastal line can have. The higher the value, the higher the deviation of the correct\n",
    "location of the lines.\n",
    "'''\n",
    "cartopyMapCranes.coastlines(resolution='10m')\n",
    "\n",
    "'''\n",
    "Below we add the landsurface to the Cartopy map.We give the landsurface (face) the color white. \n",
    "We give the edges of the landsurface (edge) te color black.\n",
    "'''\n",
    "cartopyMapCranes.add_feature(cartopy.feature.LAND.with_scale('10m'), edgecolor='black', facecolor = \"white\")\n",
    "'''\n",
    "Below we add the lakes to the cartopy map. \n",
    "We give the edges of the lake the color black.\n",
    "'''\n",
    "cartopyMapCranes.add_feature(cfeature.LAKES.with_scale('10m'), edgecolor = 'black')\n",
    "\n",
    "'''\n",
    "Below we add the sea surface to the Cartopy Map\n",
    "'''\n",
    "cartopyMapCranes.add_feature(cfeature.OCEAN) \n",
    "\n",
    "'''\n",
    "Below we add the rivers and the borders to the Cartopy Map\n",
    "'''\n",
    "cartopyMapCranes.add_feature(cfeature.RIVERS.with_scale('10m')) \n",
    "cartopyMapCranes.add_feature(cfeature.BORDERS.with_scale('10m'))\n",
    "\n",
    "'''\n",
    "Below we add the Datapoints of the Crane: \"Frida\" to the Cartopy Map instance.\n",
    "'''\n",
    "cartopyMapCranes.scatter(SW_Crane_Frida['location-long'], SW_Crane_Frida['location-lat'], color=\"blue\", s = 1)"
   ]
  },
  {
   "cell_type": "code",
   "execution_count": null,
   "metadata": {},
   "outputs": [],
   "source": [
    "# Define the columns which we want to filter from the dataset.\n",
    "columns_to_filter = ['event-id', 'study-name',\n",
    "                     'timestamp','visible',\n",
    "                     'ground-speed','heading',\n",
    "                     'location-long','location-lat',\n",
    "                     'height-above-ellipsoid',\n",
    "                     'individual-taxon-canonical-name',\n",
    "                     'sensor-type','tag-voltage',                                          \n",
    "                     'individual-local-identifier']"
   ]
  },
  {
   "cell_type": "code",
   "execution_count": null,
   "metadata": {},
   "outputs": [],
   "source": [
    "Filtered_SW_Crane_Frida = SW_Crane_Frida[columns_to_filter] # Filter the selected columns from the old dataframe."
   ]
  },
  {
   "cell_type": "code",
   "execution_count": null,
   "metadata": {},
   "outputs": [],
   "source": [
    "Filtered_SW_Crane_Frida[:1] # Show first row of new dataframe."
   ]
  },
  {
   "cell_type": "code",
   "execution_count": null,
   "metadata": {},
   "outputs": [],
   "source": [
    "import json #Import the Python JSON Module"
   ]
  },
  {
   "cell_type": "code",
   "execution_count": null,
   "metadata": {},
   "outputs": [],
   "source": [
    "# Create Crane Tracker test data \n",
    "crane_test_data = {\n",
    "    'event-id':432,\n",
    "    'lat': 1342.43,\n",
    "    'lon': 33.1\n",
    "}"
   ]
  },
  {
   "cell_type": "code",
   "execution_count": null,
   "metadata": {},
   "outputs": [],
   "source": [
    "# Write the test data to a file called: \"json_module_python.json\"\n",
    "# We pass the test data as first parameter and the newly created \n",
    "# json file as second parameter.\n",
    "with open ('json_module_python.json', 'w') as json_file:\n",
    "    json.dump(crane_test_data, json_file)"
   ]
  },
  {
   "cell_type": "code",
   "execution_count": null,
   "metadata": {},
   "outputs": [],
   "source": [
    "# Read the test data that was writen to a file in the previous step.\n",
    "# We assign the name of the JSON file to a variable called json_file\n",
    "# after which we pass the file as parameter in the json.load() function.\n",
    "# We assign the loaded data to a variable called: \"test_dataset\".\n",
    "with open('json_module_python.json') as json_file:\n",
    "    test_dataset = json.load(json_file)"
   ]
  },
  {
   "cell_type": "code",
   "execution_count": null,
   "metadata": {},
   "outputs": [],
   "source": [
    "test_dataset # Print the loaded test data."
   ]
  },
  {
   "cell_type": "code",
   "execution_count": null,
   "metadata": {},
   "outputs": [],
   "source": [
    "json.dumps(test_dataset) # Print the loaded test data in a correct JSON format."
   ]
  },
  {
   "cell_type": "code",
   "execution_count": null,
   "metadata": {},
   "outputs": [],
   "source": [
    "# Create a new dataframe using the created test data.\n",
    "pandas_dataframe = pd.DataFrame([crane_test_data])\n",
    "\n",
    "# Create a new JSON file and write the dataframe to this file. \n",
    "# We do this by using the Pandas function: \"to_json()\" in which \n",
    "# we pass the name of the JSON file as first parameter and the \n",
    "# orientation in which the data has to be written as second parameter.\n",
    "pandas_dataframe.to_json('json_module_pandas.json',orient = 'records')\n",
    "\n",
    "# Read the newly created JSON file and assign it to a dataframe.\n",
    "# We use the syntax: \"to_json()\" to print the data as JSON and \n",
    "# not as an dataframe.\n",
    "pd.read_json('json_module_pandas.json').to_json()"
   ]
  },
  {
   "cell_type": "code",
   "execution_count": null,
   "metadata": {},
   "outputs": [],
   "source": [
    "# Transforming the Crane Dataset using the function: \"to_json()\" from Pandas\n",
    "Filtered_SW_Crane_Frida.to_json('Frida_SW.json', orient = 'records')"
   ]
  },
  {
   "cell_type": "code",
   "execution_count": null,
   "metadata": {},
   "outputs": [],
   "source": [
    "# Read the Transformed dataset using the built-in Python function.\n",
    "with open('Frida_SW.json') as transformed_Crane_Dataset:\n",
    "    crane_data = json.load(transformed_Crane_Dataset)\n",
    "    \n",
    "# Print the contents of the read JSON file\n",
    "json.dumps(crane_data)"
   ]
  },
  {
   "cell_type": "code",
   "execution_count": null,
   "metadata": {},
   "outputs": [],
   "source": [
    "# Read the Transformed dataset using Pandas\n",
    "crane_dataframe = pd.read_json('Frida_SW.json')\n",
    "\n",
    "# Print one row from dataframe\n",
    "crane_dataframe[:1]"
   ]
  },
  {
   "cell_type": "code",
   "execution_count": null,
   "metadata": {},
   "outputs": [],
   "source": [
    "# Defining the properties (Extra data columns) which we want to add to the \n",
    "# GeoJSON file.\n",
    "properties = ['event-id', 'study-name',\n",
    "                     'timestamp','visible',\n",
    "                     'ground-speed','heading',\n",
    "                     'height-above-ellipsoid',\n",
    "                     'individual-taxon-canonical-name',\n",
    "                     'sensor-type','tag-voltage',                                          \n",
    "                     'individual-local-identifier']"
   ]
  },
  {
   "cell_type": "code",
   "execution_count": null,
   "metadata": {},
   "outputs": [],
   "source": [
    "# Here we create a function which transforms a dataframe to GeoJSON\n",
    "# The function takes the following input parameters:\n",
    "# 1) The dataframe to convert\n",
    "# 2) The columns which have to be added to the GeoJSON file as propperties\n",
    "#    these columns do not include the latitude and longitude columns.\n",
    "# 3) The latitude column name.\n",
    "# 4) The longitude column name.\n",
    "\n",
    "def dataframe_to_geojson(df,properties,lat,lon):\n",
    "    \n",
    "    # Create and assign a feature Collection object to a variable called: \"geojson\"\n",
    "    geojson = {'type':'FeatureCollection', 'features':[]}\n",
    "    \n",
    "    # Itterate (loop) through all the rows in the dataframe\n",
    "    # The code in this \"for loop\" is executed on each of the rows in the dataframe.\n",
    "    for index, row in df.iterrows():\n",
    "        # Assign a feature object to a variable called \"feature\".\n",
    "        feature = {'type':'Feature',\n",
    "                   'properties':{},\n",
    "                   'geometry':{'type':'Point',\n",
    "                               'coordinates':[]}}\n",
    "        \n",
    "        # Assign the values of the longitude and latitude columns to the geometry object.\n",
    "        # We use the column names, which were passed as parameter on the function call, \n",
    "        # as names of the longitude and altitude columns.\n",
    "        feature['geometry']['coordinates'] = [row[lon],row[lat]]\n",
    "        \n",
    "        # Here we create a for loop which loops through each of the columns assigned to the \n",
    "        # properties list.\n",
    "        for column in properties:\n",
    "            \n",
    "            # Here we assign each column in the list of properties to a new object\n",
    "            # in the feature object. \n",
    "            feature['properties'][column]=row[column]\n",
    "        \n",
    "        # Here we add all the newly created features to the features object in \n",
    "        # the GeoJSON object.\n",
    "        geojson['features'].append(feature)\n",
    "    \n",
    "    # Here we return the created GeoJSON data.\n",
    "    return geojson\n",
    "        \n",
    "        "
   ]
  },
  {
   "cell_type": "code",
   "execution_count": null,
   "metadata": {},
   "outputs": [],
   "source": [
    "# Convert the Dataframe to GeoJSON.\n",
    "Crane_GeoJSON = dataframe_to_geojson(Filtered_SW_Crane_Frida,properties,'location-lat','location-lat')"
   ]
  },
  {
   "cell_type": "code",
   "execution_count": null,
   "metadata": {},
   "outputs": [],
   "source": [
    "# Write the GeoJSON to a file called: \"Frida_SW_GeoJSON\".\n",
    "# We use the index=2 parameter to make the GeoJSON easy to read.\n",
    "# This is also known as human readable.\n",
    "with open('Frida_SW_GeoJSON.json', 'w') as geojson_file:\n",
    "    json.dump(Crane_GeoJSON, geojson_file, indent=2)"
   ]
  },
  {
   "cell_type": "code",
   "execution_count": null,
   "metadata": {},
   "outputs": [],
   "source": [
    "from datetime import datetime # Import the Python datetime module used to convert timestamps.\n",
    "from pymongo import MongoClient # Import MongoClient to connect to a MongoDB database.\n",
    "from pymongo import GEOSPHERE # The GEOSPHERE module is used to create an index on the geometry column."
   ]
  },
  {
   "cell_type": "code",
   "execution_count": null,
   "metadata": {},
   "outputs": [],
   "source": [
    "# Load the GeoJSON file using the built-in JSON Python module.\n",
    "# After the file is loaded and read we assing it to a variable called:\"geojson\".\n",
    "# We will use this variable in the GeoJSON import function which we will create below.\n",
    "with open('Frida_SW_GeoJSON.json', 'r') as file:\n",
    "    geojson = json.loads(file.read())\n",
    "    "
   ]
  },
  {
   "cell_type": "code",
   "execution_count": null,
   "metadata": {},
   "outputs": [],
   "source": [
    "# Here we create the function which is used to load the GeoJSON data. \n",
    "# The function takes the following parameters as input:\n",
    "# 1) The dataframe to import\n",
    "# 2) The name of the database in which we are going to import the data.\n",
    "#    MongoDB will create a new database if the specified database does not exist.\n",
    "# 3) The collection in which we want to insert the data.\n",
    "# 4) The server on which the database is running.\n",
    "# 5) The port on which the server is running.\n",
    "def load_geojson(df,db,db_collection,db_server,db_port):\n",
    "    \n",
    "    # Here we connect to the MongoDB database using the input parameters. \n",
    "    # Again,mongoDB will create a new database if the specified database does not exist.\n",
    "    client = MongoClient('mongodb://'+db_server+':'+db_port)\n",
    "    \n",
    "    # Here we assign the input parameters related to the database connection to corresponding variables.\n",
    "    # These variables will be used throughout this function.\n",
    "    database = client[db]\n",
    "    collection = database[db_collection]\n",
    "    \n",
    "    # Here we create an index on the geometry field in the database.\n",
    "    # More information related to creating indexes on MongoDB databases \n",
    "    # will be given in the cookbook: \"Data modeling in MongoDB using MongoEngine\".\n",
    "    collection.create_index([(\"geometry\",GEOSPHERE)])\n",
    "    \n",
    "    # Here we initialize the bulk insert feature of MongoDB \n",
    "    # This is one of the techniques to do this.\n",
    "    # The other technique is described in the cookbook: Data modeling in MongoDB using MongoEngine\".\n",
    "    bulk = collection.initialize_unordered_bulk_op()\n",
    "    \n",
    "    # Here we create a for loop which loops through each of the features in the GeoJSON file\n",
    "    # which is passed as parameter in the function. We add each GeoJSON feature to the MongoDB\n",
    "    # bulk insert feature instance which was created above.\n",
    "    for feature in geojson['features']:\n",
    "        bulk.insert(feature)\n",
    "    \n",
    "    # Here we call the function:\".execute()\" on the MongoDB bulk feature to which we appended\n",
    "    # all the Features (Transmissions in this case) in our GeoJSON dataset.\n",
    "    result = bulk.execute()\n",
    "    \n",
    "    # This line makes sure that we are notified when the bulk insert feature was completed.\n",
    "    print('succesfully inserted the GeoJSON dataset')"
   ]
  },
  {
   "cell_type": "code",
   "execution_count": null,
   "metadata": {},
   "outputs": [],
   "source": [
    "load_geojson(Crane_GeoJSON,'Crane_GeoJSON_Database','Transmissions','localhost','27017')"
   ]
  },
  {
   "cell_type": "code",
   "execution_count": null,
   "metadata": {},
   "outputs": [],
   "source": []
  }
 ],
 "metadata": {
  "kernelspec": {
   "display_name": "Python 3",
   "language": "python",
   "name": "python3"
  },
  "language_info": {
   "codemirror_mode": {
    "name": "ipython",
    "version": 3
   },
   "file_extension": ".py",
   "mimetype": "text/x-python",
   "name": "python",
   "nbconvert_exporter": "python",
   "pygments_lexer": "ipython3",
   "version": "3.8.2"
  }
 },
 "nbformat": 4,
 "nbformat_minor": 4
}
