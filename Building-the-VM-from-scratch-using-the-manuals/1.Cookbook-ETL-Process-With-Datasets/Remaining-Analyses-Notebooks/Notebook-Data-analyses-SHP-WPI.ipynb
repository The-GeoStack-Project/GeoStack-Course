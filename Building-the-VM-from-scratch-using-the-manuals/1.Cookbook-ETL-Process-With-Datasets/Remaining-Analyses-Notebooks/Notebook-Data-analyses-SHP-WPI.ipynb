{
 "cells": [
  {
   "cell_type": "markdown",
   "metadata": {},
   "source": [
    "# Data analyses World Port Index dataset\n",
    "\n",
    "Date: 31-01-2020 <br>\n",
    "Concept version: 1.0 <br>\n",
    "Author: Pieter Lems  <br>\n",
    "\n",
    "© Copyright 2019 Ministerie van Defensie\n",
    "\n",
    "\n",
    "## Contents notebook\n",
    "- World Port Index\n",
    "  - Import set\n",
    "  - Show row\n",
    "  - Show columns\n",
    "  - Create table\n",
    "  - Visualize \n",
    "  \n",
    "\n",
    "#### Dataset used in notebook. (\"~/GeoStack-Course/Course-Datasets/SHP/World-Port-Index/\") This is noted as (\"../../../Course-Datasets/SHP/World-Port-Index/\") in the notebook.\n",
    "- World Port Index dataset : ../../../Course-Datasets/SHP/World-Port-Index/WPI.shp"
   ]
  },
  {
   "cell_type": "markdown",
   "metadata": {},
   "source": [
    "---\n",
    "## Import required modules\n",
    "---"
   ]
  },
  {
   "cell_type": "code",
   "execution_count": null,
   "metadata": {},
   "outputs": [],
   "source": [
    "import geopandas as gpd\n",
    "import pandas as pd\n",
    "import cartopy\n",
    "import cartopy.crs as ccrs \n",
    "import cartopy.feature as cfeature \n",
    "import matplotlib.pyplot as plt"
   ]
  },
  {
   "cell_type": "markdown",
   "metadata": {},
   "source": [
    "---\n",
    "## Define generic functions"
   ]
  },
  {
   "cell_type": "markdown",
   "metadata": {},
   "source": [
    "### Function: init_cartopymap():\n",
    "This function creates a new cartopyMap and then returns the map instance"
   ]
  },
  {
   "cell_type": "code",
   "execution_count": null,
   "metadata": {},
   "outputs": [],
   "source": [
    "def init_cartopymap():\n",
    "    \n",
    "    plt.figure(figsize = (20, 12))\n",
    "    \n",
    "    m = plt.axes(projection=ccrs.PlateCarree())\n",
    "\n",
    "    m.coastlines(resolution='10m')\n",
    "    \n",
    "    m.add_feature(cartopy.feature.LAND.with_scale('10m'), edgecolor='black', facecolor = \"white\")\n",
    "    \n",
    "    m.add_feature(cfeature.OCEAN)\n",
    "    \n",
    "    m.add_feature(cfeature.LAKES.with_scale('10m'), edgecolor = 'black')\n",
    "    \n",
    "    m.add_feature(cfeature.RIVERS.with_scale('10m')) \n",
    "    \n",
    "    m.add_feature(cfeature.BORDERS.with_scale('10m'))\n",
    "\n",
    "    return m "
   ]
  },
  {
   "cell_type": "markdown",
   "metadata": {},
   "source": [
    "---\n",
    "### Function: dfs_on_cartopymap():\n",
    "This function creates a map and visualizes the inserted dataframes on a CartopyMap\n",
    "\n",
    "- parameter 1: A list of dataframes, this can also be a list of just one dataframe\n",
    "- parameter 2: The longitude column in the dataframe\n",
    "- parameter 3: The latitude column in the dataframe\n",
    "- parameter 4: The color of the datapoints\n",
    "- parameter 5: The size of the datapoints"
   ]
  },
  {
   "cell_type": "code",
   "execution_count": null,
   "metadata": {},
   "outputs": [],
   "source": [
    "def dfs_on_cartopymap(dfList,lonColumn,latColumn,color,size):\n",
    "\n",
    "    m = init_cartopymap()\n",
    "    \n",
    "    for df in dfList: \n",
    "        \n",
    "        m.scatter(df[lonColumn], \n",
    "                  df[latColumn],\n",
    "                  color=color, \n",
    "                  s = size)    \n",
    "    return m"
   ]
  },
  {
   "cell_type": "markdown",
   "metadata": {},
   "source": [
    "---\n",
    "# World Port Index\n",
    "Web Map of the World Port Index Twenty Fifth Edition (2016). This web map presents the location, characteristics, known facilities, and available services of ports, shipping facilities and oil terminals throughout the world.\n",
    "\n",
    "Several layers have been developed to indicate the locations of the world's ports by harbour type and whether or not they include an oil terminal.\n",
    "\n",
    "The uploaded version of the World Ports Index includes enriched information combining the information found throughout all the released information from the National Geospatial Intelligence Agency.\n",
    "\n",
    "Some info about the data set:\n",
    "- 3360 rows \n",
    "- 79 columns"
   ]
  },
  {
   "cell_type": "markdown",
   "metadata": {},
   "source": [
    "#### Read the SHP dataset using GeoPandas"
   ]
  },
  {
   "cell_type": "code",
   "execution_count": null,
   "metadata": {},
   "outputs": [],
   "source": [
    "World_Port_Index = gpd.read_file(\"../../../Course-Datasets/SHP/World-Port-Index/WPI.shp\")"
   ]
  },
  {
   "cell_type": "markdown",
   "metadata": {},
   "source": [
    "#### Show first row of dataframe."
   ]
  },
  {
   "cell_type": "code",
   "execution_count": null,
   "metadata": {},
   "outputs": [],
   "source": [
    "World_Port_Index[:1]"
   ]
  },
  {
   "cell_type": "markdown",
   "metadata": {},
   "source": [
    "#### Print columnames and their datatypes."
   ]
  },
  {
   "cell_type": "code",
   "execution_count": null,
   "metadata": {},
   "outputs": [],
   "source": [
    "display(World_Port_Index)"
   ]
  },
  {
   "cell_type": "markdown",
   "metadata": {},
   "source": [
    "#### Create a table and put the values, obtained from the line above, in that table."
   ]
  },
  {
   "cell_type": "markdown",
   "metadata": {},
   "source": [
    "#### Columns with their data types(79):\n",
    "\n",
    "\n",
    "|Column|Type|---|Column|Type|---|Column|Type|---|Column|Type|\n",
    "|--|--|--|--|--|--|--|--|--|--|--|\n",
    "|INDEX_NO |float64 |---|PORTOFENTR  |    string|---|GARBAGE      |   string|\n",
    "|REGION_NO   |   float64 |---|TIDE_RANGE |    float64|---|DEGAUSS       |  string|\n",
    "|PORT_NAME   |    string |---|HOLDGROUND  |    string|---|DRTYBALLST     | string|\n",
    "|COUNTRY      |     string |---|TURN_BASIN  |    string|---|CRANEFIXED     | string|\n",
    "|LATITUDE    |    float64 |---|US_REP      |    string|---|CRANEMOBIL    |  string|\n",
    "|LONGITUDE   |     float64|---|ETAMESSAGE  |    string|---|CRANEFLOAT |     string|\n",
    "|LAT_DEG     |   float64|---|PILOT_REQD  |    string|---|LIFT_100_|       string|\n",
    "|LAT_MIN     |   float64|---|PILOTAVAIL  |    string|---|LIFT50_100|      string|\n",
    "|LAT_HEMI   |     string|---|LOC_ASSIST  |    string|---|LIFT_25_49 |     string|\n",
    "|LONG_DEG   |    float64|---|PILOTADVSD  |    string|---|LIFT_0_24  |     string|\n",
    "|LONG_MIN   |    float64|---|TUGSALVAGE  |    string|---|LONGSHORE   |    string|\n",
    "|LONG_HEMI  |     string|---|TUG_ASSIST  |    string|---|ELECTRICAL  |    string|\n",
    "|PUB        |     string|---|PRATIQUE    |    string|---|SERV_STEAM  |    string|\n",
    "|CHART       |    string|---|SSCC_CERT    |   string|---|NAV_EQUIP   |    string|\n",
    "|HARBORSIZE  |    string|---|QUAR_OTHER   |   string|---|ELECREPAIR  |    string|\n",
    "|HARBORTYPE  |   string|---|COMM_PHONE   |   string|---|PROVISIONS  |    string|\n",
    "|SHELTER     |    string|---|COMM_FAX     |  string|---|WATER       |    string|\n",
    "|ENTRY_TIDE   |   string|---|COMM_RADIO   |   string|---|FUEL_OIL    |    string|\n",
    "|ENTRYSWELL  |    string|---|COMM_VHF     |   string|---|DIESEL      |    string|\n",
    "|ENTRY_ICE   |    string|---|COMM_AIR    |    string|---|DECKSUPPLY  |    string|\n",
    "|ENTRYOTHER  |    string|---|COMM_RAIL   |    string|---|ENG_SUPPLY  |    string|\n",
    "|OVERHD_LIM  |    string|---|CARGOWHARF  |    string|---|REPAIRCODE  |    string|\n",
    "|CHAN_DEPTH  |    string|---|CARGO_ANCH  |    string|---|DRYDOCK     |    string|\n",
    "|ANCH_DEPTH  |    string|---|CARGMDMOOR   |   string|---|RAILWAY     |    string|\n",
    "|CARGODEPTH  |    string|---|CARBCHMOOR   |   string|---|geometry    |  geometry|\n",
    "|OIL_DEPTH   |    string|---|MED_FACIL    |   string|---\n",
    "\n"
   ]
  },
  {
   "cell_type": "markdown",
   "metadata": {},
   "source": [
    "#### Create a plot MatplotLib on CartopyMap."
   ]
  },
  {
   "cell_type": "code",
   "execution_count": null,
   "metadata": {},
   "outputs": [],
   "source": [
    "dfs_on_cartopymap([World_Port_Index],'LONGITUDE','LATITUDE',\"red\",20)"
   ]
  }
 ],
 "metadata": {
  "kernelspec": {
   "display_name": "Python 3",
   "language": "python",
   "name": "python3"
  },
  "language_info": {
   "codemirror_mode": {
    "name": "ipython",
    "version": 3
   },
   "file_extension": ".py",
   "mimetype": "text/x-python",
   "name": "python",
   "nbconvert_exporter": "python",
   "pygments_lexer": "ipython3",
   "version": "3.8.2"
  }
 },
 "nbformat": 4,
 "nbformat_minor": 4
}
