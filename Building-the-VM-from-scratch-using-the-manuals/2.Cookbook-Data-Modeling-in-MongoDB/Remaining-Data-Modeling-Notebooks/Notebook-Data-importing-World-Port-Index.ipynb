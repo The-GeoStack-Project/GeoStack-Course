{
 "cells": [
  {
   "cell_type": "markdown",
   "metadata": {},
   "source": [
    "---\n",
    "# Importing and Querying Shapefiles in PostGIS\n",
    "\n",
    "## Contents of notebook\n",
    "- Importing the required modules\n",
    "- World port index\n",
    "    - Reading the dataset\n",
    "    - Validating the dataset\n",
    "    - Connecting to the database\n",
    "      - Create Docker PostGIS database (if needed)\n",
    "      - Create the database\n",
    "      - Connect to the database\n",
    "      - Add the postgis exstensions\n",
    "    - Importing WPI using shp2pgsql\n",
    "    - Querying the data \n",
    "        - use-case\n",
    "        - visualize the use-case \n",
    "        \n",
    "#### Dataset used in notebook. (\"~/GeoStack-Course/Course-Datasets/SHP/World-Port-Index/\") This is noted as (\"../../../Course-Datasets/SHP/World-Port-Index/\") in the notebook.\n",
    "- World Port Index dataset : ../../../Course-Datasets/SHP/World-Port-Index/WPI.shp   \n",
    "---"
   ]
  },
  {
   "cell_type": "markdown",
   "metadata": {},
   "source": [
    "### Importing the required modules"
   ]
  },
  {
   "cell_type": "code",
   "execution_count": null,
   "metadata": {},
   "outputs": [],
   "source": [
    "import geopandas as gpd\n",
    "import pandas as pd\n",
    "import psycopg2\n",
    "import cartopy        \n",
    "import cartopy.crs as ccrs \n",
    "import cartopy.feature as cfeature \n",
    "import matplotlib.pyplot as plt"
   ]
  },
  {
   "cell_type": "markdown",
   "metadata": {},
   "source": [
    "---\n",
    "### Reading the World Port Index database"
   ]
  },
  {
   "cell_type": "code",
   "execution_count": null,
   "metadata": {},
   "outputs": [],
   "source": [
    "World_Port_Index = gpd.read_file(\"../../../Course-Datasets/SHP/World-Port-Index/WPI.shp\")"
   ]
  },
  {
   "cell_type": "markdown",
   "metadata": {},
   "source": [
    "### Connecting to the database"
   ]
  },
  {
   "cell_type": "markdown",
   "metadata": {},
   "source": [
    "#### Create docker container (If needed)\n",
    "Uncomment to download the image and create the container"
   ]
  },
  {
   "cell_type": "code",
   "execution_count": null,
   "metadata": {},
   "outputs": [],
   "source": [
    "#!docker run -d -p 5432:5432 --name postgres-db mdillon/postgis:9.6-alpine"
   ]
  },
  {
   "cell_type": "markdown",
   "metadata": {},
   "source": [
    "#### Create Database (If not exists) "
   ]
  },
  {
   "cell_type": "code",
   "execution_count": null,
   "metadata": {},
   "outputs": [],
   "source": [
    "!PGPASSWORD=\"geostack\" createdb \"World_Port_Index_Database\" -h localhost -p 5432 -U postgres"
   ]
  },
  {
   "cell_type": "markdown",
   "metadata": {},
   "source": [
    "#### Connect to the database"
   ]
  },
  {
   "cell_type": "code",
   "execution_count": null,
   "metadata": {},
   "outputs": [],
   "source": [
    "conn = psycopg2.connect(host='localhost',\n",
    "                        dbname='World_Port_Index_Database',\n",
    "                        user='postgres',\n",
    "                        password='geostack',\n",
    "                        port=5432)\n",
    "\n",
    "cursor = conn.cursor()"
   ]
  },
  {
   "cell_type": "markdown",
   "metadata": {},
   "source": [
    "#### Add PostGIS Exstensions (If not exists)"
   ]
  },
  {
   "cell_type": "code",
   "execution_count": null,
   "metadata": {},
   "outputs": [],
   "source": [
    "cursor.execute('CREATE EXTENSION IF NOT EXISTS postgis;')\n",
    "cursor.execute('CREATE EXTENSION IF NOT EXISTS postgis_topology;')\n",
    "conn.commit()\n",
    "conn.close()"
   ]
  },
  {
   "cell_type": "markdown",
   "metadata": {},
   "source": [
    "---\n",
    "\n",
    "### Import World Port Index using SHP2PGSQL\n",
    "\n",
    "To import a dataset in a PostGIS database you use the following command: <br>\n",
    "##### shp2pgsql -I -s 4326 {path to shapefile} {name of table to create} | PGPASSWORD=\"{db password}\" psql -U {db user} -h {location where database is hosted} -d {name of db}"
   ]
  },
  {
   "cell_type": "code",
   "execution_count": null,
   "metadata": {
    "scrolled": true
   },
   "outputs": [],
   "source": [
    "!shp2pgsql -I -s 4326 '../../../Course-Datasets/SHP/World-Port-Index/WPI.shp' WPI | PGPASSWORD=\"geostack\" psql -h localhost -p 5432 -U postgres -d World_Port_Index_Database"
   ]
  },
  {
   "cell_type": "markdown",
   "metadata": {},
   "source": [
    "## Querying the data"
   ]
  },
  {
   "cell_type": "markdown",
   "metadata": {},
   "source": [
    "### Function  fetch_data()\n",
    "This function opens a connection, retrieves the data and returns a populated dataframe.\n",
    "\n",
    "- parameter 1 = The query to perform on the database"
   ]
  },
  {
   "cell_type": "code",
   "execution_count": null,
   "metadata": {},
   "outputs": [],
   "source": [
    "def fetch_data(query):\n",
    "    conn = psycopg2.connect(host='localhost',\n",
    "                        dbname='World_Port_Index_Database',\n",
    "                        user='postgres',\n",
    "                        password='geostack',\n",
    "                        port=5432)\n",
    "    cursor = conn.cursor()\n",
    "    \n",
    "    cursor.execute(query)\n",
    "    return pd.DataFrame(cursor.fetchall())\n",
    "\n",
    "    if(conn):\n",
    "        cursor.close()\n",
    "        conn.close()\n",
    "        print(\"PostgreSQL connection is closed\")"
   ]
  },
  {
   "cell_type": "markdown",
   "metadata": {},
   "source": [
    "### Use-Case\n",
    "We want to display all ports belonging to:\n",
    "\n",
    "- Russia = Brown\n",
    "- China = Yellow\n",
    "- America = Blue\n",
    "- Netherlands = Red\n"
   ]
  },
  {
   "cell_type": "code",
   "execution_count": null,
   "metadata": {},
   "outputs": [],
   "source": [
    "Russia = fetch_data(\"select latitude,longitude from WPI where country='RU';\")\n",
    "China = fetch_data(\"select latitude,longitude from WPI where country='CN';\")\n",
    "America = fetch_data(\"select latitude,longitude from WPI where country='US';\")\n",
    "Netherlands =  fetch_data(\"select latitude,longitude from WPI where country='NL';\")"
   ]
  },
  {
   "cell_type": "markdown",
   "metadata": {},
   "source": [
    "#### Visualize Use-Case"
   ]
  },
  {
   "cell_type": "code",
   "execution_count": null,
   "metadata": {},
   "outputs": [],
   "source": [
    "plt.figure(figsize = (20, 20))\n",
    "\n",
    "m = plt.axes(projection=ccrs.PlateCarree())\n",
    "\n",
    "m.add_feature(cartopy.feature.LAND.with_scale('10m'), facecolor = \"white\")\n",
    "\n",
    "m.add_feature(cfeature.OCEAN)\n",
    "\n",
    "m.add_feature(cfeature.LAKES.with_scale('10m'), edgecolor = 'white')\n",
    "\n",
    "m.add_feature(cfeature.RIVERS.with_scale('10m'))\n",
    "\n",
    "m.scatter(Russia[1], Russia[0],color=\"brown\", s = 20)\n",
    "\n",
    "m.scatter(China[1], China[0],color=\"red\", s = 20)\n",
    "\n",
    "m.scatter(America[1], America[0],color=\"blue\", s = 20)\n",
    "\n",
    "m.scatter(Netherlands[1], Netherlands[0],color=\"orange\", s = 20)"
   ]
  }
 ],
 "metadata": {
  "kernelspec": {
   "display_name": "Python 3",
   "language": "python",
   "name": "python3"
  },
  "language_info": {
   "codemirror_mode": {
    "name": "ipython",
    "version": 3
   },
   "file_extension": ".py",
   "mimetype": "text/x-python",
   "name": "python",
   "nbconvert_exporter": "python",
   "pygments_lexer": "ipython3",
   "version": "3.8.2"
  }
 },
 "nbformat": 4,
 "nbformat_minor": 4
}
