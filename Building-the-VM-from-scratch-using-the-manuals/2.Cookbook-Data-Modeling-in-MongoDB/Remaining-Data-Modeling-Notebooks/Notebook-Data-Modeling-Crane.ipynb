{
 "cells": [
  {
   "cell_type": "markdown",
   "metadata": {},
   "source": [
    "---\n",
    "# Data modeling, importing, Indexing and Querying Crane datasets\n",
    "\n",
    "Date: 31-01-2020 <br>\n",
    "Concept version: 1.0 <br>\n",
    "Author: Pieter Lems  <br>\n",
    "\n",
    "© Copyright 2019 Ministerie van Defensie\n",
    "\n",
    "This notebook wil provide information relating to creating data models for MongoDB.<br>\n",
    "To create the data models we are going to use Python and MongoEngine. The notebook also shows how to import the data into the mongoDB datastores.<br>\n",
    "\n",
    "\n",
    "## Contents of notebook\n",
    "- Importing the required modules \n",
    "- Reading the datasets\n",
    "- Validating the datasets\n",
    "- Connecting to the database\n",
    "    - Create Docker MongoDB database (if needed)\n",
    "    - Connect\n",
    "- Creating the model\n",
    "- Loading the data using the model\n",
    "    - Creating the import functions\n",
    "    - Load the data\n",
    "- Querying the data (pre-indexing)\n",
    "- Indexing the data\n",
    "- Querying the data (post-indexing)\n",
    "- Loading GeoJSON data (Not needed but implented to show how its done)\n",
    "\n",
    "### Datasets used in notebook can be found in the folder:\"~/GeoStack-Course/Course-Datasets/JSON/Crane_JSON/\" This is noted as \"../../../Course-Datasets/JSON/Crane_JSON/\" in the notebook."
   ]
  },
  {
   "cell_type": "markdown",
   "metadata": {},
   "source": [
    "## Importing the required modules"
   ]
  },
  {
   "cell_type": "code",
   "execution_count": 2,
   "metadata": {},
   "outputs": [],
   "source": [
    "import pandas as pd\n",
    "\n",
    "from mongoengine import * \n",
    "\n",
    "from datetime import datetime "
   ]
  },
  {
   "cell_type": "markdown",
   "metadata": {},
   "source": [
    "##  Reading the datasets"
   ]
  },
  {
   "cell_type": "code",
   "execution_count": 3,
   "metadata": {},
   "outputs": [],
   "source": [
    "Agentha = pd.read_json(\n",
    "    '../../../Course-Datasets/JSON/Crane_JSON/Agnetha-SW.json')\n",
    "\n",
    "Cajsa = pd.read_json(\n",
    "    '../../../Course-Datasets/JSON/Crane_JSON/Cajsa-SW.json')\n",
    "\n",
    "Nena = pd.read_json(\n",
    "    '../../../Course-Datasets/JSON/Crane_JSON/Nena-GE.json')\n",
    "\n",
    "Lotta = pd.read_json(\n",
    "    '../../../Course-Datasets/JSON/Crane_JSON/Lotta-GE.json')\n",
    "\n",
    "Lita = pd.read_json(\n",
    "    '../../../Course-Datasets/JSON/Crane_JSON/Lita-LT.json')"
   ]
  },
  {
   "cell_type": "markdown",
   "metadata": {},
   "source": [
    "###  Connecting to the database"
   ]
  },
  {
   "cell_type": "markdown",
   "metadata": {},
   "source": [
    "#### Create Docker container\n",
    "Uncomment the next line if you dont have a mongoDB docker container and you want to import the data in a docker container.\n",
    "### If your are following the GeoStack Course you don't need to uncomment the line since you already created the MongoDB docker container\n",
    "\n",
    "This command will download a MongoDB docker image and run the container on port 27017 (localhost:27017)"
   ]
  },
  {
   "cell_type": "code",
   "execution_count": 4,
   "metadata": {},
   "outputs": [],
   "source": [
    "#!docker run -d -p 27017:27017 mongo:latest"
   ]
  },
  {
   "cell_type": "markdown",
   "metadata": {},
   "source": [
    "#### Connect to a database called: \"Crane_Database\""
   ]
  },
  {
   "cell_type": "code",
   "execution_count": 5,
   "metadata": {
    "scrolled": true
   },
   "outputs": [
    {
     "data": {
      "text/plain": [
       "MongoClient(host=['localhost:27017'], document_class=dict, tz_aware=False, connect=True, read_preference=Primary())"
      ]
     },
     "execution_count": 5,
     "metadata": {},
     "output_type": "execute_result"
    }
   ],
   "source": [
    "connect('Crane_Database')"
   ]
  },
  {
   "cell_type": "markdown",
   "metadata": {},
   "source": [
    "---\n",
    "\n",
    "## Creating the model"
   ]
  },
  {
   "cell_type": "code",
   "execution_count": 6,
   "metadata": {},
   "outputs": [],
   "source": [
    "# Creating the Tracker document\n",
    "class Tracker(Document):\n",
    "    \n",
    "    # Name of the study\n",
    "    study_name = StringField()\n",
    "    \n",
    "    # Name of the bird, in latin.\n",
    "    individual_taxon_canonical_name = StringField()\n",
    "    \n",
    "    # Id of the crane \n",
    "    individual_local_identifier = IntField()\n",
    "    \n",
    "    #Start date of the study\n",
    "    start_date = DateTimeField()\n",
    "    \n",
    "    #End date of the study\n",
    "    end_date = DateTimeField()\n",
    "\n",
    "    #Name of the crane\n",
    "    name = StringField()\n",
    "    \n",
    "    #Amount of the transmissions related to the tracker\n",
    "    transmission_Count= IntField()\n",
    "    \n",
    "    \n",
    "    \n",
    "# Creating the Geometry document\n",
    "class Geometry(EmbeddedDocument):\n",
    " \n",
    "    # coordinates of transmission (coord=[1,2])\n",
    "    coord = PointField()\n",
    "    \n",
    "    # altitude of tansmission\n",
    "    alt = FloatField()\n",
    "\n",
    "    \n",
    "# Creating the Speed document    \n",
    "class Speed(EmbeddedDocument):\n",
    "    \n",
    "    # Speed of the Crane\n",
    "    ground_speed = FloatField()\n",
    "    \n",
    "    # Heading of the Crane in degrees\n",
    "    heading = IntField()\n",
    "    \n",
    "# Creating the TrackerMetadata document\n",
    "class TrackerMetadata(EmbeddedDocument):\n",
    "    \n",
    "    #Is the tracker still visible or not?\n",
    "    visible = BooleanField()\n",
    "    \n",
    "    # Type of sensor used in tracker.\n",
    "    sensor_type = StringField()\n",
    "    \n",
    "    # Voltage level of the tracker.\n",
    "    tag_voltage = FloatField()\n",
    "    \n",
    "    \n",
    "# Creating the Transmission document \n",
    "class Transmission(Document):\n",
    "    \n",
    "    # Identifier of the transmission\n",
    "    event_id = IntField()\n",
    "    \n",
    "    # Timestamp of when transmission was send \n",
    "    timestamp = DateTimeField()\n",
    "    \n",
    "    # Embedded geometry of transmission\n",
    "    geometry = EmbeddedDocumentField(Geometry)\n",
    "    \n",
    "    # Embedded speed related data of transmission\n",
    "    speed = EmbeddedDocumentField(Speed)\n",
    "    \n",
    "    # Embedded metadata of transmission\n",
    "    metadata = EmbeddedDocumentField(TrackerMetadata)\n",
    "    \n",
    "    # Reference to the tracker the transmission belongs to\n",
    "    tracker = ReferenceField(Tracker)\n",
    "    "
   ]
  },
  {
   "cell_type": "markdown",
   "metadata": {},
   "source": [
    "---\n",
    "## Loading the data using the model"
   ]
  },
  {
   "cell_type": "markdown",
   "metadata": {},
   "source": [
    "###  Creating the import function"
   ]
  },
  {
   "cell_type": "code",
   "execution_count": 7,
   "metadata": {},
   "outputs": [],
   "source": [
    "def load_data(df,name,country):\n",
    "    \n",
    "    # Here we create metadata for the tracker.\n",
    "    start_Date = df.at[0,'timestamp']\n",
    "    end_Date = df.at[df.shape[0]-1,'timestamp']\n",
    "    transmission_Count = df.shape[0]\n",
    "    \n",
    "    #Create a new tracker, this is only done once \n",
    "    tracker = Tracker(study_name = df.at[0,'study-name'],\n",
    "                      individual_taxon_canonical_name = df.at[0,'individual-taxon-canonical-name'],\n",
    "                      individual_local_identifier = df.at[0,'individual-local-identifier'],\n",
    "                      start_date = start_Date,\n",
    "                      end_date = end_Date,\n",
    "                      name = name,\n",
    "                      transmission_Count = transmission_Count)\n",
    "    \n",
    "    # Save the tracker to the database.\n",
    "    tracker.save()\n",
    "    \n",
    "    # Create an empty list of transmissions to which will append the new transmissions \n",
    "    # after they have been created. This list will be passed to the mongodb bulk insert feature.\n",
    "    transmissions = []\n",
    "    \n",
    "    # Print when list appending process starts. \n",
    "    print('Start appending transmissions to list from: ' + str(name) )\n",
    "    \n",
    "    # For each row in the dataframe the following code is executed.\n",
    "    for index,row in df.iterrows():\n",
    "        \n",
    "        if country == \"sw\":  \n",
    "            # Create geometry document for Swedish sets in which we pass the required values.\n",
    "            # NOTE: To use Geometry queries you have to insert te longitude value first.\n",
    "            geometry = Geometry(coord = [row['location-long'],row['location-lat']],\n",
    "                                alt = row['height-above-ellipsoid'])\n",
    "        else:\n",
    "            # Create geometry document for the remaining datasets in which we pass the required values.\n",
    "            # NOTE: To use Geometry queries you have to insert te longitude value first.\n",
    "            geometry = Geometry(coord = [row['location-long'],row['location-lat']],\n",
    "                                alt = row['height-above-msl'])\n",
    "        \n",
    "        # Create the metadata document in which we pass the required values.\n",
    "        metadata = TrackerMetadata(visible = row['visible'],\n",
    "                                   sensor_type = row['sensor-type'],\n",
    "                                   tag_voltage = row['tag-voltage'])\n",
    "        \n",
    "        # Create the speed document in which we pass the required values.\n",
    "        speed = Speed(ground_speed = row['ground-speed'])\n",
    "        \n",
    "        # Create transmission document and append them to the transmissions list.\n",
    "        transmissions.append(Transmission(event_id = row['event-id'],\n",
    "                                          timestamp = row['timestamp'],\n",
    "                                          geometry = geometry,\n",
    "                                          speed = speed,\n",
    "                                          metadata = metadata,\n",
    "                                          tracker = tracker))\n",
    "        \n",
    "    # Print when list appending is done.\n",
    "    print('Bulk inserting: '+ str(transmission_Count) + ' transmissions from: ' + str(name) )\n",
    "        \n",
    "    # Bulk insert the populated transmissions list.\n",
    "    Transmission.objects.insert(transmissions,load_bulk=True)\n",
    "\n",
    "    # Print if insert is succesfull.\n",
    "    print(\"Done inserting \"+ str(len(df.index)) + \" transmissions\")"
   ]
  },
  {
   "cell_type": "markdown",
   "metadata": {},
   "source": [
    "### Loading the data using the load_data function."
   ]
  },
  {
   "cell_type": "code",
   "execution_count": 8,
   "metadata": {},
   "outputs": [
    {
     "name": "stdout",
     "output_type": "stream",
     "text": [
      "Start appending transmissions to list from: Nena\n",
      "Bulk inserting: 11626 transmissions from: Nena\n",
      "Done inserting 11626 transmissions\n",
      "Start appending transmissions to list from: Lotta\n",
      "Bulk inserting: 29934 transmissions from: Lotta\n",
      "Done inserting 29934 transmissions\n",
      "Start appending transmissions to list from: Agnetha\n",
      "Bulk inserting: 44534 transmissions from: Agnetha\n",
      "Done inserting 44534 transmissions\n",
      "Start appending transmissions to list from: Cajsa\n",
      "Bulk inserting: 67887 transmissions from: Cajsa\n",
      "Done inserting 67887 transmissions\n"
     ]
    }
   ],
   "source": [
    "load_data(Lita,\"Lita\",'lt')\n",
    "load_data(Nena,\"Nena\",'ge')\n",
    "load_data(Lotta,\"Lotta\",'ge')\n",
    "load_data(Agentha,\"Agnetha\",'sw')\n",
    "load_data(Cajsa,\"Cajsa\",'sw')"
   ]
  },
  {
   "cell_type": "markdown",
   "metadata": {},
   "source": [
    "---\n",
    "### Querying the data pre-index\n",
    "\n",
    "First we will run a couple of queries before we create the indexes on the database. \n",
    "By doing this, we can compare the time it takes to return a certain amount of data with and without an indexed database. \n",
    "To find information related to the execution of the query add .explain() behind the query.\n",
    "\n",
    "---"
   ]
  },
  {
   "cell_type": "markdown",
   "metadata": {},
   "source": [
    "#### Query to find ID and name of crane Cajsa"
   ]
  },
  {
   "cell_type": "code",
   "execution_count": 9,
   "metadata": {},
   "outputs": [
    {
     "data": {
      "text/plain": [
       "'[{\"_id\": {\"$oid\": \"5edf921d77d8396976ccc14f\"}, \"name\": \"Cajsa\"}]'"
      ]
     },
     "execution_count": 9,
     "metadata": {},
     "output_type": "execute_result"
    }
   ],
   "source": [
    "Tracker.objects(name = 'Cajsa').only('name','id').to_json()"
   ]
  },
  {
   "cell_type": "markdown",
   "metadata": {},
   "source": [
    "#### Query to check executing speed of transmissions related to Cajsa"
   ]
  },
  {
   "cell_type": "code",
   "execution_count": 10,
   "metadata": {},
   "outputs": [
    {
     "data": {
      "text/plain": [
       "{'queryPlanner': {'plannerVersion': 1,\n",
       "  'namespace': 'Crane_Database.transmission',\n",
       "  'indexFilterSet': False,\n",
       "  'parsedQuery': {'tracker': {'$eq': ObjectId('5edf921d77d8396976ccc14f')}},\n",
       "  'winningPlan': {'stage': 'FETCH',\n",
       "   'inputStage': {'stage': 'IXSCAN',\n",
       "    'keyPattern': {'tracker': 1},\n",
       "    'indexName': 'tracker_1',\n",
       "    'isMultiKey': False,\n",
       "    'multiKeyPaths': {'tracker': []},\n",
       "    'isUnique': False,\n",
       "    'isSparse': False,\n",
       "    'isPartial': False,\n",
       "    'indexVersion': 2,\n",
       "    'direction': 'forward',\n",
       "    'indexBounds': {'tracker': [\"[ObjectId('5edf921d77d8396976ccc14f'), ObjectId('5edf921d77d8396976ccc14f')]\"]}}},\n",
       "  'rejectedPlans': []},\n",
       " 'executionStats': {'executionSuccess': True,\n",
       "  'nReturned': 67887,\n",
       "  'executionTimeMillis': 95,\n",
       "  'totalKeysExamined': 67887,\n",
       "  'totalDocsExamined': 67887,\n",
       "  'executionStages': {'stage': 'FETCH',\n",
       "   'nReturned': 67887,\n",
       "   'executionTimeMillisEstimate': 82,\n",
       "   'works': 67888,\n",
       "   'advanced': 67887,\n",
       "   'needTime': 0,\n",
       "   'needYield': 0,\n",
       "   'saveState': 530,\n",
       "   'restoreState': 530,\n",
       "   'isEOF': 1,\n",
       "   'invalidates': 0,\n",
       "   'docsExamined': 67887,\n",
       "   'alreadyHasObj': 0,\n",
       "   'inputStage': {'stage': 'IXSCAN',\n",
       "    'nReturned': 67887,\n",
       "    'executionTimeMillisEstimate': 10,\n",
       "    'works': 67888,\n",
       "    'advanced': 67887,\n",
       "    'needTime': 0,\n",
       "    'needYield': 0,\n",
       "    'saveState': 530,\n",
       "    'restoreState': 530,\n",
       "    'isEOF': 1,\n",
       "    'invalidates': 0,\n",
       "    'keyPattern': {'tracker': 1},\n",
       "    'indexName': 'tracker_1',\n",
       "    'isMultiKey': False,\n",
       "    'multiKeyPaths': {'tracker': []},\n",
       "    'isUnique': False,\n",
       "    'isSparse': False,\n",
       "    'isPartial': False,\n",
       "    'indexVersion': 2,\n",
       "    'direction': 'forward',\n",
       "    'indexBounds': {'tracker': [\"[ObjectId('5edf921d77d8396976ccc14f'), ObjectId('5edf921d77d8396976ccc14f')]\"]},\n",
       "    'keysExamined': 67887,\n",
       "    'seeks': 1,\n",
       "    'dupsTested': 0,\n",
       "    'dupsDropped': 0,\n",
       "    'seenInvalidated': 0}},\n",
       "  'allPlansExecution': []},\n",
       " 'serverInfo': {'host': 'geostack-VirtualBox',\n",
       "  'port': 27017,\n",
       "  'version': '3.6.3',\n",
       "  'gitVersion': '9586e557d54ef70f9ca4b43c26892cd55257e1a5'},\n",
       " 'ok': 1.0}"
      ]
     },
     "execution_count": 10,
     "metadata": {},
     "output_type": "execute_result"
    }
   ],
   "source": [
    "Transmission.objects(tracker='5edf921d77d8396976ccc14f').explain()"
   ]
  },
  {
   "cell_type": "markdown",
   "metadata": {},
   "source": [
    "#### Query to find ID of crane lotta "
   ]
  },
  {
   "cell_type": "code",
   "execution_count": 11,
   "metadata": {},
   "outputs": [
    {
     "data": {
      "text/plain": [
       "'[{\"_id\": {\"$oid\": \"5edf91de77d8396976cb9e69\"}, \"name\": \"Lotta\"}]'"
      ]
     },
     "execution_count": 11,
     "metadata": {},
     "output_type": "execute_result"
    }
   ],
   "source": [
    "Tracker.objects(name = 'Lotta').only('name','id').to_json()"
   ]
  },
  {
   "cell_type": "markdown",
   "metadata": {},
   "source": [
    "#### Query to return al items related to Crane: Lotta"
   ]
  },
  {
   "cell_type": "code",
   "execution_count": 12,
   "metadata": {},
   "outputs": [
    {
     "data": {
      "text/plain": [
       "{'queryPlanner': {'plannerVersion': 1,\n",
       "  'namespace': 'Crane_Database.transmission',\n",
       "  'indexFilterSet': False,\n",
       "  'parsedQuery': {'tracker': {'$eq': ObjectId('5edf91de77d8396976cb9e69')}},\n",
       "  'winningPlan': {'stage': 'FETCH',\n",
       "   'inputStage': {'stage': 'IXSCAN',\n",
       "    'keyPattern': {'tracker': 1},\n",
       "    'indexName': 'tracker_1',\n",
       "    'isMultiKey': False,\n",
       "    'multiKeyPaths': {'tracker': []},\n",
       "    'isUnique': False,\n",
       "    'isSparse': False,\n",
       "    'isPartial': False,\n",
       "    'indexVersion': 2,\n",
       "    'direction': 'forward',\n",
       "    'indexBounds': {'tracker': [\"[ObjectId('5edf91de77d8396976cb9e69'), ObjectId('5edf91de77d8396976cb9e69')]\"]}}},\n",
       "  'rejectedPlans': []},\n",
       " 'executionStats': {'executionSuccess': True,\n",
       "  'nReturned': 29934,\n",
       "  'executionTimeMillis': 43,\n",
       "  'totalKeysExamined': 29934,\n",
       "  'totalDocsExamined': 29934,\n",
       "  'executionStages': {'stage': 'FETCH',\n",
       "   'nReturned': 29934,\n",
       "   'executionTimeMillisEstimate': 42,\n",
       "   'works': 29935,\n",
       "   'advanced': 29934,\n",
       "   'needTime': 0,\n",
       "   'needYield': 0,\n",
       "   'saveState': 234,\n",
       "   'restoreState': 234,\n",
       "   'isEOF': 1,\n",
       "   'invalidates': 0,\n",
       "   'docsExamined': 29934,\n",
       "   'alreadyHasObj': 0,\n",
       "   'inputStage': {'stage': 'IXSCAN',\n",
       "    'nReturned': 29934,\n",
       "    'executionTimeMillisEstimate': 20,\n",
       "    'works': 29935,\n",
       "    'advanced': 29934,\n",
       "    'needTime': 0,\n",
       "    'needYield': 0,\n",
       "    'saveState': 234,\n",
       "    'restoreState': 234,\n",
       "    'isEOF': 1,\n",
       "    'invalidates': 0,\n",
       "    'keyPattern': {'tracker': 1},\n",
       "    'indexName': 'tracker_1',\n",
       "    'isMultiKey': False,\n",
       "    'multiKeyPaths': {'tracker': []},\n",
       "    'isUnique': False,\n",
       "    'isSparse': False,\n",
       "    'isPartial': False,\n",
       "    'indexVersion': 2,\n",
       "    'direction': 'forward',\n",
       "    'indexBounds': {'tracker': [\"[ObjectId('5edf91de77d8396976cb9e69'), ObjectId('5edf91de77d8396976cb9e69')]\"]},\n",
       "    'keysExamined': 29934,\n",
       "    'seeks': 1,\n",
       "    'dupsTested': 0,\n",
       "    'dupsDropped': 0,\n",
       "    'seenInvalidated': 0}},\n",
       "  'allPlansExecution': []},\n",
       " 'serverInfo': {'host': 'geostack-VirtualBox',\n",
       "  'port': 27017,\n",
       "  'version': '3.6.3',\n",
       "  'gitVersion': '9586e557d54ef70f9ca4b43c26892cd55257e1a5'},\n",
       " 'ok': 1.0}"
      ]
     },
     "execution_count": 12,
     "metadata": {},
     "output_type": "execute_result"
    }
   ],
   "source": [
    "Transmission.objects(tracker='5edf91de77d8396976cb9e69').explain()"
   ]
  },
  {
   "cell_type": "markdown",
   "metadata": {},
   "source": [
    "###### It took 143 miliseconds to return 29934 results using a COLLSCAN (Collection scan)\n",
    "###### Note: These numbers may differ a bit on your system "
   ]
  },
  {
   "cell_type": "markdown",
   "metadata": {},
   "source": [
    "#### Query to return al items related to Crane: Lotta, between 2018-06-01 and 2018-09-01"
   ]
  },
  {
   "cell_type": "code",
   "execution_count": 13,
   "metadata": {
    "scrolled": true
   },
   "outputs": [
    {
     "data": {
      "text/plain": [
       "{'queryPlanner': {'plannerVersion': 1,\n",
       "  'namespace': 'Crane_Database.transmission',\n",
       "  'indexFilterSet': False,\n",
       "  'parsedQuery': {'$and': [{'tracker': {'$eq': ObjectId('5edf91de77d8396976cb9e69')}},\n",
       "    {'timestamp': {'$lte': datetime.datetime(2018, 9, 1, 0, 0)}},\n",
       "    {'timestamp': {'$gte': datetime.datetime(2018, 6, 1, 0, 0)}}]},\n",
       "  'winningPlan': {'stage': 'FETCH',\n",
       "   'filter': {'$and': [{'timestamp': {'$lte': datetime.datetime(2018, 9, 1, 0, 0)}},\n",
       "     {'timestamp': {'$gte': datetime.datetime(2018, 6, 1, 0, 0)}}]},\n",
       "   'inputStage': {'stage': 'IXSCAN',\n",
       "    'keyPattern': {'tracker': 1},\n",
       "    'indexName': 'tracker_1',\n",
       "    'isMultiKey': False,\n",
       "    'multiKeyPaths': {'tracker': []},\n",
       "    'isUnique': False,\n",
       "    'isSparse': False,\n",
       "    'isPartial': False,\n",
       "    'indexVersion': 2,\n",
       "    'direction': 'forward',\n",
       "    'indexBounds': {'tracker': [\"[ObjectId('5edf91de77d8396976cb9e69'), ObjectId('5edf91de77d8396976cb9e69')]\"]}}},\n",
       "  'rejectedPlans': [{'stage': 'FETCH',\n",
       "    'filter': {'tracker': {'$eq': ObjectId('5edf91de77d8396976cb9e69')}},\n",
       "    'inputStage': {'stage': 'IXSCAN',\n",
       "     'keyPattern': {'timestamp': 1},\n",
       "     'indexName': 'timestamp_1',\n",
       "     'isMultiKey': False,\n",
       "     'multiKeyPaths': {'timestamp': []},\n",
       "     'isUnique': False,\n",
       "     'isSparse': False,\n",
       "     'isPartial': False,\n",
       "     'indexVersion': 2,\n",
       "     'direction': 'forward',\n",
       "     'indexBounds': {'timestamp': ['[new Date(1527811200000), new Date(1535760000000)]']}}}]},\n",
       " 'executionStats': {'executionSuccess': True,\n",
       "  'nReturned': 7387,\n",
       "  'executionTimeMillis': 52,\n",
       "  'totalKeysExamined': 29934,\n",
       "  'totalDocsExamined': 29934,\n",
       "  'executionStages': {'stage': 'FETCH',\n",
       "   'filter': {'$and': [{'timestamp': {'$lte': datetime.datetime(2018, 9, 1, 0, 0)}},\n",
       "     {'timestamp': {'$gte': datetime.datetime(2018, 6, 1, 0, 0)}}]},\n",
       "   'nReturned': 7387,\n",
       "   'executionTimeMillisEstimate': 31,\n",
       "   'works': 29935,\n",
       "   'advanced': 7387,\n",
       "   'needTime': 22547,\n",
       "   'needYield': 0,\n",
       "   'saveState': 235,\n",
       "   'restoreState': 235,\n",
       "   'isEOF': 1,\n",
       "   'invalidates': 0,\n",
       "   'docsExamined': 29934,\n",
       "   'alreadyHasObj': 0,\n",
       "   'inputStage': {'stage': 'IXSCAN',\n",
       "    'nReturned': 29934,\n",
       "    'executionTimeMillisEstimate': 20,\n",
       "    'works': 29935,\n",
       "    'advanced': 29934,\n",
       "    'needTime': 0,\n",
       "    'needYield': 0,\n",
       "    'saveState': 235,\n",
       "    'restoreState': 235,\n",
       "    'isEOF': 1,\n",
       "    'invalidates': 0,\n",
       "    'keyPattern': {'tracker': 1},\n",
       "    'indexName': 'tracker_1',\n",
       "    'isMultiKey': False,\n",
       "    'multiKeyPaths': {'tracker': []},\n",
       "    'isUnique': False,\n",
       "    'isSparse': False,\n",
       "    'isPartial': False,\n",
       "    'indexVersion': 2,\n",
       "    'direction': 'forward',\n",
       "    'indexBounds': {'tracker': [\"[ObjectId('5edf91de77d8396976cb9e69'), ObjectId('5edf91de77d8396976cb9e69')]\"]},\n",
       "    'keysExamined': 29934,\n",
       "    'seeks': 1,\n",
       "    'dupsTested': 0,\n",
       "    'dupsDropped': 0,\n",
       "    'seenInvalidated': 0}},\n",
       "  'allPlansExecution': [{'nReturned': 0,\n",
       "    'executionTimeMillisEstimate': 0,\n",
       "    'totalKeysExamined': 101,\n",
       "    'totalDocsExamined': 101,\n",
       "    'executionStages': {'stage': 'FETCH',\n",
       "     'filter': {'tracker': {'$eq': ObjectId('5edf91de77d8396976cb9e69')}},\n",
       "     'nReturned': 0,\n",
       "     'executionTimeMillisEstimate': 0,\n",
       "     'works': 101,\n",
       "     'advanced': 0,\n",
       "     'needTime': 101,\n",
       "     'needYield': 0,\n",
       "     'saveState': 1,\n",
       "     'restoreState': 1,\n",
       "     'isEOF': 0,\n",
       "     'invalidates': 0,\n",
       "     'docsExamined': 101,\n",
       "     'alreadyHasObj': 0,\n",
       "     'inputStage': {'stage': 'IXSCAN',\n",
       "      'nReturned': 101,\n",
       "      'executionTimeMillisEstimate': 0,\n",
       "      'works': 101,\n",
       "      'advanced': 101,\n",
       "      'needTime': 0,\n",
       "      'needYield': 0,\n",
       "      'saveState': 1,\n",
       "      'restoreState': 1,\n",
       "      'isEOF': 0,\n",
       "      'invalidates': 0,\n",
       "      'keyPattern': {'timestamp': 1},\n",
       "      'indexName': 'timestamp_1',\n",
       "      'isMultiKey': False,\n",
       "      'multiKeyPaths': {'timestamp': []},\n",
       "      'isUnique': False,\n",
       "      'isSparse': False,\n",
       "      'isPartial': False,\n",
       "      'indexVersion': 2,\n",
       "      'direction': 'forward',\n",
       "      'indexBounds': {'timestamp': ['[new Date(1527811200000), new Date(1535760000000)]']},\n",
       "      'keysExamined': 101,\n",
       "      'seeks': 1,\n",
       "      'dupsTested': 0,\n",
       "      'dupsDropped': 0,\n",
       "      'seenInvalidated': 0}}},\n",
       "   {'nReturned': 101,\n",
       "    'executionTimeMillisEstimate': 0,\n",
       "    'totalKeysExamined': 101,\n",
       "    'totalDocsExamined': 101,\n",
       "    'executionStages': {'stage': 'FETCH',\n",
       "     'filter': {'$and': [{'timestamp': {'$lte': datetime.datetime(2018, 9, 1, 0, 0)}},\n",
       "       {'timestamp': {'$gte': datetime.datetime(2018, 6, 1, 0, 0)}}]},\n",
       "     'nReturned': 101,\n",
       "     'executionTimeMillisEstimate': 0,\n",
       "     'works': 101,\n",
       "     'advanced': 101,\n",
       "     'needTime': 0,\n",
       "     'needYield': 0,\n",
       "     'saveState': 1,\n",
       "     'restoreState': 1,\n",
       "     'isEOF': 0,\n",
       "     'invalidates': 0,\n",
       "     'docsExamined': 101,\n",
       "     'alreadyHasObj': 0,\n",
       "     'inputStage': {'stage': 'IXSCAN',\n",
       "      'nReturned': 101,\n",
       "      'executionTimeMillisEstimate': 0,\n",
       "      'works': 101,\n",
       "      'advanced': 101,\n",
       "      'needTime': 0,\n",
       "      'needYield': 0,\n",
       "      'saveState': 1,\n",
       "      'restoreState': 1,\n",
       "      'isEOF': 0,\n",
       "      'invalidates': 0,\n",
       "      'keyPattern': {'tracker': 1},\n",
       "      'indexName': 'tracker_1',\n",
       "      'isMultiKey': False,\n",
       "      'multiKeyPaths': {'tracker': []},\n",
       "      'isUnique': False,\n",
       "      'isSparse': False,\n",
       "      'isPartial': False,\n",
       "      'indexVersion': 2,\n",
       "      'direction': 'forward',\n",
       "      'indexBounds': {'tracker': [\"[ObjectId('5edf91de77d8396976cb9e69'), ObjectId('5edf91de77d8396976cb9e69')]\"]},\n",
       "      'keysExamined': 101,\n",
       "      'seeks': 1,\n",
       "      'dupsTested': 0,\n",
       "      'dupsDropped': 0,\n",
       "      'seenInvalidated': 0}}}]},\n",
       " 'serverInfo': {'host': 'geostack-VirtualBox',\n",
       "  'port': 27017,\n",
       "  'version': '3.6.3',\n",
       "  'gitVersion': '9586e557d54ef70f9ca4b43c26892cd55257e1a5'},\n",
       " 'ok': 1.0}"
      ]
     },
     "execution_count": 13,
     "metadata": {},
     "output_type": "execute_result"
    }
   ],
   "source": [
    "Transmission.objects(Q(tracker='5edf91de77d8396976cb9e69')&\n",
    "                     Q(timestamp__gte=datetime(2018,6,1)) &\n",
    "                     Q(timestamp__lte=datetime(2018,9,1))).explain()"
   ]
  },
  {
   "cell_type": "markdown",
   "metadata": {},
   "source": [
    "##### It took 80 miliseconds to return 110 results using a COLLSCAN (Collection scan)\n",
    "###### Note: These numbers may differ a bit on your system"
   ]
  },
  {
   "cell_type": "markdown",
   "metadata": {},
   "source": [
    "#### Query to return al items in a predefined bound box (The Netherlands in this case)\n",
    "Bounds of the box can be found using the following webite: https://www.keene.edu/campus/maps/tool/"
   ]
  },
  {
   "cell_type": "code",
   "execution_count": null,
   "metadata": {},
   "outputs": [],
   "source": [
    "Transmission.objects(geometry__coord__geo_within_box=[\n",
    "    (3.2299835,50.7920471),(7.4926788,53.5729383)]).explain()"
   ]
  },
  {
   "cell_type": "markdown",
   "metadata": {},
   "source": [
    "##### It took 744 miliseconds to return 489 results using a COLLSCAN (Collection scan)"
   ]
  },
  {
   "cell_type": "markdown",
   "metadata": {},
   "source": [
    "#### Query to return al items in a predefined polygone (The Netherlands in this case)\n",
    "Bounds of the polygone can be found using the following webite: https://www.keene.edu/campus/maps/tool/"
   ]
  },
  {
   "cell_type": "code",
   "execution_count": null,
   "metadata": {},
   "outputs": [],
   "source": [
    "Transmission.objects(geometry__coord__geo_within=[[\n",
    "    [3.2409668,52.2395743],[3.8781738,51.1672889],\n",
    "    [5.1443481,51.9950282],[3.2409668,52.2395743]]]).explain()"
   ]
  },
  {
   "cell_type": "markdown",
   "metadata": {},
   "source": [
    "##### It took 720 miliseconds to return 131 results using a COLLSCAN (Collection scan)"
   ]
  },
  {
   "cell_type": "markdown",
   "metadata": {},
   "source": [
    "### Indexing the database\n",
    "\n",
    "##### there are 2 ways to create indexes on data. \n",
    "- Create an index when modeling the data.<br>\n",
    "to create an index while creating the data model, we have to add a meta field to  the \tdocument we want to create an index on. For example: If we want to create an index on \tthe altitude field in the geometry document, we add the following meta field to our geometry document:"
   ]
  },
  {
   "cell_type": "code",
   "execution_count": null,
   "metadata": {},
   "outputs": [],
   "source": [
    "class Geometry(EmbeddedDocument):\n",
    " \n",
    "    coord = PointField()\n",
    "    \n",
    "    alt = FloatField()\n",
    "    \n",
    "    meta = {\n",
    "        'collection': 'altitude',\n",
    "        'indexes': [\n",
    "          {'fields': ['alt']}\n",
    "        ]\n",
    "    }"
   ]
  },
  {
   "cell_type": "markdown",
   "metadata": {},
   "source": [
    "- Create indexes after modeling the data <br>\n",
    "  We can also create the indexes after we created the datamodel. We are going to use this way to create indexes below. For example: if we want to create an index on the altitude field after creating the data model we would run the following command: <br>\n",
    "  Transmission.create_index((\"geometry.alt\"))\n",
    "  \n",
    "- Create indexes using pymongo\n",
    "    add 2d index to coord field db.signals.ensureIndex({\"geometry.coord.coordinates\":\"2d\"});\n",
    "\n",
    "\n",
    "  \n",
    "\n",
    "##### We want to create 4 indexes \n",
    "- 2D Sphere index\n",
    "  This index will be used to query the coordinates of the crane\n",
    "  (This was automaticly done when assiging PointField() to the coordinates entry, when creating the database model)\n",
    "- 2D index\n",
    "  We need this index to be able to find coordinates in a cetrain box \n",
    "- timestamp index \n",
    "  We need this index because we will query on the timestamp a lot of times\n",
    "- tracker index (in the transmission collection)\n",
    "  We need this index because we will query to find transmissions per tracker using the tracker id"
   ]
  },
  {
   "cell_type": "markdown",
   "metadata": {},
   "source": [
    "#### Create an index on the tracker field in the transmission collection"
   ]
  },
  {
   "cell_type": "code",
   "execution_count": 17,
   "metadata": {},
   "outputs": [
    {
     "data": {
      "text/plain": [
       "'tracker_1'"
      ]
     },
     "execution_count": 17,
     "metadata": {},
     "output_type": "execute_result"
    }
   ],
   "source": [
    "Transmission.create_index((\"tracker\"))"
   ]
  },
  {
   "cell_type": "markdown",
   "metadata": {},
   "source": [
    "#### Create an index on the timestamp field in the transmission collection"
   ]
  },
  {
   "cell_type": "code",
   "execution_count": 18,
   "metadata": {},
   "outputs": [
    {
     "data": {
      "text/plain": [
       "'timestamp_1'"
      ]
     },
     "execution_count": 18,
     "metadata": {},
     "output_type": "execute_result"
    }
   ],
   "source": [
    "Transmission.create_index((\"timestamp\"))"
   ]
  },
  {
   "cell_type": "markdown",
   "metadata": {},
   "source": [
    "#### Create an 2D index on the coordinates field in the transmission collection"
   ]
  },
  {
   "cell_type": "code",
   "execution_count": 19,
   "metadata": {},
   "outputs": [
    {
     "data": {
      "text/plain": [
       "'geometry.coord_1'"
      ]
     },
     "execution_count": 19,
     "metadata": {},
     "output_type": "execute_result"
    }
   ],
   "source": [
    "Transmission.create_index((\"geometry.coord\"))"
   ]
  },
  {
   "cell_type": "markdown",
   "metadata": {},
   "source": [
    "---\n",
    "### Querying the data post-index"
   ]
  },
  {
   "cell_type": "markdown",
   "metadata": {},
   "source": [
    "#### Query to check executing speed after indexing of obtaining the Crane Cajsa"
   ]
  },
  {
   "cell_type": "code",
   "execution_count": 20,
   "metadata": {},
   "outputs": [
    {
     "data": {
      "text/plain": [
       "{'queryPlanner': {'plannerVersion': 1,\n",
       "  'namespace': 'Crane_Database.transmission',\n",
       "  'indexFilterSet': False,\n",
       "  'parsedQuery': {'tracker': {'$eq': ObjectId('5edf921d77d8396976ccc14f')}},\n",
       "  'winningPlan': {'stage': 'FETCH',\n",
       "   'inputStage': {'stage': 'IXSCAN',\n",
       "    'keyPattern': {'tracker': 1},\n",
       "    'indexName': 'tracker_1',\n",
       "    'isMultiKey': False,\n",
       "    'multiKeyPaths': {'tracker': []},\n",
       "    'isUnique': False,\n",
       "    'isSparse': False,\n",
       "    'isPartial': False,\n",
       "    'indexVersion': 2,\n",
       "    'direction': 'forward',\n",
       "    'indexBounds': {'tracker': [\"[ObjectId('5edf921d77d8396976ccc14f'), ObjectId('5edf921d77d8396976ccc14f')]\"]}}},\n",
       "  'rejectedPlans': []},\n",
       " 'executionStats': {'executionSuccess': True,\n",
       "  'nReturned': 67887,\n",
       "  'executionTimeMillis': 95,\n",
       "  'totalKeysExamined': 67887,\n",
       "  'totalDocsExamined': 67887,\n",
       "  'executionStages': {'stage': 'FETCH',\n",
       "   'nReturned': 67887,\n",
       "   'executionTimeMillisEstimate': 84,\n",
       "   'works': 67888,\n",
       "   'advanced': 67887,\n",
       "   'needTime': 0,\n",
       "   'needYield': 0,\n",
       "   'saveState': 530,\n",
       "   'restoreState': 530,\n",
       "   'isEOF': 1,\n",
       "   'invalidates': 0,\n",
       "   'docsExamined': 67887,\n",
       "   'alreadyHasObj': 0,\n",
       "   'inputStage': {'stage': 'IXSCAN',\n",
       "    'nReturned': 67887,\n",
       "    'executionTimeMillisEstimate': 53,\n",
       "    'works': 67888,\n",
       "    'advanced': 67887,\n",
       "    'needTime': 0,\n",
       "    'needYield': 0,\n",
       "    'saveState': 530,\n",
       "    'restoreState': 530,\n",
       "    'isEOF': 1,\n",
       "    'invalidates': 0,\n",
       "    'keyPattern': {'tracker': 1},\n",
       "    'indexName': 'tracker_1',\n",
       "    'isMultiKey': False,\n",
       "    'multiKeyPaths': {'tracker': []},\n",
       "    'isUnique': False,\n",
       "    'isSparse': False,\n",
       "    'isPartial': False,\n",
       "    'indexVersion': 2,\n",
       "    'direction': 'forward',\n",
       "    'indexBounds': {'tracker': [\"[ObjectId('5edf921d77d8396976ccc14f'), ObjectId('5edf921d77d8396976ccc14f')]\"]},\n",
       "    'keysExamined': 67887,\n",
       "    'seeks': 1,\n",
       "    'dupsTested': 0,\n",
       "    'dupsDropped': 0,\n",
       "    'seenInvalidated': 0}},\n",
       "  'allPlansExecution': []},\n",
       " 'serverInfo': {'host': 'geostack-VirtualBox',\n",
       "  'port': 27017,\n",
       "  'version': '3.6.3',\n",
       "  'gitVersion': '9586e557d54ef70f9ca4b43c26892cd55257e1a5'},\n",
       " 'ok': 1.0}"
      ]
     },
     "execution_count": 20,
     "metadata": {},
     "output_type": "execute_result"
    }
   ],
   "source": [
    "Transmission.objects(tracker='5edf921d77d8396976ccc14f').explain()"
   ]
  },
  {
   "cell_type": "markdown",
   "metadata": {},
   "source": [
    "#### Query to return al items related to Crane: Lotta"
   ]
  },
  {
   "cell_type": "code",
   "execution_count": 21,
   "metadata": {},
   "outputs": [
    {
     "data": {
      "text/plain": [
       "{'queryPlanner': {'plannerVersion': 1,\n",
       "  'namespace': 'Crane_Database.transmission',\n",
       "  'indexFilterSet': False,\n",
       "  'parsedQuery': {'tracker': {'$eq': ObjectId('5edf91de77d8396976cb9e69')}},\n",
       "  'winningPlan': {'stage': 'FETCH',\n",
       "   'inputStage': {'stage': 'IXSCAN',\n",
       "    'keyPattern': {'tracker': 1},\n",
       "    'indexName': 'tracker_1',\n",
       "    'isMultiKey': False,\n",
       "    'multiKeyPaths': {'tracker': []},\n",
       "    'isUnique': False,\n",
       "    'isSparse': False,\n",
       "    'isPartial': False,\n",
       "    'indexVersion': 2,\n",
       "    'direction': 'forward',\n",
       "    'indexBounds': {'tracker': [\"[ObjectId('5edf91de77d8396976cb9e69'), ObjectId('5edf91de77d8396976cb9e69')]\"]}}},\n",
       "  'rejectedPlans': []},\n",
       " 'executionStats': {'executionSuccess': True,\n",
       "  'nReturned': 29934,\n",
       "  'executionTimeMillis': 44,\n",
       "  'totalKeysExamined': 29934,\n",
       "  'totalDocsExamined': 29934,\n",
       "  'executionStages': {'stage': 'FETCH',\n",
       "   'nReturned': 29934,\n",
       "   'executionTimeMillisEstimate': 40,\n",
       "   'works': 29935,\n",
       "   'advanced': 29934,\n",
       "   'needTime': 0,\n",
       "   'needYield': 0,\n",
       "   'saveState': 233,\n",
       "   'restoreState': 233,\n",
       "   'isEOF': 1,\n",
       "   'invalidates': 0,\n",
       "   'docsExamined': 29934,\n",
       "   'alreadyHasObj': 0,\n",
       "   'inputStage': {'stage': 'IXSCAN',\n",
       "    'nReturned': 29934,\n",
       "    'executionTimeMillisEstimate': 20,\n",
       "    'works': 29935,\n",
       "    'advanced': 29934,\n",
       "    'needTime': 0,\n",
       "    'needYield': 0,\n",
       "    'saveState': 233,\n",
       "    'restoreState': 233,\n",
       "    'isEOF': 1,\n",
       "    'invalidates': 0,\n",
       "    'keyPattern': {'tracker': 1},\n",
       "    'indexName': 'tracker_1',\n",
       "    'isMultiKey': False,\n",
       "    'multiKeyPaths': {'tracker': []},\n",
       "    'isUnique': False,\n",
       "    'isSparse': False,\n",
       "    'isPartial': False,\n",
       "    'indexVersion': 2,\n",
       "    'direction': 'forward',\n",
       "    'indexBounds': {'tracker': [\"[ObjectId('5edf91de77d8396976cb9e69'), ObjectId('5edf91de77d8396976cb9e69')]\"]},\n",
       "    'keysExamined': 29934,\n",
       "    'seeks': 1,\n",
       "    'dupsTested': 0,\n",
       "    'dupsDropped': 0,\n",
       "    'seenInvalidated': 0}},\n",
       "  'allPlansExecution': []},\n",
       " 'serverInfo': {'host': 'geostack-VirtualBox',\n",
       "  'port': 27017,\n",
       "  'version': '3.6.3',\n",
       "  'gitVersion': '9586e557d54ef70f9ca4b43c26892cd55257e1a5'},\n",
       " 'ok': 1.0}"
      ]
     },
     "execution_count": 21,
     "metadata": {},
     "output_type": "execute_result"
    }
   ],
   "source": [
    "Transmission.objects(tracker='5edf91de77d8396976cb9e69').explain()"
   ]
  },
  {
   "cell_type": "markdown",
   "metadata": {},
   "source": [
    "###### It took 30 miliseconds to return 29934 results using a IXSCAN (Index scan)\n",
    "###### Note: These numbers may differ a bit on your system"
   ]
  },
  {
   "cell_type": "markdown",
   "metadata": {},
   "source": [
    "#### Query to return al items in a predefined bound box (The Netherlands in this case)\n",
    "Bounds of the box can be found using the following webite: https://www.keene.edu/campus/maps/tool/"
   ]
  },
  {
   "cell_type": "code",
   "execution_count": 22,
   "metadata": {},
   "outputs": [
    {
     "data": {
      "text/plain": [
       "{'queryPlanner': {'plannerVersion': 1,\n",
       "  'namespace': 'Crane_Database.transmission',\n",
       "  'indexFilterSet': False,\n",
       "  'parsedQuery': {'geometry.coord': {'$geoWithin': {'$box': [[3.2299835,\n",
       "       50.7920471],\n",
       "      [7.4926788, 53.5729383]]}}},\n",
       "  'winningPlan': {'stage': 'COLLSCAN',\n",
       "   'filter': {'geometry.coord': {'$geoWithin': {'$box': [[3.2299835,\n",
       "        50.7920471],\n",
       "       [7.4926788, 53.5729383]]}}},\n",
       "   'direction': 'forward'},\n",
       "  'rejectedPlans': []},\n",
       " 'executionStats': {'executionSuccess': True,\n",
       "  'nReturned': 503,\n",
       "  'executionTimeMillis': 674,\n",
       "  'totalKeysExamined': 0,\n",
       "  'totalDocsExamined': 561079,\n",
       "  'executionStages': {'stage': 'COLLSCAN',\n",
       "   'filter': {'geometry.coord': {'$geoWithin': {'$box': [[3.2299835,\n",
       "        50.7920471],\n",
       "       [7.4926788, 53.5729383]]}}},\n",
       "   'nReturned': 503,\n",
       "   'executionTimeMillisEstimate': 638,\n",
       "   'works': 561081,\n",
       "   'advanced': 503,\n",
       "   'needTime': 560577,\n",
       "   'needYield': 0,\n",
       "   'saveState': 4393,\n",
       "   'restoreState': 4393,\n",
       "   'isEOF': 1,\n",
       "   'invalidates': 0,\n",
       "   'direction': 'forward',\n",
       "   'docsExamined': 561079},\n",
       "  'allPlansExecution': []},\n",
       " 'serverInfo': {'host': 'geostack-VirtualBox',\n",
       "  'port': 27017,\n",
       "  'version': '3.6.3',\n",
       "  'gitVersion': '9586e557d54ef70f9ca4b43c26892cd55257e1a5'},\n",
       " 'ok': 1.0}"
      ]
     },
     "execution_count": 22,
     "metadata": {},
     "output_type": "execute_result"
    }
   ],
   "source": [
    "Transmission.objects(geometry__coord__geo_within_box=[\n",
    "      (3.2299835,50.7920471),(7.4926788,53.5729383)]).explain()"
   ]
  },
  {
   "cell_type": "markdown",
   "metadata": {},
   "source": [
    "##### It took 20 miliseconds to return 489 results using a IXSCAN (Index scan)\n",
    "###### Note: These numbers may differ a bit on your system"
   ]
  },
  {
   "cell_type": "markdown",
   "metadata": {},
   "source": [
    "#### Query to return al items related to Crane: Lotta, between 2018-06-01 and 2018-09-01"
   ]
  },
  {
   "cell_type": "code",
   "execution_count": 23,
   "metadata": {},
   "outputs": [
    {
     "data": {
      "text/plain": [
       "{'queryPlanner': {'plannerVersion': 1,\n",
       "  'namespace': 'Crane_Database.transmission',\n",
       "  'indexFilterSet': False,\n",
       "  'parsedQuery': {'$and': [{'tracker': {'$eq': ObjectId('5edf91de77d8396976cb9e69')}},\n",
       "    {'timestamp': {'$lte': datetime.datetime(2018, 9, 1, 0, 0)}},\n",
       "    {'timestamp': {'$gte': datetime.datetime(2018, 6, 1, 0, 0)}}]},\n",
       "  'winningPlan': {'stage': 'FETCH',\n",
       "   'filter': {'$and': [{'timestamp': {'$lte': datetime.datetime(2018, 9, 1, 0, 0)}},\n",
       "     {'timestamp': {'$gte': datetime.datetime(2018, 6, 1, 0, 0)}}]},\n",
       "   'inputStage': {'stage': 'IXSCAN',\n",
       "    'keyPattern': {'tracker': 1},\n",
       "    'indexName': 'tracker_1',\n",
       "    'isMultiKey': False,\n",
       "    'multiKeyPaths': {'tracker': []},\n",
       "    'isUnique': False,\n",
       "    'isSparse': False,\n",
       "    'isPartial': False,\n",
       "    'indexVersion': 2,\n",
       "    'direction': 'forward',\n",
       "    'indexBounds': {'tracker': [\"[ObjectId('5edf91de77d8396976cb9e69'), ObjectId('5edf91de77d8396976cb9e69')]\"]}}},\n",
       "  'rejectedPlans': [{'stage': 'FETCH',\n",
       "    'filter': {'tracker': {'$eq': ObjectId('5edf91de77d8396976cb9e69')}},\n",
       "    'inputStage': {'stage': 'IXSCAN',\n",
       "     'keyPattern': {'timestamp': 1},\n",
       "     'indexName': 'timestamp_1',\n",
       "     'isMultiKey': False,\n",
       "     'multiKeyPaths': {'timestamp': []},\n",
       "     'isUnique': False,\n",
       "     'isSparse': False,\n",
       "     'isPartial': False,\n",
       "     'indexVersion': 2,\n",
       "     'direction': 'forward',\n",
       "     'indexBounds': {'timestamp': ['[new Date(1527811200000), new Date(1535760000000)]']}}}]},\n",
       " 'executionStats': {'executionSuccess': True,\n",
       "  'nReturned': 7387,\n",
       "  'executionTimeMillis': 62,\n",
       "  'totalKeysExamined': 29934,\n",
       "  'totalDocsExamined': 29934,\n",
       "  'executionStages': {'stage': 'FETCH',\n",
       "   'filter': {'$and': [{'timestamp': {'$lte': datetime.datetime(2018, 9, 1, 0, 0)}},\n",
       "     {'timestamp': {'$gte': datetime.datetime(2018, 6, 1, 0, 0)}}]},\n",
       "   'nReturned': 7387,\n",
       "   'executionTimeMillisEstimate': 40,\n",
       "   'works': 29935,\n",
       "   'advanced': 7387,\n",
       "   'needTime': 22547,\n",
       "   'needYield': 0,\n",
       "   'saveState': 235,\n",
       "   'restoreState': 235,\n",
       "   'isEOF': 1,\n",
       "   'invalidates': 0,\n",
       "   'docsExamined': 29934,\n",
       "   'alreadyHasObj': 0,\n",
       "   'inputStage': {'stage': 'IXSCAN',\n",
       "    'nReturned': 29934,\n",
       "    'executionTimeMillisEstimate': 0,\n",
       "    'works': 29935,\n",
       "    'advanced': 29934,\n",
       "    'needTime': 0,\n",
       "    'needYield': 0,\n",
       "    'saveState': 235,\n",
       "    'restoreState': 235,\n",
       "    'isEOF': 1,\n",
       "    'invalidates': 0,\n",
       "    'keyPattern': {'tracker': 1},\n",
       "    'indexName': 'tracker_1',\n",
       "    'isMultiKey': False,\n",
       "    'multiKeyPaths': {'tracker': []},\n",
       "    'isUnique': False,\n",
       "    'isSparse': False,\n",
       "    'isPartial': False,\n",
       "    'indexVersion': 2,\n",
       "    'direction': 'forward',\n",
       "    'indexBounds': {'tracker': [\"[ObjectId('5edf91de77d8396976cb9e69'), ObjectId('5edf91de77d8396976cb9e69')]\"]},\n",
       "    'keysExamined': 29934,\n",
       "    'seeks': 1,\n",
       "    'dupsTested': 0,\n",
       "    'dupsDropped': 0,\n",
       "    'seenInvalidated': 0}},\n",
       "  'allPlansExecution': [{'nReturned': 0,\n",
       "    'executionTimeMillisEstimate': 0,\n",
       "    'totalKeysExamined': 101,\n",
       "    'totalDocsExamined': 101,\n",
       "    'executionStages': {'stage': 'FETCH',\n",
       "     'filter': {'tracker': {'$eq': ObjectId('5edf91de77d8396976cb9e69')}},\n",
       "     'nReturned': 0,\n",
       "     'executionTimeMillisEstimate': 0,\n",
       "     'works': 101,\n",
       "     'advanced': 0,\n",
       "     'needTime': 101,\n",
       "     'needYield': 0,\n",
       "     'saveState': 1,\n",
       "     'restoreState': 1,\n",
       "     'isEOF': 0,\n",
       "     'invalidates': 0,\n",
       "     'docsExamined': 101,\n",
       "     'alreadyHasObj': 0,\n",
       "     'inputStage': {'stage': 'IXSCAN',\n",
       "      'nReturned': 101,\n",
       "      'executionTimeMillisEstimate': 0,\n",
       "      'works': 101,\n",
       "      'advanced': 101,\n",
       "      'needTime': 0,\n",
       "      'needYield': 0,\n",
       "      'saveState': 1,\n",
       "      'restoreState': 1,\n",
       "      'isEOF': 0,\n",
       "      'invalidates': 0,\n",
       "      'keyPattern': {'timestamp': 1},\n",
       "      'indexName': 'timestamp_1',\n",
       "      'isMultiKey': False,\n",
       "      'multiKeyPaths': {'timestamp': []},\n",
       "      'isUnique': False,\n",
       "      'isSparse': False,\n",
       "      'isPartial': False,\n",
       "      'indexVersion': 2,\n",
       "      'direction': 'forward',\n",
       "      'indexBounds': {'timestamp': ['[new Date(1527811200000), new Date(1535760000000)]']},\n",
       "      'keysExamined': 101,\n",
       "      'seeks': 1,\n",
       "      'dupsTested': 0,\n",
       "      'dupsDropped': 0,\n",
       "      'seenInvalidated': 0}}},\n",
       "   {'nReturned': 101,\n",
       "    'executionTimeMillisEstimate': 0,\n",
       "    'totalKeysExamined': 101,\n",
       "    'totalDocsExamined': 101,\n",
       "    'executionStages': {'stage': 'FETCH',\n",
       "     'filter': {'$and': [{'timestamp': {'$lte': datetime.datetime(2018, 9, 1, 0, 0)}},\n",
       "       {'timestamp': {'$gte': datetime.datetime(2018, 6, 1, 0, 0)}}]},\n",
       "     'nReturned': 101,\n",
       "     'executionTimeMillisEstimate': 0,\n",
       "     'works': 101,\n",
       "     'advanced': 101,\n",
       "     'needTime': 0,\n",
       "     'needYield': 0,\n",
       "     'saveState': 1,\n",
       "     'restoreState': 1,\n",
       "     'isEOF': 0,\n",
       "     'invalidates': 0,\n",
       "     'docsExamined': 101,\n",
       "     'alreadyHasObj': 0,\n",
       "     'inputStage': {'stage': 'IXSCAN',\n",
       "      'nReturned': 101,\n",
       "      'executionTimeMillisEstimate': 0,\n",
       "      'works': 101,\n",
       "      'advanced': 101,\n",
       "      'needTime': 0,\n",
       "      'needYield': 0,\n",
       "      'saveState': 1,\n",
       "      'restoreState': 1,\n",
       "      'isEOF': 0,\n",
       "      'invalidates': 0,\n",
       "      'keyPattern': {'tracker': 1},\n",
       "      'indexName': 'tracker_1',\n",
       "      'isMultiKey': False,\n",
       "      'multiKeyPaths': {'tracker': []},\n",
       "      'isUnique': False,\n",
       "      'isSparse': False,\n",
       "      'isPartial': False,\n",
       "      'indexVersion': 2,\n",
       "      'direction': 'forward',\n",
       "      'indexBounds': {'tracker': [\"[ObjectId('5edf91de77d8396976cb9e69'), ObjectId('5edf91de77d8396976cb9e69')]\"]},\n",
       "      'keysExamined': 101,\n",
       "      'seeks': 1,\n",
       "      'dupsTested': 0,\n",
       "      'dupsDropped': 0,\n",
       "      'seenInvalidated': 0}}}]},\n",
       " 'serverInfo': {'host': 'geostack-VirtualBox',\n",
       "  'port': 27017,\n",
       "  'version': '3.6.3',\n",
       "  'gitVersion': '9586e557d54ef70f9ca4b43c26892cd55257e1a5'},\n",
       " 'ok': 1.0}"
      ]
     },
     "execution_count": 23,
     "metadata": {},
     "output_type": "execute_result"
    }
   ],
   "source": [
    "Transmission.objects(Q(tracker='5edf91de77d8396976cb9e69')&\n",
    "                     Q(timestamp__gte=datetime(2018,6,1)) &\n",
    "                     Q(timestamp__lte=datetime(2018,9,1))).explain()"
   ]
  },
  {
   "cell_type": "markdown",
   "metadata": {},
   "source": [
    "##### It took 0 miliseconds to return 110 results using a IXSCAN (Index scan)\n",
    "###### Note: These numbers may differ a bit on your system"
   ]
  },
  {
   "cell_type": "markdown",
   "metadata": {},
   "source": [
    "#### Query to return al items in a predefined polygone (The Netherlands in this case)\n",
    "Bounds of the polygone can be found using the following webite: https://www.keene.edu/campus/maps/tool/"
   ]
  },
  {
   "cell_type": "code",
   "execution_count": 24,
   "metadata": {},
   "outputs": [
    {
     "data": {
      "text/plain": [
       "{'queryPlanner': {'plannerVersion': 1,\n",
       "  'namespace': 'Crane_Database.transmission',\n",
       "  'indexFilterSet': False,\n",
       "  'parsedQuery': {'geometry.coord': {'$geoWithin': {'$geometry': {'type': 'Polygon',\n",
       "      'coordinates': [[[3.2409668, 52.2395743],\n",
       "        [3.8781738, 51.1672889],\n",
       "        [5.1443481, 51.9950282],\n",
       "        [3.2409668, 52.2395743]]]}}}},\n",
       "  'winningPlan': {'stage': 'FETCH',\n",
       "   'filter': {'geometry.coord': {'$geoWithin': {'$geometry': {'type': 'Polygon',\n",
       "       'coordinates': [[[3.2409668, 52.2395743],\n",
       "         [3.8781738, 51.1672889],\n",
       "         [5.1443481, 51.9950282],\n",
       "         [3.2409668, 52.2395743]]]}}}},\n",
       "   'inputStage': {'stage': 'IXSCAN',\n",
       "    'keyPattern': {'geometry.coord': '2dsphere'},\n",
       "    'indexName': 'geometry.coord_2dsphere',\n",
       "    'isMultiKey': False,\n",
       "    'multiKeyPaths': {'geometry.coord': []},\n",
       "    'isUnique': False,\n",
       "    'isSparse': False,\n",
       "    'isPartial': False,\n",
       "    'indexVersion': 2,\n",
       "    'direction': 'forward',\n",
       "    'indexBounds': {'geometry.coord': ['[5116089176692883456, 5116089176692883456]',\n",
       "      '[5170132372221329408, 5170132372221329408]',\n",
       "      '[5170976797151461376, 5170976797151461376]',\n",
       "      '[5171047165895639040, 5171047165895639040]',\n",
       "      '[5171099942453772288, 5171099942453772288]',\n",
       "      '[5171108738546794497, 5171117534639816703]',\n",
       "      '[5171117534639816705, 5171126330732838911]',\n",
       "      '[5171135126825861120, 5171135126825861120]',\n",
       "      '[5171187903383994368, 5171187903383994368]',\n",
       "      '[5171258272128172032, 5171258272128172032]',\n",
       "      '[5171275864314216448, 5171275864314216448]',\n",
       "      '[5171275864314216449, 5171284660407238655]',\n",
       "      '[5171293456500260865, 5171328640872349695]',\n",
       "      '[5171328640872349696, 5171328640872349696]',\n",
       "      '[5171328640872349697, 5171363825244438527]',\n",
       "      '[5171363825244438529, 5171399009616527359]',\n",
       "      '[5171399009616527361, 5171407805709549567]',\n",
       "      '[5171407805709549569, 5171416601802571775]',\n",
       "      '[5171416601802571776, 5171416601802571776]',\n",
       "      '[5171416601802571777, 5171425397895593983]',\n",
       "      '[5171469378360705024, 5171469378360705024]',\n",
       "      '[5171472127139774465, 5171472676895588351]',\n",
       "      '[5171472676895588352, 5171472676895588352]',\n",
       "      '[5171473776407216128, 5171473776407216128]',\n",
       "      '[5171486970546749440, 5171486970546749440]',\n",
       "      '[5171495766639771649, 5171504562732793855]',\n",
       "      '[5171504562732793857, 5171539747104882687]',\n",
       "      '[5171539747104882688, 5171539747104882688]',\n",
       "      '[5171539747104882689, 5171574931476971519]',\n",
       "      '[5171574931476971521, 5171610115849060351]',\n",
       "      '[5171610115849060352, 5171610115849060352]',\n",
       "      '[5171715668965326849, 5171750853337415679]',\n",
       "      '[5171750853337415680, 5171750853337415680]',\n",
       "      '[5171759649430437889, 5171768445523460095]',\n",
       "      '[5171768445523460096, 5171768445523460096]',\n",
       "      '[5171768445523460097, 5171777241616482303]',\n",
       "      '[5171891590825771008, 5171891590825771008]',\n",
       "      '[5171926775197859841, 5171935571290882047]',\n",
       "      '[5171944367383904256, 5171944367383904256]',\n",
       "      '[5171953163476926465, 5171961959569948671]',\n",
       "      '[5171961959569948673, 5171997143942037503]',\n",
       "      '[5172032328314126336, 5172032328314126336]',\n",
       "      '[5172102697058304000, 5172102697058304000]',\n",
       "      '[5174635971848699904, 5174635971848699904]']}}},\n",
       "  'rejectedPlans': []},\n",
       " 'executionStats': {'executionSuccess': True,\n",
       "  'nReturned': 15,\n",
       "  'executionTimeMillis': 4,\n",
       "  'totalKeysExamined': 142,\n",
       "  'totalDocsExamined': 131,\n",
       "  'executionStages': {'stage': 'FETCH',\n",
       "   'filter': {'geometry.coord': {'$geoWithin': {'$geometry': {'type': 'Polygon',\n",
       "       'coordinates': [[[3.2409668, 52.2395743],\n",
       "         [3.8781738, 51.1672889],\n",
       "         [5.1443481, 51.9950282],\n",
       "         [3.2409668, 52.2395743]]]}}}},\n",
       "   'nReturned': 15,\n",
       "   'executionTimeMillisEstimate': 0,\n",
       "   'works': 142,\n",
       "   'advanced': 15,\n",
       "   'needTime': 126,\n",
       "   'needYield': 0,\n",
       "   'saveState': 1,\n",
       "   'restoreState': 1,\n",
       "   'isEOF': 1,\n",
       "   'invalidates': 0,\n",
       "   'docsExamined': 131,\n",
       "   'alreadyHasObj': 0,\n",
       "   'inputStage': {'stage': 'IXSCAN',\n",
       "    'nReturned': 131,\n",
       "    'executionTimeMillisEstimate': 0,\n",
       "    'works': 142,\n",
       "    'advanced': 131,\n",
       "    'needTime': 10,\n",
       "    'needYield': 0,\n",
       "    'saveState': 1,\n",
       "    'restoreState': 1,\n",
       "    'isEOF': 1,\n",
       "    'invalidates': 0,\n",
       "    'keyPattern': {'geometry.coord': '2dsphere'},\n",
       "    'indexName': 'geometry.coord_2dsphere',\n",
       "    'isMultiKey': False,\n",
       "    'multiKeyPaths': {'geometry.coord': []},\n",
       "    'isUnique': False,\n",
       "    'isSparse': False,\n",
       "    'isPartial': False,\n",
       "    'indexVersion': 2,\n",
       "    'direction': 'forward',\n",
       "    'indexBounds': {'geometry.coord': ['[5116089176692883456, 5116089176692883456]',\n",
       "      '[5170132372221329408, 5170132372221329408]',\n",
       "      '[5170976797151461376, 5170976797151461376]',\n",
       "      '[5171047165895639040, 5171047165895639040]',\n",
       "      '[5171099942453772288, 5171099942453772288]',\n",
       "      '[5171108738546794497, 5171117534639816703]',\n",
       "      '[5171117534639816705, 5171126330732838911]',\n",
       "      '[5171135126825861120, 5171135126825861120]',\n",
       "      '[5171187903383994368, 5171187903383994368]',\n",
       "      '[5171258272128172032, 5171258272128172032]',\n",
       "      '[5171275864314216448, 5171275864314216448]',\n",
       "      '[5171275864314216449, 5171284660407238655]',\n",
       "      '[5171293456500260865, 5171328640872349695]',\n",
       "      '[5171328640872349696, 5171328640872349696]',\n",
       "      '[5171328640872349697, 5171363825244438527]',\n",
       "      '[5171363825244438529, 5171399009616527359]',\n",
       "      '[5171399009616527361, 5171407805709549567]',\n",
       "      '[5171407805709549569, 5171416601802571775]',\n",
       "      '[5171416601802571776, 5171416601802571776]',\n",
       "      '[5171416601802571777, 5171425397895593983]',\n",
       "      '[5171469378360705024, 5171469378360705024]',\n",
       "      '[5171472127139774465, 5171472676895588351]',\n",
       "      '[5171472676895588352, 5171472676895588352]',\n",
       "      '[5171473776407216128, 5171473776407216128]',\n",
       "      '[5171486970546749440, 5171486970546749440]',\n",
       "      '[5171495766639771649, 5171504562732793855]',\n",
       "      '[5171504562732793857, 5171539747104882687]',\n",
       "      '[5171539747104882688, 5171539747104882688]',\n",
       "      '[5171539747104882689, 5171574931476971519]',\n",
       "      '[5171574931476971521, 5171610115849060351]',\n",
       "      '[5171610115849060352, 5171610115849060352]',\n",
       "      '[5171715668965326849, 5171750853337415679]',\n",
       "      '[5171750853337415680, 5171750853337415680]',\n",
       "      '[5171759649430437889, 5171768445523460095]',\n",
       "      '[5171768445523460096, 5171768445523460096]',\n",
       "      '[5171768445523460097, 5171777241616482303]',\n",
       "      '[5171891590825771008, 5171891590825771008]',\n",
       "      '[5171926775197859841, 5171935571290882047]',\n",
       "      '[5171944367383904256, 5171944367383904256]',\n",
       "      '[5171953163476926465, 5171961959569948671]',\n",
       "      '[5171961959569948673, 5171997143942037503]',\n",
       "      '[5172032328314126336, 5172032328314126336]',\n",
       "      '[5172102697058304000, 5172102697058304000]',\n",
       "      '[5174635971848699904, 5174635971848699904]']},\n",
       "    'keysExamined': 142,\n",
       "    'seeks': 11,\n",
       "    'dupsTested': 0,\n",
       "    'dupsDropped': 0,\n",
       "    'seenInvalidated': 0}},\n",
       "  'allPlansExecution': []},\n",
       " 'serverInfo': {'host': 'geostack-VirtualBox',\n",
       "  'port': 27017,\n",
       "  'version': '3.6.3',\n",
       "  'gitVersion': '9586e557d54ef70f9ca4b43c26892cd55257e1a5'},\n",
       " 'ok': 1.0}"
      ]
     },
     "execution_count": 24,
     "metadata": {},
     "output_type": "execute_result"
    }
   ],
   "source": [
    "Transmission.objects(geometry__coord__geo_within=[[\n",
    "    [3.2409668,52.2395743],[3.8781738,51.1672889],\n",
    "    [5.1443481,51.9950282],[3.2409668,52.2395743]]]).explain()"
   ]
  },
  {
   "cell_type": "markdown",
   "metadata": {},
   "source": [
    "##### It took 3 miliseconds to return 131 results using a IXSCAN (Index scan)\n",
    "###### Note: These numbers may differ a bit on your system"
   ]
  },
  {
   "cell_type": "markdown",
   "metadata": {},
   "source": [
    "---\n",
    "## More Queries"
   ]
  },
  {
   "cell_type": "code",
   "execution_count": 25,
   "metadata": {},
   "outputs": [],
   "source": [
    "#Select all trackers by study name\n",
    "# Parameters:\n",
    "# - route_name\n",
    "\n",
    "def select_Tracker_by_name(study_name):\n",
    "    result = Tracker.objects(study_name__contains=study_name).to_json()\n",
    "    return pd.read_json(result)\n"
   ]
  },
  {
   "cell_type": "code",
   "execution_count": 26,
   "metadata": {},
   "outputs": [],
   "source": [
    "# All transmissions between a predefined DTG\n",
    "# Parameters: \n",
    "# - Date time group 1\n",
    "# - Date time group 2\n",
    "\n",
    "def transmissions_between_dtg(dtg_1,dtg_2):\n",
    "    result = Transmission.objects(Q(timestamp__gte=dtg_1) & \n",
    "                                  Q(timestamp__lte=dtg_2)).to_json()\n",
    "    return pd.read_json(result)\n"
   ]
  },
  {
   "cell_type": "code",
   "execution_count": 27,
   "metadata": {},
   "outputs": [],
   "source": [
    "#Select all Transmissions in predefined Sphere\n",
    "# parameters:\n",
    "# - lon\n",
    "# - lat\n",
    "# - radius\n",
    "\n",
    "def transmissions_in_sphere(lat,lon,radius):\n",
    "    result = Transmission.objects(geometry__coord__geo_within_sphere=[(lon,lat),radius]).to_json()\n",
    "    return pd.read_json(result)"
   ]
  },
  {
   "cell_type": "code",
   "execution_count": 28,
   "metadata": {},
   "outputs": [],
   "source": [
    "#Select all Transmissions in predefined polygone\n",
    "# Use https://www.keene.edu/campus/maps/tool/ to find desired polygone.\n",
    "# parameters:\n",
    "# - point 1\n",
    "# - point 2\n",
    "# - point 3\n",
    "# - point 4\n",
    "def select_transmissions_in_polygone(p1,p2,p3,p4):\n",
    "    result = Transmission.objects(geometry__coord__geo_within=[[p1,p2,p3,p4]]).to_json()\n",
    "    return pd.read_json(result)"
   ]
  },
  {
   "cell_type": "code",
   "execution_count": 29,
   "metadata": {},
   "outputs": [],
   "source": [
    "#Select all Transmissions in predefined box\n",
    "# Use https://www.keene.edu/campus/maps/tool/ to find desired box.\n",
    "# parameters:\n",
    "# - <bottom left coordinates>\n",
    "# - <upper right coordinates>\n",
    "\n",
    "def select_transmissions_in_box(p1,p2):\n",
    "    result = Transmission.objects(geometry__coord__geo_within_box=[p1,p2]).to_json()\n",
    "    return pd.read_json(result)"
   ]
  }
 ],
 "metadata": {
  "kernelspec": {
   "display_name": "Python 3",
   "language": "python",
   "name": "python3"
  },
  "language_info": {
   "codemirror_mode": {
    "name": "ipython",
    "version": 3
   },
   "file_extension": ".py",
   "mimetype": "text/x-python",
   "name": "python",
   "nbconvert_exporter": "python",
   "pygments_lexer": "ipython3",
   "version": "3.6.9"
  }
 },
 "nbformat": 4,
 "nbformat_minor": 4
}
