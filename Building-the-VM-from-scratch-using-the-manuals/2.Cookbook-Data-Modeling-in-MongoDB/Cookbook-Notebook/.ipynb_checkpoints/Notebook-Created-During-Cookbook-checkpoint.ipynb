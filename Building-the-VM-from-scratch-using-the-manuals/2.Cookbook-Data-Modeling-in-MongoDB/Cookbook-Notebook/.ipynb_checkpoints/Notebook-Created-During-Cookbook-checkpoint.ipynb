{
 "cells": [
  {
   "cell_type": "code",
   "execution_count": 2,
   "metadata": {},
   "outputs": [],
   "source": [
    "import pandas as pd # Pandas is used to read the JSON dataset.\n",
    "from mongoengine import * # MongoEngine is used to model, import and index datasets.\n",
    "from datetime import datetime # The Python datetime module is used to convert timestamps."
   ]
  },
  {
   "cell_type": "code",
   "execution_count": 3,
   "metadata": {},
   "outputs": [],
   "source": [
    "SW_Crane_Frida = pd.read_json('Frida_SW.json') # Read the dataset in a dataframe"
   ]
  },
  {
   "cell_type": "code",
   "execution_count": 4,
   "metadata": {},
   "outputs": [
    {
     "data": {
      "text/html": [
       "<div>\n",
       "<style scoped>\n",
       "    .dataframe tbody tr th:only-of-type {\n",
       "        vertical-align: middle;\n",
       "    }\n",
       "\n",
       "    .dataframe tbody tr th {\n",
       "        vertical-align: top;\n",
       "    }\n",
       "\n",
       "    .dataframe thead th {\n",
       "        text-align: right;\n",
       "    }\n",
       "</style>\n",
       "<table border=\"1\" class=\"dataframe\">\n",
       "  <thead>\n",
       "    <tr style=\"text-align: right;\">\n",
       "      <th></th>\n",
       "      <th>event-id</th>\n",
       "      <th>study-name</th>\n",
       "      <th>timestamp</th>\n",
       "      <th>visible</th>\n",
       "      <th>ground-speed</th>\n",
       "      <th>heading</th>\n",
       "      <th>location-long</th>\n",
       "      <th>location-lat</th>\n",
       "      <th>height-above-ellipsoid</th>\n",
       "      <th>individual-taxon-canonical-name</th>\n",
       "      <th>sensor-type</th>\n",
       "      <th>tag-voltage</th>\n",
       "      <th>individual-local-identifier</th>\n",
       "    </tr>\n",
       "  </thead>\n",
       "  <tbody>\n",
       "    <tr>\n",
       "      <th>0</th>\n",
       "      <td>1154727247</td>\n",
       "      <td>GPS telemetry of Common Cranes, Sweden</td>\n",
       "      <td>2013-07-21 03:06:32</td>\n",
       "      <td>True</td>\n",
       "      <td>0.0</td>\n",
       "      <td>NaN</td>\n",
       "      <td>13.583908</td>\n",
       "      <td>57.503796</td>\n",
       "      <td>193</td>\n",
       "      <td>Grus grus</td>\n",
       "      <td>gps</td>\n",
       "      <td>4110.0</td>\n",
       "      <td>9381</td>\n",
       "    </tr>\n",
       "  </tbody>\n",
       "</table>\n",
       "</div>"
      ],
      "text/plain": [
       "     event-id                              study-name           timestamp  \\\n",
       "0  1154727247  GPS telemetry of Common Cranes, Sweden 2013-07-21 03:06:32   \n",
       "\n",
       "   visible  ground-speed  heading  location-long  location-lat  \\\n",
       "0     True           0.0      NaN      13.583908     57.503796   \n",
       "\n",
       "   height-above-ellipsoid individual-taxon-canonical-name sensor-type  \\\n",
       "0                     193                       Grus grus         gps   \n",
       "\n",
       "   tag-voltage  individual-local-identifier  \n",
       "0       4110.0                         9381  "
      ]
     },
     "execution_count": 4,
     "metadata": {},
     "output_type": "execute_result"
    }
   ],
   "source": [
    "SW_Crane_Frida[:1] # Print the first row of the dataframe."
   ]
  },
  {
   "cell_type": "code",
   "execution_count": 15,
   "metadata": {},
   "outputs": [
    {
     "data": {
      "text/plain": [
       "MongoClient(host=['localhost:27017'], document_class=dict, tz_aware=False, connect=True, read_preference=Primary())"
      ]
     },
     "execution_count": 15,
     "metadata": {},
     "output_type": "execute_result"
    }
   ],
   "source": [
    "connect('Crane_Database') # Connect to the Crane_Database."
   ]
  },
  {
   "cell_type": "code",
   "execution_count": 6,
   "metadata": {},
   "outputs": [],
   "source": [
    "# Creating the Tracker document \n",
    "class Tracker(Document):\n",
    "    \n",
    "    # Name of the study\n",
    "    study_name = StringField()\n",
    "    \n",
    "    # Name of the bird, in latin.\n",
    "    individual_taxon_canonical_name = StringField()\n",
    "    \n",
    "    # Id of the Crane.\n",
    "    individual_local_identifier = IntField()\n",
    "    \n",
    "    #Start date of the study.\n",
    "    start_date = DateTimeField()\n",
    "    \n",
    "    #End date of the study.\n",
    "    end_date = DateTimeField()\n",
    "\n",
    "    #Name of the Crane\n",
    "    name = StringField()\n",
    "    \n",
    "    #Amount of the transmissions related to the tracker.\n",
    "    transmission_Count= IntField()"
   ]
  },
  {
   "cell_type": "code",
   "execution_count": 6,
   "metadata": {},
   "outputs": [],
   "source": [
    "# Creating the Geometry document\n",
    "class Geometry(EmbeddedDocument):\n",
    " \n",
    "    # coordinates of transmission (coord=[1,2])\n",
    "    coord = PointField()\n",
    "    \n",
    "    # altitude of tansmission\n",
    "    alt = FloatField()"
   ]
  },
  {
   "cell_type": "code",
   "execution_count": 6,
   "metadata": {},
   "outputs": [],
   "source": [
    "# Creating the Speed document    \n",
    "class Speed(EmbeddedDocument):\n",
    "    \n",
    "    # Speed of the Crane\n",
    "    ground_speed = FloatField()\n",
    "    \n",
    "    # Heading of the Crane in degrees\n",
    "    heading = IntField()"
   ]
  },
  {
   "cell_type": "code",
   "execution_count": 6,
   "metadata": {},
   "outputs": [],
   "source": [
    "# Creating the TrackerMetadata document\n",
    "class TrackerMetadata(EmbeddedDocument):\n",
    "    \n",
    "    #Is the tracker still visible or not?\n",
    "    visible = BooleanField()\n",
    "    \n",
    "    # Type of sensor used in tracker.\n",
    "    sensor_type = StringField()\n",
    "    \n",
    "    # Voltage level of the tracker.\n",
    "    tag_voltage = FloatField()"
   ]
  },
  {
   "cell_type": "code",
   "execution_count": 17,
   "metadata": {},
   "outputs": [],
   "source": [
    "# Creating the Transmission document \n",
    "class Transmission(Document):\n",
    "    \n",
    "    # Identifier of the transmission\n",
    "    event_id = IntField()\n",
    "    \n",
    "    # Timestamp of when transmission was send \n",
    "    timestamp = DateTimeField()\n",
    "    \n",
    "    # Embedded geometry of transmission\n",
    "    # When loading the data, an instance of a geometry document\n",
    "    # will be passed as value for the geometry field.\n",
    "    geometry = EmbeddedDocumentField(Geometry)\n",
    "    \n",
    "    # Embedded speed related data of transmission\n",
    "    # When loading the data, an instance of a speed document\n",
    "    # will be passed as value for the speed field.\n",
    "    speed = EmbeddedDocumentField(Speed)\n",
    "    \n",
    "    # Embedded metadata of transmission\n",
    "    # When loading the data, an instance of a TrackerMetadata document\n",
    "    # will be passed as value for the metadata field.\n",
    "    metadata = EmbeddedDocumentField(TrackerMetadata)\n",
    "    \n",
    "    # Reference to the tracker the transmission belongs to.\n",
    "    # When loading the data, an instance of a Tracker document\n",
    "    # will be passed as value for the tracker field.\n",
    "    tracker = ReferenceField(Tracker)"
   ]
  },
  {
   "cell_type": "code",
   "execution_count": 18,
   "metadata": {},
   "outputs": [],
   "source": [
    "# Here we create the function which we will use to load the datasets.\n",
    "# The function takes the following input parameters:\n",
    "# 1) A Dataframe to load\n",
    "# 2) The name of the Crane\n",
    "# 3) The country of the Crane. This will come in usefull when loading \n",
    "#    different types of Cranes (German or Swedish) since, depending on \n",
    "#    the country of origin, the elavation column name differs.\n",
    "def load_data(df,name,country):\n",
    "    \n",
    "    # Here we create the start date.\n",
    "    start_Date = df.at[0,'timestamp']\n",
    "    \n",
    "    # Here we create the end date.\n",
    "    end_Date = df.at[df.shape[0]-1,'timestamp']\n",
    "    \n",
    "    # Here we create the amount of transmissions belonging to the tracker.\n",
    "    transmission_Count = df.shape[0]\n",
    "    \n",
    "    #Create a new tracker, this is only done once \n",
    "    tracker = Tracker(study_name = df.at[0,'study-name'],\n",
    "                      individual_taxon_canonical_name = df.at[0,'individual-taxon-canonical-name'],\n",
    "                      individual_local_identifier = df.at[0,'individual-local-identifier'],\n",
    "                      start_date = start_Date,\n",
    "                      end_date = end_Date,\n",
    "                      name = name,\n",
    "                      transmission_Count = transmission_Count).save()\n",
    "\n",
    "    \n",
    "    # Create an empty list of transmissions to which will append the new transmissions \n",
    "    # after they have been created. This list will be passed to the mongodb bulk insert feature.\n",
    "    transmissions = []\n",
    "    \n",
    "    # Print when list appending process starts. \n",
    "    print('Start appending transmissions to list from: ' + str(name) )\n",
    "    \n",
    "    # For each row in the dataframe the following code is executed.\n",
    "    for index,row in df.iterrows():\n",
    "        \n",
    "        # Create geometry document for Swedish sets in which we pass the required values.\n",
    "        # NOTE: To use Geometry queries you have to insert te longitude value first.\n",
    "        geometry = Geometry(coord = [row['location-long'],row['location-lat']],\n",
    "                            alt = row['height-above-ellipsoid'])\n",
    "        \n",
    "        # Create the metadata document in which we pass the required values.\n",
    "        metadata = TrackerMetadata(visible = row['visible'],\n",
    "                                   sensor_type = row['sensor-type'],\n",
    "                                   tag_voltage = row['tag-voltage'])\n",
    "        \n",
    "        # Create the speed document in which we pass the required values.\n",
    "        speed = Speed(ground_speed = row['ground-speed'])\n",
    "        \n",
    "        # Create transmission document and append them to the transmissions list.\n",
    "        transmissions.append(Transmission(event_id = row['event-id'],\n",
    "                                          timestamp = row['timestamp'],\n",
    "                                          geometry = geometry,speed = speed,\n",
    "                                          metadata = metadata,tracker = tracker))\n",
    "        \n",
    "    # Print when list appending is done.\n",
    "    print('Bulk inserting: '+ str(transmission_Count) + ' transmissions from: ' + str(name) )\n",
    "        \n",
    "    # Bulk insert the populated transmissions list.\n",
    "    Transmission.objects.insert(transmissions,load_bulk=True)\n",
    "\n",
    "    # Print if insert is succesfull.\n",
    "    print(\"Done inserting \"+ str(len(df.index)) + \" transmissions\")\n",
    "    "
   ]
  },
  {
   "cell_type": "code",
   "execution_count": 19,
   "metadata": {},
   "outputs": [
    {
     "name": "stdout",
     "output_type": "stream",
     "text": [
      "Start appending transmissions to list from: Frida\n",
      "Bulk inserting: 123805 transmissions from: Frida\n",
      "Done inserting 123805 transmissions\n"
     ]
    }
   ],
   "source": [
    "load_data(SW_Crane_Frida,\"Frida\",\"sw\") # Load the Crane Dataframe using the load_data function."
   ]
  },
  {
   "cell_type": "code",
   "execution_count": 20,
   "metadata": {},
   "outputs": [
    {
     "data": {
      "text/plain": [
       "'[{\"_id\": {\"$oid\": \"5e8f0e750b0a0aab0461a0e0\"}, \"name\": \"Frida\"}]'"
      ]
     },
     "execution_count": 20,
     "metadata": {},
     "output_type": "execute_result"
    }
   ],
   "source": [
    "# Query the Crane tracker and only obtain the name and id.\n",
    "Tracker.objects(name = 'Frida').only('name','id').to_json()"
   ]
  },
  {
   "cell_type": "code",
   "execution_count": 21,
   "metadata": {},
   "outputs": [
    {
     "data": {
      "text/plain": [
       "'[{\"_id\": {\"$oid\": \"5e8f0eb50b0a0aab0461a0e1\"}, \"event_id\": 1154727247, \"timestamp\": {\"$date\": 1374375992000}, \"geometry\": {\"coord\": {\"type\": \"Point\", \"coordinates\": [13.583908, 57.503796]}, \"alt\": 193.0}, \"speed\": {\"ground_speed\": 0.0}, \"metadata\": {\"visible\": true, \"sensor_type\": \"gps\", \"tag_voltage\": 4110.0}, \"tracker\": {\"$oid\": \"5e8f0e750b0a0aab0461a0e0\"}}, {\"_id\": {\"$oid\": \"5e8f0eb50b0a0aab0461a0e2\"}, \"event_id\": 1154727246, \"timestamp\": {\"$date\": 1374378694000}, \"geometry\": {\"coord\": {\"type\": \"Point\", \"coordinates\": [13.578312, 57.504063]}, \"alt\": 194.0}, \"speed\": {\"ground_speed\": 0.5144000000000001}, \"metadata\": {\"visible\": true, \"sensor_type\": \"gps\", \"tag_voltage\": 4100.0}, \"tracker\": {\"$oid\": \"5e8f0e750b0a0aab0461a0e0\"}}, {\"_id\": {\"$oid\": \"5e8f0eb50b0a0aab0461a0e3\"}, \"event_id\": 1154727245, \"timestamp\": {\"$date\": 1374379629000}, \"geometry\": {\"coord\": {\"type\": \"Point\", \"coordinates\": [13.578205, 57.50415]}, \"alt\": 199.0}, \"speed\": {\"ground_speed\": 0.0}, \"metadata\": {\"visible\": true, \"sensor_type\": \"gps\", \"tag_voltage\": 4110.0}, \"tracker\": {\"$oid\": \"5e8f0e750b0a0aab0461a0e0\"}}, {\"_id\": {\"$oid\": \"5e8f0eb50b0a0aab0461a0e4\"}, \"event_id\": 1154727244, \"timestamp\": {\"$date\": 1374380577000}, \"geometry\": {\"coord\": {\"type\": \"Point\", \"coordinates\": [13.577142, 57.504177]}, \"alt\": 194.0}, \"speed\": {\"ground_speed\": 0.0}, \"metadata\": {\"visible\": true, \"sensor_type\": \"gps\", \"tag_voltage\": 4110.0}, \"tracker\": {\"$oid\": \"5e8f0e750b0a0aab0461a0e0\"}}, {\"_id\": {\"$oid\": \"5e8f0eb50b0a0aab0461a0e5\"}, \"event_id\": 1154727243, \"timestamp\": {\"$date\": 1374381519000}, \"geometry\": {\"coord\": {\"type\": \"Point\", \"coordinates\": [13.576754, 57.504238]}, \"alt\": 192.0}, \"speed\": {\"ground_speed\": 0.0}, \"metadata\": {\"visible\": true, \"sensor_type\": \"gps\", \"tag_voltage\": 4110.0}, \"tracker\": {\"$oid\": \"5e8f0e750b0a0aab0461a0e0\"}}, {\"_id\": {\"$oid\": \"5e8f0eb50b0a0aab0461a0e6\"}, \"event_id\": 1154727242, \"timestamp\": {\"$date\": 1374382467000}, \"geometry\": {\"coord\": {\"type\": \"Point\", \"coordinates\": [13.574988, 57.505005]}, \"alt\": 196.0}, \"speed\": {\"ground_speed\": 0.5144000000000001}, \"metadata\": {\"visible\": true, \"sensor_type\": \"gps\", \"tag_voltage\": 4110.0}, \"tracker\": {\"$oid\": \"5e8f0e750b0a0aab0461a0e0\"}}, {\"_id\": {\"$oid\": \"5e8f0eb50b0a0aab0461a0e7\"}, \"event_id\": 1154727241, \"timestamp\": {\"$date\": 1374383409000}, \"geometry\": {\"coord\": {\"type\": \"Point\", \"coordinates\": [13.573163, 57.505985]}, \"alt\": 195.0}, \"speed\": {\"ground_speed\": 0.0}, \"metadata\": {\"visible\": true, \"sensor_type\": \"gps\", \"tag_voltage\": 4110.0}, \"tracker\": {\"$oid\": \"5e8f0e750b0a0aab0461a0e0\"}}, {\"_id\": {\"$oid\": \"5e8f0eb50b0a0aab0461a0e8\"}, \"event_id\": 1154727240, \"timestamp\": {\"$date\": 1374384356000}, \"geometry\": {\"coord\": {\"type\": \"Point\", \"coordinates\": [13.573152, 57.506939]}, \"alt\": 203.0}, \"speed\": {\"ground_speed\": 0.0}, \"metadata\": {\"visible\": true, \"sensor_type\": \"gps\", \"tag_voltage\": 4110.0}, \"tracker\": {\"$oid\": \"5e8f0e750b0a0aab0461a0e0\"}}, {\"_id\": {\"$oid\": \"5e8f0eb50b0a0aab0461a0e9\"}, \"event_id\": 1154727239, \"timestamp\": {\"$date\": 1374385300000}, \"geometry\": {\"coord\": {\"type\": \"Point\", \"coordinates\": [13.573357, 57.507603]}, \"alt\": 199.0}, \"speed\": {\"ground_speed\": 0.0}, \"metadata\": {\"visible\": true, \"sensor_type\": \"gps\", \"tag_voltage\": 4110.0}, \"tracker\": {\"$oid\": \"5e8f0e750b0a0aab0461a0e0\"}}, {\"_id\": {\"$oid\": \"5e8f0eb50b0a0aab0461a0ea\"}, \"event_id\": 1154727238, \"timestamp\": {\"$date\": 1374386253000}, \"geometry\": {\"coord\": {\"type\": \"Point\", \"coordinates\": [13.5755, 57.507931]}, \"alt\": 194.0}, \"speed\": {\"ground_speed\": 0.0}, \"metadata\": {\"visible\": true, \"sensor_type\": \"gps\", \"tag_voltage\": 4110.0}, \"tracker\": {\"$oid\": \"5e8f0e750b0a0aab0461a0e0\"}}]'"
      ]
     },
     "execution_count": 21,
     "metadata": {},
     "output_type": "execute_result"
    }
   ],
   "source": [
    "#Qurey to return first 10 items related to Crane:\"Frida\"\n",
    "Transmission.objects(tracker = '5e8f0e750b0a0aab0461a0e0')[:10].to_json()"
   ]
  },
  {
   "cell_type": "code",
   "execution_count": 22,
   "metadata": {},
   "outputs": [
    {
     "data": {
      "text/plain": [
       "{'queryPlanner': {'plannerVersion': 1,\n",
       "  'namespace': 'Crane_Databasa.transmission',\n",
       "  'indexFilterSet': False,\n",
       "  'parsedQuery': {'tracker': {'$eq': ObjectId('5e8f0e750b0a0aab0461a0e0')}},\n",
       "  'winningPlan': {'stage': 'COLLSCAN',\n",
       "   'filter': {'tracker': {'$eq': ObjectId('5e8f0e750b0a0aab0461a0e0')}},\n",
       "   'direction': 'forward'},\n",
       "  'rejectedPlans': []},\n",
       " 'executionStats': {'executionSuccess': True,\n",
       "  'nReturned': 123805,\n",
       "  'executionTimeMillis': 66,\n",
       "  'totalKeysExamined': 0,\n",
       "  'totalDocsExamined': 123805,\n",
       "  'executionStages': {'stage': 'COLLSCAN',\n",
       "   'filter': {'tracker': {'$eq': ObjectId('5e8f0e750b0a0aab0461a0e0')}},\n",
       "   'nReturned': 123805,\n",
       "   'executionTimeMillisEstimate': 50,\n",
       "   'works': 123807,\n",
       "   'advanced': 123805,\n",
       "   'needTime': 1,\n",
       "   'needYield': 0,\n",
       "   'saveState': 967,\n",
       "   'restoreState': 967,\n",
       "   'isEOF': 1,\n",
       "   'invalidates': 0,\n",
       "   'direction': 'forward',\n",
       "   'docsExamined': 123805},\n",
       "  'allPlansExecution': []},\n",
       " 'serverInfo': {'host': 'geostack-system',\n",
       "  'port': 27017,\n",
       "  'version': '3.6.3',\n",
       "  'gitVersion': '9586e557d54ef70f9ca4b43c26892cd55257e1a5'},\n",
       " 'ok': 1.0}"
      ]
     },
     "execution_count": 22,
     "metadata": {},
     "output_type": "execute_result"
    }
   ],
   "source": [
    "Transmission.objects(tracker = '5e8f0e750b0a0aab0461a0e0').explain() # Check execution speed of query pre index."
   ]
  },
  {
   "cell_type": "code",
   "execution_count": 23,
   "metadata": {},
   "outputs": [
    {
     "data": {
      "text/plain": [
       "'geometry.coord.coordinates_2d'"
      ]
     },
     "execution_count": 23,
     "metadata": {},
     "output_type": "execute_result"
    }
   ],
   "source": [
    "Transmission.create_index([('geometry.coord.coordinates','2d')]) # Create 2D index on Coordinates fields."
   ]
  },
  {
   "cell_type": "code",
   "execution_count": 24,
   "metadata": {},
   "outputs": [
    {
     "data": {
      "text/plain": [
       "'tracker_1'"
      ]
     },
     "execution_count": 24,
     "metadata": {},
     "output_type": "execute_result"
    }
   ],
   "source": [
    "Transmission.create_index(('tracker')) # Create index on tracker fields."
   ]
  },
  {
   "cell_type": "code",
   "execution_count": 25,
   "metadata": {},
   "outputs": [
    {
     "data": {
      "text/plain": [
       "'timestamp_1'"
      ]
     },
     "execution_count": 25,
     "metadata": {},
     "output_type": "execute_result"
    }
   ],
   "source": [
    "Transmission.create_index(('timestamp')) # Create index on timestamp fields."
   ]
  },
  {
   "cell_type": "code",
   "execution_count": 26,
   "metadata": {},
   "outputs": [
    {
     "data": {
      "text/plain": [
       "{'queryPlanner': {'plannerVersion': 1,\n",
       "  'namespace': 'Crane_Databasa.transmission',\n",
       "  'indexFilterSet': False,\n",
       "  'parsedQuery': {'tracker': {'$eq': ObjectId('5e8f0e750b0a0aab0461a0e0')}},\n",
       "  'winningPlan': {'stage': 'FETCH',\n",
       "   'inputStage': {'stage': 'IXSCAN',\n",
       "    'keyPattern': {'tracker': 1},\n",
       "    'indexName': 'tracker_1',\n",
       "    'isMultiKey': False,\n",
       "    'multiKeyPaths': {'tracker': []},\n",
       "    'isUnique': False,\n",
       "    'isSparse': False,\n",
       "    'isPartial': False,\n",
       "    'indexVersion': 2,\n",
       "    'direction': 'forward',\n",
       "    'indexBounds': {'tracker': [\"[ObjectId('5e8f0e750b0a0aab0461a0e0'), ObjectId('5e8f0e750b0a0aab0461a0e0')]\"]}}},\n",
       "  'rejectedPlans': []},\n",
       " 'executionStats': {'executionSuccess': True,\n",
       "  'nReturned': 123805,\n",
       "  'executionTimeMillis': 174,\n",
       "  'totalKeysExamined': 123805,\n",
       "  'totalDocsExamined': 123805,\n",
       "  'executionStages': {'stage': 'FETCH',\n",
       "   'nReturned': 123805,\n",
       "   'executionTimeMillisEstimate': 121,\n",
       "   'works': 123806,\n",
       "   'advanced': 123805,\n",
       "   'needTime': 0,\n",
       "   'needYield': 0,\n",
       "   'saveState': 967,\n",
       "   'restoreState': 967,\n",
       "   'isEOF': 1,\n",
       "   'invalidates': 0,\n",
       "   'docsExamined': 123805,\n",
       "   'alreadyHasObj': 0,\n",
       "   'inputStage': {'stage': 'IXSCAN',\n",
       "    'nReturned': 123805,\n",
       "    'executionTimeMillisEstimate': 51,\n",
       "    'works': 123806,\n",
       "    'advanced': 123805,\n",
       "    'needTime': 0,\n",
       "    'needYield': 0,\n",
       "    'saveState': 967,\n",
       "    'restoreState': 967,\n",
       "    'isEOF': 1,\n",
       "    'invalidates': 0,\n",
       "    'keyPattern': {'tracker': 1},\n",
       "    'indexName': 'tracker_1',\n",
       "    'isMultiKey': False,\n",
       "    'multiKeyPaths': {'tracker': []},\n",
       "    'isUnique': False,\n",
       "    'isSparse': False,\n",
       "    'isPartial': False,\n",
       "    'indexVersion': 2,\n",
       "    'direction': 'forward',\n",
       "    'indexBounds': {'tracker': [\"[ObjectId('5e8f0e750b0a0aab0461a0e0'), ObjectId('5e8f0e750b0a0aab0461a0e0')]\"]},\n",
       "    'keysExamined': 123805,\n",
       "    'seeks': 1,\n",
       "    'dupsTested': 0,\n",
       "    'dupsDropped': 0,\n",
       "    'seenInvalidated': 0}},\n",
       "  'allPlansExecution': []},\n",
       " 'serverInfo': {'host': 'geostack-system',\n",
       "  'port': 27017,\n",
       "  'version': '3.6.3',\n",
       "  'gitVersion': '9586e557d54ef70f9ca4b43c26892cd55257e1a5'},\n",
       " 'ok': 1.0}"
      ]
     },
     "execution_count": 26,
     "metadata": {},
     "output_type": "execute_result"
    }
   ],
   "source": [
    "Transmission.objects(tracker = '5e8f0e750b0a0aab0461a0e0').explain() # Check execution speed of query post index."
   ]
  }
 ],
 "metadata": {
  "kernelspec": {
   "display_name": "Python 3",
   "language": "python",
   "name": "python3"
  },
  "language_info": {
   "codemirror_mode": {
    "name": "ipython",
    "version": 3
   },
   "file_extension": ".py",
   "mimetype": "text/x-python",
   "name": "python",
   "nbconvert_exporter": "python",
   "pygments_lexer": "ipython3",
   "version": "3.6.9"
  }
 },
 "nbformat": 4,
 "nbformat_minor": 4
}
